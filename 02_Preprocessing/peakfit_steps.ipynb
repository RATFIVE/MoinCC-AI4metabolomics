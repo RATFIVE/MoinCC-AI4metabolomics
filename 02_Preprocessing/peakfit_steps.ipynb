{
 "cells": [
  {
   "cell_type": "markdown",
   "metadata": {},
   "source": [
    "# WORKING DOCUMENT! --> a lot of bullsht in here"
   ]
  },
  {
   "cell_type": "code",
   "execution_count": 1,
   "metadata": {},
   "outputs": [],
   "source": [
    "import pandas as pd\n",
    "import numpy as np\n",
    "import matplotlib.pyplot as plt\n",
    "import seaborn as sns"
   ]
  },
  {
   "cell_type": "code",
   "execution_count": 2,
   "metadata": {},
   "outputs": [],
   "source": [
    "#input: data, expected peaks (substrate and metabolite)(dictionary?/two lists?\n",
    "data = pd.read_csv('../Data/FA_20231113_2H_yeast_Pyruvate-d3_5.csv')\n",
    "\n",
    "#expected peaks for different substrates\n",
    "Pyruvate_compound = ['Substrate', 'metabolite1', 'metabolite2']\n",
    "peaks_pyruvate= [2.468, 1.2261, 1.9775]\n",
    "\n",
    "spectra_data= data.iloc[:,1:]\n",
    "chem_shifts = data.iloc[:,0] "
   ]
  },
  {
   "cell_type": "code",
   "execution_count": 3,
   "metadata": {},
   "outputs": [],
   "source": [
    "def simple_viz(data):\n",
    "    import seaborn as sns\n",
    "    import matplotlib.pyplot as plt\n",
    "\n",
    "    chem_shifts = data.iloc[:, 0]\n",
    "\n",
    "    plt.figure(figsize=(10, 6))\n",
    "    for i in range(1, data.shape[1]):\n",
    "        sns.lineplot(x=chem_shifts, y=data.iloc[:, i])\n",
    "\n",
    "    plt.xlabel('Chemical Shifts')\n",
    "    plt.ylabel('Intensity')\n",
    "    plt.show()"
   ]
  },
  {
   "cell_type": "markdown",
   "metadata": {},
   "source": [
    "---\n",
    "# Peak_fit and peakfit_sum"
   ]
  },
  {
   "cell_type": "code",
   "execution_count": 4,
   "metadata": {},
   "outputs": [],
   "source": [
    "#define function to check for peaks in sum with high threshold\n",
    "\n",
    "def peak_fit(intensity, chem_shifts, threshold_percentile):\n",
    "    \"\"\"calculates possible peaks as minima of the second derivative and returns list of peaks\n",
    "\n",
    "    Args:\n",
    "        spectra_data (_type_): x data of spectra\n",
    "        chem_shifts (_type_): y data of spectra\n",
    "        threshold_percentile (int | float): Threshold above which the relevant data lies\n",
    "\n",
    "    Returns:\n",
    "        list: peak positions\n",
    "    \"\"\"\n",
    "    threshold = np.percentile(intensity, threshold_percentile)\n",
    "    first_derivative = np.gradient(intensity, chem_shifts)\n",
    "    second_derivative = np.gradient(first_derivative, chem_shifts)\n",
    "    third_derivative = np.gradient(second_derivative, chem_shifts)\n",
    "    fourth_derivative = np.gradient(third_derivative, chem_shifts)\n",
    "\n",
    "    sign_change = np.diff(np.sign(third_derivative)) != 0\n",
    "    peak_mask = (intensity > threshold) & (second_derivative < 0) & (fourth_derivative > 0)\n",
    "    peak_mask[1:] &= sign_change\n",
    "\n",
    "    return chem_shifts[peak_mask].tolist()\n",
    "\n",
    "\n",
    "def peakfit_sum(spectra_data, chem_shifts, threshold):\n",
    "    \"\"\"sums up all spectra and returns list of found peaks (needs existing function peak_fit)\n",
    "\n",
    "    Args:\n",
    "        filename (str): file with spectra data\n",
    "        threshold_percentile (int | float): Threshold above which the relevant data lies\n",
    "    \"\"\"\n",
    "    sum_of_spectra = np.sum(spectra_data, axis=1)\n",
    "    peak_pos = peak_fit(sum_of_spectra, chem_shifts, threshold)\n",
    "\n",
    "    return peak_pos\n"
   ]
  },
  {
   "cell_type": "code",
   "execution_count": 5,
   "metadata": {},
   "outputs": [],
   "source": [
    "#get peaks in sum of sepctra\n",
    "peak_pos = peakfit_sum(spectra_data, chem_shifts, 85)"
   ]
  },
  {
   "cell_type": "markdown",
   "metadata": {},
   "source": [
    "---\n",
    "# normalize_water (added)"
   ]
  },
  {
   "cell_type": "code",
   "execution_count": 6,
   "metadata": {},
   "outputs": [],
   "source": [
    "def normalize_water(data:pd.DataFrame):\n",
    "    \"\"\"adjusts the data to the chem_shift(water) = 4.7, based on the closest peak in summed up spectra\n",
    "    --> needs existing function 'peakfit_sum', peak_fit\n",
    "\n",
    "    Args:\n",
    "        data (pd.DataFrame): spectra data with chem_shift in first column\n",
    "\n",
    "    Returns:\n",
    "        data_normalized (pd.DataFrame): dataframe with normalized data\n",
    "    \"\"\"\n",
    "\n",
    "    spectra_data= data.iloc[:,1:]\n",
    "    chem_shifts = data.iloc[:,0] \n",
    "\n",
    "    peak_pos = peakfit_sum(spectra_data, chem_shifts, 85)\n",
    "\n",
    "    #identify water peak (closest to 4.7\n",
    "    water = 4.7\n",
    "    closest_peak = min(peak_pos, key=lambda x: abs(x - water))\n",
    "\n",
    "    # reposition the whole spectra\n",
    "    data_normalized = pd.DataFrame(chem_shifts.copy() + ( 4.7 - closest_peak))\n",
    "    data_normalized = pd.concat([data_normalized, data.iloc[:, 1:]], axis=1)\n",
    "\n",
    "    # Neubenennung der Spalten, um die Originalstruktur zu erhalten\n",
    "    data_normalized.columns = data.columns\n",
    "\n",
    "    return data_normalized\n"
   ]
  },
  {
   "cell_type": "code",
   "execution_count": 7,
   "metadata": {},
   "outputs": [],
   "source": [
    "data_normalized = normalize_water(data)"
   ]
  },
  {
   "cell_type": "code",
   "execution_count": 8,
   "metadata": {},
   "outputs": [
    {
     "name": "stdout",
     "output_type": "stream",
     "text": [
      "[1.23428, 1.38903, 1.53972, 1.97548, 2.4316, 4.70407]\n",
      "[1.2302100000000005, 1.3849600000000004, 1.5356500000000004, 1.9714100000000003, 2.4275300000000004, 4.7]\n"
     ]
    }
   ],
   "source": [
    "#test\n",
    "print(peak_pos)\n",
    "print(peakfit_sum(data_normalized.iloc[:,1:], data_normalized.iloc[:,0], 85))"
   ]
  },
  {
   "cell_type": "markdown",
   "metadata": {},
   "source": [
    "---\n",
    "# Identify Peaks based on similarity to expected peaks"
   ]
  },
  {
   "cell_type": "markdown",
   "metadata": {},
   "source": [
    "<div class=\"alert alert-block alert-warning\">\n",
    "was wenn bereits gematchter Peak weiter weg von peak als ein nachher gefndener? --> Peak nicht vorhancden aber in anderem zeitlichen Abschnitt"
   ]
  },
  {
   "cell_type": "code",
   "execution_count": 9,
   "metadata": {},
   "outputs": [],
   "source": [
    "def peak_identify(data_normalized: pd.DataFrame, expected_peaks: list,  compound_names: list, initial_threshold = 85, max_shift = 0.15):\n",
    "    \"\"\"searches for peaks and matches them to the closest expected peak respecting the maximal shift. \n",
    "    Unidentified peaks are added to other(list). \n",
    "    Threshold is lowered until all expected peaks are found or number of other peaks succeeds numer of expected peaks\n",
    "    \n",
    "    needs existing function 'peakfit_sum'\n",
    "    \n",
    "    Args:\n",
    "        data_normalized (pd.DataFrame): _description_\n",
    "        compound_names (list): list with names of expected compunds (optional)\n",
    "        expected_peaks (list): list with positions of expected peaks\n",
    "        max_shift: maximum distance to expected peak position for \n",
    "\n",
    "    Returns:\n",
    "        found (list): list with identified peaks most likely the expected ones\n",
    "        other (list):  list with other found peaks\n",
    "    \"\"\"\n",
    "\n",
    "    spectra_data= data_normalized.iloc[:,1:]\n",
    "    chem_shifts = data_normalized.iloc[:,0]\n",
    "\n",
    "    #create enpty lists for found and identified peaks\n",
    "    found = [None] * len(expected_peaks)\n",
    "    other = []\n",
    "    threshold = initial_threshold\n",
    "\n",
    "    while None in found or len(other) <= len(found):\n",
    "        \n",
    "        #search for peaks above given threshold\n",
    "        detected_peaks = peakfit_sum(spectra_data, chem_shifts, threshold)\n",
    "        \n",
    "        for peak in detected_peaks:\n",
    "            distances = [abs(peak - expected_peak) for expected_peak in expected_peaks]\n",
    "            min_distance = min(distances)\n",
    "            index = distances.index(min_distance)\n",
    "            \n",
    "            if min_distance <= max_shift:\n",
    "                if found[index] is None:\n",
    "                    found[index] = peak\n",
    "                elif found[index] != peak:\n",
    "                    other.append(peak)\n",
    "            elif min_distance > max_shift:\n",
    "                other.append(peak)\n",
    "            \n",
    "        threshold -= 2\n",
    "\n",
    "        if threshold < 0 or None not in found or len(other) > len(found):\n",
    "            if None not in found:\n",
    "                print('allet jefunden')\n",
    "                break\n",
    "            else: \n",
    "                break\n",
    "\n",
    "    print(\"Found Peaks: \", found)\n",
    "    print(\"Other Peaks: \", other)\n",
    "\n",
    "    return found, other"
   ]
  },
  {
   "cell_type": "code",
   "execution_count": 10,
   "metadata": {},
   "outputs": [
    {
     "name": "stdout",
     "output_type": "stream",
     "text": [
      "allet jefunden\n",
      "Found Peaks:  [2.4275300000000004, 1.2302100000000005, 1.9714100000000003]\n",
      "Other Peaks:  [1.3849600000000004, 1.5356500000000004, 4.7]\n"
     ]
    },
    {
     "data": {
      "text/plain": [
       "([2.4275300000000004, 1.2302100000000005, 1.9714100000000003],\n",
       " [1.3849600000000004, 1.5356500000000004, 4.7])"
      ]
     },
     "execution_count": 10,
     "metadata": {},
     "output_type": "execute_result"
    }
   ],
   "source": [
    "Pyruvate_compound = ['Substrate', 'metabolite1', 'metabolite2']\n",
    "peaks_pyruvate= [2.468, 1.2261, 1.9775]\n",
    "\n",
    "peak_identify(data_normalized, peaks_pyruvate, Pyruvate_compound)"
   ]
  },
  {
   "cell_type": "markdown",
   "metadata": {},
   "source": [
    "---\n",
    "## Visualization (validation)"
   ]
  },
  {
   "cell_type": "code",
   "execution_count": 11,
   "metadata": {},
   "outputs": [],
   "source": [
    "def plot(data_normalized, compound_names, expected_peaks = []):\n",
    "    \"\"\"runs full peak identification process and creates a visualization\n",
    "    needs existing function peak_identify and all connected\n",
    "\n",
    "    Args:\n",
    "        data_normalized (_type_): _description_\n",
    "        compound_names (_type_): _description_\n",
    "        expected_peaks (list, optional): _description_. Defaults to [].\n",
    "    \"\"\"\n",
    "\n",
    "    spectra_data= data_normalized.iloc[:,1:]\n",
    "    chem_shifts = data_normalized.iloc[:,0]\n",
    "    # Summiere die Spektren aus\n",
    "    summed_spectra = spectra_data.sum(axis=1)\n",
    "    found, other = peak_identify(data_normalized, expected_peaks, compound_names)\n",
    "    \n",
    "    # Plotte das aussummierte Spektrum\n",
    "    plt.plot(chem_shifts, summed_spectra, label='sum of spectra')\n",
    "    \n",
    "    # Zeichne die gefundenen Peaks\n",
    "    for peak in found:\n",
    "        if peak is not None:\n",
    "            plt.axvline(x=peak, color='r', linestyle='--')\n",
    "    for peak in other:\n",
    "        plt.axvline(x=peak, color='orange', linestyle='--')\n",
    "    \n",
    "    plt.xlabel('chem_shift')\n",
    "    plt.ylabel('intensity')\n",
    "    plt.title('sum of spectra')\n",
    "    plt.legend()\n",
    "    plt.show()\n",
    "   "
   ]
  },
  {
   "cell_type": "code",
   "execution_count": 12,
   "metadata": {},
   "outputs": [
    {
     "name": "stdout",
     "output_type": "stream",
     "text": [
      "allet jefunden\n",
      "Found Peaks:  [2.4275300000000004, 1.2302100000000005, 1.9714100000000003]\n",
      "Other Peaks:  [1.3849600000000004, 1.5356500000000004, 4.7]\n"
     ]
    },
    {
     "data": {
      "image/png": "[encoded data removed]",
      "text/plain": [
       "<Figure size 640x480 with 1 Axes>"
      ]
     },
     "metadata": {},
     "output_type": "display_data"
    }
   ],
   "source": [
    "plot(data_normalized, Pyruvate_compound, peaks_pyruvate)"
   ]
  },
  {
   "cell_type": "markdown",
   "metadata": {},
   "source": [
    "---\n",
    "---\n",
    "# Find Peaks separated into three parts"
   ]
  },
  {
   "cell_type": "code",
   "execution_count": 13,
   "metadata": {},
   "outputs": [],
   "source": [
    "# Spaltenanzahl ohne die chem_shift-Spalte ermitteln\n",
    "cols_to_divide = len(data.columns) - 1\n",
    "\n",
    "# Die Anzahl der Spalten für jeden neuen DataFrame berechnen\n",
    "cols_per_part = cols_to_divide // 3\n",
    "\n",
    "# DataFrames erstellen\n",
    "df_part1 = data.iloc[:, :cols_per_part + 1]\n",
    "df_part2 = data.iloc[:, [0] + list(range(cols_per_part + 1, 2 * cols_per_part + 1))]\n",
    "df_part3 = data.iloc[:, [0] + list(range(2 * cols_per_part + 1, cols_to_divide + 1))]"
   ]
  },
  {
   "cell_type": "code",
   "execution_count": null,
   "metadata": {},
   "outputs": [],
   "source": []
  },
  {
   "cell_type": "markdown",
   "metadata": {},
   "source": [
    "---\n",
    "# combined function "
   ]
  },
  {
   "cell_type": "markdown",
   "metadata": {},
   "source": [
    "bullshot, nihct columns dividen sondern lines"
   ]
  },
  {
   "cell_type": "code",
   "execution_count": 14,
   "metadata": {},
   "outputs": [],
   "source": [
    "def peak_identification_full(data, expected_peaks, shift_tol = 0.01):\n",
    "    #normalize data\n",
    "    df = normalize_water(data)\n",
    "\n",
    "\n",
    "    #separate data into three parts\n",
    "    cols_to_divide = len(data.columns) - 1\n",
    "    cols_per_part = cols_to_divide // 3\n",
    "\n",
    "    df_part1 = data.iloc[:, :cols_per_part + 1]\n",
    "    df_part2 = data.iloc[:, [0] + list(range(cols_per_part + 1, 2 * cols_per_part + 1))]\n",
    "    df_part3 = data.iloc[:, [0] + list(range(2 * cols_per_part + 1, cols_to_divide + 1))]\n",
    "\n",
    "\n",
    "    #find peaks\n",
    "    found1, other1 = peak_identify(df_part1, expected_peaks)\n",
    "    found2, other2 = peak_identify(df_part2, expected_peaks)\n",
    "    found3, other3 = peak_identify(df_part3, expected_peaks)\n",
    "    \n",
    "    #combine results,\n",
    "    #what is maximum shift over time --> 0.01?\n",
    "    #problem if peaks shift over time and are suddenly more similar to other compund --> fuck\n",
    "\n",
    "    #chat gpt\n",
    "    found_lists = [found1, found2, found3]\n",
    "    other_lists = [other1, other2, other3]\n",
    "\n",
    "    final_found = []\n",
    "    final_other= []\n",
    "\n",
    "    # Zusammenführen und Filtern der \"found\" Listen\n",
    "    for i in range(len(expected_peaks)):\n",
    "        current_peaks = [found[i] for found in found_lists if i < len(found)]\n",
    "\n",
    "        if current_peaks: #add value thats closest to expected peak to final list\n",
    "            closest_peak = min(current_peaks, key=lambda x: abs(x - expected_peaks[i]))\n",
    "            final_found.append(closest_peak)\n",
    "            \n",
    "            for peak in current_peaks:\n",
    "                if abs(peak - closest_peak) >= shift_tol: #<<-- tolerance for peak shift over time\n",
    "                    final_other.append(peak)\n",
    "\n",
    "    # Entfernen von Duplikaten und ähnlichen Werten in der \"other\" Liste\n",
    "    for other in other_lists:\n",
    "        for peak in other:\n",
    "            if not any(abs(peak - o) < shift_tol for o in final_other): \n",
    "                final_other.append(peak)\n",
    "\n",
    "\n",
    "\n",
    "    # Zur Vermeidung von Duplikaten in 'final_other' nach dem Zusammenführen.\n",
    "    filtered_final_other = []\n",
    "    for o in final_other:\n",
    "        if not any(abs(o - ffo) < shift_tol for ffo in filtered_final_other):\n",
    "            filtered_final_other.append(o)\n",
    "\n",
    "    final_other = filtered_final_other\n",
    "    ### chat gpt ende\n",
    "\n",
    "\n",
    "    peak_pos = final_found + final_other\n",
    "\n",
    "    return peak_pos\n",
    "    #return final_found, final_other\n"
   ]
  },
  {
   "cell_type": "markdown",
   "metadata": {},
   "source": [
    "<div class=\"alert alert-box alert-warning\">\n",
    "split into more than 3, at least 20(?) per part\n",
    "\n",
    "dataframe |timeframe|list of xvalues|"
   ]
  },
  {
   "cell_type": "markdown",
   "metadata": {},
   "source": [
    "---\n",
    "---\n",
    "# full visualization"
   ]
  },
  {
   "cell_type": "code",
   "execution_count": 15,
   "metadata": {},
   "outputs": [],
   "source": [
    "import matplotlib.pyplot as plt\n",
    "import numpy as np\n",
    "import pandas as pd\n",
    "import matplotlib.gridspec as gridspec"
   ]
  },
  {
   "cell_type": "code",
   "execution_count": null,
   "metadata": {},
   "outputs": [],
   "source": []
  },
  {
   "cell_type": "code",
   "execution_count": null,
   "metadata": {},
   "outputs": [],
   "source": []
  }
 ],
 "metadata": {
  "kernelspec": {
   "display_name": "Python 3",
   "language": "python",
   "name": "python3"
  },
  "language_info": {
   "codemirror_mode": {
    "name": "ipython",
    "version": 3
   },
   "file_extension": ".py",
   "mimetype": "text/x-python",
   "name": "python",
   "nbconvert_exporter": "python",
   "pygments_lexer": "ipython3",
   "version": "3.12.2"
  }
 },
 "nbformat": 4,
 "nbformat_minor": 2
}
