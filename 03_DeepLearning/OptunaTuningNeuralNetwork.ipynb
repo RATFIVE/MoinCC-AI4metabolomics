{
 "cells": [
  {
   "cell_type": "code",
   "execution_count": 1,
   "metadata": {},
   "outputs": [
    {
     "name": "stderr",
     "output_type": "stream",
     "text": [
      "2024-11-14 18:48:22.656745: E external/local_xla/xla/stream_executor/cuda/cuda_fft.cc:477] Unable to register cuFFT factory: Attempting to register factory for plugin cuFFT when one has already been registered\n",
      "WARNING: All log messages before absl::InitializeLog() is called are written to STDERR\n",
      "E0000 00:00:1731606502.669071  140549 cuda_dnn.cc:8310] Unable to register cuDNN factory: Attempting to register factory for plugin cuDNN when one has already been registered\n",
      "E0000 00:00:1731606502.673082  140549 cuda_blas.cc:1418] Unable to register cuBLAS factory: Attempting to register factory for plugin cuBLAS when one has already been registered\n",
      "2024-11-14 18:48:22.686068: I tensorflow/core/platform/cpu_feature_guard.cc:210] This TensorFlow binary is optimized to use available CPU instructions in performance-critical operations.\n",
      "To enable the following instructions: AVX2 FMA, in other operations, rebuild TensorFlow with the appropriate compiler flags.\n"
     ]
    }
   ],
   "source": [
    "import pandas as pd\n",
    "import numpy as np\n",
    "from pathlib import Path\n",
    "import os\n",
    "import matplotlib.pyplot as plt \n",
    "from scipy import interpolate\n",
    "import random\n",
    "import math\n",
    "import torch\n",
    "import copy\n",
    "import time\n",
    "\n",
    "from sklearn.metrics import mean_absolute_error, mean_squared_error, mean_absolute_percentage_error, accuracy_score, f1_score, roc_auc_score\n",
    "from sklearn.model_selection import train_test_split\n",
    "from sklearn.preprocessing import MinMaxScaler\n",
    "from sklearn.linear_model import LinearRegression\n",
    "from sklearn.dummy import DummyClassifier\n",
    "from sklearn import metrics\n",
    "from sklearn.svm import SVC\n",
    "\n",
    "import torch\n",
    "import torch.nn as nn\n",
    "from torch.utils.tensorboard import SummaryWriter\n",
    "from torch.optim.lr_scheduler import ReduceLROnPlateau\n",
    "from torch.utils.data import DataLoader, TensorDataset\n",
    "import gc\n",
    "import mads_dl\n",
    "\n",
    "from PIL import Image\n",
    "from IPython.display import Image\n",
    "import matplotlib.cm as cm\n",
    "import seaborn as sns\n",
    "torch.manual_seed(1)\n",
    "from classes import *\n",
    "# set all columns to be displayed\n",
    "pd.set_option('display.max_columns', None)\n",
    "\n",
    "loaddata = LoadData()\n"
   ]
  },
  {
   "cell_type": "markdown",
   "metadata": {},
   "source": [
    "# Classes"
   ]
  },
  {
   "cell_type": "markdown",
   "metadata": {},
   "source": [
    "## Loading Data Classes"
   ]
  },
  {
   "cell_type": "code",
   "execution_count": 2,
   "metadata": {},
   "outputs": [],
   "source": [
    "# 'FA_20231206_2H_yeast_Pyruvate-d3_1.ser.csv'\n",
    "# 'FA_20240517_2H_yeast_Nicotinamide-d4 _9.csv'\n",
    "# 'FA_20240213_2H_yeast_Fumarate-d2_9.csv\n",
    "file = str(Path('FA_20231123_2H Yeast_Fumarate-d2_12 .csv'))\n",
    "substrates = loaddata.get_substrate_list(file)\n",
    "metabolites = loaddata.get_metabolite_list(file)\n",
    "substrates = [float(i) for i in substrates]\n",
    "metabolites = [float(i) for i in metabolites]\n",
    "path_list = loaddata.load_data(file)"
   ]
  },
  {
   "cell_type": "code",
   "execution_count": 3,
   "metadata": {},
   "outputs": [
    {
     "name": "stdout",
     "output_type": "stream",
     "text": [
      "[6.653, 4.7] [4.368, 2.474]\n"
     ]
    }
   ],
   "source": [
    "print(substrates, metabolites)"
   ]
  },
  {
   "cell_type": "markdown",
   "metadata": {},
   "source": [
    "# Step 1: Loading the data"
   ]
  },
  {
   "cell_type": "markdown",
   "metadata": {},
   "source": []
  },
  {
   "cell_type": "code",
   "execution_count": 4,
   "metadata": {},
   "outputs": [
    {
     "name": "stdout",
     "output_type": "stream",
     "text": [
      "(632, 51)\n",
      "(622, 236)\n",
      "(806, 151)\n",
      "(1063, 51)\n",
      "(837, 238)\n",
      "(654, 51)\n",
      "(585, 236)\n",
      "(960, 131)\n",
      "(855, 131)\n",
      "(577, 236)\n",
      "(679, 151)\n",
      "(1429, 131)\n",
      "(1583, 131)\n",
      "(1170, 236)\n",
      "(966, 51)\n",
      "(1527, 131)\n",
      "(841, 41)\n",
      "(2003, 131)\n",
      "(843, 238)\n",
      "(859, 236)\n",
      "(706, 131)\n",
      "(1226, 131)\n",
      "(880, 131)\n",
      "(779, 131)\n",
      "(695, 131)\n",
      "(778, 51)\n",
      "(636, 237)\n",
      "(653, 131)\n",
      "(1045, 131)\n",
      "(925, 71)\n",
      "(793, 236)\n",
      "(718, 238)\n",
      "(782, 236)\n",
      "(2122, 131)\n",
      "(1279, 131)\n",
      "(1632, 131)\n",
      "(941, 238)\n",
      "(537, 236)\n",
      "(1796, 101)\n",
      "(890, 237)\n",
      "(823, 131)\n",
      "(1503, 131)\n",
      "(1675, 131)\n",
      "(861, 151)\n",
      "(681, 236)\n",
      "(1147, 51)\n",
      "(755, 131)\n",
      "(608, 238)\n",
      "(1480, 237)\n",
      "(2268, 131)\n",
      "(1045, 181)\n",
      "(1023, 51)\n",
      "(1418, 238)\n",
      "(691, 236)\n",
      "(735, 131)\n",
      "(655, 236)\n",
      "(1139, 181)\n",
      "(921, 131)\n",
      "(673, 236)\n",
      "(645, 238)\n",
      "(1074, 131)\n",
      "(908, 51)\n",
      "(957, 131)\n",
      "(877, 40)\n",
      "(1297, 131)\n",
      "(951, 131)\n",
      "(1594, 131)\n",
      "(799, 131)\n",
      "(776, 236)\n",
      "(971, 237)\n",
      "(1675, 131)\n",
      "(1178, 237)\n",
      "(2072, 131)\n",
      "(898, 51)\n"
     ]
    }
   ],
   "source": [
    "# shapes of all the csv files\n",
    "path_list2 = loaddata.load_data('.csv')\n",
    "\n",
    "for path in path_list2:\n",
    "    df = pd.read_csv(path)\n",
    "    print(df.shape)"
   ]
  },
  {
   "cell_type": "code",
   "execution_count": 5,
   "metadata": {},
   "outputs": [
    {
     "name": "stdout",
     "output_type": "stream",
     "text": [
      "(2268, 131)\n"
     ]
    }
   ],
   "source": [
    "for file in path_list:\n",
    "    df = pd.read_csv(file)\n",
    "    print(df.shape)"
   ]
  },
  {
   "cell_type": "code",
   "execution_count": 6,
   "metadata": {},
   "outputs": [
    {
     "data": {
      "image/png": "[encoded data removed]",
      "text/plain": [
       "<Figure size 640x480 with 1 Axes>"
      ]
     },
     "metadata": {},
     "output_type": "display_data"
    }
   ],
   "source": [
    "for i in range(len(path_list)):\n",
    "    df = pd.read_csv(path_list[i])\n",
    "    \n",
    "\n",
    "    x = df.iloc[:,0]\n",
    "    y = df.iloc[:, 1]\n",
    "\n",
    "    #print(df.shape)\n",
    "\n",
    "    plt.plot(x,y)\n",
    "\n",
    "# show x  lines\n",
    "plt.axhline(y=0, color='k')\n",
    "plt.show()"
   ]
  },
  {
   "cell_type": "code",
   "execution_count": null,
   "metadata": {},
   "outputs": [],
   "source": []
  },
  {
   "cell_type": "markdown",
   "metadata": {},
   "source": [
    "# Step 2: Generating synthetic Data for - FA_20231113_2H_yeast_Pyruvate-d3_1.csv"
   ]
  },
  {
   "cell_type": "code",
   "execution_count": 7,
   "metadata": {},
   "outputs": [
    {
     "data": {
      "image/png": "[encoded data removed]",
      "text/plain": [
       "<Figure size 640x480 with 1 Axes>"
      ]
     },
     "metadata": {},
     "output_type": "display_data"
    }
   ],
   "source": [
    "import numpy as np\n",
    "import matplotlib.pyplot as plt\n",
    "from scipy.ndimage import gaussian_filter1d\n",
    "\n",
    "# Lorentzian function\n",
    "def lorentzian(x, x0, gamma, height):\n",
    "    return height * (gamma**2 / ((x - x0)**2 + gamma**2))\n",
    "\n",
    "\n",
    "def generate_random_spectrum(peak_list, spectrum_length=3000):\n",
    "\n",
    "    # Generate random spectrum with Lorentzian peaks\n",
    "    x = np.linspace(-2, 15, spectrum_length)  # x range\n",
    "    y = np.zeros_like(x)          # initialize y as zeros\n",
    "    mask = np.zeros_like(x)       # mask to identify peak regions\n",
    "\n",
    "    # Add random Lorentzian peaks\n",
    "    x0_parms = []\n",
    "    gamma_parms = []\n",
    "    height_parms = []\n",
    "\n",
    "    x0_substrate_parms = []\n",
    "    gamma_substrate_parms = []\n",
    "    height_substrate_parms = []\n",
    "\n",
    "    for peak_pos in peak_list:\n",
    "        metabolism_x0 = peak_pos + np.random.uniform(-0.1, 0.1)\n",
    "        \n",
    "        metabolism_gamma = np.random.uniform(0.01, 0.3)  # Random width (gamma)\n",
    "        metabolism_height = np.random.uniform(100, df.max().max())  # Random height\n",
    "        peak_lorenz = lorentzian(x, metabolism_x0, metabolism_gamma, metabolism_height)\n",
    "        y = np.maximum(y, peak_lorenz)  # Use maximum to avoid summing peaks\n",
    "\n",
    "        # Create a mask to identify regions near the peaks (exclude noise here)\n",
    "        mask += peak_lorenz > (0.1 * metabolism_height)  # Masking regions where peak height is significant\n",
    "\n",
    "        # Append the parameters for the peak\n",
    "        x0_parms.append(metabolism_x0)\n",
    "        gamma_parms.append(metabolism_gamma)\n",
    "        height_parms.append(metabolism_height)\n",
    "\n",
    "\n",
    "\n",
    "    # Add noise only outside the peak regions\n",
    "    random_noise_level = np.random.uniform(0, df.max().max())\n",
    "    gaussian_noise = np.random.normal(0, 500, 3000)\n",
    "    laplace_noise = np.random.laplace(0, 500, 3000)\n",
    "\n",
    "    # choose random between noise1 and noise2\n",
    "    noise = gaussian_noise if np.random.rand() > 0.5 else laplace_noise\n",
    "\n",
    "    #noise = np.random.normal(10, random_noise_level, spectrum_length)\n",
    "\n",
    "    # smooth the noise with gaussian filter\n",
    "    sigma = random_noise_level /1\n",
    "    #noise = gaussian_filter1d(noise, sigma=sigma)\n",
    "    # rollwing window mean\n",
    "    noise = np.convolve(noise, np.ones(50)/50, mode='same')\n",
    "    \n",
    "    \n",
    "        \n",
    "    y_noisy = y + noise * (mask == 0)  # Add noise only where mask is 0 (outside peaks)\n",
    "\n",
    "    return x, y_noisy, np.array(x0_parms), np.array(gamma_parms), np.array(height_parms)\n",
    "\n",
    "\n",
    "# ----\n",
    "\n",
    "#peak_list = [2.323, 4.7, 1.201]\n",
    "substrates_list = substrates + metabolites\n",
    "x, y_noisy, x0_parms, gamma_parms, height_parms = generate_random_spectrum(substrates_list)\n",
    "\n",
    "# Plot the result\n",
    "plt.plot(x, y_noisy, '-', label=\"With Noise\")\n",
    "\n",
    "for x0, gamma, height in zip(x0_parms, gamma_parms, height_parms):\n",
    "    lorentz = lorentzian(x, x0, gamma, height)\n",
    "    plt.plot(x, lorentz, '--', label=\"Original Peaks\", alpha=0.5)  \n",
    "plt.xlabel('x')\n",
    "plt.ylabel('Intensity')\n",
    "plt.legend()\n",
    "plt.show()\n"
   ]
  },
  {
   "cell_type": "markdown",
   "metadata": {},
   "source": [
    "# Step 3: Fill Up Original Data "
   ]
  },
  {
   "cell_type": "code",
   "execution_count": 8,
   "metadata": {},
   "outputs": [
    {
     "data": {
      "image/png": "[encoded data removed]",
      "text/plain": [
       "<Figure size 640x480 with 1 Axes>"
      ]
     },
     "metadata": {},
     "output_type": "display_data"
    },
    {
     "name": "stdout",
     "output_type": "stream",
     "text": [
      "(3686, 2)\n"
     ]
    },
    {
     "data": {
      "text/html": [
       "<div>\n",
       "<style scoped>\n",
       "    .dataframe tbody tr th:only-of-type {\n",
       "        vertical-align: middle;\n",
       "    }\n",
       "\n",
       "    .dataframe tbody tr th {\n",
       "        vertical-align: top;\n",
       "    }\n",
       "\n",
       "    .dataframe thead th {\n",
       "        text-align: right;\n",
       "    }\n",
       "</style>\n",
       "<table border=\"1\" class=\"dataframe\">\n",
       "  <thead>\n",
       "    <tr style=\"text-align: right;\">\n",
       "      <th></th>\n",
       "      <th>x</th>\n",
       "      <th>y</th>\n",
       "    </tr>\n",
       "  </thead>\n",
       "  <tbody>\n",
       "    <tr>\n",
       "      <th>0</th>\n",
       "      <td>-2.000000</td>\n",
       "      <td>44.408359</td>\n",
       "    </tr>\n",
       "    <tr>\n",
       "      <th>1</th>\n",
       "      <td>-1.995927</td>\n",
       "      <td>43.633022</td>\n",
       "    </tr>\n",
       "    <tr>\n",
       "      <th>2</th>\n",
       "      <td>-1.991855</td>\n",
       "      <td>42.154093</td>\n",
       "    </tr>\n",
       "    <tr>\n",
       "      <th>3</th>\n",
       "      <td>-1.987782</td>\n",
       "      <td>40.136399</td>\n",
       "    </tr>\n",
       "    <tr>\n",
       "      <th>4</th>\n",
       "      <td>-1.983710</td>\n",
       "      <td>37.777981</td>\n",
       "    </tr>\n",
       "    <tr>\n",
       "      <th>...</th>\n",
       "      <td>...</td>\n",
       "      <td>...</td>\n",
       "    </tr>\n",
       "    <tr>\n",
       "      <th>3681</th>\n",
       "      <td>12.983526</td>\n",
       "      <td>1.487833</td>\n",
       "    </tr>\n",
       "    <tr>\n",
       "      <th>3682</th>\n",
       "      <td>12.987599</td>\n",
       "      <td>2.264826</td>\n",
       "    </tr>\n",
       "    <tr>\n",
       "      <th>3683</th>\n",
       "      <td>12.991671</td>\n",
       "      <td>2.876064</td>\n",
       "    </tr>\n",
       "    <tr>\n",
       "      <th>3684</th>\n",
       "      <td>12.995744</td>\n",
       "      <td>3.294473</td>\n",
       "    </tr>\n",
       "    <tr>\n",
       "      <th>3685</th>\n",
       "      <td>12.999816</td>\n",
       "      <td>3.504718</td>\n",
       "    </tr>\n",
       "  </tbody>\n",
       "</table>\n",
       "<p>3686 rows × 2 columns</p>\n",
       "</div>"
      ],
      "text/plain": [
       "              x          y\n",
       "0     -2.000000  44.408359\n",
       "1     -1.995927  43.633022\n",
       "2     -1.991855  42.154093\n",
       "3     -1.987782  40.136399\n",
       "4     -1.983710  37.777981\n",
       "...         ...        ...\n",
       "3681  12.983526   1.487833\n",
       "3682  12.987599   2.264826\n",
       "3683  12.991671   2.876064\n",
       "3684  12.995744   3.294473\n",
       "3685  12.999816   3.504718\n",
       "\n",
       "[3686 rows x 2 columns]"
      ]
     },
     "metadata": {},
     "output_type": "display_data"
    }
   ],
   "source": [
    "\n",
    "\n",
    "\n",
    "def interpolate_to_shape(x_original, y_original, spectrum_lenth=3000):\n",
    "    \"\"\"_summary_\n",
    "\n",
    "    # Originaldaten\n",
    "    y_original = df.iloc[:, 1]\n",
    "    x_original = df.iloc[:, 0]\n",
    "\n",
    "    Args:\n",
    "        df (_type_): _description_\n",
    "    \"\"\"\n",
    "\n",
    "\n",
    "    # Neue x-Werte (stellen Sie sicher, dass diese innerhalb des Bereichs von x_original liegen)\n",
    "    x_new = np.linspace(x_original.min(), x_original.max(), spectrum_lenth)\n",
    "\n",
    "    # Interpolierte Daten\n",
    "    interpolated_data = interpolate.interp1d(x_original, y_original, kind='linear')(x_new)\n",
    "    \n",
    "    df = pd.DataFrame({'x': x_new, 'y': interpolated_data})\n",
    "    return df\n",
    "\n",
    "def fill_df(df):\n",
    "    \"\"\"If Data is not ranging from -2 to 10, fill the data with noise\n",
    "    \n",
    "    \"\"\"\n",
    "    # renmame the columns\n",
    "    df.columns = ['x', 'y']\n",
    "    x = df.loc[:, 'x']\n",
    "    y = df.loc[:, 'y']\n",
    "\n",
    "\n",
    "\n",
    "    # Calculate the step size of the x values\n",
    "    x_diff = np.diff(x)\n",
    "    step = np.mean(x_diff)\n",
    "    \n",
    "    # Take sample range for the noise\n",
    "    x_range_lower = 0\n",
    "    x_range_upper = 100\n",
    "\n",
    "    # get sample data of the noise\n",
    "    x_sample = x[x_range_lower:x_range_upper]\n",
    "    y_sample = y[x_range_lower:x_range_upper]\n",
    "\n",
    "    # get the max and min values of the sample data\n",
    "    y_min, y_max = (y_sample.min()), abs(y_sample.max())\n",
    "    #print(y_min, y_max)\n",
    "\n",
    "    # get the min max of the x values\n",
    "    x_min, x_max = x.min(), x.min()\n",
    "\n",
    "    if x_min > -2:\n",
    "\n",
    "\n",
    "        # create values in n steps\n",
    "        x_new = np.arange(-2, x.iloc[0], step)\n",
    "        y_new = np.zeros_like(x_new)\n",
    "\n",
    "        # set the noise level\n",
    "        noise = np.random.normal(0, y_max, len(x_new))\n",
    "\n",
    "\n",
    "        \n",
    "        # smooth the noise with gaussian filter\n",
    "        # Berechne die Standardabweichung der y-Daten\n",
    "        sigma = len(y_new) / 100\n",
    "        noise = gaussian_filter1d(input=noise, sigma=sigma)\n",
    "\n",
    "        # replace y_new with noise\n",
    "        y_new = noise\n",
    "\n",
    "        data = pd.DataFrame({'x': x_new, 'y': y_new})\n",
    "        df = pd.concat([data, df], axis=0)\n",
    "        df.reset_index(drop=True, inplace=True)\n",
    "\n",
    "    if x_max < 15:\n",
    "    \n",
    "        # create values in n steps\n",
    "        x_new = np.arange(x.iloc[-1], 13, step)\n",
    "        #print(x_new)\n",
    "        y_new = np.zeros_like(x_new)\n",
    "\n",
    "        # set the noise level\n",
    "        noise = np.random.normal(0, y_max, len(x_new))\n",
    "\n",
    "        # smooth the noise with gaussian filter\n",
    "        # Berechne die Standardabweichung der y-Daten\n",
    "        sigma = len(y_new) / 100\n",
    "        noise = gaussian_filter1d(input=noise, sigma=sigma)\n",
    "\n",
    "        # replace y_new with noise\n",
    "        y_new = noise\n",
    "\n",
    "        data = pd.DataFrame({'x': x_new, 'y': y_new})\n",
    "        df = pd.concat([df, data], axis=0)\n",
    "        df.reset_index(drop=True, inplace=True)\n",
    "                \n",
    "    return df\n",
    "\n",
    "\n",
    "df_fill = df.iloc[:, [0, 2]]\n",
    "#print(df_fill.head())\n",
    "df_filled = fill_df(df_fill)\n",
    "#print(df_filled.head())\n",
    "\n",
    "# plot \n",
    "plt.plot(df_filled.iloc[:, 0], df_filled.iloc[:, 1], color='green')\n",
    "plt.plot(df_fill.iloc[:, 0], df_fill.iloc[:, 1], color='blue', alpha=0.2)\n",
    "plt.show()\n",
    "print(df_filled.shape)\n",
    "display(df_filled)"
   ]
  },
  {
   "cell_type": "markdown",
   "metadata": {},
   "source": [
    "# Step 3: Bring data to same shape"
   ]
  },
  {
   "cell_type": "code",
   "execution_count": 9,
   "metadata": {},
   "outputs": [
    {
     "name": "stdout",
     "output_type": "stream",
     "text": [
      "(3000, 2)\n"
     ]
    },
    {
     "data": {
      "image/png": "[encoded data removed]",
      "text/plain": [
       "<Figure size 640x480 with 1 Axes>"
      ]
     },
     "metadata": {},
     "output_type": "display_data"
    }
   ],
   "source": [
    "\n",
    "# Interpoliere die Werte, um die Größe des DataFrames zu erweitern\n",
    "df_interpolated = interpolate_to_shape(df_filled.iloc[:, 0], df_filled.iloc[:, 1], spectrum_lenth=3000)\n",
    "\n",
    "# Form des interpolierten DataFrames\n",
    "print(df_interpolated.shape)\n",
    "\n",
    "# Plot the interpolated data\n",
    "#plt.plot(df_filled.iloc[:, 0], df_filled.iloc[:, 1])\n",
    "plt.plot(df_interpolated.iloc[:, 0], df_interpolated.iloc[:, 1], color='red',)\n",
    "plt.plot(df.iloc[:, 0], df.iloc[:, 1], color='green', alpha=0.5)\n",
    "plt.legend(['Original Data', 'Interpolated Data', 'Sum'])\n",
    "plt.show()"
   ]
  },
  {
   "cell_type": "markdown",
   "metadata": {},
   "source": [
    "# Step 4: Bring Data to shape for Transformer"
   ]
  },
  {
   "cell_type": "code",
   "execution_count": 10,
   "metadata": {},
   "outputs": [
    {
     "data": {
      "text/plain": [
       "(3000, 2)"
      ]
     },
     "execution_count": 10,
     "metadata": {},
     "output_type": "execute_result"
    }
   ],
   "source": [
    "df_interpolated.shape"
   ]
  },
  {
   "cell_type": "code",
   "execution_count": 11,
   "metadata": {},
   "outputs": [
    {
     "data": {
      "image/png": "[encoded data removed]",
      "text/plain": [
       "<Figure size 640x480 with 1 Axes>"
      ]
     },
     "metadata": {},
     "output_type": "display_data"
    }
   ],
   "source": [
    "for i in range(df.shape[1]-1):\n",
    "\n",
    "    df_filled = fill_df(df.iloc[:, [0, i]])\n",
    "    df_interpolated = interpolate_to_shape(df_filled.loc[:,'x'], df_filled.loc[:,'y'], spectrum_lenth=3000)\n",
    "    #plt.plot(df_filled.loc[:,'x'], df_filled.loc[:,'y'], '-', label='Original Data')\n",
    "    plt.plot(df_interpolated.iloc[:, 0], df_interpolated.iloc[:, 1], '-', label='Interpolated Data')\n",
    "\n",
    "# data_train_tensor & y_train\n",
    "substrates_list = substrates + metabolites\n",
    "x_synth, y_synth, x0_parms, gamma_parms, height_parms = generate_random_spectrum(substrates_list)\n",
    "\n",
    "\n",
    "#plt.plot(x_synth, y_synth, label=\"With Noise\")\n",
    "plt.xlabel('x')\n",
    "plt.ylabel('Intensity (a.u.)')\n",
    "\n",
    "plt.show()"
   ]
  },
  {
   "cell_type": "markdown",
   "metadata": {},
   "source": [
    "# Generate training Dataset "
   ]
  },
  {
   "cell_type": "code",
   "execution_count": 12,
   "metadata": {},
   "outputs": [
    {
     "name": "stdout",
     "output_type": "stream",
     "text": [
      "x_data shape: torch.Size([5000, 3000])\n",
      "data shape: torch.Size([5000, 3000])\n",
      "x_params_tensor shape: torch.Size([5000, 4])\n",
      "gamma_params_tensor shape: torch.Size([5000, 4])\n",
      "height_params_tensor shape: torch.Size([5000, 4])\n",
      "target shape: torch.Size([5000, 12])\n",
      "\n",
      "\n"
     ]
    },
    {
     "name": "stderr",
     "output_type": "stream",
     "text": [
      "/tmp/ipykernel_140549/809751612.py:22: UserWarning: Creating a tensor from a list of numpy.ndarrays is extremely slow. Please consider converting the list to a single numpy.ndarray with numpy.array() before converting to a tensor. (Triggered internally at ../torch/csrc/utils/tensor_new.cpp:278.)\n",
      "  x_data = torch.tensor(x_data)\n"
     ]
    }
   ],
   "source": [
    "\n",
    "num_samples = 5000\n",
    "\n",
    "x_data = []\n",
    "y_data = []\n",
    "x0_parms_list = []\n",
    "gamma_parms_list = []\n",
    "height_parms_list = []\n",
    "for i in range(num_samples):\n",
    "    # data_train_tensor & y_train\n",
    "    substrates_list = substrates + metabolites\n",
    "    x, y_noisy, x0_parms, gamma_parms, height_parms = generate_random_spectrum(substrates_list)\n",
    "    x_data.append(x)\n",
    "    y_data.append(y_noisy)\n",
    "    x0_parms_list.append(x0_parms)\n",
    "    gamma_parms_list.append(gamma_parms)\n",
    "    height_parms_list.append(height_parms)\n",
    "\n",
    "\n",
    "\n",
    "\n",
    "# Umwandeln der lists in Tensoren\n",
    "x_data = torch.tensor(x_data)\n",
    "data = torch.tensor(y_data) # Data: Noisy Spectra which is input to the model\n",
    "x_params_tensor = torch.tensor(x0_parms_list) # Target: \n",
    "gamma_params_tensor = torch.tensor(gamma_parms_list)\n",
    "height_params_tensor = torch.tensor(height_parms_list)\n",
    "\n",
    "target = torch.cat((x_params_tensor, gamma_params_tensor, height_params_tensor), dim=1)\n",
    "\n",
    "\n",
    "\n",
    "# Überprüfen der Formen\n",
    "print(f\"x_data shape: {x_data.shape}\")\n",
    "print(f\"data shape: {data.shape}\")\n",
    "print(f\"x_params_tensor shape: {x_params_tensor.shape}\")\n",
    "print(f\"gamma_params_tensor shape: {gamma_params_tensor.shape}\")\n",
    "print(f\"height_params_tensor shape: {height_params_tensor.shape}\")\n",
    "print(f\"target shape: {target.shape}\")\n",
    "print('\\n')"
   ]
  },
  {
   "cell_type": "code",
   "execution_count": 13,
   "metadata": {},
   "outputs": [
    {
     "name": "stdout",
     "output_type": "stream",
     "text": [
      "Before Scaling: torch.Size([5000, 3000])\n",
      "Before Scaling: torch.Size([5000, 12])\n",
      "After Reshaping: torch.Size([5000, 3000])\n",
      "After Reshaping: torch.Size([5000, 12])\n",
      "After Scaling: (5000, 3000)\n",
      "After Scaling: (5000, 12)\n"
     ]
    }
   ],
   "source": [
    "\n",
    "def scale_data(data, target):\n",
    "    \"\"\"Scale the data\n",
    "    \n",
    "    Args:\n",
    "        x_data (_type_): _description_\n",
    "        y_data (_type_): _description_\n",
    "    \"\"\"\n",
    "    # Skalieren Sie die Daten\n",
    "    data_scaler = MinMaxScaler()\n",
    "    target_scaler = MinMaxScaler()\n",
    "\n",
    "    print(f'Before Scaling: {data.shape}')\n",
    "    print(f'Before Scaling: {target.shape}')\n",
    "\n",
    "    # Reshape the data before scaling\n",
    "    data = data.reshape(data.shape[0], -1)\n",
    "    target = target.reshape(target.shape[0], -1)\n",
    "\n",
    "    print(f'After Reshaping: {data.shape}')\n",
    "    print(f'After Reshaping: {target.shape}')\n",
    "\n",
    "    # Skalieren Sie die x-Daten\n",
    "    data_scaled = data_scaler.fit_transform(data)\n",
    "    target_scaled = target_scaler.fit_transform(target)\n",
    "    \n",
    "    print(f'After Scaling: {data_scaled.shape}')\n",
    "    print(f'After Scaling: {target_scaled.shape}')\n",
    "\n",
    "\n",
    "    return data_scaled, target_scaled, data_scaler, target_scaler\n",
    "    \n",
    "\n",
    "# Skalieren Sie die Daten\n",
    "data_scaled, target_scaled, data_scaler, target_scaler = scale_data(data, target)"
   ]
  },
  {
   "cell_type": "code",
   "execution_count": 14,
   "metadata": {},
   "outputs": [
    {
     "name": "stdout",
     "output_type": "stream",
     "text": [
      "Data Train Shape: torch.Size([3000, 3000])\n",
      "Data Val Shape: torch.Size([1000, 3000])\n",
      "Data Test Shape: torch.Size([1000, 3000])\n",
      "Target Train Shape: torch.Size([3000, 12])\n",
      "Target Val Shape: torch.Size([1000, 12])\n",
      "Target Test Shape: torch.Size([1000, 12])\n"
     ]
    }
   ],
   "source": [
    "from sklearn.model_selection import train_test_split\n",
    "import torch\n",
    "from sklearn.preprocessing import MinMaxScaler\n",
    "device = torch.device(\"cuda\" if torch.cuda.is_available() else \"cpu\")\n",
    "\n",
    "\n",
    "\n",
    "# Aufteilen der Daten in Trainings- und Testsets\n",
    "data_train, data_tmp, target_train, target_tmp = train_test_split(data, target, \n",
    "                                                    test_size=0.4,\n",
    "                                                    shuffle=True,\n",
    "                                                    random_state=1)\n",
    "data_val, data_test, target_val, target_test = train_test_split(data_tmp, target_tmp,\n",
    "                                                    test_size=0.5,\n",
    "                                                    shuffle=True,\n",
    "                                                    random_state=1)\n",
    "\n",
    "# import StandardScaler\n",
    "from sklearn.preprocessing import StandardScaler\n",
    "\n",
    "# Skalieren der Daten\n",
    "data_scaler = MinMaxScaler()\n",
    "target_scaler = MinMaxScaler()\n",
    "\n",
    "# Skalieren von data train und test\n",
    "data_train_sc = data_scaler.fit_transform(data_train)\n",
    "data_val_sc = data_scaler.transform(data_val)\n",
    "data_test_sc = data_scaler.transform(data_test)\n",
    "\n",
    "# Skalieren von target train und test\n",
    "target_train_sc = target_scaler.fit_transform(target_train)\n",
    "target_val_sc = target_scaler.transform(target_val)\n",
    "target_test_sc = target_scaler.transform(target_test)\n",
    "\n",
    "\n",
    "# Konvertieren in Tensoren\n",
    "data_train_tensor = torch.tensor(data_train_sc, dtype=torch.float32)\n",
    "data_val_tensor = torch.tensor(data_val_sc, dtype=torch.float32)\n",
    "data_test_tensor = torch.tensor(data_test_sc, dtype=torch.float32)\n",
    "target_train_tensor = torch.tensor(target_train_sc, dtype=torch.float32)\n",
    "target_val_tensor = torch.tensor(target_val_sc, dtype=torch.float32)\n",
    "target_test_tensor = torch.tensor(target_test_sc, dtype=torch.float32)\n",
    "\n",
    "\n",
    "\n",
    "\n",
    "\n",
    "# # Reshape the tensors for the model\n",
    "# target_train_tensor = target_train_tensor.reshape(target_train_tensor.shape[0], -1)\n",
    "# target_val_tensor = target_val_tensor.reshape(target_val_tensor.shape[0], -1)\n",
    "\n",
    "# Überprüfen der Tensoren\n",
    "print(f\"Data Train Shape: {data_train_tensor.shape}\")\n",
    "print(f\"Data Val Shape: {data_val_tensor.shape}\")\n",
    "print(f\"Data Test Shape: {data_test_tensor.shape}\")\n",
    "print(f\"Target Train Shape: {target_train_tensor.shape}\")\n",
    "print(f\"Target Val Shape: {target_val_tensor.shape}\")\n",
    "print(f\"Target Test Shape: {target_test_tensor.shape}\")"
   ]
  },
  {
   "cell_type": "markdown",
   "metadata": {},
   "source": [
    "# LSTM "
   ]
  },
  {
   "cell_type": "code",
   "execution_count": 15,
   "metadata": {},
   "outputs": [],
   "source": [
    "# class NeuralNetwork(nn.Module):\n",
    "#     def __init__(self, input_size, hidden_size, output_size, dropout_prob):\n",
    "#         super(NeuralNetwork, self).__init__()\n",
    "\n",
    "#         self.reduce = nn.Linear(3000, hidden_size)\n",
    "\n",
    "#         # Define LSTM with correct hidden size\n",
    "#         self.lstm = nn.GRU(input_size=input_size, hidden_size=hidden_size, num_layers=2, batch_first=True)\n",
    "\n",
    "#         # Fully connected layers with corrected input sizes\n",
    "#         self.fc1 = nn.Sequential(\n",
    "#             nn.Linear(hidden_size, 128),  # Match hidden_size with the output of LSTM\n",
    "#             nn.LeakyReLU(),\n",
    "#             nn.Dropout(p=dropout_prob)\n",
    "#         )\n",
    "\n",
    "#         self.fc2 = nn.Sequential(\n",
    "#             nn.Linear(128, 32),\n",
    "#             nn.LeakyReLU(),\n",
    "#             nn.Dropout(p=dropout_prob)\n",
    "#         )\n",
    "\n",
    "#         self.fc3 = nn.Sequential(\n",
    "#             nn.Linear(32, 16),\n",
    "#             nn.LeakyReLU(),\n",
    "#             nn.Dropout(p=dropout_prob)\n",
    "#         )\n",
    "\n",
    "#         # Output layer\n",
    "#         self.output = nn.Linear(16, output_size)\n",
    "\n",
    "#     def forward(self, x):\n",
    "#         # Check shape before reducing\n",
    "#         #print(f\"Input shape before reduction: {x.shape}\")  # For debugging\n",
    "#         x = self.reduce(x)  # This should expect (batch_size, 3000)\n",
    "        \n",
    "\n",
    "#         # Reshape for LSTM input\n",
    "#         x = x.reshape(x.shape[0], 1, -1)  # Reshape to (batch_size, seq_len, input_size)\n",
    "#         #print(f\"Shape after reduction: {x.shape}\")\n",
    "\n",
    "#         batch_size = x.shape[0]\n",
    "        \n",
    "#         # Initialize hidden and cell states with hidden_size instead of input_size\n",
    "#         h_0 = torch.zeros(2, batch_size, hidden_size).to(x.device)\n",
    "#         #c_0 = torch.zeros(2, batch_size, hidden_size).to(x.device)\n",
    "\n",
    "#         # Pass data through LSTM\n",
    "#         x, _ = self.lstm(x, (h_0))\n",
    "#         x = x[:, -1, :]  # Take the output from the last time step\n",
    "\n",
    "#         # Pass data through fully connected layers\n",
    "#         x = self.fc1(x)\n",
    "#         x = self.fc2(x)\n",
    "#         x = self.fc3(x)\n",
    "\n",
    "#         # Final output\n",
    "#         output = self.output(x)\n",
    "#         return output\n",
    "    \n",
    "#     def predict(self, X):\n",
    "#         '''\n",
    "#         Use the model to predict for the values in the test set.\n",
    "#         Return the prediction\n",
    "#         '''\n",
    "#         model.eval()\n",
    "#         with torch.no_grad():\n",
    "#             return model(X)\n"
   ]
  },
  {
   "cell_type": "code",
   "execution_count": 16,
   "metadata": {},
   "outputs": [
    {
     "name": "stdout",
     "output_type": "stream",
     "text": [
      "torch.Size([3000, 3000]) torch.Size([3000, 12])\n"
     ]
    }
   ],
   "source": [
    "print(data_train_tensor.shape, target_train_tensor.shape)"
   ]
  },
  {
   "cell_type": "markdown",
   "metadata": {},
   "source": [
    "# Conv1D"
   ]
  },
  {
   "cell_type": "code",
   "execution_count": 17,
   "metadata": {},
   "outputs": [],
   "source": [
    "# import torch\n",
    "# import torch.nn as nn\n",
    "\n",
    "# class NeuralNetwork(nn.Module):\n",
    "#     def __init__(self, input_size, hidden_size, output_size, dropout_prob):\n",
    "#         super(NeuralNetwork, self).__init__()\n",
    "        \n",
    "#         self.firstpooling = nn.Sequential(\n",
    "#             nn.AvgPool1d(kernel_size=2, stride=2, padding=0),\n",
    "#             nn.Dropout(p=dropout_prob),\n",
    "#             nn.LeakyReLU()\n",
    "#         )\n",
    "#         # Convolutional and pooling layers  \n",
    "#         self.conv1 = nn.Sequential(\n",
    "#             nn.Conv1d(in_channels=1, out_channels=8, kernel_size=3, stride=1, padding=1),\n",
    "#             nn.LeakyReLU(),\n",
    "#             nn.Dropout(p=dropout_prob),\n",
    "#             nn.MaxPool1d(kernel_size=2, stride=2, padding=0)\n",
    "#         )\n",
    "        \n",
    "        \n",
    "#         self.conv2 = nn.Sequential(\n",
    "#             nn.Conv1d(in_channels=8, out_channels=8, kernel_size=3, stride=1, padding=1),\n",
    "#             nn.LeakyReLU(),\n",
    "#             nn.Dropout(p=dropout_prob),\n",
    "#             nn.MaxPool1d(kernel_size=2, stride=2, padding=0)\n",
    "#         )\n",
    "        \n",
    "\n",
    "#         # Fully connected layers\n",
    "#         self.fc1 = nn.Sequential(\n",
    "#             nn.Linear(3000, 1000),  # Adjust for pooling effects\n",
    "#             nn.LeakyReLU(),\n",
    "#             nn.Dropout(p=dropout_prob)\n",
    "#         )\n",
    "\n",
    "#         self.fc2 = nn.Sequential(\n",
    "#             nn.Linear(1000, 128),\n",
    "#             nn.LeakyReLU(),\n",
    "#             nn.Dropout(p=dropout_prob)\n",
    "#         )\n",
    "\n",
    "#         self.fc3 = nn.Sequential(\n",
    "#             nn.Linear(3000, 32),\n",
    "#             nn.LeakyReLU(),\n",
    "#             nn.Dropout(p=dropout_prob)\n",
    "#         )\n",
    "\n",
    "#         # Output layer\n",
    "#         self.output = nn.Linear(32, output_size)\n",
    "\n",
    "#     def forward(self, x):\n",
    "#         # Apply convolutional layers with pooling\n",
    "        \n",
    "#         x = x.unsqueeze(1)\n",
    "#         x = self.firstpooling(x)\n",
    "#         x = self.conv1(x)      \n",
    "#         x = self.conv2(x)  \n",
    "\n",
    "#         #print(x.shape)\n",
    "#         # Flatten the output for fully connected layers\n",
    "#         x = x.reshape(x.shape[0], -1)        \n",
    "#         # Pass through fully connected layers\n",
    "#         # x = self.fc1(x)\n",
    "#         # x = self.fc2(x)\n",
    "#         x = self.fc3(x)\n",
    "\n",
    "#         # Output layer\n",
    "#         output = self.output(x)\n",
    "#         return output\n",
    "\n",
    "#     def predict(self, X):\n",
    "#         self.eval()\n",
    "#         with torch.no_grad():\n",
    "#             return self(X)\n"
   ]
  },
  {
   "cell_type": "code",
   "execution_count": 18,
   "metadata": {},
   "outputs": [],
   "source": [
    "# import torch\n",
    "# import torch.nn as nn\n",
    "# import math\n",
    "\n",
    "# class NeuralNetwork(nn.Module):\n",
    "#     def __init__(self, \n",
    "#                  input_size=3000, \n",
    "#                  hidden_size=128, \n",
    "#                  output_size=27, \n",
    "#                  dropout_prob=0.2,\n",
    "#                  avgpool_kernel_size=2,\n",
    "#                  avgpool_stride=2,\n",
    "#                  avgpool_padding=0,\n",
    "\n",
    "#                  conv1_in_channels=1,\n",
    "#                  conv1_out_channels=8,\n",
    "#                  conv1_kernel_size=3,\n",
    "#                  conv1_stride=1,\n",
    "#                  conv1_padding=1,\n",
    "\n",
    "#                  conv2_in_channels=8,\n",
    "#                  conv2_out_channels=12,\n",
    "#                  conv2_kernel_size=3,\n",
    "#                  conv2_stride=1,\n",
    "#                  conv2_padding=1,\n",
    "#                  fc1_out_features=128,\n",
    "                \n",
    "#                  fc3_out_features=32):\n",
    "#         super(NeuralNetwork, self).__init__()\n",
    "        \n",
    "#         # Pooling and activation\n",
    "#         self.firstpooling = nn.Sequential(\n",
    "#             nn.AvgPool1d(kernel_size=avgpool_kernel_size, stride=avgpool_stride, padding=avgpool_padding),\n",
    "#             nn.Dropout(p=dropout_prob),\n",
    "#             nn.LeakyReLU()\n",
    "#         )\n",
    "\n",
    "#         # Convolutional and pooling layers  \n",
    "#         self.conv1 = nn.Sequential(\n",
    "#             nn.Conv1d(in_channels=conv1_in_channels, out_channels=conv1_out_channels, \n",
    "#                       kernel_size=conv1_kernel_size, stride=conv1_stride, padding=conv1_padding),\n",
    "#             nn.LeakyReLU(),\n",
    "#             nn.Dropout(p=dropout_prob),\n",
    "#             nn.MaxPool1d(kernel_size=2, stride=2, padding=0)\n",
    "#         )\n",
    "\n",
    "#         # self.conv2 = nn.Sequential(\n",
    "#         #     nn.Conv1d(in_channels=conv1_out_channels, out_channels=conv2_out_channels, \n",
    "#         #               kernel_size=conv2_kernel_size, stride=conv2_stride, padding=conv2_padding),\n",
    "#         #     nn.LeakyReLU(),\n",
    "#         #     nn.Dropout(p=dropout_prob),\n",
    "#         #     nn.MaxPool1d(kernel_size=2, stride=2, padding=0)\n",
    "#         # )\n",
    "\n",
    "#         # Compute output size after convolution and pooling\n",
    "#         def compute_output_size(input_len, kernel_size, stride, padding, layers=1):\n",
    "#             for _ in range(layers):\n",
    "#                 input_len = math.floor((input_len + 2 * padding - (kernel_size - 1) - 1) / stride + 1)\n",
    "#             return input_len\n",
    "\n",
    "#         pooled_size = compute_output_size(input_size, avgpool_kernel_size, avgpool_stride, avgpool_padding)\n",
    "#         conv1_size = compute_output_size(pooled_size, conv1_kernel_size, conv1_stride, conv1_padding)\n",
    "#         conv1_pooled = math.floor(conv1_size / 2)  # Max pooling halves the size\n",
    "#         conv2_size = compute_output_size(conv1_pooled, conv2_kernel_size, conv2_stride, conv2_padding)\n",
    "#         conv2_pooled = math.floor(conv2_size / 2)  # Max pooling halves the size again\n",
    "\n",
    "#         flattened_size = conv1_out_channels * conv1_pooled\n",
    "\n",
    "#         # # Fully connected layers\n",
    "#         # self.fc1 = nn.Sequential(\n",
    "#         #     nn.Linear(flattened_size, fc1_out_features),\n",
    "#         #     nn.LeakyReLU(),\n",
    "#         #     nn.Dropout(p=dropout_prob)\n",
    "#         # )\n",
    "\n",
    "#         self.fc2 = nn.Sequential(\n",
    "#             nn.Linear(flattened_size, fc3_out_features),\n",
    "#             nn.LeakyReLU(),\n",
    "#             nn.Dropout(p=dropout_prob)\n",
    "#         )\n",
    "\n",
    "#         # Output layer\n",
    "#         self.output = nn.Linear(fc3_out_features, output_size)\n",
    "\n",
    "#     def forward(self, x):\n",
    "#         x = x.unsqueeze(1)  # Add channel dimension\n",
    "#         x = self.firstpooling(x)\n",
    "#         x = self.conv1(x)\n",
    "#         #x = self.conv2(x)\n",
    "#         x = x.reshape(x.shape[0], -1)  # Flatten\n",
    "#         #x = self.fc1(x)\n",
    "#         x = self.fc2(x)\n",
    "#         output = self.output(x)\n",
    "\n",
    "#         return output\n",
    "\n",
    "#     def predict(self, X):\n",
    "#         self.eval()\n",
    "#         with torch.no_grad():\n",
    "#             return self(X)"
   ]
  },
  {
   "cell_type": "markdown",
   "metadata": {},
   "source": [
    "# Linear Layer"
   ]
  },
  {
   "cell_type": "code",
   "execution_count": 19,
   "metadata": {},
   "outputs": [],
   "source": [
    "class NeuralNetwork(nn.Module):\n",
    "    \n",
    "    def __init__(self, \n",
    "                 input_size=3000, \n",
    "                 fc1_output=512, \n",
    "                 output_size=len(substrates_list) * 3, \n",
    "                 dropout_prob=0.1,\n",
    "                 kernel_size=2,\n",
    "                 stride=1,\n",
    "                 padding=1\n",
    "                 ):\n",
    "        \n",
    "\n",
    "        super(NeuralNetwork, self).__init__()\n",
    "\n",
    "        self.pooling = nn.Sequential(\n",
    "            nn.AvgPool1d(kernel_size=kernel_size, stride=stride, padding=padding)\n",
    "        )\n",
    "        reduced_size = (input_size + 2 * padding - kernel_size) // stride + 1\n",
    "        self.fc1 = nn.Sequential(\n",
    "            nn.Linear(reduced_size, fc1_output),\n",
    "            nn.LeakyReLU(),\n",
    "            nn.Dropout(p=dropout_prob)\n",
    "        )\n",
    "\n",
    "\n",
    "        # Output layer\n",
    "        self.output = nn.Linear(fc1_output, output_size)\n",
    "\n",
    "    def forward(self, x):\n",
    "        x = self.pooling(x)\n",
    "\n",
    "        x = self.fc1(x)\n",
    "        output = self.output(x)\n",
    "        return output\n",
    "\n",
    "    def predict(self, X):\n",
    "        self.eval()\n",
    "        with torch.no_grad():\n",
    "            return self(X)"
   ]
  },
  {
   "cell_type": "markdown",
   "metadata": {},
   "source": [
    "# Training"
   ]
  },
  {
   "cell_type": "code",
   "execution_count": 20,
   "metadata": {},
   "outputs": [],
   "source": [
    "\n",
    "def calculate_mse_of_real_data(df, model, random=True, i = 3, tensor=False):\n",
    "\n",
    "    \"\"\"\n",
    "    e.g. df: df.iloc[:, [0, 1]]\n",
    "    \"\"\"\n",
    "\n",
    "    if random:\n",
    "        i = np.random.randint(1, df.shape[1])\n",
    "\n",
    "    # fill the data\n",
    "    df_fill = fill_df(df.iloc[:, [0, i]])\n",
    "\n",
    "    # interpolate the data\n",
    "    df_interpolated = interpolate_to_shape(df_fill.iloc[:, 0], df_fill.iloc[:, 1], spectrum_lenth=3000)\n",
    "    #display(df_interpolated)\n",
    "    x_real = df_interpolated.loc[:, 'x']\n",
    "    y_real = df_interpolated.loc[:, 'y']\n",
    "\n",
    "    # scale the data\n",
    "    y_real_sc = data_scaler.transform(y_real.values.reshape(1, -1))\n",
    "\n",
    "\n",
    "    # convert to tensor\n",
    "    y_real_tensor = torch.tensor(y_real_sc, dtype=torch.float32).to(device)\n",
    "\n",
    "    # predict the data\n",
    "    target_real_pred = model.predict(y_real_tensor)\n",
    "\n",
    "    if tensor == True:\n",
    "        print(target_real_pred)\n",
    "\n",
    "    # bring the data back to the cpu\n",
    "    target_real_pred_cpu = target_real_pred.cpu().detach().numpy()\n",
    "\n",
    "    # rescale the data\n",
    "    target_real_pred_rescaled = target_scaler.inverse_transform(target_real_pred_cpu)\n",
    "\n",
    "    # reshape the data\n",
    "    target_real_pred = target_real_pred_rescaled.reshape(target_real_pred_rescaled.shape[0], -1)\n",
    "\n",
    "    x0_parms_real, gamma_parms_real, height_parms_real = np.split(target_real_pred, 3, axis=1)\n",
    "\n",
    "        \n",
    "\n",
    "    # Put the Lorenz functions in a Dataframe\n",
    "    lorentz_list = []\n",
    "    lorentz_df = pd.DataFrame({'x': x_real})  # Initialize DataFrame with x_real\n",
    "\n",
    "    for i, (x0, gamma, height) in enumerate(zip(x0_parms_real[0], gamma_parms_real[0], height_parms_real[0])):\n",
    "        lorentz = lorentzian(x_real, x0, gamma, height)\n",
    "        column_name = f'lorentz_{i}'  # Dynamically generate a unique column name\n",
    "        lorentz_df = pd.concat([lorentz_df, pd.DataFrame({column_name: lorentz})], axis=1)\n",
    "\n",
    "    # add another column which takes the np.maximum of the columns\n",
    "    lorentz_df['max'] = lorentz_df.iloc[:, 1:].max(axis=1)\n",
    "    #display(lorentz_df)\n",
    "\n",
    "    # calculate the mse between the real data and lorentz_df\n",
    "    mse = mean_squared_error(y_real, lorentz_df['max'])\n",
    "    return mse"
   ]
  },
  {
   "cell_type": "code",
   "execution_count": 21,
   "metadata": {},
   "outputs": [],
   "source": [
    "def calculate_mse_of_real_data_loss(df, model, random=True, i=3, device='cpu'):\n",
    "    \"\"\"\n",
    "    Calculate MSE of real data, ensuring it can be used for backpropagation.\n",
    "    \"\"\"\n",
    "    if random:\n",
    "        i = np.random.randint(1, df.shape[1])\n",
    "\n",
    "    # Fill the data\n",
    "    df_fill = fill_df(df.iloc[:, [0, i]])\n",
    "\n",
    "    # Interpolate the data\n",
    "    df_interpolated = interpolate_to_shape(df_fill.iloc[:, 0], df_fill.iloc[:, 1], spectrum_lenth=3000)\n",
    "    x_real = torch.tensor(df_interpolated['x'].values, dtype=torch.float32, device=device, requires_grad=False)\n",
    "    y_real = torch.tensor(df_interpolated['y'].values, dtype=torch.float32, device=device, requires_grad=False)\n",
    "\n",
    "    # scale the data\n",
    "    y_real_sc = data_scaler.transform(y_real.cpu().numpy().reshape(1, -1))\n",
    "    \n",
    "\n",
    "\n",
    "    # convert to tensor\n",
    "    y_real_tensor = torch.tensor(y_real_sc, dtype=torch.float32, requires_grad=True).to(device)\n",
    "\n",
    "    # Predict the data\n",
    "    target_real_pred = model(y_real_tensor)\n",
    "\n",
    "    # reshape the data\n",
    "    target_real_pred = target_real_pred.reshape(target_real_pred.shape[0], -1)\n",
    "    #print(target_real_pred.shape)\n",
    "\n",
    "\n",
    "    # # Split the predictions\n",
    "    x0_parms_real, gamma_parms_real, height_parms_real = torch.split(\n",
    "        target_real_pred, target_real_pred.shape[1] // 3, dim=1\n",
    "    )\n",
    "    #print(x0_parms_real.shape)\n",
    "    # Compute Lorentzian functions\n",
    "    lorentz_list = []\n",
    "    for x0, gamma, height in zip(x0_parms_real[0], gamma_parms_real[0], height_parms_real[0]):\n",
    "        lorentz = lorentzian(x_real, x0, gamma, height)  # Assume lorentzian returns a PyTorch tensor\n",
    "        lorentz_list.append(lorentz)\n",
    "\n",
    "    lorentz_tensor = torch.stack(lorentz_list, dim=1)\n",
    "    max_lorentz = torch.max(lorentz_tensor, dim=1).values\n",
    "\n",
    "    # del lorentz_tensor, x0_parms_real, gamma_parms_real, height_parms_real, target_real_pred, y_real_tensor\n",
    "    # torch.cuda.empty_cache()\n",
    "\n",
    "\n",
    "    # Compute MSE using PyTorch\n",
    "    mse = torch.nn.functional.mse_loss(max_lorentz, y_real)\n",
    "    \n",
    "    # if True:\n",
    "    #     # Convert to NumPy for plotting\n",
    "    #     tensor_1d_np = max_lorentz.detach().cpu().numpy()\n",
    "\n",
    "    #     # Plot\n",
    "    #     plt.plot(x_real,tensor_1d_np)\n",
    "    #     plt.title(\"1D Tensor Line Plot\")\n",
    "    #     plt.xlabel(\"Index\")\n",
    "    #     plt.ylabel(\"Value\")\n",
    "    #     plt.show()\n",
    "    return mse\n",
    "\n",
    "\n"
   ]
  },
  {
   "cell_type": "code",
   "execution_count": 22,
   "metadata": {},
   "outputs": [
    {
     "name": "stdout",
     "output_type": "stream",
     "text": [
      "Train shape: torch.Size([3000, 3000])\n",
      "Validation shape: torch.Size([1000, 3000])\n"
     ]
    }
   ],
   "source": [
    "\n",
    "\n",
    "# ------------------------------------\n",
    "import torch\n",
    "\n",
    "def get_model_size(model):\n",
    "    total_params = sum(p.numel() for p in model.parameters())\n",
    "    size_in_bytes = total_params * 4  # Assuming 32-bit (4 bytes) floats\n",
    "    size_in_megabytes = size_in_bytes / (1024 ** 2)  # Convert to MB\n",
    "    return total_params, size_in_megabytes\n",
    "\n",
    "\n",
    "df = pd.read_csv(path_list[0]) \n",
    "\n",
    "dropout_results = [] # storing the results of the dropout experiment\n",
    "optuna_results = [] # storing the results of the optuna experiment\n",
    "\n",
    "def training(model, X_train, y_train, X_val, y_val, criterion, optimizer, epochs, writer, batch_size=64, patience=20, dropout_prob=0.5, log_tensorboard=True, verbose=True, check_real_data=False):\n",
    "\n",
    "    # Set device to GPU if available\n",
    "    if torch.cuda.is_available():\n",
    "        device = torch.device('cuda')\n",
    "    else:\n",
    "        device = torch.device('cpu')\n",
    "\n",
    "   # device = torch.device('cpu')\n",
    "\n",
    "    # Move data and model to device\n",
    "    X_train, y_train, X_val, y_val = X_train.to(device), y_train.to(device), X_val.to(device), y_val.to(device)\n",
    "    model.to(device)\n",
    "\n",
    "    # Initialize best metrics and model\n",
    "    best_eval_metric_val = float('inf') # Initialize the best_eval_metric\n",
    "    best_val_loss = float('inf') # Initialize the best_val_loss\n",
    "    best_real_metric_val = float('inf')\n",
    "    best_train_loss = float('inf')\n",
    "    best_model = copy.deepcopy(model.state_dict()) # Initialize the best_model\n",
    "    patience_counter_loss = 0  # Early stopping counter\n",
    "    patience_counter_metric = 0  # Early stopping counter\n",
    "\n",
    "    # DataLoader for batching\n",
    "    train_dataset = TensorDataset(X_train, y_train)\n",
    "    train_loader = DataLoader(train_dataset, batch_size=batch_size, shuffle=True, drop_last=True)\n",
    "\n",
    "\n",
    "    # Scheduler for learning rate adjustment (if val_loss does not improve for 'patience' epochs)\n",
    "    scheduler = ReduceLROnPlateau(optimizer, mode='min', patience=3, factor=0.5)\n",
    "    train_losses, val_losses = [], [] # to visualize the drop_out_prob\n",
    "    train_accuracies, val_accuracies = [], []\n",
    "    real_accuracies = []\n",
    "    # Training Loop\n",
    "    for epoch in range(epochs):\n",
    "        model.train()\n",
    "        epoch_loss = 0\n",
    "\n",
    "        # Training loop\n",
    "        for data, target in train_loader:\n",
    "            data, target = data.to(device), target.to(device)\n",
    "\n",
    "            \n",
    "            \n",
    "            #print(data.shape, target.shape)\n",
    "            optimizer.zero_grad()  # Clear gradients\n",
    "            outputs = model(data)  # Forward pass\n",
    "            #loss = criterion(outputs.squeeze(1), target)  # Calculate loss\n",
    "\n",
    "            # FOR LSTM\n",
    "            loss = criterion(outputs, target)  # Calculate loss # For LSTM\n",
    "            #print(loss)\n",
    "            loss_real = calculate_mse_of_real_data_loss(df, model, random=True, device=device)\n",
    "            \n",
    "            loss_real.backward()  # Backpropagation\n",
    "            optimizer.step()  # Update weights\n",
    "\n",
    "            epoch_loss += loss_real # Accumulate batch loss\n",
    "\n",
    "        # Validation\n",
    "        model.eval()\n",
    "        with torch.no_grad():\n",
    "            \n",
    "            val_outputs = model(X_val)  # Forward pass\n",
    "            #loss_val = criterion(val_outputs.squeeze(1), y_val)\n",
    "            # FOR LSTM\n",
    "            loss_val = criterion(val_outputs, y_val)\n",
    "            scheduler.step(loss_val)  # Adjust learning rate based on loss\n",
    "            \n",
    "            # calculate the training mase\n",
    "            predictions_train = model.predict(X_train)\n",
    "            \n",
    "            mse_train = mean_squared_error(y_train.cpu(), predictions_train.cpu().squeeze(1))\n",
    "\n",
    "            # Calculate validation mase\n",
    "            predictions_val = model.predict(X_val)\n",
    "            mse_val = mean_squared_error(y_val.cpu(), predictions_val.cpu().squeeze(1))\n",
    "\n",
    "            # Calculate the mse of real data\n",
    "            mse_real = calculate_mse_of_real_data(df, model, random=True)\n",
    "\n",
    "\n",
    "            # Log to TensorBoard\n",
    "            if log_tensorboard:\n",
    "                writer.add_scalars(\"Loss\", {\"train\": epoch_loss / len(train_loader)}, epoch)\n",
    "                writer.add_scalars(\"MSE\", {\"train\": mse_train, \"val\": mse_val}, epoch)\n",
    "                writer.add_scalars(\"MSE/Real Data\", {\"MSE\": mse_real}, epoch)\n",
    "                writer.flush()\n",
    "            \n",
    "            loss_train = epoch_loss / len(train_loader)\n",
    "\n",
    "            if loss_train < best_train_loss:\n",
    "                best_train_loss = loss_train\n",
    "                patience_counter_loss = 0\n",
    "            else:\n",
    "                patience_counter_loss += 1\n",
    "\n",
    "            # # Early stopping if loss_val is increasing\n",
    "            # if loss_val < best_val_loss:\n",
    "            #     best_val_loss = loss_val  # Update best val_loss\n",
    "            #     patience_counter_loss = 0  # Reset patience counter\n",
    "            # else:\n",
    "            #     patience_counter_loss += 1  # Increment if no improvement\n",
    "\n",
    "            # Early Stopping based on if val_mse is not increasing\n",
    "            if mse_val < best_eval_metric_val:\n",
    "                best_eval_metric_val = mse_val\n",
    "                #best_model = copy.deepcopy(model.state_dict()) # saves the best model where the rmse_val is highest\n",
    "                patience_counter_metric_val = 0  # Reset patience counter if improved\n",
    "            else:\n",
    "                patience_counter_metric_val += 1\n",
    "\n",
    "            # early stopping if real_mse is increasing\n",
    "            if mse_real < best_real_metric_val:\n",
    "                best_real_metric_val = mse_real\n",
    "                best_model = copy.deepcopy(model.state_dict()) # saves the best model where the rmse_val is highest\n",
    "            else:\n",
    "                patience_counter_metric += 1\n",
    "\n",
    "            if check_real_data:\n",
    "                train_losses.append(epoch_loss / len(train_loader))\n",
    "                val_losses.append(loss_val)\n",
    "                train_accuracies.append(mse_train)\n",
    "                val_accuracies.append(mse_val)\n",
    "                real_accuracies.append(mse_real)\n",
    "\n",
    "\n",
    "\n",
    "            # Early stopping check\n",
    "            if (patience_counter_loss >= patience):\n",
    "                print(f\"Early stopping at epoch {epoch+1}\")\n",
    "                break\n",
    "\n",
    "\n",
    "        # Print status\n",
    "        if verbose:\n",
    "          if epoch % 19 == 0:\n",
    "            print(f\"| Epoch {epoch+1} | Train Loss: {epoch_loss / len(train_loader):.4f}, Validation Loss: {loss_val:.4f} | Train MSE: {mse_train:.4f}, Val MSE: {mse_val:.4f} |\")\n",
    "\n",
    "\n",
    "\n",
    "        \n",
    "    optuna_results.append({'dropout_prob': dropout_prob,\n",
    "                            'train_loss': min(train_losses),\n",
    "                            'val_loss': min(val_losses),\n",
    "                            'training_MSE': min(train_accuracies),\n",
    "                            'validation_MSE': min(val_accuracies),\n",
    "                            'real_data_MSE': mse_real\n",
    "                            })\n",
    "\n",
    "            \n",
    "\n",
    "\n",
    "    dropout_results.append({'dropout_prob': dropout_prob,\n",
    "                                    'train_loss': train_losses,\n",
    "                                    'val_loss': val_losses,\n",
    "                                    'training_MSE': train_accuracies,\n",
    "                                    'validation_MSE': val_accuracies\n",
    "                                    })\n",
    "    # Load the best model\n",
    "    model.load_state_dict(best_model)\n",
    "    print(f\"Best validation MSE: {best_eval_metric_val:.4f}\")\n",
    "    if check_real_data:\n",
    "        print(f'MSE Real Data: {mse_real}')\n",
    "\n",
    "    writer.close()\n",
    "    # del loss_real\n",
    "    # torch.cuda.empty_cache()\n",
    "    # gc.collect()\n",
    "    # torch.cuda.empty_cache()\n",
    "    return model, optuna_results\n",
    "\n",
    "\n",
    "\n",
    "\n",
    "#%tensorboard --logdir=runs\n",
    "\n",
    "\n",
    "# Data preparation: ensure data shapes are correct\n",
    "data_train_tensor = data_train_tensor.reshape(-1, 3000)  # Assuming original shape is (num_samples, 3000)\n",
    "data_val_tensor = data_val_tensor.reshape(-1, 3000)\n",
    "\n",
    "# Check shapes before training\n",
    "print(\"Train shape:\", data_train_tensor.shape)\n",
    "print(\"Validation shape:\", data_val_tensor.shape)\n",
    "\n",
    "#Define model with correct input size\n",
    "# input_size = 3000\n",
    "# hidden_size = 512\n",
    "# output_size = len(substrates_list) * 3\n",
    "# dropout_prob = 0.1\n",
    "# learning_rate = 0.01\n",
    "# epochs = 100\n",
    "\n",
    "# model = NeuralNetwork().to(device)\n",
    "# model_size, model_size_mb = get_model_size(model)\n",
    "# print(f'Total parameters: {model_size}')\n",
    "# print(f'Model size: {model_size_mb:.2f} MB')\n",
    "\n",
    "# optimizer = torch.optim.Adam(model.parameters(), lr=learning_rate)\n",
    "# criterion = torch.nn.MSELoss()\n",
    "\n",
    "# writer = SummaryWriter()\n",
    "\n",
    "# trained_model, _ = training(model=model,\n",
    "#                          X_train=data_train_tensor,\n",
    "#                          y_train=target_train_tensor,\n",
    "#                          X_val=data_val_tensor,\n",
    "#                          y_val=target_val_tensor,\n",
    "#                          criterion=criterion,\n",
    "#                          optimizer=optimizer,\n",
    "#                          epochs=epochs,\n",
    "#                          writer=writer,\n",
    "#                          dropout_prob=dropout_prob,\n",
    "#                          log_tensorboard=True,\n",
    "#                          verbose=True,\n",
    "#                          check_real_data=True)\n"
   ]
  },
  {
   "cell_type": "code",
   "execution_count": 23,
   "metadata": {},
   "outputs": [],
   "source": [
    "df = pd.read_csv(path_list[0]) \n",
    "\n"
   ]
  },
  {
   "cell_type": "markdown",
   "metadata": {},
   "source": [
    "# Optuna\n"
   ]
  },
  {
   "cell_type": "code",
   "execution_count": null,
   "metadata": {},
   "outputs": [],
   "source": []
  },
  {
   "cell_type": "code",
   "execution_count": 24,
   "metadata": {},
   "outputs": [
    {
     "name": "stderr",
     "output_type": "stream",
     "text": [
      "/home/generalpegasus/Documents/VirtualEnvirnoments/.main/lib/python3.12/site-packages/tqdm/auto.py:21: TqdmWarning: IProgress not found. Please update jupyter and ipywidgets. See https://ipywidgets.readthedocs.io/en/stable/user_install.html\n",
      "  from .autonotebook import tqdm as notebook_tqdm\n",
      "[I 2024-11-14 18:48:42,642] A new study created in memory with name: no-name-e4e13c80-dda3-4f5c-a5d5-bb40dd731ad6\n",
      "[I 2024-11-14 18:49:00,067] Trial 0 finished with value: 776875.4375 and parameters: {'dropout_prob': 0.43000000000000005, 'learning_rate': 0.0012489013453341764, 'batch_size': 48, 'fc1_output': 1443, 'kernel_size': 100, 'stride': 10, 'padding': 1}. Best is trial 0 with value: 776875.4375.\n"
     ]
    },
    {
     "name": "stdout",
     "output_type": "stream",
     "text": [
      "Early stopping at epoch 50\n",
      "Best validation MSE: 6814.8804\n",
      "MSE Real Data: 21183063400807.87\n"
     ]
    },
    {
     "name": "stderr",
     "output_type": "stream",
     "text": [
      "[I 2024-11-14 18:49:09,232] Trial 1 finished with value: 844625.6875 and parameters: {'dropout_prob': 0.7, 'learning_rate': 0.07413266503818766, 'batch_size': 92, 'fc1_output': 2660, 'kernel_size': 125, 'stride': 2, 'padding': 10}. Best is trial 0 with value: 776875.4375.\n"
     ]
    },
    {
     "name": "stdout",
     "output_type": "stream",
     "text": [
      "Early stopping at epoch 45\n",
      "Best validation MSE: 471821216.0000\n",
      "MSE Real Data: 8955976.779484767\n"
     ]
    },
    {
     "name": "stderr",
     "output_type": "stream",
     "text": [
      "[I 2024-11-14 18:49:16,798] Trial 2 finished with value: 773325.4375 and parameters: {'dropout_prob': 0.72, 'learning_rate': 0.0013234168462747968, 'batch_size': 124, 'fc1_output': 172, 'kernel_size': 58, 'stride': 5, 'padding': 2}. Best is trial 2 with value: 773325.4375.\n"
     ]
    },
    {
     "name": "stdout",
     "output_type": "stream",
     "text": [
      "Early stopping at epoch 52\n",
      "Best validation MSE: 11.8184\n",
      "MSE Real Data: 24063948541802.133\n"
     ]
    },
    {
     "name": "stderr",
     "output_type": "stream",
     "text": [
      "[I 2024-11-14 18:49:43,951] Trial 3 finished with value: 785563.8125 and parameters: {'dropout_prob': 0.2, 'learning_rate': 0.007536046546215285, 'batch_size': 44, 'fc1_output': 2896, 'kernel_size': 130, 'stride': 2, 'padding': 1}. Best is trial 2 with value: 773325.4375.\n"
     ]
    },
    {
     "name": "stdout",
     "output_type": "stream",
     "text": [
      "Early stopping at epoch 71\n",
      "Best validation MSE: 25535.8613\n",
      "MSE Real Data: 25932274916955.55\n"
     ]
    },
    {
     "name": "stderr",
     "output_type": "stream",
     "text": [
      "[I 2024-11-14 18:49:49,088] Trial 4 finished with value: 796391.9375 and parameters: {'dropout_prob': 0.85, 'learning_rate': 0.0012285969346331014, 'batch_size': 84, 'fc1_output': 507, 'kernel_size': 37, 'stride': 9, 'padding': 7}. Best is trial 2 with value: 773325.4375.\n"
     ]
    },
    {
     "name": "stdout",
     "output_type": "stream",
     "text": [
      "Early stopping at epoch 25\n",
      "Best validation MSE: 18.9075\n",
      "MSE Real Data: 16993628660063.928\n"
     ]
    },
    {
     "name": "stderr",
     "output_type": "stream",
     "text": [
      "[I 2024-11-14 18:49:59,040] Trial 5 finished with value: 787376.6875 and parameters: {'dropout_prob': 0.25, 'learning_rate': 0.0018455509877947534, 'batch_size': 68, 'fc1_output': 1630, 'kernel_size': 66, 'stride': 3, 'padding': 8}. Best is trial 2 with value: 773325.4375.\n"
     ]
    },
    {
     "name": "stdout",
     "output_type": "stream",
     "text": [
      "Early stopping at epoch 39\n",
      "Best validation MSE: 8331.4512\n",
      "MSE Real Data: 21257052552078.355\n"
     ]
    },
    {
     "name": "stderr",
     "output_type": "stream",
     "text": [
      "[I 2024-11-14 18:50:11,883] Trial 6 finished with value: 798026.0625 and parameters: {'dropout_prob': 0.91, 'learning_rate': 0.009023563313120087, 'batch_size': 56, 'fc1_output': 1266, 'kernel_size': 40, 'stride': 6, 'padding': 1}. Best is trial 2 with value: 773325.4375.\n"
     ]
    },
    {
     "name": "stdout",
     "output_type": "stream",
     "text": [
      "Early stopping at epoch 43\n",
      "Best validation MSE: 18453.0176\n",
      "MSE Real Data: 15432526897341.178\n"
     ]
    },
    {
     "name": "stderr",
     "output_type": "stream",
     "text": [
      "[I 2024-11-14 18:51:27,007] Trial 7 finished with value: 810271.8125 and parameters: {'dropout_prob': 0.54, 'learning_rate': 0.018201087594240783, 'batch_size': 8, 'fc1_output': 1420, 'kernel_size': 28, 'stride': 5, 'padding': 9}. Best is trial 2 with value: 773325.4375.\n"
     ]
    },
    {
     "name": "stdout",
     "output_type": "stream",
     "text": [
      "Early stopping at epoch 41\n",
      "Best validation MSE: 1777039.1250\n",
      "MSE Real Data: 63465384377196.35\n"
     ]
    },
    {
     "name": "stderr",
     "output_type": "stream",
     "text": [
      "[I 2024-11-14 18:51:33,548] Trial 8 finished with value: 781535.3125 and parameters: {'dropout_prob': 0.75, 'learning_rate': 0.00929709096800881, 'batch_size': 76, 'fc1_output': 657, 'kernel_size': 85, 'stride': 9, 'padding': 10}. Best is trial 2 with value: 773325.4375.\n"
     ]
    },
    {
     "name": "stdout",
     "output_type": "stream",
     "text": [
      "Early stopping at epoch 29\n",
      "Best validation MSE: 9567.9902\n",
      "MSE Real Data: 21550253983957.043\n"
     ]
    },
    {
     "name": "stderr",
     "output_type": "stream",
     "text": [
      "[I 2024-11-14 18:51:39,848] Trial 9 finished with value: 777060.625 and parameters: {'dropout_prob': 0.53, 'learning_rate': 0.007913700928049945, 'batch_size': 76, 'fc1_output': 1418, 'kernel_size': 62, 'stride': 8, 'padding': 10}. Best is trial 2 with value: 773325.4375.\n"
     ]
    },
    {
     "name": "stdout",
     "output_type": "stream",
     "text": [
      "Early stopping at epoch 28\n",
      "Best validation MSE: 10645.9492\n",
      "MSE Real Data: 23927160323290.566\n"
     ]
    },
    {
     "name": "stderr",
     "output_type": "stream",
     "text": [
      "[I 2024-11-14 18:51:43,084] Trial 10 finished with value: 820154.625 and parameters: {'dropout_prob': 0.99, 'learning_rate': 0.00010801805256418745, 'batch_size': 128, 'fc1_output': 69, 'kernel_size': 99, 'stride': 5, 'padding': 3}. Best is trial 2 with value: 773325.4375.\n"
     ]
    },
    {
     "name": "stdout",
     "output_type": "stream",
     "text": [
      "Early stopping at epoch 22\n",
      "Best validation MSE: 0.2904\n",
      "MSE Real Data: 1641368.3883576766\n"
     ]
    },
    {
     "name": "stderr",
     "output_type": "stream",
     "text": [
      "[I 2024-11-14 18:51:52,408] Trial 11 finished with value: 732998.5625 and parameters: {'dropout_prob': 0.36, 'learning_rate': 0.0003866155120183047, 'batch_size': 128, 'fc1_output': 1972, 'kernel_size': 103, 'stride': 7, 'padding': 4}. Best is trial 11 with value: 732998.5625.\n"
     ]
    },
    {
     "name": "stdout",
     "output_type": "stream",
     "text": [
      "Early stopping at epoch 65\n",
      "Best validation MSE: 18.2767\n",
      "MSE Real Data: 7315198787253.784\n"
     ]
    },
    {
     "name": "stderr",
     "output_type": "stream",
     "text": [
      "[I 2024-11-14 18:51:57,901] Trial 12 finished with value: 735490.625 and parameters: {'dropout_prob': 0.37, 'learning_rate': 0.0002942119600409847, 'batch_size': 128, 'fc1_output': 2132, 'kernel_size': 150, 'stride': 7, 'padding': 4}. Best is trial 11 with value: 732998.5625.\n"
     ]
    },
    {
     "name": "stdout",
     "output_type": "stream",
     "text": [
      "Early stopping at epoch 37\n",
      "Best validation MSE: 14.2241\n",
      "MSE Real Data: 4577940549126.205\n"
     ]
    },
    {
     "name": "stderr",
     "output_type": "stream",
     "text": [
      "[I 2024-11-14 18:52:04,021] Trial 13 finished with value: 763476.6875 and parameters: {'dropout_prob': 0.36, 'learning_rate': 0.00019573054251543858, 'batch_size': 108, 'fc1_output': 2192, 'kernel_size': 149, 'stride': 7, 'padding': 5}. Best is trial 11 with value: 732998.5625.\n"
     ]
    },
    {
     "name": "stdout",
     "output_type": "stream",
     "text": [
      "Early stopping at epoch 35\n",
      "Best validation MSE: 6.1520\n",
      "MSE Real Data: 3136789886741.5273\n"
     ]
    },
    {
     "name": "stderr",
     "output_type": "stream",
     "text": [
      "[I 2024-11-14 18:52:14,025] Trial 14 finished with value: 715189.875 and parameters: {'dropout_prob': 0.1, 'learning_rate': 0.0003938565447686736, 'batch_size': 104, 'fc1_output': 2123, 'kernel_size': 149, 'stride': 7, 'padding': 4}. Best is trial 14 with value: 715189.875.\n"
     ]
    },
    {
     "name": "stdout",
     "output_type": "stream",
     "text": [
      "Early stopping at epoch 59\n",
      "Best validation MSE: 79.6994\n",
      "MSE Real Data: 8711668394883.183\n"
     ]
    },
    {
     "name": "stderr",
     "output_type": "stream",
     "text": [
      "[I 2024-11-14 18:52:21,002] Trial 15 finished with value: 719083.8125 and parameters: {'dropout_prob': 0.1, 'learning_rate': 0.0005116222611038683, 'batch_size': 104, 'fc1_output': 2080, 'kernel_size': 118, 'stride': 7, 'padding': 6}. Best is trial 14 with value: 715189.875.\n"
     ]
    },
    {
     "name": "stdout",
     "output_type": "stream",
     "text": [
      "Early stopping at epoch 40\n",
      "Best validation MSE: 78.9290\n",
      "MSE Real Data: 8633952841744.876\n"
     ]
    },
    {
     "name": "stderr",
     "output_type": "stream",
     "text": [
      "[I 2024-11-14 18:52:28,953] Trial 16 finished with value: 734324.1875 and parameters: {'dropout_prob': 0.13, 'learning_rate': 0.000506580177305502, 'batch_size': 104, 'fc1_output': 2582, 'kernel_size': 124, 'stride': 4, 'padding': 6}. Best is trial 14 with value: 715189.875.\n"
     ]
    },
    {
     "name": "stdout",
     "output_type": "stream",
     "text": [
      "Early stopping at epoch 45\n",
      "Best validation MSE: 413.8795\n",
      "MSE Real Data: 10068739784084.646\n"
     ]
    },
    {
     "name": "stderr",
     "output_type": "stream",
     "text": [
      "[I 2024-11-14 18:52:35,006] Trial 17 finished with value: 767205.4375 and parameters: {'dropout_prob': 0.1, 'learning_rate': 0.0007426450820902721, 'batch_size': 104, 'fc1_output': 1818, 'kernel_size': 136, 'stride': 8, 'padding': 6}. Best is trial 14 with value: 715189.875.\n"
     ]
    },
    {
     "name": "stdout",
     "output_type": "stream",
     "text": [
      "Early stopping at epoch 33\n",
      "Best validation MSE: 194.1775\n",
      "MSE Real Data: 17347848351499.525\n"
     ]
    },
    {
     "name": "stderr",
     "output_type": "stream",
     "text": [
      "[I 2024-11-14 18:52:55,783] Trial 18 finished with value: 801547.3125 and parameters: {'dropout_prob': 0.23, 'learning_rate': 0.00298547139912482, 'batch_size': 20, 'fc1_output': 2370, 'kernel_size': 113, 'stride': 6, 'padding': 5}. Best is trial 14 with value: 715189.875.\n"
     ]
    },
    {
     "name": "stdout",
     "output_type": "stream",
     "text": [
      "Early stopping at epoch 27\n",
      "Best validation MSE: 10945.9873\n",
      "MSE Real Data: 23589742776321.426\n"
     ]
    },
    {
     "name": "stderr",
     "output_type": "stream",
     "text": [
      "[I 2024-11-14 18:53:08,431] Trial 19 finished with value: 800028.9375 and parameters: {'dropout_prob': 0.18, 'learning_rate': 0.00011976214984145865, 'batch_size': 96, 'fc1_output': 1066, 'kernel_size': 139, 'stride': 10, 'padding': 7}. Best is trial 14 with value: 715189.875.\n"
     ]
    },
    {
     "name": "stdout",
     "output_type": "stream",
     "text": [
      "Early stopping at epoch 68\n",
      "Best validation MSE: 1.0395\n",
      "MSE Real Data: 1069721550797.4456\n"
     ]
    },
    {
     "name": "stderr",
     "output_type": "stream",
     "text": [
      "[I 2024-11-14 18:53:15,448] Trial 20 finished with value: 748704.875 and parameters: {'dropout_prob': 0.28, 'learning_rate': 0.0006700558771772829, 'batch_size': 112, 'fc1_output': 1801, 'kernel_size': 116, 'stride': 8, 'padding': 3}. Best is trial 14 with value: 715189.875.\n"
     ]
    },
    {
     "name": "stdout",
     "output_type": "stream",
     "text": [
      "Early stopping at epoch 43\n",
      "Best validation MSE: 146.8316\n",
      "MSE Real Data: 8630748498260.176\n"
     ]
    },
    {
     "name": "stderr",
     "output_type": "stream",
     "text": [
      "[I 2024-11-14 18:53:24,298] Trial 21 finished with value: 745493.125 and parameters: {'dropout_prob': 0.33, 'learning_rate': 0.00030117454045370336, 'batch_size': 116, 'fc1_output': 2019, 'kernel_size': 94, 'stride': 7, 'padding': 4}. Best is trial 14 with value: 715189.875.\n"
     ]
    },
    {
     "name": "stdout",
     "output_type": "stream",
     "text": [
      "Early stopping at epoch 57\n",
      "Best validation MSE: 18.1871\n",
      "MSE Real Data: 5308572213542.817\n"
     ]
    },
    {
     "name": "stderr",
     "output_type": "stream",
     "text": [
      "[I 2024-11-14 18:53:36,902] Trial 22 finished with value: 713026.625 and parameters: {'dropout_prob': 0.1, 'learning_rate': 0.00036429660884200525, 'batch_size': 92, 'fc1_output': 2449, 'kernel_size': 79, 'stride': 7, 'padding': 4}. Best is trial 22 with value: 713026.625.\n"
     ]
    },
    {
     "name": "stdout",
     "output_type": "stream",
     "text": [
      "Early stopping at epoch 65\n",
      "Best validation MSE: 96.0570\n",
      "MSE Real Data: 7992052318534.996\n"
     ]
    },
    {
     "name": "stderr",
     "output_type": "stream",
     "text": [
      "[I 2024-11-14 18:53:42,737] Trial 23 finished with value: 730496.0 and parameters: {'dropout_prob': 0.1, 'learning_rate': 0.00022044952528874425, 'batch_size': 92, 'fc1_output': 2470, 'kernel_size': 78, 'stride': 6, 'padding': 3}. Best is trial 22 with value: 713026.625.\n"
     ]
    },
    {
     "name": "stdout",
     "output_type": "stream",
     "text": [
      "Early stopping at epoch 30\n",
      "Best validation MSE: 27.8254\n",
      "MSE Real Data: 6675407771455.852\n"
     ]
    },
    {
     "name": "stderr",
     "output_type": "stream",
     "text": [
      "[I 2024-11-14 18:53:52,211] Trial 24 finished with value: 735760.5625 and parameters: {'dropout_prob': 0.16, 'learning_rate': 0.0006153598922863311, 'batch_size': 96, 'fc1_output': 2957, 'kernel_size': 72, 'stride': 9, 'padding': 5}. Best is trial 22 with value: 713026.625.\n"
     ]
    },
    {
     "name": "stdout",
     "output_type": "stream",
     "text": [
      "Early stopping at epoch 50\n",
      "Best validation MSE: 426.7060\n",
      "MSE Real Data: 7017739411444.547\n"
     ]
    },
    {
     "name": "stderr",
     "output_type": "stream",
     "text": [
      "[I 2024-11-14 18:53:57,536] Trial 25 finished with value: 777240.875 and parameters: {'dropout_prob': 0.45000000000000007, 'learning_rate': 0.00346181425025578, 'batch_size': 80, 'fc1_output': 2295, 'kernel_size': 111, 'stride': 4, 'padding': 7}. Best is trial 22 with value: 713026.625.\n"
     ]
    },
    {
     "name": "stdout",
     "output_type": "stream",
     "text": [
      "Early stopping at epoch 24\n",
      "Best validation MSE: 8952.6396\n",
      "MSE Real Data: 17932647072092.83\n"
     ]
    },
    {
     "name": "stderr",
     "output_type": "stream",
     "text": [
      "[I 2024-11-14 18:54:06,361] Trial 26 finished with value: 755552.375 and parameters: {'dropout_prob': 0.28, 'learning_rate': 0.0001617137166275279, 'batch_size': 116, 'fc1_output': 2678, 'kernel_size': 86, 'stride': 8, 'padding': 6}. Best is trial 22 with value: 713026.625.\n"
     ]
    },
    {
     "name": "stdout",
     "output_type": "stream",
     "text": [
      "Early stopping at epoch 54\n",
      "Best validation MSE: 5.2621\n",
      "MSE Real Data: 2841189671629.3975\n"
     ]
    },
    {
     "name": "stderr",
     "output_type": "stream",
     "text": [
      "[I 2024-11-14 18:54:18,309] Trial 27 finished with value: 778586.5625 and parameters: {'dropout_prob': 0.17, 'learning_rate': 0.00039633830208385564, 'batch_size': 64, 'fc1_output': 1756, 'kernel_size': 139, 'stride': 1, 'padding': 4}. Best is trial 22 with value: 713026.625.\n"
     ]
    },
    {
     "name": "stdout",
     "output_type": "stream",
     "text": [
      "Early stopping at epoch 43\n",
      "Best validation MSE: 6608.8433\n",
      "MSE Real Data: 21656888117290.203\n"
     ]
    },
    {
     "name": "stderr",
     "output_type": "stream",
     "text": [
      "[I 2024-11-14 18:54:24,782] Trial 28 finished with value: 778325.875 and parameters: {'dropout_prob': 0.63, 'learning_rate': 0.000865696066762896, 'batch_size': 88, 'fc1_output': 1991, 'kernel_size': 52, 'stride': 7, 'padding': 2}. Best is trial 22 with value: 713026.625.\n"
     ]
    },
    {
     "name": "stdout",
     "output_type": "stream",
     "text": [
      "Early stopping at epoch 32\n",
      "Best validation MSE: 382.1679\n",
      "MSE Real Data: 16258479141177.979\n"
     ]
    },
    {
     "name": "stderr",
     "output_type": "stream",
     "text": [
      "[I 2024-11-14 18:54:32,328] Trial 29 finished with value: 775915.0 and parameters: {'dropout_prob': 0.41000000000000003, 'learning_rate': 0.00220169492985366, 'batch_size': 100, 'fc1_output': 2743, 'kernel_size': 95, 'stride': 6, 'padding': 8}. Best is trial 22 with value: 713026.625.\n"
     ]
    },
    {
     "name": "stdout",
     "output_type": "stream",
     "text": [
      "Early stopping at epoch 41\n",
      "Best validation MSE: 6410.5288\n",
      "MSE Real Data: 15844864499246.832\n"
     ]
    },
    {
     "name": "stderr",
     "output_type": "stream",
     "text": [
      "[I 2024-11-14 18:54:44,653] Trial 30 finished with value: 774179.5625 and parameters: {'dropout_prob': 0.29000000000000004, 'learning_rate': 0.0010578792995291281, 'batch_size': 44, 'fc1_output': 2419, 'kernel_size': 107, 'stride': 9, 'padding': 5}. Best is trial 22 with value: 713026.625.\n"
     ]
    },
    {
     "name": "stdout",
     "output_type": "stream",
     "text": [
      "Early stopping at epoch 33\n",
      "Best validation MSE: 6790.7271\n",
      "MSE Real Data: 13492896161189.562\n"
     ]
    },
    {
     "name": "stderr",
     "output_type": "stream",
     "text": [
      "[I 2024-11-14 18:54:53,727] Trial 31 finished with value: 714976.6875 and parameters: {'dropout_prob': 0.1, 'learning_rate': 0.0002259804667086659, 'batch_size': 88, 'fc1_output': 2487, 'kernel_size': 75, 'stride': 6, 'padding': 3}. Best is trial 22 with value: 713026.625.\n"
     ]
    },
    {
     "name": "stdout",
     "output_type": "stream",
     "text": [
      "Early stopping at epoch 44\n",
      "Best validation MSE: 57.6658\n",
      "MSE Real Data: 7253418073480.84\n"
     ]
    },
    {
     "name": "stderr",
     "output_type": "stream",
     "text": [
      "[I 2024-11-14 18:55:06,264] Trial 32 finished with value: 715741.5625 and parameters: {'dropout_prob': 0.15000000000000002, 'learning_rate': 0.000222659104223695, 'batch_size': 88, 'fc1_output': 2218, 'kernel_size': 78, 'stride': 6, 'padding': 2}. Best is trial 22 with value: 713026.625.\n"
     ]
    },
    {
     "name": "stdout",
     "output_type": "stream",
     "text": [
      "Early stopping at epoch 60\n",
      "Best validation MSE: 39.3962\n",
      "MSE Real Data: 6699607280250.852\n"
     ]
    },
    {
     "name": "stderr",
     "output_type": "stream",
     "text": [
      "[I 2024-11-14 18:55:16,221] Trial 33 finished with value: 744203.4375 and parameters: {'dropout_prob': 0.21000000000000002, 'learning_rate': 0.00017074728648233523, 'batch_size': 68, 'fc1_output': 2515, 'kernel_size': 76, 'stride': 4, 'padding': 2}. Best is trial 22 with value: 713026.625.\n"
     ]
    },
    {
     "name": "stdout",
     "output_type": "stream",
     "text": [
      "Early stopping at epoch 39\n",
      "Best validation MSE: 109.9950\n",
      "MSE Real Data: 6980373546992.959\n"
     ]
    },
    {
     "name": "stderr",
     "output_type": "stream",
     "text": [
      "[I 2024-11-14 18:55:21,627] Trial 34 finished with value: 783284.4375 and parameters: {'dropout_prob': 0.15000000000000002, 'learning_rate': 0.09345320039110905, 'batch_size': 88, 'fc1_output': 2802, 'kernel_size': 84, 'stride': 5, 'padding': 3}. Best is trial 22 with value: 713026.625.\n"
     ]
    },
    {
     "name": "stdout",
     "output_type": "stream",
     "text": [
      "Early stopping at epoch 26\n",
      "Best validation MSE: 190498560.0000\n",
      "MSE Real Data: 90746875793869.45\n"
     ]
    },
    {
     "name": "stderr",
     "output_type": "stream",
     "text": [
      "[I 2024-11-14 18:55:29,146] Trial 35 finished with value: 737154.75 and parameters: {'dropout_prob': 0.21000000000000002, 'learning_rate': 0.0002560097452199404, 'batch_size': 80, 'fc1_output': 2265, 'kernel_size': 56, 'stride': 6, 'padding': 2}. Best is trial 22 with value: 713026.625.\n"
     ]
    },
    {
     "name": "stdout",
     "output_type": "stream",
     "text": [
      "Early stopping at epoch 34\n",
      "Best validation MSE: 51.9556\n",
      "MSE Real Data: 7739689376100.054\n"
     ]
    },
    {
     "name": "stderr",
     "output_type": "stream",
     "text": [
      "[I 2024-11-14 18:55:36,649] Trial 36 finished with value: 786340.125 and parameters: {'dropout_prob': 0.15000000000000002, 'learning_rate': 0.037960788765845986, 'batch_size': 60, 'fc1_output': 2619, 'kernel_size': 48, 'stride': 5, 'padding': 1}. Best is trial 22 with value: 713026.625.\n"
     ]
    },
    {
     "name": "stdout",
     "output_type": "stream",
     "text": [
      "Early stopping at epoch 25\n",
      "Best validation MSE: 2837662.2500\n",
      "MSE Real Data: 78738126708719.47\n"
     ]
    },
    {
     "name": "stderr",
     "output_type": "stream",
     "text": [
      "[I 2024-11-14 18:56:00,217] Trial 37 finished with value: 733238.125 and parameters: {'dropout_prob': 0.25, 'learning_rate': 0.00010619333212553576, 'batch_size': 52, 'fc1_output': 2867, 'kernel_size': 69, 'stride': 3, 'padding': 3}. Best is trial 22 with value: 713026.625.\n"
     ]
    },
    {
     "name": "stdout",
     "output_type": "stream",
     "text": [
      "Early stopping at epoch 72\n",
      "Best validation MSE: 132.0346\n",
      "MSE Real Data: 8019296767157.732\n"
     ]
    },
    {
     "name": "stderr",
     "output_type": "stream",
     "text": [
      "[I 2024-11-14 18:56:08,165] Trial 38 finished with value: 766706.3125 and parameters: {'dropout_prob': 0.45000000000000007, 'learning_rate': 0.0014099216059553293, 'batch_size': 116, 'fc1_output': 1589, 'kernel_size': 90, 'stride': 6, 'padding': 1}. Best is trial 22 with value: 713026.625.\n"
     ]
    },
    {
     "name": "stdout",
     "output_type": "stream",
     "text": [
      "Early stopping at epoch 48\n",
      "Best validation MSE: 1180.5792\n",
      "MSE Real Data: 16672642288905.184\n"
     ]
    },
    {
     "name": "stderr",
     "output_type": "stream",
     "text": [
      "[I 2024-11-14 18:56:26,999] Trial 39 finished with value: 773613.0625 and parameters: {'dropout_prob': 0.19, 'learning_rate': 0.0004136229193281085, 'batch_size': 36, 'fc1_output': 2306, 'kernel_size': 77, 'stride': 8, 'padding': 2}. Best is trial 22 with value: 713026.625.\n"
     ]
    },
    {
     "name": "stdout",
     "output_type": "stream",
     "text": [
      "Early stopping at epoch 42\n",
      "Best validation MSE: 3581.5352\n",
      "MSE Real Data: 8548655532521.486\n"
     ]
    },
    {
     "name": "stderr",
     "output_type": "stream",
     "text": [
      "[I 2024-11-14 18:56:37,585] Trial 40 finished with value: 785769.0625 and parameters: {'dropout_prob': 0.61, 'learning_rate': 0.00016836698242405203, 'batch_size': 72, 'fc1_output': 1095, 'kernel_size': 65, 'stride': 5, 'padding': 4}. Best is trial 22 with value: 713026.625.\n"
     ]
    },
    {
     "name": "stdout",
     "output_type": "stream",
     "text": [
      "Early stopping at epoch 44\n",
      "Best validation MSE: 7.0202\n",
      "MSE Real Data: 7032859826682.329\n"
     ]
    },
    {
     "name": "stderr",
     "output_type": "stream",
     "text": [
      "[I 2024-11-14 18:56:45,270] Trial 41 finished with value: 704208.375 and parameters: {'dropout_prob': 0.1, 'learning_rate': 0.0004969279553544333, 'batch_size': 92, 'fc1_output': 2097, 'kernel_size': 120, 'stride': 7, 'padding': 3}. Best is trial 41 with value: 704208.375.\n"
     ]
    },
    {
     "name": "stdout",
     "output_type": "stream",
     "text": [
      "Early stopping at epoch 40\n",
      "Best validation MSE: 202.4604\n",
      "MSE Real Data: 9701814160425.488\n"
     ]
    },
    {
     "name": "stderr",
     "output_type": "stream",
     "text": [
      "[I 2024-11-14 18:56:55,787] Trial 42 finished with value: 710309.25 and parameters: {'dropout_prob': 0.1, 'learning_rate': 0.0003083283200201971, 'batch_size': 84, 'fc1_output': 1909, 'kernel_size': 82, 'stride': 7, 'padding': 3}. Best is trial 41 with value: 704208.375.\n"
     ]
    },
    {
     "name": "stdout",
     "output_type": "stream",
     "text": [
      "Early stopping at epoch 51\n",
      "Best validation MSE: 48.5016\n",
      "MSE Real Data: 7396334225382.507\n"
     ]
    },
    {
     "name": "stderr",
     "output_type": "stream",
     "text": [
      "[I 2024-11-14 18:57:03,102] Trial 43 finished with value: 717910.3125 and parameters: {'dropout_prob': 0.1, 'learning_rate': 0.00033556551251596957, 'batch_size': 84, 'fc1_output': 1896, 'kernel_size': 127, 'stride': 7, 'padding': 3}. Best is trial 41 with value: 704208.375.\n"
     ]
    },
    {
     "name": "stdout",
     "output_type": "stream",
     "text": [
      "Early stopping at epoch 35\n",
      "Best validation MSE: 80.9852\n",
      "MSE Real Data: 8205117323006.811\n"
     ]
    },
    {
     "name": "stderr",
     "output_type": "stream",
     "text": [
      "[I 2024-11-14 18:57:12,760] Trial 44 finished with value: 772612.1875 and parameters: {'dropout_prob': 0.79, 'learning_rate': 0.0010642874353907713, 'batch_size': 96, 'fc1_output': 2113, 'kernel_size': 99, 'stride': 8, 'padding': 4}. Best is trial 41 with value: 704208.375.\n"
     ]
    },
    {
     "name": "stdout",
     "output_type": "stream",
     "text": [
      "Early stopping at epoch 50\n",
      "Best validation MSE: 133.2137\n",
      "MSE Real Data: 20010387957494.355\n"
     ]
    },
    {
     "name": "stderr",
     "output_type": "stream",
     "text": [
      "[I 2024-11-14 18:57:24,114] Trial 45 finished with value: 732195.875 and parameters: {'dropout_prob': 0.25, 'learning_rate': 0.000512365583571325, 'batch_size': 76, 'fc1_output': 1649, 'kernel_size': 59, 'stride': 7, 'padding': 3}. Best is trial 41 with value: 704208.375.\n"
     ]
    },
    {
     "name": "stdout",
     "output_type": "stream",
     "text": [
      "Early stopping at epoch 50\n",
      "Best validation MSE: 351.7023\n",
      "MSE Real Data: 9486174479766.842\n"
     ]
    },
    {
     "name": "stderr",
     "output_type": "stream",
     "text": [
      "[I 2024-11-14 18:57:33,868] Trial 46 finished with value: 744234.625 and parameters: {'dropout_prob': 0.13, 'learning_rate': 0.00014821827770172114, 'batch_size': 92, 'fc1_output': 2463, 'kernel_size': 143, 'stride': 8, 'padding': 4}. Best is trial 41 with value: 704208.375.\n"
     ]
    },
    {
     "name": "stdout",
     "output_type": "stream",
     "text": [
      "Early stopping at epoch 49\n",
      "Best validation MSE: 11.1959\n",
      "MSE Real Data: 5502879887873.236\n"
     ]
    },
    {
     "name": "stderr",
     "output_type": "stream",
     "text": [
      "[I 2024-11-14 18:57:38,064] Trial 47 finished with value: 777461.125 and parameters: {'dropout_prob': 0.2, 'learning_rate': 0.005011095945602838, 'batch_size': 108, 'fc1_output': 1437, 'kernel_size': 84, 'stride': 9, 'padding': 5}. Best is trial 41 with value: 704208.375.\n"
     ]
    },
    {
     "name": "stdout",
     "output_type": "stream",
     "text": [
      "Early stopping at epoch 24\n",
      "Best validation MSE: 8221.4365\n",
      "MSE Real Data: 24841101369931.973\n"
     ]
    },
    {
     "name": "stderr",
     "output_type": "stream",
     "text": [
      "[I 2024-11-14 18:57:46,791] Trial 48 finished with value: 769765.3125 and parameters: {'dropout_prob': 0.31, 'learning_rate': 0.0014832449705696022, 'batch_size': 84, 'fc1_output': 1947, 'kernel_size': 121, 'stride': 7, 'padding': 3}. Best is trial 41 with value: 704208.375.\n"
     ]
    },
    {
     "name": "stdout",
     "output_type": "stream",
     "text": [
      "Early stopping at epoch 42\n",
      "Best validation MSE: 6230.6011\n",
      "MSE Real Data: 15988004530436.328\n"
     ]
    },
    {
     "name": "stderr",
     "output_type": "stream",
     "text": [
      "[I 2024-11-14 18:57:56,039] Trial 49 finished with value: 715447.9375 and parameters: {'dropout_prob': 0.13, 'learning_rate': 0.00028786418635242696, 'batch_size': 80, 'fc1_output': 2554, 'kernel_size': 130, 'stride': 7, 'padding': 4}. Best is trial 41 with value: 704208.375.\n"
     ]
    },
    {
     "name": "stdout",
     "output_type": "stream",
     "text": [
      "Early stopping at epoch 42\n",
      "Best validation MSE: 120.8157\n",
      "MSE Real Data: 10535985939065.424\n"
     ]
    },
    {
     "name": "stderr",
     "output_type": "stream",
     "text": [
      "[I 2024-11-14 18:58:08,538] Trial 50 finished with value: 753136.125 and parameters: {'dropout_prob': 0.25, 'learning_rate': 0.0008978529008650478, 'batch_size': 100, 'fc1_output': 2153, 'kernel_size': 23, 'stride': 10, 'padding': 2}. Best is trial 41 with value: 704208.375.\n"
     ]
    },
    {
     "name": "stdout",
     "output_type": "stream",
     "text": [
      "Early stopping at epoch 68\n",
      "Best validation MSE: 579.8937\n",
      "MSE Real Data: 11041899250450.385\n"
     ]
    },
    {
     "name": "stderr",
     "output_type": "stream",
     "text": [
      "[I 2024-11-14 18:58:17,322] Trial 51 finished with value: 713166.75 and parameters: {'dropout_prob': 0.1, 'learning_rate': 0.0002985771450134415, 'batch_size': 80, 'fc1_output': 2571, 'kernel_size': 131, 'stride': 7, 'padding': 4}. Best is trial 41 with value: 704208.375.\n"
     ]
    },
    {
     "name": "stdout",
     "output_type": "stream",
     "text": [
      "Early stopping at epoch 40\n",
      "Best validation MSE: 100.2535\n",
      "MSE Real Data: 10673672550406.451\n"
     ]
    },
    {
     "name": "stderr",
     "output_type": "stream",
     "text": [
      "[I 2024-11-14 18:58:28,318] Trial 52 finished with value: 732213.1875 and parameters: {'dropout_prob': 0.1, 'learning_rate': 0.0004434222325377756, 'batch_size': 72, 'fc1_output': 2341, 'kernel_size': 145, 'stride': 7, 'padding': 4}. Best is trial 41 with value: 704208.375.\n"
     ]
    },
    {
     "name": "stdout",
     "output_type": "stream",
     "text": [
      "Early stopping at epoch 46\n",
      "Best validation MSE: 478.1692\n",
      "MSE Real Data: 9201922251058.453\n"
     ]
    },
    {
     "name": "stderr",
     "output_type": "stream",
     "text": [
      "[I 2024-11-14 18:58:41,628] Trial 53 finished with value: 712576.8125 and parameters: {'dropout_prob': 0.13, 'learning_rate': 0.00024915009699795016, 'batch_size': 100, 'fc1_output': 2689, 'kernel_size': 137, 'stride': 6, 'padding': 3}. Best is trial 41 with value: 704208.375.\n"
     ]
    },
    {
     "name": "stdout",
     "output_type": "stream",
     "text": [
      "Early stopping at epoch 72\n",
      "Best validation MSE: 61.0259\n",
      "MSE Real Data: 7805939117056.603\n"
     ]
    },
    {
     "name": "stderr",
     "output_type": "stream",
     "text": [
      "[I 2024-11-14 18:58:51,440] Trial 54 finished with value: 741188.75 and parameters: {'dropout_prob': 0.17, 'learning_rate': 0.0001324089216179393, 'batch_size': 92, 'fc1_output': 2739, 'kernel_size': 134, 'stride': 6, 'padding': 3}. Best is trial 41 with value: 704208.375.\n"
     ]
    },
    {
     "name": "stdout",
     "output_type": "stream",
     "text": [
      "Early stopping at epoch 50\n",
      "Best validation MSE: 14.1457\n",
      "MSE Real Data: 3830965429163.343\n"
     ]
    },
    {
     "name": "stderr",
     "output_type": "stream",
     "text": [
      "[I 2024-11-14 18:58:57,875] Trial 55 finished with value: 723000.25 and parameters: {'dropout_prob': 0.13, 'learning_rate': 0.00023875338045224316, 'batch_size': 100, 'fc1_output': 2976, 'kernel_size': 131, 'stride': 6, 'padding': 3}. Best is trial 41 with value: 704208.375.\n"
     ]
    },
    {
     "name": "stdout",
     "output_type": "stream",
     "text": [
      "Early stopping at epoch 34\n",
      "Best validation MSE: 37.9864\n",
      "MSE Real Data: 8503777781039.94\n"
     ]
    },
    {
     "name": "stderr",
     "output_type": "stream",
     "text": [
      "[I 2024-11-14 18:59:10,150] Trial 56 finished with value: 731841.125 and parameters: {'dropout_prob': 0.23, 'learning_rate': 0.00032127605510649224, 'batch_size': 72, 'fc1_output': 2641, 'kernel_size': 71, 'stride': 5, 'padding': 2}. Best is trial 41 with value: 704208.375.\n"
     ]
    },
    {
     "name": "stdout",
     "output_type": "stream",
     "text": [
      "Early stopping at epoch 51\n",
      "Best validation MSE: 345.1984\n",
      "MSE Real Data: 10261040136417.385\n"
     ]
    },
    {
     "name": "stderr",
     "output_type": "stream",
     "text": [
      "[I 2024-11-14 18:59:16,862] Trial 57 finished with value: 779401.1875 and parameters: {'dropout_prob': 0.19, 'learning_rate': 0.00058926668367759, 'batch_size': 84, 'fc1_output': 2429, 'kernel_size': 90, 'stride': 8, 'padding': 4}. Best is trial 41 with value: 704208.375.\n"
     ]
    },
    {
     "name": "stdout",
     "output_type": "stream",
     "text": [
      "Early stopping at epoch 32\n",
      "Best validation MSE: 646.9255\n",
      "MSE Real Data: 25370641649360.34\n"
     ]
    },
    {
     "name": "stderr",
     "output_type": "stream",
     "text": [
      "[I 2024-11-14 18:59:23,756] Trial 58 finished with value: 774974.0 and parameters: {'dropout_prob': 0.14, 'learning_rate': 0.012205632161593274, 'batch_size': 108, 'fc1_output': 437, 'kernel_size': 123, 'stride': 7, 'padding': 5}. Best is trial 41 with value: 704208.375.\n"
     ]
    },
    {
     "name": "stdout",
     "output_type": "stream",
     "text": [
      "Early stopping at epoch 41\n",
      "Best validation MSE: 14005.1748\n",
      "MSE Real Data: 31348571216056.66\n"
     ]
    },
    {
     "name": "stderr",
     "output_type": "stream",
     "text": [
      "[I 2024-11-14 19:03:27,104] Trial 59 finished with value: 678570.25 and parameters: {'dropout_prob': 0.1, 'learning_rate': 0.00019343536117873676, 'batch_size': 4, 'fc1_output': 2860, 'kernel_size': 105, 'stride': 6, 'padding': 3}. Best is trial 59 with value: 678570.25.\n"
     ]
    },
    {
     "name": "stdout",
     "output_type": "stream",
     "text": [
      "Early stopping at epoch 66\n",
      "Best validation MSE: 32900.4297\n",
      "MSE Real Data: 20181765922212.92\n"
     ]
    },
    {
     "name": "stderr",
     "output_type": "stream",
     "text": [
      "[I 2024-11-14 19:04:12,046] Trial 60 finished with value: 807272.4375 and parameters: {'dropout_prob': 0.22, 'learning_rate': 0.00034185302590390146, 'batch_size': 8, 'fc1_output': 2859, 'kernel_size': 105, 'stride': 6, 'padding': 1}. Best is trial 59 with value: 678570.25.\n"
     ]
    },
    {
     "name": "stdout",
     "output_type": "stream",
     "text": [
      "Early stopping at epoch 24\n",
      "Best validation MSE: 6750.5923\n",
      "MSE Real Data: 14663072429516.633\n"
     ]
    },
    {
     "name": "stderr",
     "output_type": "stream",
     "text": [
      "[I 2024-11-14 19:04:44,516] Trial 61 finished with value: 713309.0 and parameters: {'dropout_prob': 0.12000000000000001, 'learning_rate': 0.00018880322075127108, 'batch_size': 28, 'fc1_output': 2734, 'kernel_size': 113, 'stride': 6, 'padding': 3}. Best is trial 59 with value: 678570.25.\n"
     ]
    },
    {
     "name": "stdout",
     "output_type": "stream",
     "text": [
      "Early stopping at epoch 59\n",
      "Best validation MSE: 2069.0842\n",
      "MSE Real Data: 14387705434064.283\n"
     ]
    },
    {
     "name": "stderr",
     "output_type": "stream",
     "text": [
      "[I 2024-11-14 19:07:31,499] Trial 62 finished with value: 679295.75 and parameters: {'dropout_prob': 0.18, 'learning_rate': 0.00018107738549563238, 'batch_size': 4, 'fc1_output': 2705, 'kernel_size': 112, 'stride': 7, 'padding': 3}. Best is trial 59 with value: 678570.25.\n"
     ]
    },
    {
     "name": "stdout",
     "output_type": "stream",
     "text": [
      "Early stopping at epoch 45\n",
      "Best validation MSE: 26777.7891\n",
      "MSE Real Data: 15735685577427.96\n"
     ]
    },
    {
     "name": "stderr",
     "output_type": "stream",
     "text": [
      "[I 2024-11-14 19:08:05,165] Trial 63 finished with value: 720869.375 and parameters: {'dropout_prob': 0.19, 'learning_rate': 0.00012894185276623703, 'batch_size': 16, 'fc1_output': 2854, 'kernel_size': 119, 'stride': 8, 'padding': 4}. Best is trial 59 with value: 678570.25.\n"
     ]
    },
    {
     "name": "stdout",
     "output_type": "stream",
     "text": [
      "Early stopping at epoch 35\n",
      "Best validation MSE: 2676.7107\n",
      "MSE Real Data: 15449288643773.195\n"
     ]
    },
    {
     "name": "stderr",
     "output_type": "stream",
     "text": [
      "[I 2024-11-14 19:09:51,724] Trial 64 finished with value: 785615.4375 and parameters: {'dropout_prob': 0.17, 'learning_rate': 0.00026442135002174936, 'batch_size': 8, 'fc1_output': 2974, 'kernel_size': 110, 'stride': 7, 'padding': 2}. Best is trial 59 with value: 678570.25.\n"
     ]
    },
    {
     "name": "stdout",
     "output_type": "stream",
     "text": [
      "Early stopping at epoch 57\n",
      "Best validation MSE: 7937.7690\n",
      "MSE Real Data: 4405622187038.024\n"
     ]
    },
    {
     "name": "stderr",
     "output_type": "stream",
     "text": [
      "[I 2024-11-14 19:15:06,762] Trial 65 finished with value: 804105.1875 and parameters: {'dropout_prob': 0.94, 'learning_rate': 0.00010577013036849418, 'batch_size': 4, 'fc1_output': 2580, 'kernel_size': 101, 'stride': 7, 'padding': 3}. Best is trial 59 with value: 678570.25.\n"
     ]
    },
    {
     "name": "stdout",
     "output_type": "stream",
     "text": [
      "Early stopping at epoch 86\n",
      "Best validation MSE: 2150.4553\n",
      "MSE Real Data: 11429671576415.295\n"
     ]
    },
    {
     "name": "stderr",
     "output_type": "stream",
     "text": [
      "[I 2024-11-14 19:16:00,483] Trial 66 finished with value: 714303.75 and parameters: {'dropout_prob': 0.12000000000000001, 'learning_rate': 0.0001934814253341449, 'batch_size': 20, 'fc1_output': 2749, 'kernel_size': 127, 'stride': 8, 'padding': 4}. Best is trial 59 with value: 678570.25.\n"
     ]
    },
    {
     "name": "stdout",
     "output_type": "stream",
     "text": [
      "Early stopping at epoch 68\n",
      "Best validation MSE: 4370.1177\n",
      "MSE Real Data: 12906156398990.998\n"
     ]
    },
    {
     "name": "stderr",
     "output_type": "stream",
     "text": [
      "[I 2024-11-14 19:16:52,309] Trial 67 finished with value: 808211.9375 and parameters: {'dropout_prob': 0.17, 'learning_rate': 0.000717400628605747, 'batch_size': 12, 'fc1_output': 2664, 'kernel_size': 115, 'stride': 6, 'padding': 3}. Best is trial 59 with value: 678570.25.\n"
     ]
    },
    {
     "name": "stdout",
     "output_type": "stream",
     "text": [
      "Early stopping at epoch 40\n",
      "Best validation MSE: 6815.3745\n",
      "MSE Real Data: 18200521213672.344\n"
     ]
    },
    {
     "name": "stderr",
     "output_type": "stream",
     "text": [
      "[I 2024-11-14 19:17:24,744] Trial 68 finished with value: 792937.4375 and parameters: {'dropout_prob': 0.49, 'learning_rate': 0.0004886579419794067, 'batch_size': 24, 'fc1_output': 2043, 'kernel_size': 137, 'stride': 7, 'padding': 5}. Best is trial 59 with value: 678570.25.\n"
     ]
    },
    {
     "name": "stdout",
     "output_type": "stream",
     "text": [
      "Early stopping at epoch 50\n",
      "Best validation MSE: 6913.1948\n",
      "MSE Real Data: 11170032910248.049\n"
     ]
    },
    {
     "name": "stderr",
     "output_type": "stream",
     "text": [
      "[I 2024-11-14 19:17:33,797] Trial 69 finished with value: 732822.5625 and parameters: {'dropout_prob': 0.15000000000000002, 'learning_rate': 0.00014769453161410219, 'batch_size': 64, 'fc1_output': 2381, 'kernel_size': 108, 'stride': 7, 'padding': 2}. Best is trial 59 with value: 678570.25.\n"
     ]
    },
    {
     "name": "stdout",
     "output_type": "stream",
     "text": [
      "Early stopping at epoch 34\n",
      "Best validation MSE: 33.9854\n",
      "MSE Real Data: 6055940610393.808\n"
     ]
    },
    {
     "name": "stderr",
     "output_type": "stream",
     "text": [
      "[I 2024-11-14 19:18:51,009] Trial 70 finished with value: 797720.0 and parameters: {'dropout_prob': 0.1, 'learning_rate': 0.00034310781504387944, 'batch_size': 4, 'fc1_output': 2549, 'kernel_size': 132, 'stride': 9, 'padding': 3}. Best is trial 59 with value: 678570.25.\n"
     ]
    },
    {
     "name": "stdout",
     "output_type": "stream",
     "text": [
      "Early stopping at epoch 21\n",
      "Best validation MSE: 7997.6812\n",
      "MSE Real Data: 14776843129080.678\n"
     ]
    },
    {
     "name": "stderr",
     "output_type": "stream",
     "text": [
      "[I 2024-11-14 19:19:19,359] Trial 71 finished with value: 716602.125 and parameters: {'dropout_prob': 0.12000000000000001, 'learning_rate': 0.00021829598935982437, 'batch_size': 28, 'fc1_output': 2760, 'kernel_size': 113, 'stride': 6, 'padding': 3}. Best is trial 59 with value: 678570.25.\n"
     ]
    },
    {
     "name": "stdout",
     "output_type": "stream",
     "text": [
      "Early stopping at epoch 50\n",
      "Best validation MSE: 2957.1965\n",
      "MSE Real Data: 12409173974245.254\n"
     ]
    },
    {
     "name": "stderr",
     "output_type": "stream",
     "text": [
      "[I 2024-11-14 19:19:45,016] Trial 72 finished with value: 716418.8125 and parameters: {'dropout_prob': 0.13, 'learning_rate': 0.00018453326814542057, 'batch_size': 32, 'fc1_output': 2906, 'kernel_size': 118, 'stride': 6, 'padding': 3}. Best is trial 59 with value: 678570.25.\n"
     ]
    },
    {
     "name": "stdout",
     "output_type": "stream",
     "text": [
      "Early stopping at epoch 50\n",
      "Best validation MSE: 1219.6465\n",
      "MSE Real Data: 13729370094678.465\n"
     ]
    },
    {
     "name": "stderr",
     "output_type": "stream",
     "text": [
      "[I 2024-11-14 19:20:02,834] Trial 73 finished with value: 739961.125 and parameters: {'dropout_prob': 0.16, 'learning_rate': 0.00025259724787148594, 'batch_size': 44, 'fc1_output': 2681, 'kernel_size': 124, 'stride': 5, 'padding': 4}. Best is trial 59 with value: 678570.25.\n"
     ]
    },
    {
     "name": "stdout",
     "output_type": "stream",
     "text": [
      "Early stopping at epoch 46\n",
      "Best validation MSE: 1252.9679\n",
      "MSE Real Data: 9989223587602.732\n"
     ]
    },
    {
     "name": "stderr",
     "output_type": "stream",
     "text": [
      "[I 2024-11-14 19:20:29,781] Trial 74 finished with value: 720423.375 and parameters: {'dropout_prob': 0.23, 'learning_rate': 0.00018991903846545414, 'batch_size': 36, 'fc1_output': 2818, 'kernel_size': 96, 'stride': 6, 'padding': 2}. Best is trial 59 with value: 678570.25.\n"
     ]
    },
    {
     "name": "stdout",
     "output_type": "stream",
     "text": [
      "Early stopping at epoch 59\n",
      "Best validation MSE: 626.9679\n",
      "MSE Real Data: 14602336366364.438\n"
     ]
    },
    {
     "name": "stderr",
     "output_type": "stream",
     "text": [
      "[I 2024-11-14 19:20:52,407] Trial 75 finished with value: 795178.8125 and parameters: {'dropout_prob': 0.12000000000000001, 'learning_rate': 0.00039256079217499283, 'batch_size': 16, 'fc1_output': 2217, 'kernel_size': 141, 'stride': 7, 'padding': 3}. Best is trial 59 with value: 678570.25.\n"
     ]
    },
    {
     "name": "stdout",
     "output_type": "stream",
     "text": [
      "Early stopping at epoch 23\n",
      "Best validation MSE: 6222.3438\n",
      "MSE Real Data: 7056776310866.684\n"
     ]
    },
    {
     "name": "stderr",
     "output_type": "stream",
     "text": [
      "[I 2024-11-14 19:21:02,647] Trial 76 finished with value: 744937.75 and parameters: {'dropout_prob': 0.19, 'learning_rate': 0.0005598568285566001, 'batch_size': 96, 'fc1_output': 2697, 'kernel_size': 104, 'stride': 5, 'padding': 4}. Best is trial 59 with value: 678570.25.\n"
     ]
    },
    {
     "name": "stdout",
     "output_type": "stream",
     "text": [
      "Early stopping at epoch 52\n",
      "Best validation MSE: 820.9161\n",
      "MSE Real Data: 14871764577177.656\n"
     ]
    },
    {
     "name": "stderr",
     "output_type": "stream",
     "text": [
      "[I 2024-11-14 19:21:16,180] Trial 77 finished with value: 743625.5625 and parameters: {'dropout_prob': 0.1, 'learning_rate': 0.0001302831583875934, 'batch_size': 80, 'fc1_output': 1865, 'kernel_size': 91, 'stride': 7, 'padding': 9}. Best is trial 59 with value: 678570.25.\n"
     ]
    },
    {
     "name": "stdout",
     "output_type": "stream",
     "text": [
      "Early stopping at epoch 60\n",
      "Best validation MSE: 11.1591\n",
      "MSE Real Data: 3316969643793.614\n"
     ]
    },
    {
     "name": "stderr",
     "output_type": "stream",
     "text": [
      "[I 2024-11-14 19:22:57,718] Trial 78 finished with value: 745476.1875 and parameters: {'dropout_prob': 0.16, 'learning_rate': 0.0002978016292192267, 'batch_size': 12, 'fc1_output': 1344, 'kernel_size': 80, 'stride': 6, 'padding': 3}. Best is trial 59 with value: 678570.25.\n"
     ]
    },
    {
     "name": "stdout",
     "output_type": "stream",
     "text": [
      "Early stopping at epoch 80\n",
      "Best validation MSE: 6692.0391\n",
      "MSE Real Data: 11548480416203.334\n"
     ]
    },
    {
     "name": "stderr",
     "output_type": "stream",
     "text": [
      "[I 2024-11-14 19:23:07,036] Trial 79 finished with value: 791636.375 and parameters: {'dropout_prob': 0.27, 'learning_rate': 0.03603740818376444, 'batch_size': 60, 'fc1_output': 2493, 'kernel_size': 128, 'stride': 8, 'padding': 2}. Best is trial 59 with value: 678570.25.\n"
     ]
    },
    {
     "name": "stdout",
     "output_type": "stream",
     "text": [
      "Early stopping at epoch 32\n",
      "Best validation MSE: 680097.5000\n",
      "MSE Real Data: 81578859025063.55\n"
     ]
    },
    {
     "name": "stderr",
     "output_type": "stream",
     "text": [
      "[I 2024-11-14 19:23:19,243] Trial 80 finished with value: 734094.625 and parameters: {'dropout_prob': 0.21000000000000002, 'learning_rate': 0.00020691902185415864, 'batch_size': 88, 'fc1_output': 2611, 'kernel_size': 114, 'stride': 6, 'padding': 4}. Best is trial 59 with value: 678570.25.\n"
     ]
    },
    {
     "name": "stdout",
     "output_type": "stream",
     "text": [
      "Early stopping at epoch 57\n",
      "Best validation MSE: 38.3278\n",
      "MSE Real Data: 5589353849047.623\n"
     ]
    },
    {
     "name": "stderr",
     "output_type": "stream",
     "text": [
      "[I 2024-11-14 19:23:44,486] Trial 81 finished with value: 718371.125 and parameters: {'dropout_prob': 0.13, 'learning_rate': 0.00016907330189669254, 'batch_size': 24, 'fc1_output': 2775, 'kernel_size': 126, 'stride': 8, 'padding': 4}. Best is trial 59 with value: 678570.25.\n"
     ]
    },
    {
     "name": "stdout",
     "output_type": "stream",
     "text": [
      "Early stopping at epoch 38\n",
      "Best validation MSE: 1566.1539\n",
      "MSE Real Data: 12293190273200.592\n"
     ]
    },
    {
     "name": "stderr",
     "output_type": "stream",
     "text": [
      "[I 2024-11-14 19:24:25,755] Trial 82 finished with value: 737507.4375 and parameters: {'dropout_prob': 0.12000000000000001, 'learning_rate': 0.00025743011330973394, 'batch_size': 16, 'fc1_output': 2928, 'kernel_size': 121, 'stride': 8, 'padding': 3}. Best is trial 59 with value: 678570.25.\n"
     ]
    },
    {
     "name": "stdout",
     "output_type": "stream",
     "text": [
      "Early stopping at epoch 43\n",
      "Best validation MSE: 10046.3311\n",
      "MSE Real Data: 11906573256471.184\n"
     ]
    },
    {
     "name": "stderr",
     "output_type": "stream",
     "text": [
      "[I 2024-11-14 19:27:41,935] Trial 83 finished with value: 758320.375 and parameters: {'dropout_prob': 0.15000000000000002, 'learning_rate': 0.00015065342304432678, 'batch_size': 4, 'fc1_output': 2730, 'kernel_size': 110, 'stride': 7, 'padding': 4}. Best is trial 59 with value: 678570.25.\n"
     ]
    },
    {
     "name": "stdout",
     "output_type": "stream",
     "text": [
      "Early stopping at epoch 53\n",
      "Best validation MSE: 11365.9033\n",
      "MSE Real Data: 13036178555311.75\n"
     ]
    },
    {
     "name": "stderr",
     "output_type": "stream",
     "text": [
      "[I 2024-11-14 19:28:33,672] Trial 84 finished with value: 713249.8125 and parameters: {'dropout_prob': 0.12000000000000001, 'learning_rate': 0.00020417770497216747, 'batch_size': 20, 'fc1_output': 2404, 'kernel_size': 134, 'stride': 7, 'padding': 5}. Best is trial 59 with value: 678570.25.\n"
     ]
    },
    {
     "name": "stdout",
     "output_type": "stream",
     "text": [
      "Early stopping at epoch 66\n",
      "Best validation MSE: 4515.5298\n",
      "MSE Real Data: 13311880812902.531\n"
     ]
    },
    {
     "name": "stderr",
     "output_type": "stream",
     "text": [
      "[I 2024-11-14 19:29:49,887] Trial 85 finished with value: 765528.8125 and parameters: {'dropout_prob': 0.67, 'learning_rate': 0.00010031774299135354, 'batch_size': 12, 'fc1_output': 2284, 'kernel_size': 144, 'stride': 7, 'padding': 5}. Best is trial 59 with value: 678570.25.\n"
     ]
    },
    {
     "name": "stdout",
     "output_type": "stream",
     "text": [
      "Early stopping at epoch 60\n",
      "Best validation MSE: 791.2549\n",
      "MSE Real Data: 8932705476043.82\n"
     ]
    },
    {
     "name": "stderr",
     "output_type": "stream",
     "text": [
      "[I 2024-11-14 19:29:59,048] Trial 86 finished with value: 727520.4375 and parameters: {'dropout_prob': 0.1, 'learning_rate': 0.00043322116492006975, 'batch_size': 76, 'fc1_output': 2366, 'kernel_size': 135, 'stride': 7, 'padding': 6}. Best is trial 59 with value: 678570.25.\n"
     ]
    },
    {
     "name": "stdout",
     "output_type": "stream",
     "text": [
      "Early stopping at epoch 39\n",
      "Best validation MSE: 503.3445\n",
      "MSE Real Data: 8968516618852.818\n"
     ]
    },
    {
     "name": "stderr",
     "output_type": "stream",
     "text": [
      "[I 2024-11-14 19:30:08,597] Trial 87 finished with value: 727750.0 and parameters: {'dropout_prob': 0.18, 'learning_rate': 0.0003453688956115145, 'batch_size': 92, 'fc1_output': 1712, 'kernel_size': 81, 'stride': 6, 'padding': 5}. Best is trial 59 with value: 678570.25.\n"
     ]
    },
    {
     "name": "stdout",
     "output_type": "stream",
     "text": [
      "Early stopping at epoch 48\n",
      "Best validation MSE: 68.7250\n",
      "MSE Real Data: 7875312313110.505\n"
     ]
    },
    {
     "name": "stderr",
     "output_type": "stream",
     "text": [
      "[I 2024-11-14 19:30:17,889] Trial 88 finished with value: 709223.4375 and parameters: {'dropout_prob': 0.14, 'learning_rate': 0.00021418587029120196, 'batch_size': 104, 'fc1_output': 2509, 'kernel_size': 147, 'stride': 6, 'padding': 3}. Best is trial 59 with value: 678570.25.\n"
     ]
    },
    {
     "name": "stdout",
     "output_type": "stream",
     "text": [
      "Early stopping at epoch 52\n",
      "Best validation MSE: 24.2989\n",
      "MSE Real Data: 5696052807995.712\n"
     ]
    },
    {
     "name": "stderr",
     "output_type": "stream",
     "text": [
      "[I 2024-11-14 19:30:24,960] Trial 89 finished with value: 773903.5625 and parameters: {'dropout_prob': 0.58, 'learning_rate': 0.0002835017008499838, 'batch_size': 112, 'fc1_output': 2427, 'kernel_size': 140, 'stride': 1, 'padding': 6}. Best is trial 59 with value: 678570.25.\n"
     ]
    },
    {
     "name": "stdout",
     "output_type": "stream",
     "text": [
      "Early stopping at epoch 36\n",
      "Best validation MSE: 479.5054\n",
      "MSE Real Data: 19999543291370.668\n"
     ]
    },
    {
     "name": "stderr",
     "output_type": "stream",
     "text": [
      "[I 2024-11-14 19:30:37,403] Trial 90 finished with value: 741462.0 and parameters: {'dropout_prob': 0.33999999999999997, 'learning_rate': 0.00021584023131255637, 'batch_size': 124, 'fc1_output': 2174, 'kernel_size': 147, 'stride': 4, 'padding': 3}. Best is trial 59 with value: 678570.25.\n"
     ]
    },
    {
     "name": "stdout",
     "output_type": "stream",
     "text": [
      "Early stopping at epoch 77\n",
      "Best validation MSE: 19.4083\n",
      "MSE Real Data: 5493710180700.653\n"
     ]
    },
    {
     "name": "stderr",
     "output_type": "stream",
     "text": [
      "[I 2024-11-14 19:30:48,890] Trial 91 finished with value: 743826.6875 and parameters: {'dropout_prob': 0.14, 'learning_rate': 0.00015659732527491583, 'batch_size': 104, 'fc1_output': 2545, 'kernel_size': 137, 'stride': 6, 'padding': 3}. Best is trial 59 with value: 678570.25.\n"
     ]
    },
    {
     "name": "stdout",
     "output_type": "stream",
     "text": [
      "Early stopping at epoch 64\n",
      "Best validation MSE: 5.7781\n",
      "MSE Real Data: 3588589608902.538\n"
     ]
    },
    {
     "name": "stderr",
     "output_type": "stream",
     "text": [
      "[I 2024-11-14 19:30:59,388] Trial 92 finished with value: 708545.3125 and parameters: {'dropout_prob': 0.12000000000000001, 'learning_rate': 0.00025752067363584943, 'batch_size': 100, 'fc1_output': 2623, 'kernel_size': 150, 'stride': 7, 'padding': 3}. Best is trial 59 with value: 678570.25.\n"
     ]
    },
    {
     "name": "stdout",
     "output_type": "stream",
     "text": [
      "Early stopping at epoch 56\n",
      "Best validation MSE: 40.5560\n",
      "MSE Real Data: 11167978805367.768\n"
     ]
    },
    {
     "name": "stderr",
     "output_type": "stream",
     "text": [
      "[I 2024-11-14 19:31:07,192] Trial 93 finished with value: 724395.75 and parameters: {'dropout_prob': 0.16, 'learning_rate': 0.0003818676829124168, 'batch_size': 96, 'fc1_output': 2488, 'kernel_size': 147, 'stride': 7, 'padding': 2}. Best is trial 59 with value: 678570.25.\n"
     ]
    },
    {
     "name": "stdout",
     "output_type": "stream",
     "text": [
      "Early stopping at epoch 41\n",
      "Best validation MSE: 125.3167\n",
      "MSE Real Data: 6797739049784.194\n"
     ]
    },
    {
     "name": "stderr",
     "output_type": "stream",
     "text": [
      "[I 2024-11-14 19:31:16,998] Trial 94 finished with value: 722434.875 and parameters: {'dropout_prob': 0.1, 'learning_rate': 0.00047231180984579405, 'batch_size': 100, 'fc1_output': 2613, 'kernel_size': 149, 'stride': 7, 'padding': 3}. Best is trial 59 with value: 678570.25.\n"
     ]
    },
    {
     "name": "stdout",
     "output_type": "stream",
     "text": [
      "Early stopping at epoch 50\n",
      "Best validation MSE: 234.3819\n",
      "MSE Real Data: 5639443020458.358\n"
     ]
    },
    {
     "name": "stderr",
     "output_type": "stream",
     "text": [
      "[I 2024-11-14 19:31:26,894] Trial 95 finished with value: 731261.6875 and parameters: {'dropout_prob': 0.18, 'learning_rate': 0.00024137985399284192, 'batch_size': 100, 'fc1_output': 2277, 'kernel_size': 141, 'stride': 7, 'padding': 4}. Best is trial 59 with value: 678570.25.\n"
     ]
    },
    {
     "name": "stdout",
     "output_type": "stream",
     "text": [
      "Early stopping at epoch 51\n",
      "Best validation MSE: 21.1320\n",
      "MSE Real Data: 5131771985041.262\n"
     ]
    },
    {
     "name": "stderr",
     "output_type": "stream",
     "text": [
      "[I 2024-11-14 19:31:36,771] Trial 96 finished with value: 766678.875 and parameters: {'dropout_prob': 0.15000000000000002, 'learning_rate': 0.00011837486180016877, 'batch_size': 112, 'fc1_output': 2395, 'kernel_size': 134, 'stride': 7, 'padding': 3}. Best is trial 59 with value: 678570.25.\n"
     ]
    },
    {
     "name": "stdout",
     "output_type": "stream",
     "text": [
      "Early stopping at epoch 59\n",
      "Best validation MSE: 3.1684\n",
      "MSE Real Data: 1737548025997.1667\n"
     ]
    },
    {
     "name": "stderr",
     "output_type": "stream",
     "text": [
      "[I 2024-11-14 19:31:46,235] Trial 97 finished with value: 733292.875 and parameters: {'dropout_prob': 0.2, 'learning_rate': 0.00028729837028970207, 'batch_size': 84, 'fc1_output': 2068, 'kernel_size': 144, 'stride': 8, 'padding': 2}. Best is trial 59 with value: 678570.25.\n"
     ]
    },
    {
     "name": "stdout",
     "output_type": "stream",
     "text": [
      "Early stopping at epoch 43\n",
      "Best validation MSE: 48.0792\n",
      "MSE Real Data: 7202764853632.92\n"
     ]
    },
    {
     "name": "stderr",
     "output_type": "stream",
     "text": [
      "[I 2024-11-14 19:31:57,956] Trial 98 finished with value: 731302.75 and parameters: {'dropout_prob': 0.12000000000000001, 'learning_rate': 0.0006169425550769767, 'batch_size': 92, 'fc1_output': 2808, 'kernel_size': 150, 'stride': 7, 'padding': 4}. Best is trial 59 with value: 678570.25.\n"
     ]
    },
    {
     "name": "stdout",
     "output_type": "stream",
     "text": [
      "Early stopping at epoch 59\n",
      "Best validation MSE: 988.5003\n",
      "MSE Real Data: 10732442487698.725\n"
     ]
    },
    {
     "name": "stderr",
     "output_type": "stream",
     "text": [
      "[I 2024-11-14 19:32:06,753] Trial 99 finished with value: 719787.0625 and parameters: {'dropout_prob': 0.14, 'learning_rate': 0.00034884614548103617, 'batch_size': 104, 'fc1_output': 2522, 'kernel_size': 87, 'stride': 6, 'padding': 3}. Best is trial 59 with value: 678570.25.\n"
     ]
    },
    {
     "name": "stdout",
     "output_type": "stream",
     "text": [
      "Early stopping at epoch 49\n",
      "Best validation MSE: 49.2042\n",
      "MSE Real Data: 8380699736272.959\n"
     ]
    },
    {
     "name": "stderr",
     "output_type": "stream",
     "text": [
      "[I 2024-11-14 19:32:14,108] Trial 100 finished with value: 774489.3125 and parameters: {'dropout_prob': 0.23, 'learning_rate': 0.0021030074122546536, 'batch_size': 88, 'fc1_output': 2655, 'kernel_size': 129, 'stride': 5, 'padding': 5}. Best is trial 59 with value: 678570.25.\n"
     ]
    },
    {
     "name": "stdout",
     "output_type": "stream",
     "text": [
      "Early stopping at epoch 34\n",
      "Best validation MSE: 7599.2729\n",
      "MSE Real Data: 27897000228381.406\n"
     ]
    },
    {
     "name": "stderr",
     "output_type": "stream",
     "text": [
      "[I 2024-11-14 19:32:23,836] Trial 101 finished with value: 722712.8125 and parameters: {'dropout_prob': 0.12000000000000001, 'learning_rate': 0.00018841216964213356, 'batch_size': 96, 'fc1_output': 2883, 'kernel_size': 139, 'stride': 6, 'padding': 3}. Best is trial 59 with value: 678570.25.\n"
     ]
    },
    {
     "name": "stdout",
     "output_type": "stream",
     "text": [
      "Early stopping at epoch 50\n",
      "Best validation MSE: 8.7294\n",
      "MSE Real Data: 6048543614810.182\n"
     ]
    },
    {
     "name": "stderr",
     "output_type": "stream",
     "text": [
      "[I 2024-11-14 19:32:32,396] Trial 102 finished with value: 726803.3125 and parameters: {'dropout_prob': 0.11, 'learning_rate': 0.00021840601903128272, 'batch_size': 104, 'fc1_output': 2586, 'kernel_size': 132, 'stride': 7, 'padding': 3}. Best is trial 59 with value: 678570.25.\n"
     ]
    },
    {
     "name": "stdout",
     "output_type": "stream",
     "text": [
      "Early stopping at epoch 49\n",
      "Best validation MSE: 11.9691\n",
      "MSE Real Data: 5357002414139.449\n"
     ]
    },
    {
     "name": "stderr",
     "output_type": "stream",
     "text": [
      "[I 2024-11-14 19:32:43,967] Trial 103 finished with value: 744304.8125 and parameters: {'dropout_prob': 0.14, 'learning_rate': 0.00013868008159374545, 'batch_size': 108, 'fc1_output': 2435, 'kernel_size': 74, 'stride': 6, 'padding': 4}. Best is trial 59 with value: 678570.25.\n"
     ]
    },
    {
     "name": "stdout",
     "output_type": "stream",
     "text": [
      "Early stopping at epoch 66\n",
      "Best validation MSE: 6.9856\n",
      "MSE Real Data: 3000147073965.9253\n"
     ]
    },
    {
     "name": "stderr",
     "output_type": "stream",
     "text": [
      "[I 2024-11-14 19:34:21,270] Trial 104 finished with value: 718717.375 and parameters: {'dropout_prob': 0.17, 'learning_rate': 0.00016659071967991106, 'batch_size': 8, 'fc1_output': 1535, 'kernel_size': 121, 'stride': 7, 'padding': 2}. Best is trial 59 with value: 678570.25.\n"
     ]
    },
    {
     "name": "stdout",
     "output_type": "stream",
     "text": [
      "Early stopping at epoch 52\n",
      "Best validation MSE: 11341.2539\n",
      "MSE Real Data: 14458317419667.09\n"
     ]
    },
    {
     "name": "stderr",
     "output_type": "stream",
     "text": [
      "[I 2024-11-14 19:34:36,385] Trial 105 finished with value: 714264.1875 and parameters: {'dropout_prob': 0.12000000000000001, 'learning_rate': 0.0002581441452334794, 'batch_size': 48, 'fc1_output': 2335, 'kernel_size': 147, 'stride': 6, 'padding': 3}. Best is trial 59 with value: 678570.25.\n"
     ]
    },
    {
     "name": "stdout",
     "output_type": "stream",
     "text": [
      "Early stopping at epoch 43\n",
      "Best validation MSE: 531.9120\n",
      "MSE Real Data: 10205708112373.742\n"
     ]
    },
    {
     "name": "stderr",
     "output_type": "stream",
     "text": [
      "[I 2024-11-14 19:36:02,442] Trial 106 finished with value: 813494.25 and parameters: {'dropout_prob': 0.79, 'learning_rate': 0.0003091723923788341, 'batch_size': 4, 'fc1_output': 2993, 'kernel_size': 116, 'stride': 5, 'padding': 3}. Best is trial 59 with value: 678570.25.\n"
     ]
    },
    {
     "name": "stdout",
     "output_type": "stream",
     "text": [
      "Early stopping at epoch 23\n",
      "Best validation MSE: 7135.2788\n",
      "MSE Real Data: 11927635812748.75\n"
     ]
    },
    {
     "name": "stderr",
     "output_type": "stream",
     "text": [
      "[I 2024-11-14 19:36:13,115] Trial 107 finished with value: 719568.75 and parameters: {'dropout_prob': 0.14, 'learning_rate': 0.0001807424784633843, 'batch_size': 96, 'fc1_output': 2710, 'kernel_size': 107, 'stride': 6, 'padding': 4}. Best is trial 59 with value: 678570.25.\n"
     ]
    },
    {
     "name": "stdout",
     "output_type": "stream",
     "text": [
      "Early stopping at epoch 55\n",
      "Best validation MSE: 30.3598\n",
      "MSE Real Data: 5879928486388.7\n"
     ]
    },
    {
     "name": "stderr",
     "output_type": "stream",
     "text": [
      "[I 2024-11-14 19:36:36,676] Trial 108 finished with value: 718751.5 and parameters: {'dropout_prob': 0.21000000000000002, 'learning_rate': 0.00011414480949804148, 'batch_size': 40, 'fc1_output': 2821, 'kernel_size': 102, 'stride': 7, 'padding': 3}. Best is trial 59 with value: 678570.25.\n"
     ]
    },
    {
     "name": "stdout",
     "output_type": "stream",
     "text": [
      "Early stopping at epoch 56\n",
      "Best validation MSE: 95.3474\n",
      "MSE Real Data: 8666056794976.989\n"
     ]
    },
    {
     "name": "stderr",
     "output_type": "stream",
     "text": [
      "[I 2024-11-14 19:37:32,839] Trial 109 finished with value: 791311.3125 and parameters: {'dropout_prob': 0.18, 'learning_rate': 0.0007839033932765284, 'batch_size': 20, 'fc1_output': 2623, 'kernel_size': 143, 'stride': 8, 'padding': 2}. Best is trial 59 with value: 678570.25.\n"
     ]
    },
    {
     "name": "stdout",
     "output_type": "stream",
     "text": [
      "Early stopping at epoch 71\n",
      "Best validation MSE: 6808.9761\n",
      "MSE Real Data: 13203660478053.338\n"
     ]
    },
    {
     "name": "stderr",
     "output_type": "stream",
     "text": [
      "[I 2024-11-14 19:37:39,916] Trial 110 finished with value: 736695.625 and parameters: {'dropout_prob': 0.11, 'learning_rate': 0.00039377886996674026, 'batch_size': 84, 'fc1_output': 806, 'kernel_size': 124, 'stride': 6, 'padding': 3}. Best is trial 59 with value: 678570.25.\n"
     ]
    },
    {
     "name": "stdout",
     "output_type": "stream",
     "text": [
      "Early stopping at epoch 32\n",
      "Best validation MSE: 65.6298\n",
      "MSE Real Data: 8317601270390.056\n"
     ]
    },
    {
     "name": "stderr",
     "output_type": "stream",
     "text": [
      "[I 2024-11-14 19:38:02,079] Trial 111 finished with value: 720050.0 and parameters: {'dropout_prob': 0.12000000000000001, 'learning_rate': 0.0002499232547542262, 'batch_size': 48, 'fc1_output': 2335, 'kernel_size': 147, 'stride': 6, 'padding': 3}. Best is trial 59 with value: 678570.25.\n"
     ]
    },
    {
     "name": "stdout",
     "output_type": "stream",
     "text": [
      "Early stopping at epoch 65\n",
      "Best validation MSE: 507.5635\n",
      "MSE Real Data: 9145491862189.78\n"
     ]
    },
    {
     "name": "stderr",
     "output_type": "stream",
     "text": [
      "[I 2024-11-14 19:38:15,148] Trial 112 finished with value: 716142.4375 and parameters: {'dropout_prob': 0.1, 'learning_rate': 0.00027473233629045883, 'batch_size': 56, 'fc1_output': 1949, 'kernel_size': 68, 'stride': 6, 'padding': 3}. Best is trial 59 with value: 678570.25.\n"
     ]
    },
    {
     "name": "stdout",
     "output_type": "stream",
     "text": [
      "Early stopping at epoch 43\n",
      "Best validation MSE: 350.4243\n",
      "MSE Real Data: 10069935753060.338\n"
     ]
    },
    {
     "name": "stderr",
     "output_type": "stream",
     "text": [
      "[I 2024-11-14 19:38:35,887] Trial 113 finished with value: 744638.3125 and parameters: {'dropout_prob': 0.16, 'learning_rate': 0.000221154627286966, 'batch_size': 28, 'fc1_output': 2236, 'kernel_size': 97, 'stride': 7, 'padding': 3}. Best is trial 59 with value: 678570.25.\n"
     ]
    },
    {
     "name": "stdout",
     "output_type": "stream",
     "text": [
      "Early stopping at epoch 37\n",
      "Best validation MSE: 1772.2021\n",
      "MSE Real Data: 12549662518878.787\n"
     ]
    },
    {
     "name": "stderr",
     "output_type": "stream",
     "text": [
      "[I 2024-11-14 19:38:50,784] Trial 114 finished with value: 741186.1875 and parameters: {'dropout_prob': 0.4, 'learning_rate': 0.00019910558537790786, 'batch_size': 100, 'fc1_output': 2482, 'kernel_size': 146, 'stride': 6, 'padding': 4}. Best is trial 59 with value: 678570.25.\n"
     ]
    },
    {
     "name": "stdout",
     "output_type": "stream",
     "text": [
      "Early stopping at epoch 79\n",
      "Best validation MSE: 18.9887\n",
      "MSE Real Data: 6351861396638.331\n"
     ]
    },
    {
     "name": "stderr",
     "output_type": "stream",
     "text": [
      "[I 2024-11-14 19:39:11,527] Trial 115 finished with value: 727165.9375 and parameters: {'dropout_prob': 0.14, 'learning_rate': 0.0003091404049916095, 'batch_size': 36, 'fc1_output': 2143, 'kernel_size': 138, 'stride': 7, 'padding': 2}. Best is trial 59 with value: 678570.25.\n"
     ]
    },
    {
     "name": "stdout",
     "output_type": "stream",
     "text": [
      "Early stopping at epoch 46\n",
      "Best validation MSE: 2038.0052\n",
      "MSE Real Data: 11108141100473.648\n"
     ]
    },
    {
     "name": "stderr",
     "output_type": "stream",
     "text": [
      "[I 2024-11-14 19:39:19,588] Trial 116 finished with value: 715822.0625 and parameters: {'dropout_prob': 0.12000000000000001, 'learning_rate': 0.00024412587562412297, 'batch_size': 88, 'fc1_output': 2557, 'kernel_size': 118, 'stride': 5, 'padding': 3}. Best is trial 59 with value: 678570.25.\n"
     ]
    },
    {
     "name": "stdout",
     "output_type": "stream",
     "text": [
      "Early stopping at epoch 38\n",
      "Best validation MSE: 89.7879\n",
      "MSE Real Data: 8725586964632.8\n"
     ]
    },
    {
     "name": "stderr",
     "output_type": "stream",
     "text": [
      "[I 2024-11-14 19:40:41,224] Trial 117 finished with value: 738921.375 and parameters: {'dropout_prob': 0.16, 'learning_rate': 0.00014521953080557363, 'batch_size': 8, 'fc1_output': 2691, 'kernel_size': 133, 'stride': 7, 'padding': 4}. Best is trial 59 with value: 678570.25.\n"
     ]
    },
    {
     "name": "stdout",
     "output_type": "stream",
     "text": [
      "Early stopping at epoch 43\n",
      "Best validation MSE: 10552.0312\n",
      "MSE Real Data: 12882612942773.96\n"
     ]
    },
    {
     "name": "stderr",
     "output_type": "stream",
     "text": [
      "[I 2024-11-14 19:41:05,432] Trial 118 finished with value: 796029.75 and parameters: {'dropout_prob': 0.1, 'learning_rate': 0.005296326621773079, 'batch_size': 24, 'fc1_output': 2319, 'kernel_size': 143, 'stride': 6, 'padding': 3}. Best is trial 59 with value: 678570.25.\n"
     ]
    },
    {
     "name": "stdout",
     "output_type": "stream",
     "text": [
      "Early stopping at epoch 36\n",
      "Best validation MSE: 8434.2393\n",
      "MSE Real Data: 28118628678218.406\n"
     ]
    },
    {
     "name": "stderr",
     "output_type": "stream",
     "text": [
      "[I 2024-11-14 19:41:21,554] Trial 119 finished with value: 791744.625 and parameters: {'dropout_prob': 0.19, 'learning_rate': 0.0005033437403727703, 'batch_size': 32, 'fc1_output': 2389, 'kernel_size': 82, 'stride': 7, 'padding': 3}. Best is trial 59 with value: 678570.25.\n"
     ]
    },
    {
     "name": "stdout",
     "output_type": "stream",
     "text": [
      "Early stopping at epoch 31\n",
      "Best validation MSE: 7612.1147\n",
      "MSE Real Data: 8540178330560.598\n"
     ]
    },
    {
     "name": "stderr",
     "output_type": "stream",
     "text": [
      "[I 2024-11-14 19:41:31,714] Trial 120 finished with value: 738424.1875 and parameters: {'dropout_prob': 0.13, 'learning_rate': 0.000377635068578846, 'batch_size': 92, 'fc1_output': 2765, 'kernel_size': 112, 'stride': 6, 'padding': 2}. Best is trial 59 with value: 678570.25.\n"
     ]
    },
    {
     "name": "stdout",
     "output_type": "stream",
     "text": [
      "Early stopping at epoch 49\n",
      "Best validation MSE: 119.0560\n",
      "MSE Real Data: 5580426146172.734\n"
     ]
    },
    {
     "name": "stderr",
     "output_type": "stream",
     "text": [
      "[I 2024-11-14 19:42:33,964] Trial 121 finished with value: 704121.375 and parameters: {'dropout_prob': 0.12000000000000001, 'learning_rate': 0.00018755650068289441, 'batch_size': 20, 'fc1_output': 2926, 'kernel_size': 126, 'stride': 8, 'padding': 4}. Best is trial 59 with value: 678570.25.\n"
     ]
    },
    {
     "name": "stdout",
     "output_type": "stream",
     "text": [
      "Early stopping at epoch 79\n",
      "Best validation MSE: 4398.6313\n",
      "MSE Real Data: 11985972499364.812\n"
     ]
    },
    {
     "name": "stderr",
     "output_type": "stream",
     "text": [
      "[I 2024-11-14 19:43:17,913] Trial 122 finished with value: 704425.375 and parameters: {'dropout_prob': 0.12000000000000001, 'learning_rate': 0.0001703855452628236, 'batch_size': 20, 'fc1_output': 2933, 'kernel_size': 129, 'stride': 9, 'padding': 4}. Best is trial 59 with value: 678570.25.\n"
     ]
    },
    {
     "name": "stdout",
     "output_type": "stream",
     "text": [
      "Early stopping at epoch 56\n",
      "Best validation MSE: 2983.9189\n",
      "MSE Real Data: 14903630613845.633\n"
     ]
    },
    {
     "name": "stderr",
     "output_type": "stream",
     "text": [
      "[I 2024-11-14 19:43:47,749] Trial 123 finished with value: 715739.9375 and parameters: {'dropout_prob': 0.15000000000000002, 'learning_rate': 0.00017195952215043228, 'batch_size': 20, 'fc1_output': 2916, 'kernel_size': 130, 'stride': 9, 'padding': 5}. Best is trial 59 with value: 678570.25.\n"
     ]
    },
    {
     "name": "stdout",
     "output_type": "stream",
     "text": [
      "Early stopping at epoch 38\n",
      "Best validation MSE: 2702.1658\n",
      "MSE Real Data: 11631474292109.338\n"
     ]
    },
    {
     "name": "stderr",
     "output_type": "stream",
     "text": [
      "[I 2024-11-14 19:44:38,301] Trial 124 finished with value: 706727.6875 and parameters: {'dropout_prob': 0.1, 'learning_rate': 0.00012830372136066686, 'batch_size': 12, 'fc1_output': 2889, 'kernel_size': 121, 'stride': 10, 'padding': 4}. Best is trial 59 with value: 678570.25.\n"
     ]
    },
    {
     "name": "stdout",
     "output_type": "stream",
     "text": [
      "Early stopping at epoch 40\n",
      "Best validation MSE: 5276.9009\n",
      "MSE Real Data: 14497327309830.14\n"
     ]
    },
    {
     "name": "stderr",
     "output_type": "stream",
     "text": [
      "[I 2024-11-14 19:45:08,819] Trial 125 finished with value: 749440.6875 and parameters: {'dropout_prob': 0.1, 'learning_rate': 0.00014341376604650165, 'batch_size': 12, 'fc1_output': 2857, 'kernel_size': 126, 'stride': 10, 'padding': 4}. Best is trial 59 with value: 678570.25.\n"
     ]
    },
    {
     "name": "stdout",
     "output_type": "stream",
     "text": [
      "Early stopping at epoch 24\n",
      "Best validation MSE: 7090.0806\n",
      "MSE Real Data: 45951053784280.57\n"
     ]
    },
    {
     "name": "stderr",
     "output_type": "stream",
     "text": [
      "[I 2024-11-14 19:45:59,610] Trial 126 finished with value: 715185.3125 and parameters: {'dropout_prob': 0.14, 'learning_rate': 0.00020644571514424345, 'batch_size': 16, 'fc1_output': 2931, 'kernel_size': 123, 'stride': 10, 'padding': 4}. Best is trial 59 with value: 678570.25.\n"
     ]
    },
    {
     "name": "stdout",
     "output_type": "stream",
     "text": [
      "Early stopping at epoch 52\n",
      "Best validation MSE: 7340.1797\n",
      "MSE Real Data: 14519272697130.947\n"
     ]
    },
    {
     "name": "stderr",
     "output_type": "stream",
     "text": [
      "[I 2024-11-14 19:47:38,245] Trial 127 finished with value: 714058.5 and parameters: {'dropout_prob': 0.16, 'learning_rate': 0.00011539207522140004, 'batch_size': 8, 'fc1_output': 2788, 'kernel_size': 121, 'stride': 9, 'padding': 5}. Best is trial 59 with value: 678570.25.\n"
     ]
    },
    {
     "name": "stdout",
     "output_type": "stream",
     "text": [
      "Early stopping at epoch 52\n",
      "Best validation MSE: 9663.4814\n",
      "MSE Real Data: 15244258037018.059\n"
     ]
    },
    {
     "name": "stderr",
     "output_type": "stream",
     "text": [
      "[I 2024-11-14 19:48:07,609] Trial 128 finished with value: 784342.125 and parameters: {'dropout_prob': 0.1, 'learning_rate': 0.00016464034368760268, 'batch_size': 12, 'fc1_output': 3000, 'kernel_size': 131, 'stride': 9, 'padding': 4}. Best is trial 59 with value: 678570.25.\n"
     ]
    },
    {
     "name": "stdout",
     "output_type": "stream",
     "text": [
      "Early stopping at epoch 23\n",
      "Best validation MSE: 10374.8252\n",
      "MSE Real Data: 34319655504624.453\n"
     ]
    },
    {
     "name": "stderr",
     "output_type": "stream",
     "text": [
      "[I 2024-11-14 19:51:22,623] Trial 129 finished with value: 694163.0 and parameters: {'dropout_prob': 0.18, 'learning_rate': 0.00013434359311599483, 'batch_size': 4, 'fc1_output': 2862, 'kernel_size': 135, 'stride': 10, 'padding': 7}. Best is trial 59 with value: 678570.25.\n"
     ]
    },
    {
     "name": "stdout",
     "output_type": "stream",
     "text": [
      "Early stopping at epoch 52\n",
      "Best validation MSE: 26200.5332\n",
      "MSE Real Data: 19950891772271.383\n"
     ]
    },
    {
     "name": "stderr",
     "output_type": "stream",
     "text": [
      "[I 2024-11-14 19:55:31,569] Trial 130 finished with value: 690110.4375 and parameters: {'dropout_prob': 0.18, 'learning_rate': 0.00013036005115076414, 'batch_size': 4, 'fc1_output': 2846, 'kernel_size': 33, 'stride': 10, 'padding': 8}. Best is trial 59 with value: 678570.25.\n"
     ]
    },
    {
     "name": "stdout",
     "output_type": "stream",
     "text": [
      "Early stopping at epoch 68\n",
      "Best validation MSE: 25570.5879\n",
      "MSE Real Data: 19550537685276.375\n"
     ]
    },
    {
     "name": "stderr",
     "output_type": "stream",
     "text": [
      "[I 2024-11-14 19:58:21,375] Trial 131 finished with value: 696294.875 and parameters: {'dropout_prob': 0.2, 'learning_rate': 0.00012978910571283296, 'batch_size': 4, 'fc1_output': 2878, 'kernel_size': 40, 'stride': 10, 'padding': 8}. Best is trial 59 with value: 678570.25.\n"
     ]
    },
    {
     "name": "stdout",
     "output_type": "stream",
     "text": [
      "Early stopping at epoch 46\n",
      "Best validation MSE: 24282.6797\n",
      "MSE Real Data: 18921775997096.27\n"
     ]
    },
    {
     "name": "stderr",
     "output_type": "stream",
     "text": [
      "[I 2024-11-14 20:02:28,515] Trial 132 finished with value: 710648.375 and parameters: {'dropout_prob': 0.2, 'learning_rate': 0.00012951984876408016, 'batch_size': 4, 'fc1_output': 2845, 'kernel_size': 23, 'stride': 10, 'padding': 8}. Best is trial 59 with value: 678570.25.\n"
     ]
    },
    {
     "name": "stdout",
     "output_type": "stream",
     "text": [
      "Early stopping at epoch 67\n",
      "Best validation MSE: 12184.1182\n",
      "MSE Real Data: 18844131459184.566\n"
     ]
    },
    {
     "name": "stderr",
     "output_type": "stream",
     "text": [
      "[I 2024-11-14 20:05:15,050] Trial 133 finished with value: 701130.3125 and parameters: {'dropout_prob': 0.23, 'learning_rate': 0.00012405645099260244, 'batch_size': 4, 'fc1_output': 2872, 'kernel_size': 32, 'stride': 10, 'padding': 8}. Best is trial 59 with value: 678570.25.\n"
     ]
    },
    {
     "name": "stdout",
     "output_type": "stream",
     "text": [
      "Early stopping at epoch 45\n",
      "Best validation MSE: 19954.3223\n",
      "MSE Real Data: 17064944321531.518\n"
     ]
    },
    {
     "name": "stderr",
     "output_type": "stream",
     "text": [
      "[I 2024-11-14 20:08:55,920] Trial 134 finished with value: 701187.0 and parameters: {'dropout_prob': 0.23, 'learning_rate': 0.0001007558724322118, 'batch_size': 4, 'fc1_output': 2882, 'kernel_size': 31, 'stride': 10, 'padding': 8}. Best is trial 59 with value: 678570.25.\n"
     ]
    },
    {
     "name": "stdout",
     "output_type": "stream",
     "text": [
      "Early stopping at epoch 60\n",
      "Best validation MSE: 19492.6504\n",
      "MSE Real Data: 17228782599317.217\n"
     ]
    },
    {
     "name": "stderr",
     "output_type": "stream",
     "text": [
      "[I 2024-11-14 20:12:09,038] Trial 135 finished with value: 704436.125 and parameters: {'dropout_prob': 0.26, 'learning_rate': 0.00012120148644263339, 'batch_size': 4, 'fc1_output': 2925, 'kernel_size': 35, 'stride': 10, 'padding': 8}. Best is trial 59 with value: 678570.25.\n"
     ]
    },
    {
     "name": "stdout",
     "output_type": "stream",
     "text": [
      "Early stopping at epoch 52\n",
      "Best validation MSE: 20383.9004\n",
      "MSE Real Data: 17341036690003.695\n"
     ]
    },
    {
     "name": "stderr",
     "output_type": "stream",
     "text": [
      "[I 2024-11-14 20:14:37,065] Trial 136 finished with value: 701623.5 and parameters: {'dropout_prob': 0.26, 'learning_rate': 0.00010372840900459256, 'batch_size': 4, 'fc1_output': 2930, 'kernel_size': 34, 'stride': 10, 'padding': 8}. Best is trial 59 with value: 678570.25.\n"
     ]
    },
    {
     "name": "stdout",
     "output_type": "stream",
     "text": [
      "Early stopping at epoch 40\n",
      "Best validation MSE: 18009.5254\n",
      "MSE Real Data: 15939082726036.002\n"
     ]
    },
    {
     "name": "stderr",
     "output_type": "stream",
     "text": [
      "[I 2024-11-14 20:18:01,415] Trial 137 finished with value: 702841.8125 and parameters: {'dropout_prob': 0.31, 'learning_rate': 0.0001300438028142971, 'batch_size': 4, 'fc1_output': 2933, 'kernel_size': 37, 'stride': 10, 'padding': 8}. Best is trial 59 with value: 678570.25.\n"
     ]
    },
    {
     "name": "stdout",
     "output_type": "stream",
     "text": [
      "Early stopping at epoch 56\n",
      "Best validation MSE: 19838.2285\n",
      "MSE Real Data: 15633150625422.518\n"
     ]
    },
    {
     "name": "stderr",
     "output_type": "stream",
     "text": [
      "[I 2024-11-14 20:21:09,032] Trial 138 finished with value: 706798.6875 and parameters: {'dropout_prob': 0.30000000000000004, 'learning_rate': 0.00010354372023751764, 'batch_size': 4, 'fc1_output': 2925, 'kernel_size': 37, 'stride': 10, 'padding': 8}. Best is trial 59 with value: 678570.25.\n"
     ]
    },
    {
     "name": "stdout",
     "output_type": "stream",
     "text": [
      "Early stopping at epoch 51\n",
      "Best validation MSE: 17209.3906\n",
      "MSE Real Data: 16622796780211.936\n"
     ]
    },
    {
     "name": "stderr",
     "output_type": "stream",
     "text": [
      "[I 2024-11-14 20:22:55,753] Trial 139 finished with value: 721043.125 and parameters: {'dropout_prob': 0.27, 'learning_rate': 0.0001200584633875942, 'batch_size': 8, 'fc1_output': 2879, 'kernel_size': 30, 'stride': 10, 'padding': 9}. Best is trial 59 with value: 678570.25.\n"
     ]
    },
    {
     "name": "stdout",
     "output_type": "stream",
     "text": [
      "Early stopping at epoch 57\n",
      "Best validation MSE: 8277.5547\n",
      "MSE Real Data: 17181507877698.752\n"
     ]
    },
    {
     "name": "stderr",
     "output_type": "stream",
     "text": [
      "[I 2024-11-14 20:25:39,812] Trial 140 finished with value: 711905.375 and parameters: {'dropout_prob': 0.25, 'learning_rate': 0.00010243912753271586, 'batch_size': 4, 'fc1_output': 2955, 'kernel_size': 44, 'stride': 10, 'padding': 8}. Best is trial 59 with value: 678570.25.\n"
     ]
    },
    {
     "name": "stdout",
     "output_type": "stream",
     "text": [
      "Early stopping at epoch 44\n",
      "Best validation MSE: 17066.5293\n",
      "MSE Real Data: 16104138234819.05\n"
     ]
    },
    {
     "name": "stderr",
     "output_type": "stream",
     "text": [
      "[I 2024-11-14 20:29:23,881] Trial 141 finished with value: 708252.5625 and parameters: {'dropout_prob': 0.32, 'learning_rate': 0.00010112936845334845, 'batch_size': 4, 'fc1_output': 2946, 'kernel_size': 35, 'stride': 10, 'padding': 8}. Best is trial 59 with value: 678570.25.\n"
     ]
    },
    {
     "name": "stdout",
     "output_type": "stream",
     "text": [
      "Early stopping at epoch 61\n",
      "Best validation MSE: 17370.0449\n",
      "MSE Real Data: 17963912873377.074\n"
     ]
    },
    {
     "name": "stderr",
     "output_type": "stream",
     "text": [
      "[I 2024-11-14 20:30:52,702] Trial 142 finished with value: 725492.375 and parameters: {'dropout_prob': 0.30000000000000004, 'learning_rate': 0.00012606860424336223, 'batch_size': 8, 'fc1_output': 2895, 'kernel_size': 36, 'stride': 10, 'padding': 7}. Best is trial 59 with value: 678570.25.\n"
     ]
    },
    {
     "name": "stdout",
     "output_type": "stream",
     "text": [
      "Early stopping at epoch 47\n",
      "Best validation MSE: 8230.7461\n",
      "MSE Real Data: 15580211754930.312\n"
     ]
    },
    {
     "name": "stderr",
     "output_type": "stream",
     "text": [
      "[I 2024-11-14 20:34:52,174] Trial 143 finished with value: 694203.1875 and parameters: {'dropout_prob': 0.25, 'learning_rate': 0.0001341627271728369, 'batch_size': 4, 'fc1_output': 2833, 'kernel_size': 40, 'stride': 10, 'padding': 7}. Best is trial 59 with value: 678570.25.\n"
     ]
    },
    {
     "name": "stdout",
     "output_type": "stream",
     "text": [
      "Early stopping at epoch 65\n",
      "Best validation MSE: 23408.7109\n",
      "MSE Real Data: 22234164492290.895\n"
     ]
    },
    {
     "name": "stderr",
     "output_type": "stream",
     "text": [
      "[I 2024-11-14 20:36:37,008] Trial 144 finished with value: 748585.4375 and parameters: {'dropout_prob': 0.25, 'learning_rate': 0.00013228968440578932, 'batch_size': 8, 'fc1_output': 2792, 'kernel_size': 30, 'stride': 10, 'padding': 9}. Best is trial 59 with value: 678570.25.\n"
     ]
    },
    {
     "name": "stdout",
     "output_type": "stream",
     "text": [
      "Early stopping at epoch 56\n",
      "Best validation MSE: 8920.4570\n",
      "MSE Real Data: 8324965161860.689\n"
     ]
    },
    {
     "name": "stderr",
     "output_type": "stream",
     "text": [
      "[I 2024-11-14 20:37:34,566] Trial 145 finished with value: 732739.9375 and parameters: {'dropout_prob': 0.27, 'learning_rate': 0.00015122705558161272, 'batch_size': 12, 'fc1_output': 2843, 'kernel_size': 40, 'stride': 10, 'padding': 7}. Best is trial 59 with value: 678570.25.\n"
     ]
    },
    {
     "name": "stdout",
     "output_type": "stream",
     "text": [
      "Early stopping at epoch 45\n",
      "Best validation MSE: 5623.5547\n",
      "MSE Real Data: 12702169803115.49\n"
     ]
    },
    {
     "name": "stderr",
     "output_type": "stream",
     "text": [
      "[I 2024-11-14 20:41:20,994] Trial 146 finished with value: 703270.9375 and parameters: {'dropout_prob': 0.24000000000000002, 'learning_rate': 0.0001166472773218259, 'batch_size': 4, 'fc1_output': 2985, 'kernel_size': 26, 'stride': 10, 'padding': 8}. Best is trial 59 with value: 678570.25.\n"
     ]
    },
    {
     "name": "stdout",
     "output_type": "stream",
     "text": [
      "Early stopping at epoch 61\n",
      "Best validation MSE: 22126.9062\n",
      "MSE Real Data: 15765831943709.604\n"
     ]
    },
    {
     "name": "stderr",
     "output_type": "stream",
     "text": [
      "[I 2024-11-14 20:45:06,352] Trial 147 finished with value: 709959.1875 and parameters: {'dropout_prob': 0.23, 'learning_rate': 0.00011686950308357229, 'batch_size': 4, 'fc1_output': 2967, 'kernel_size': 32, 'stride': 9, 'padding': 8}. Best is trial 59 with value: 678570.25.\n"
     ]
    },
    {
     "name": "stdout",
     "output_type": "stream",
     "text": [
      "Early stopping at epoch 61\n",
      "Best validation MSE: 21323.0137\n",
      "MSE Real Data: 14702964061773.725\n"
     ]
    },
    {
     "name": "stderr",
     "output_type": "stream",
     "text": [
      "[I 2024-11-14 20:45:47,553] Trial 148 finished with value: 789514.5625 and parameters: {'dropout_prob': 0.24000000000000002, 'learning_rate': 0.00015082906255178857, 'batch_size': 8, 'fc1_output': 2987, 'kernel_size': 26, 'stride': 10, 'padding': 8}. Best is trial 59 with value: 678570.25.\n"
     ]
    },
    {
     "name": "stdout",
     "output_type": "stream",
     "text": [
      "Early stopping at epoch 22\n",
      "Best validation MSE: 7728.9624\n",
      "MSE Real Data: 25667661034737.164\n"
     ]
    },
    {
     "name": "stderr",
     "output_type": "stream",
     "text": [
      "[I 2024-11-14 20:50:02,400] Trial 149 finished with value: 707464.6875 and parameters: {'dropout_prob': 0.28, 'learning_rate': 0.00011184834259499612, 'batch_size': 4, 'fc1_output': 2816, 'kernel_size': 46, 'stride': 10, 'padding': 8}. Best is trial 59 with value: 678570.25.\n"
     ]
    },
    {
     "name": "stdout",
     "output_type": "stream",
     "text": [
      "Early stopping at epoch 69\n",
      "Best validation MSE: 17919.1777\n",
      "MSE Real Data: 16380565229540.053\n"
     ]
    },
    {
     "name": "stderr",
     "output_type": "stream",
     "text": [
      "[I 2024-11-14 20:51:17,527] Trial 150 finished with value: 728715.0 and parameters: {'dropout_prob': 0.33999999999999997, 'learning_rate': 0.00013820122309794215, 'batch_size': 8, 'fc1_output': 2752, 'kernel_size': 42, 'stride': 10, 'padding': 8}. Best is trial 59 with value: 678570.25.\n"
     ]
    },
    {
     "name": "stdout",
     "output_type": "stream",
     "text": [
      "Early stopping at epoch 40\n",
      "Best validation MSE: 8396.1123\n",
      "MSE Real Data: 16581063729449.264\n"
     ]
    },
    {
     "name": "stderr",
     "output_type": "stream",
     "text": [
      "[I 2024-11-14 20:52:36,336] Trial 151 finished with value: 720079.3125 and parameters: {'dropout_prob': 0.22, 'learning_rate': 0.0001221634937901188, 'batch_size': 12, 'fc1_output': 2893, 'kernel_size': 34, 'stride': 10, 'padding': 7}. Best is trial 59 with value: 678570.25.\n"
     ]
    },
    {
     "name": "stdout",
     "output_type": "stream",
     "text": [
      "Early stopping at epoch 62\n",
      "Best validation MSE: 3757.4080\n",
      "MSE Real Data: 14463207899476.125\n"
     ]
    },
    {
     "name": "stderr",
     "output_type": "stream",
     "text": [
      "[I 2024-11-14 20:56:35,965] Trial 152 finished with value: 773201.5625 and parameters: {'dropout_prob': 0.25, 'learning_rate': 0.00016503107859860695, 'batch_size': 4, 'fc1_output': 2999, 'kernel_size': 39, 'stride': 10, 'padding': 8}. Best is trial 59 with value: 678570.25.\n"
     ]
    },
    {
     "name": "stdout",
     "output_type": "stream",
     "text": [
      "Early stopping at epoch 65\n",
      "Best validation MSE: 8096.8892\n",
      "MSE Real Data: 12068653221111.59\n"
     ]
    },
    {
     "name": "stderr",
     "output_type": "stream",
     "text": [
      "[I 2024-11-14 20:57:20,170] Trial 153 finished with value: 724453.375 and parameters: {'dropout_prob': 0.26, 'learning_rate': 0.00013327526276047375, 'batch_size': 16, 'fc1_output': 2876, 'kernel_size': 26, 'stride': 9, 'padding': 8}. Best is trial 59 with value: 678570.25.\n"
     ]
    },
    {
     "name": "stdout",
     "output_type": "stream",
     "text": [
      "Early stopping at epoch 46\n",
      "Best validation MSE: 2188.4026\n",
      "MSE Real Data: 11580364054022.336\n"
     ]
    },
    {
     "name": "stderr",
     "output_type": "stream",
     "text": [
      "[I 2024-11-14 20:58:32,280] Trial 154 finished with value: 717980.6875 and parameters: {'dropout_prob': 0.22, 'learning_rate': 0.00011320612691647966, 'batch_size': 8, 'fc1_output': 2913, 'kernel_size': 33, 'stride': 10, 'padding': 9}. Best is trial 59 with value: 678570.25.\n"
     ]
    },
    {
     "name": "stdout",
     "output_type": "stream",
     "text": [
      "Early stopping at epoch 38\n",
      "Best validation MSE: 8115.2280\n",
      "MSE Real Data: 15885642302747.162\n"
     ]
    },
    {
     "name": "stderr",
     "output_type": "stream",
     "text": [
      "[I 2024-11-14 21:03:30,360] Trial 155 finished with value: 688521.625 and parameters: {'dropout_prob': 0.21000000000000002, 'learning_rate': 0.00015651741253040267, 'batch_size': 4, 'fc1_output': 2826, 'kernel_size': 26, 'stride': 9, 'padding': 7}. Best is trial 59 with value: 678570.25.\n"
     ]
    },
    {
     "name": "stdout",
     "output_type": "stream",
     "text": [
      "Early stopping at epoch 81\n",
      "Best validation MSE: 21885.5391\n",
      "MSE Real Data: 15454348133590.64\n"
     ]
    },
    {
     "name": "stderr",
     "output_type": "stream",
     "text": [
      "[I 2024-11-14 21:08:01,348] Trial 156 finished with value: 703810.5625 and parameters: {'dropout_prob': 0.21000000000000002, 'learning_rate': 0.00010071773847926098, 'batch_size': 4, 'fc1_output': 2779, 'kernel_size': 21, 'stride': 9, 'padding': 7}. Best is trial 59 with value: 678570.25.\n"
     ]
    },
    {
     "name": "stdout",
     "output_type": "stream",
     "text": [
      "Early stopping at epoch 73\n",
      "Best validation MSE: 19580.5078\n",
      "MSE Real Data: 18270973308113.17\n"
     ]
    },
    {
     "name": "stderr",
     "output_type": "stream",
     "text": [
      "[I 2024-11-14 21:11:54,177] Trial 157 finished with value: 691127.4375 and parameters: {'dropout_prob': 0.2, 'learning_rate': 0.00015689490289320533, 'batch_size': 4, 'fc1_output': 2800, 'kernel_size': 23, 'stride': 9, 'padding': 7}. Best is trial 59 with value: 678570.25.\n"
     ]
    },
    {
     "name": "stdout",
     "output_type": "stream",
     "text": [
      "Early stopping at epoch 63\n",
      "Best validation MSE: 23867.5566\n",
      "MSE Real Data: 20660880787038.63\n"
     ]
    },
    {
     "name": "stderr",
     "output_type": "stream",
     "text": [
      "[I 2024-11-14 21:14:42,918] Trial 158 finished with value: 694357.375 and parameters: {'dropout_prob': 0.21000000000000002, 'learning_rate': 0.00014954050091753077, 'batch_size': 4, 'fc1_output': 2812, 'kernel_size': 20, 'stride': 9, 'padding': 7}. Best is trial 59 with value: 678570.25.\n"
     ]
    },
    {
     "name": "stdout",
     "output_type": "stream",
     "text": [
      "Early stopping at epoch 46\n",
      "Best validation MSE: 24358.2793\n",
      "MSE Real Data: 15640994444527.576\n"
     ]
    },
    {
     "name": "stderr",
     "output_type": "stream",
     "text": [
      "[I 2024-11-14 21:17:51,231] Trial 159 finished with value: 689487.0625 and parameters: {'dropout_prob': 0.21000000000000002, 'learning_rate': 0.00014908917558260004, 'batch_size': 4, 'fc1_output': 2812, 'kernel_size': 20, 'stride': 9, 'padding': 7}. Best is trial 59 with value: 678570.25.\n"
     ]
    },
    {
     "name": "stdout",
     "output_type": "stream",
     "text": [
      "Early stopping at epoch 51\n",
      "Best validation MSE: 24091.7520\n",
      "MSE Real Data: 14317392983385.771\n"
     ]
    },
    {
     "name": "stderr",
     "output_type": "stream",
     "text": [
      "[I 2024-11-14 21:21:48,628] Trial 160 finished with value: 763159.8125 and parameters: {'dropout_prob': 0.21000000000000002, 'learning_rate': 0.00014417400391368367, 'batch_size': 4, 'fc1_output': 2807, 'kernel_size': 20, 'stride': 9, 'padding': 7}. Best is trial 59 with value: 678570.25.\n"
     ]
    },
    {
     "name": "stdout",
     "output_type": "stream",
     "text": [
      "Early stopping at epoch 64\n",
      "Best validation MSE: 6270.6606\n",
      "MSE Real Data: 16451170909770.22\n"
     ]
    },
    {
     "name": "stderr",
     "output_type": "stream",
     "text": [
      "[I 2024-11-14 21:25:40,811] Trial 161 finished with value: 707122.125 and parameters: {'dropout_prob': 0.23, 'learning_rate': 0.00010171293240409224, 'batch_size': 4, 'fc1_output': 2732, 'kernel_size': 20, 'stride': 9, 'padding': 7}. Best is trial 59 with value: 678570.25.\n"
     ]
    },
    {
     "name": "stdout",
     "output_type": "stream",
     "text": [
      "Early stopping at epoch 63\n",
      "Best validation MSE: 18645.9023\n",
      "MSE Real Data: 18392830365101.895\n"
     ]
    },
    {
     "name": "stderr",
     "output_type": "stream",
     "text": [
      "[I 2024-11-14 21:26:22,395] Trial 162 finished with value: 765332.5 and parameters: {'dropout_prob': 0.2, 'learning_rate': 0.0001553673694572346, 'batch_size': 8, 'fc1_output': 2835, 'kernel_size': 24, 'stride': 9, 'padding': 7}. Best is trial 59 with value: 678570.25.\n"
     ]
    },
    {
     "name": "stdout",
     "output_type": "stream",
     "text": [
      "Early stopping at epoch 22\n",
      "Best validation MSE: 12942.3555\n",
      "MSE Real Data: 25937960144804.055\n"
     ]
    },
    {
     "name": "stderr",
     "output_type": "stream",
     "text": [
      "[I 2024-11-14 21:29:24,057] Trial 163 finished with value: 733864.5 and parameters: {'dropout_prob': 0.29000000000000004, 'learning_rate': 0.00018641648759036138, 'batch_size': 4, 'fc1_output': 2768, 'kernel_size': 28, 'stride': 9, 'padding': 7}. Best is trial 59 with value: 678570.25.\n"
     ]
    },
    {
     "name": "stdout",
     "output_type": "stream",
     "text": [
      "Early stopping at epoch 49\n",
      "Best validation MSE: 12344.1875\n",
      "MSE Real Data: 15862989713926.7\n"
     ]
    },
    {
     "name": "stderr",
     "output_type": "stream",
     "text": [
      "[I 2024-11-14 21:30:05,646] Trial 164 finished with value: 797988.875 and parameters: {'dropout_prob': 0.21000000000000002, 'learning_rate': 0.00015043927576442298, 'batch_size': 8, 'fc1_output': 2688, 'kernel_size': 27, 'stride': 10, 'padding': 7}. Best is trial 59 with value: 678570.25.\n"
     ]
    },
    {
     "name": "stdout",
     "output_type": "stream",
     "text": [
      "Early stopping at epoch 22\n",
      "Best validation MSE: 11598.8545\n",
      "MSE Real Data: 36141665140097.945\n"
     ]
    },
    {
     "name": "stderr",
     "output_type": "stream",
     "text": [
      "[I 2024-11-14 21:31:29,795] Trial 165 finished with value: 729467.125 and parameters: {'dropout_prob': 0.24000000000000002, 'learning_rate': 0.00011344813682874582, 'batch_size': 12, 'fc1_output': 2830, 'kernel_size': 30, 'stride': 9, 'padding': 7}. Best is trial 59 with value: 678570.25.\n"
     ]
    },
    {
     "name": "stdout",
     "output_type": "stream",
     "text": [
      "Early stopping at epoch 66\n",
      "Best validation MSE: 3286.9294\n",
      "MSE Real Data: 15342987537098.512\n"
     ]
    },
    {
     "name": "stderr",
     "output_type": "stream",
     "text": [
      "[I 2024-11-14 21:32:51,156] Trial 166 finished with value: 765753.875 and parameters: {'dropout_prob': 0.18, 'learning_rate': 0.0001369362723484871, 'batch_size': 4, 'fc1_output': 2773, 'kernel_size': 22, 'stride': 10, 'padding': 6}. Best is trial 59 with value: 678570.25.\n"
     ]
    },
    {
     "name": "stdout",
     "output_type": "stream",
     "text": [
      "Early stopping at epoch 22\n",
      "Best validation MSE: 12916.5596\n",
      "MSE Real Data: 12237511178717.568\n"
     ]
    },
    {
     "name": "stderr",
     "output_type": "stream",
     "text": [
      "[I 2024-11-14 21:34:01,734] Trial 167 finished with value: 716960.5 and parameters: {'dropout_prob': 0.19, 'learning_rate': 0.0001008997119963021, 'batch_size': 8, 'fc1_output': 2861, 'kernel_size': 31, 'stride': 10, 'padding': 7}. Best is trial 59 with value: 678570.25.\n"
     ]
    },
    {
     "name": "stdout",
     "output_type": "stream",
     "text": [
      "Early stopping at epoch 37\n",
      "Best validation MSE: 6852.4453\n",
      "MSE Real Data: 15140035683587.178\n"
     ]
    },
    {
     "name": "stderr",
     "output_type": "stream",
     "text": [
      "[I 2024-11-14 21:38:39,658] Trial 168 finished with value: 678098.0625 and parameters: {'dropout_prob': 0.22, 'learning_rate': 0.00017817358183008116, 'batch_size': 4, 'fc1_output': 2713, 'kernel_size': 24, 'stride': 9, 'padding': 8}. Best is trial 168 with value: 678098.0625.\n"
     ]
    },
    {
     "name": "stdout",
     "output_type": "stream",
     "text": [
      "Early stopping at epoch 75\n",
      "Best validation MSE: 25329.6387\n",
      "MSE Real Data: 16360878515869.875\n"
     ]
    },
    {
     "name": "stderr",
     "output_type": "stream",
     "text": [
      "[I 2024-11-14 21:41:59,747] Trial 169 finished with value: 754475.625 and parameters: {'dropout_prob': 0.23, 'learning_rate': 0.0001657265127611653, 'batch_size': 4, 'fc1_output': 2713, 'kernel_size': 25, 'stride': 9, 'padding': 8}. Best is trial 168 with value: 678098.0625.\n"
     ]
    },
    {
     "name": "stdout",
     "output_type": "stream",
     "text": [
      "Early stopping at epoch 53\n",
      "Best validation MSE: 15900.1533\n",
      "MSE Real Data: 23147214167390.887\n"
     ]
    },
    {
     "name": "stderr",
     "output_type": "stream",
     "text": [
      "[I 2024-11-14 21:43:16,461] Trial 170 finished with value: 787714.625 and parameters: {'dropout_prob': 0.22, 'learning_rate': 0.00012440365326023847, 'batch_size': 8, 'fc1_output': 171, 'kernel_size': 21, 'stride': 9, 'padding': 6}. Best is trial 168 with value: 678098.0625.\n"
     ]
    },
    {
     "name": "stdout",
     "output_type": "stream",
     "text": [
      "Early stopping at epoch 41\n",
      "Best validation MSE: 294.0653\n",
      "MSE Real Data: 12443456189278.191\n"
     ]
    },
    {
     "name": "stderr",
     "output_type": "stream",
     "text": [
      "[I 2024-11-14 21:48:21,315] Trial 171 finished with value: 700893.25 and parameters: {'dropout_prob': 0.2, 'learning_rate': 0.00017830956463746556, 'batch_size': 4, 'fc1_output': 2836, 'kernel_size': 28, 'stride': 9, 'padding': 8}. Best is trial 168 with value: 678098.0625.\n"
     ]
    },
    {
     "name": "stdout",
     "output_type": "stream",
     "text": [
      "Early stopping at epoch 82\n",
      "Best validation MSE: 25405.9062\n",
      "MSE Real Data: 16879187727714.299\n"
     ]
    },
    {
     "name": "stderr",
     "output_type": "stream",
     "text": [
      "[I 2024-11-14 21:51:38,362] Trial 172 finished with value: 694553.0 and parameters: {'dropout_prob': 0.2, 'learning_rate': 0.00014198717749992404, 'batch_size': 4, 'fc1_output': 2800, 'kernel_size': 28, 'stride': 9, 'padding': 8}. Best is trial 168 with value: 678098.0625.\n"
     ]
    },
    {
     "name": "stdout",
     "output_type": "stream",
     "text": [
      "Early stopping at epoch 53\n",
      "Best validation MSE: 25557.7988\n",
      "MSE Real Data: 17238636128596.674\n"
     ]
    },
    {
     "name": "stderr",
     "output_type": "stream",
     "text": [
      "[I 2024-11-14 21:53:11,028] Trial 173 finished with value: 740888.0 and parameters: {'dropout_prob': 0.19, 'learning_rate': 0.00017827703475174563, 'batch_size': 8, 'fc1_output': 2661, 'kernel_size': 24, 'stride': 9, 'padding': 8}. Best is trial 168 with value: 678098.0625.\n"
     ]
    },
    {
     "name": "stdout",
     "output_type": "stream",
     "text": [
      "Early stopping at epoch 49\n",
      "Best validation MSE: 10682.6328\n",
      "MSE Real Data: 13741093271417.94\n"
     ]
    },
    {
     "name": "stderr",
     "output_type": "stream",
     "text": [
      "[I 2024-11-14 21:57:19,931] Trial 174 finished with value: 691420.8125 and parameters: {'dropout_prob': 0.24000000000000002, 'learning_rate': 0.000144209531045456, 'batch_size': 4, 'fc1_output': 2832, 'kernel_size': 28, 'stride': 9, 'padding': 8}. Best is trial 168 with value: 678098.0625.\n"
     ]
    },
    {
     "name": "stdout",
     "output_type": "stream",
     "text": [
      "Early stopping at epoch 67\n",
      "Best validation MSE: 22685.1543\n",
      "MSE Real Data: 17885605548828.38\n"
     ]
    },
    {
     "name": "stderr",
     "output_type": "stream",
     "text": [
      "[I 2024-11-14 21:58:31,461] Trial 175 finished with value: 718640.625 and parameters: {'dropout_prob': 0.27, 'learning_rate': 0.0001522583648314098, 'batch_size': 12, 'fc1_output': 2830, 'kernel_size': 28, 'stride': 9, 'padding': 9}. Best is trial 168 with value: 678098.0625.\n"
     ]
    },
    {
     "name": "stdout",
     "output_type": "stream",
     "text": [
      "Early stopping at epoch 56\n",
      "Best validation MSE: 5782.4512\n",
      "MSE Real Data: 13707329027194.686\n"
     ]
    },
    {
     "name": "stderr",
     "output_type": "stream",
     "text": [
      "[I 2024-11-14 22:00:20,379] Trial 176 finished with value: 716080.4375 and parameters: {'dropout_prob': 0.2, 'learning_rate': 0.00013606018504298372, 'batch_size': 8, 'fc1_output': 2726, 'kernel_size': 50, 'stride': 9, 'padding': 8}. Best is trial 168 with value: 678098.0625.\n"
     ]
    },
    {
     "name": "stdout",
     "output_type": "stream",
     "text": [
      "Early stopping at epoch 58\n",
      "Best validation MSE: 11318.1201\n",
      "MSE Real Data: 16110980615714.604\n"
     ]
    },
    {
     "name": "stderr",
     "output_type": "stream",
     "text": [
      "[I 2024-11-14 22:04:18,478] Trial 177 finished with value: 738980.0 and parameters: {'dropout_prob': 0.18, 'learning_rate': 0.0001878440343699771, 'batch_size': 4, 'fc1_output': 2799, 'kernel_size': 38, 'stride': 9, 'padding': 8}. Best is trial 168 with value: 678098.0625.\n"
     ]
    },
    {
     "name": "stdout",
     "output_type": "stream",
     "text": [
      "Early stopping at epoch 64\n",
      "Best validation MSE: 13134.6836\n",
      "MSE Real Data: 19399317402130.48\n"
     ]
    },
    {
     "name": "stderr",
     "output_type": "stream",
     "text": [
      "[I 2024-11-14 22:05:29,289] Trial 178 finished with value: 733658.0625 and parameters: {'dropout_prob': 0.22, 'learning_rate': 0.00016190526211543917, 'batch_size': 12, 'fc1_output': 2858, 'kernel_size': 29, 'stride': 9, 'padding': 9}. Best is trial 168 with value: 678098.0625.\n"
     ]
    },
    {
     "name": "stdout",
     "output_type": "stream",
     "text": [
      "Early stopping at epoch 55\n",
      "Best validation MSE: 7280.3433\n",
      "MSE Real Data: 18808795089060.87\n"
     ]
    },
    {
     "name": "stderr",
     "output_type": "stream",
     "text": [
      "[I 2024-11-14 22:06:58,460] Trial 179 finished with value: 760755.5625 and parameters: {'dropout_prob': 0.25, 'learning_rate': 0.0001382404107550786, 'batch_size': 4, 'fc1_output': 2690, 'kernel_size': 33, 'stride': 10, 'padding': 7}. Best is trial 168 with value: 678098.0625.\n"
     ]
    },
    {
     "name": "stdout",
     "output_type": "stream",
     "text": [
      "Early stopping at epoch 24\n",
      "Best validation MSE: 12469.0391\n",
      "MSE Real Data: 5801716418573.045\n"
     ]
    },
    {
     "name": "stderr",
     "output_type": "stream",
     "text": [
      "[I 2024-11-14 22:10:34,407] Trial 180 finished with value: 751247.75 and parameters: {'dropout_prob': 0.52, 'learning_rate': 0.00020810727359492964, 'batch_size': 4, 'fc1_output': 2745, 'kernel_size': 23, 'stride': 9, 'padding': 8}. Best is trial 168 with value: 678098.0625.\n"
     ]
    },
    {
     "name": "stdout",
     "output_type": "stream",
     "text": [
      "Early stopping at epoch 58\n",
      "Best validation MSE: 11530.9883\n",
      "MSE Real Data: 3441818753960.6865\n"
     ]
    },
    {
     "name": "stderr",
     "output_type": "stream",
     "text": [
      "[I 2024-11-14 22:14:34,222] Trial 181 finished with value: 698063.25 and parameters: {'dropout_prob': 0.24000000000000002, 'learning_rate': 0.00012092047959855857, 'batch_size': 4, 'fc1_output': 2994, 'kernel_size': 28, 'stride': 10, 'padding': 8}. Best is trial 168 with value: 678098.0625.\n"
     ]
    },
    {
     "name": "stdout",
     "output_type": "stream",
     "text": [
      "Early stopping at epoch 65\n",
      "Best validation MSE: 21670.2129\n",
      "MSE Real Data: 17837843092876.22\n"
     ]
    },
    {
     "name": "stderr",
     "output_type": "stream",
     "text": [
      "[I 2024-11-14 22:15:50,801] Trial 182 finished with value: 719336.25 and parameters: {'dropout_prob': 0.28, 'learning_rate': 0.00015956580272396843, 'batch_size': 8, 'fc1_output': 2890, 'kernel_size': 32, 'stride': 10, 'padding': 8}. Best is trial 168 with value: 678098.0625.\n"
     ]
    },
    {
     "name": "stdout",
     "output_type": "stream",
     "text": [
      "Early stopping at epoch 40\n",
      "Best validation MSE: 11706.0791\n",
      "MSE Real Data: 15724320359890.008\n"
     ]
    },
    {
     "name": "stderr",
     "output_type": "stream",
     "text": [
      "[I 2024-11-14 22:19:07,367] Trial 183 finished with value: 696678.25 and parameters: {'dropout_prob': 0.2, 'learning_rate': 0.0001302474100146746, 'batch_size': 4, 'fc1_output': 2832, 'kernel_size': 42, 'stride': 10, 'padding': 8}. Best is trial 168 with value: 678098.0625.\n"
     ]
    },
    {
     "name": "stdout",
     "output_type": "stream",
     "text": [
      "Early stopping at epoch 53\n",
      "Best validation MSE: 24800.5059\n",
      "MSE Real Data: 14054095613123.178\n"
     ]
    },
    {
     "name": "stderr",
     "output_type": "stream",
     "text": [
      "[I 2024-11-14 22:20:56,581] Trial 184 finished with value: 731686.875 and parameters: {'dropout_prob': 0.2, 'learning_rate': 0.00013885782233364542, 'batch_size': 8, 'fc1_output': 2811, 'kernel_size': 28, 'stride': 10, 'padding': 7}. Best is trial 168 with value: 678098.0625.\n"
     ]
    },
    {
     "name": "stdout",
     "output_type": "stream",
     "text": [
      "Early stopping at epoch 57\n",
      "Best validation MSE: 11270.9912\n",
      "MSE Real Data: 14964229076198.984\n"
     ]
    },
    {
     "name": "stderr",
     "output_type": "stream",
     "text": [
      "[I 2024-11-14 22:24:46,457] Trial 185 finished with value: 763378.6875 and parameters: {'dropout_prob': 0.23, 'learning_rate': 0.0001783820181314781, 'batch_size': 4, 'fc1_output': 2858, 'kernel_size': 41, 'stride': 3, 'padding': 8}. Best is trial 168 with value: 678098.0625.\n"
     ]
    },
    {
     "name": "stdout",
     "output_type": "stream",
     "text": [
      "Early stopping at epoch 60\n",
      "Best validation MSE: 11306.5225\n",
      "MSE Real Data: 8787086114685.336\n"
     ]
    },
    {
     "name": "stderr",
     "output_type": "stream",
     "text": [
      "[I 2024-11-14 22:25:30,642] Trial 186 finished with value: 778830.75 and parameters: {'dropout_prob': 0.21000000000000002, 'learning_rate': 0.00011688145842135023, 'batch_size': 8, 'fc1_output': 2652, 'kernel_size': 24, 'stride': 10, 'padding': 8}. Best is trial 168 with value: 678098.0625.\n"
     ]
    },
    {
     "name": "stdout",
     "output_type": "stream",
     "text": [
      "Early stopping at epoch 23\n",
      "Best validation MSE: 7753.6406\n",
      "MSE Real Data: 43765061591301.05\n"
     ]
    },
    {
     "name": "stderr",
     "output_type": "stream",
     "text": [
      "[I 2024-11-14 22:26:51,868] Trial 187 finished with value: 713074.0 and parameters: {'dropout_prob': 0.17, 'learning_rate': 0.00015295414036263022, 'batch_size': 12, 'fc1_output': 2801, 'kernel_size': 31, 'stride': 9, 'padding': 8}. Best is trial 168 with value: 678098.0625.\n"
     ]
    },
    {
     "name": "stdout",
     "output_type": "stream",
     "text": [
      "Early stopping at epoch 63\n",
      "Best validation MSE: 7177.3867\n",
      "MSE Real Data: 12358328782795.395\n"
     ]
    },
    {
     "name": "stderr",
     "output_type": "stream",
     "text": [
      "[I 2024-11-14 22:29:41,535] Trial 188 finished with value: 711980.6875 and parameters: {'dropout_prob': 0.24000000000000002, 'learning_rate': 0.00011954948589982227, 'batch_size': 4, 'fc1_output': 2746, 'kernel_size': 26, 'stride': 9, 'padding': 7}. Best is trial 168 with value: 678098.0625.\n"
     ]
    },
    {
     "name": "stdout",
     "output_type": "stream",
     "text": [
      "Early stopping at epoch 45\n",
      "Best validation MSE: 18932.8027\n",
      "MSE Real Data: 14873166206547.22\n"
     ]
    },
    {
     "name": "stderr",
     "output_type": "stream",
     "text": [
      "[I 2024-11-14 22:30:27,560] Trial 189 finished with value: 810286.3125 and parameters: {'dropout_prob': 0.18, 'learning_rate': 0.014728630708258484, 'batch_size': 8, 'fc1_output': 2897, 'kernel_size': 44, 'stride': 10, 'padding': 8}. Best is trial 168 with value: 678098.0625.\n"
     ]
    },
    {
     "name": "stdout",
     "output_type": "stream",
     "text": [
      "Early stopping at epoch 24\n",
      "Best validation MSE: 46663.9258\n",
      "MSE Real Data: 22333602086583.03\n"
     ]
    },
    {
     "name": "stderr",
     "output_type": "stream",
     "text": [
      "[I 2024-11-14 22:33:50,398] Trial 190 finished with value: 734842.8125 and parameters: {'dropout_prob': 0.2, 'learning_rate': 0.00018224625674469173, 'batch_size': 4, 'fc1_output': 2943, 'kernel_size': 28, 'stride': 10, 'padding': 9}. Best is trial 168 with value: 678098.0625.\n"
     ]
    },
    {
     "name": "stdout",
     "output_type": "stream",
     "text": [
      "Early stopping at epoch 54\n",
      "Best validation MSE: 12494.9180\n",
      "MSE Real Data: 16050582844905.992\n"
     ]
    },
    {
     "name": "stderr",
     "output_type": "stream",
     "text": [
      "[I 2024-11-14 22:36:43,893] Trial 191 finished with value: 699691.8125 and parameters: {'dropout_prob': 0.26, 'learning_rate': 0.0001324893442985812, 'batch_size': 4, 'fc1_output': 2941, 'kernel_size': 36, 'stride': 10, 'padding': 8}. Best is trial 168 with value: 678098.0625.\n"
     ]
    },
    {
     "name": "stdout",
     "output_type": "stream",
     "text": [
      "Early stopping at epoch 46\n",
      "Best validation MSE: 22794.5078\n",
      "MSE Real Data: 15347312033292.896\n"
     ]
    },
    {
     "name": "stderr",
     "output_type": "stream",
     "text": [
      "[I 2024-11-14 22:42:37,322] Trial 192 finished with value: 695440.0 and parameters: {'dropout_prob': 0.26, 'learning_rate': 0.0001338133542550449, 'batch_size': 4, 'fc1_output': 2996, 'kernel_size': 34, 'stride': 10, 'padding': 8}. Best is trial 168 with value: 678098.0625.\n"
     ]
    },
    {
     "name": "stdout",
     "output_type": "stream",
     "text": [
      "Early stopping at epoch 94\n",
      "Best validation MSE: 23015.2676\n",
      "MSE Real Data: 18428039323268.832\n"
     ]
    },
    {
     "name": "stderr",
     "output_type": "stream",
     "text": [
      "[I 2024-11-14 22:45:11,084] Trial 193 finished with value: 717835.6875 and parameters: {'dropout_prob': 0.22, 'learning_rate': 0.00014229931854019512, 'batch_size': 8, 'fc1_output': 2990, 'kernel_size': 37, 'stride': 10, 'padding': 8}. Best is trial 168 with value: 678098.0625.\n"
     ]
    },
    {
     "name": "stdout",
     "output_type": "stream",
     "text": [
      "Early stopping at epoch 80\n",
      "Best validation MSE: 11741.2510\n",
      "MSE Real Data: 16370468830742.615\n"
     ]
    },
    {
     "name": "stderr",
     "output_type": "stream",
     "text": [
      "[I 2024-11-14 22:48:40,947] Trial 194 finished with value: 684136.5625 and parameters: {'dropout_prob': 0.24000000000000002, 'learning_rate': 0.00016238508452098724, 'batch_size': 4, 'fc1_output': 2859, 'kernel_size': 32, 'stride': 9, 'padding': 8}. Best is trial 168 with value: 678098.0625.\n"
     ]
    },
    {
     "name": "stdout",
     "output_type": "stream",
     "text": [
      "Early stopping at epoch 56\n",
      "Best validation MSE: 17321.9668\n",
      "MSE Real Data: 16535752314234.365\n"
     ]
    },
    {
     "name": "stderr",
     "output_type": "stream",
     "text": [
      "[I 2024-11-14 22:50:21,763] Trial 195 finished with value: 736578.3125 and parameters: {'dropout_prob': 0.26, 'learning_rate': 0.00021051628724447758, 'batch_size': 8, 'fc1_output': 2835, 'kernel_size': 34, 'stride': 9, 'padding': 7}. Best is trial 168 with value: 678098.0625.\n"
     ]
    },
    {
     "name": "stdout",
     "output_type": "stream",
     "text": [
      "Early stopping at epoch 52\n",
      "Best validation MSE: 12328.4834\n",
      "MSE Real Data: 14556328977996.54\n"
     ]
    },
    {
     "name": "stderr",
     "output_type": "stream",
     "text": [
      "[I 2024-11-14 22:51:30,249] Trial 196 finished with value: 721532.625 and parameters: {'dropout_prob': 0.19, 'learning_rate': 0.0001654181259811303, 'batch_size': 12, 'fc1_output': 2764, 'kernel_size': 20, 'stride': 9, 'padding': 8}. Best is trial 168 with value: 678098.0625.\n"
     ]
    },
    {
     "name": "stdout",
     "output_type": "stream",
     "text": [
      "Early stopping at epoch 53\n",
      "Best validation MSE: 7160.9185\n",
      "MSE Real Data: 15032781679610.998\n"
     ]
    },
    {
     "name": "stderr",
     "output_type": "stream",
     "text": [
      "[I 2024-11-14 22:54:30,934] Trial 197 finished with value: 724891.5625 and parameters: {'dropout_prob': 0.24000000000000002, 'learning_rate': 0.00019397724285682234, 'batch_size': 4, 'fc1_output': 2855, 'kernel_size': 24, 'stride': 9, 'padding': 8}. Best is trial 168 with value: 678098.0625.\n"
     ]
    },
    {
     "name": "stdout",
     "output_type": "stream",
     "text": [
      "Early stopping at epoch 48\n",
      "Best validation MSE: 14481.8672\n",
      "MSE Real Data: 17936229446506.68\n"
     ]
    },
    {
     "name": "stderr",
     "output_type": "stream",
     "text": [
      "[I 2024-11-14 22:57:49,653] Trial 198 finished with value: 688763.3125 and parameters: {'dropout_prob': 0.17, 'learning_rate': 0.00013403005872885063, 'batch_size': 4, 'fc1_output': 2996, 'kernel_size': 54, 'stride': 9, 'padding': 7}. Best is trial 168 with value: 678098.0625.\n"
     ]
    },
    {
     "name": "stdout",
     "output_type": "stream",
     "text": [
      "Early stopping at epoch 53\n",
      "Best validation MSE: 28097.7422\n",
      "MSE Real Data: 17811168776216.12\n"
     ]
    },
    {
     "name": "stderr",
     "output_type": "stream",
     "text": [
      "[I 2024-11-14 22:59:48,317] Trial 199 finished with value: 712150.5 and parameters: {'dropout_prob': 0.17, 'learning_rate': 0.00016847184767996366, 'batch_size': 8, 'fc1_output': 2997, 'kernel_size': 29, 'stride': 9, 'padding': 7}. Best is trial 168 with value: 678098.0625.\n"
     ]
    },
    {
     "name": "stdout",
     "output_type": "stream",
     "text": [
      "Early stopping at epoch 62\n",
      "Best validation MSE: 17471.0586\n",
      "MSE Real Data: 17217669729588.357\n"
     ]
    }
   ],
   "source": [
    "import optuna\n",
    "import gc\n",
    "\n",
    "def objective(trial):\n",
    "    # Suggest hyperparameters\n",
    "    dropout_prob = trial.suggest_float('dropout_prob', 0.1, 0.99, step=0.01)\n",
    "    learning_rate = trial.suggest_float('learning_rate', 1e-4, 0.1, log=True)\n",
    "    batch_size = trial.suggest_int('batch_size', 4, 128, step=4)\n",
    "    fc1_output = trial.suggest_int('fc1_output', 1, 3000, step=1)\n",
    "\n",
    "    kernel_size = trial.suggest_int('kernel_size',20, 150, step=1)\n",
    "    stride = trial.suggest_int('stride',1, 10, step=1)\n",
    "    padding = trial.suggest_int('padding',1, 10, step=1)\n",
    "    \n",
    "    # Initialize model and optimizer\n",
    "    model = NeuralNetwork(\n",
    "        input_size=3000, \n",
    "        fc1_output=fc1_output, \n",
    "        output_size=len(substrates_list) * 3, \n",
    "        dropout_prob=dropout_prob,\n",
    "        kernel_size=kernel_size,\n",
    "        stride=stride,\n",
    "        padding = padding\n",
    "    ).to(device)\n",
    "    \n",
    "    optimizer = torch.optim.Adam(model.parameters(), lr=learning_rate)\n",
    "    criterion = torch.nn.MSELoss()\n",
    "    writer = SummaryWriter(log_dir=f\"runs/trial_{trial.number}\")\n",
    "    \n",
    "    try:\n",
    "        # Train the model\n",
    "        trained_model, optuna_results = training(\n",
    "            model=model,\n",
    "            X_train=data_train_tensor,\n",
    "            y_train=target_train_tensor,\n",
    "            X_val=data_val_tensor,\n",
    "            y_val=target_val_tensor,\n",
    "            criterion=criterion,\n",
    "            optimizer=optimizer,\n",
    "            epochs=1000,\n",
    "            writer=writer,\n",
    "            dropout_prob=dropout_prob,\n",
    "            log_tensorboard=True,\n",
    "            verbose=False,\n",
    "            check_real_data=True,\n",
    "            batch_size=batch_size\n",
    "        )\n",
    "        \n",
    "        mse_val = optuna_results[-1]['train_loss']\n",
    "\n",
    "\n",
    "\n",
    "        \n",
    "    finally:\n",
    "        # Cleanup\n",
    "        writer.close()\n",
    "        del model, optimizer\n",
    "        torch.cuda.empty_cache()\n",
    "        gc.collect()\n",
    "        torch.cuda.empty_cache()  # Free unused memory\n",
    "        #torch.cuda.synchronize()  # Ensure all computations are finished\n",
    "\n",
    "    \n",
    "    return mse_val\n",
    "\n",
    "\n",
    "study = optuna.create_study(direction='minimize')\n",
    "study.optimize(objective, n_trials=200)  # Run for 20 trials (adjust as needed)\n"
   ]
  },
  {
   "cell_type": "code",
   "execution_count": 25,
   "metadata": {},
   "outputs": [
    {
     "name": "stdout",
     "output_type": "stream",
     "text": [
      "{'dropout_prob': 0.22, 'learning_rate': 0.00017817358183008116, 'batch_size': 4, 'fc1_output': 2713, 'kernel_size': 24, 'stride': 9, 'padding': 8}\n",
      "678098.0625\n"
     ]
    }
   ],
   "source": [
    "print(study.best_params)\n",
    "print(study.best_value)"
   ]
  },
  {
   "cell_type": "code",
   "execution_count": 26,
   "metadata": {},
   "outputs": [
    {
     "data": {
      "application/vnd.plotly.v1+json": {
       "config": {
        "plotlyServerURL": "https://plot.ly"
       },
       "data": [
        {
         "mode": "markers",
         "name": "Objective Value",
         "type": "scatter",
         "x": [
          0,
          1,
          2,
          3,
          4,
          5,
          6,
          7,
          8,
          9,
          10,
          11,
          12,
          13,
          14,
          15,
          16,
          17,
          18,
          19,
          20,
          21,
          22,
          23,
          24,
          25,
          26,
          27,
          28,
          29,
          30,
          31,
          32,
          33,
          34,
          35,
          36,
          37,
          38,
          39,
          40,
          41,
          42,
          43,
          44,
          45,
          46,
          47,
          48,
          49,
          50,
          51,
          52,
          53,
          54,
          55,
          56,
          57,
          58,
          59,
          60,
          61,
          62,
          63,
          64,
          65,
          66,
          67,
          68,
          69,
          70,
          71,
          72,
          73,
          74,
          75,
          76,
          77,
          78,
          79,
          80,
          81,
          82,
          83,
          84,
          85,
          86,
          87,
          88,
          89,
          90,
          91,
          92,
          93,
          94,
          95,
          96,
          97,
          98,
          99,
          100,
          101,
          102,
          103,
          104,
          105,
          106,
          107,
          108,
          109,
          110,
          111,
          112,
          113,
          114,
          115,
          116,
          117,
          118,
          119,
          120,
          121,
          122,
          123,
          124,
          125,
          126,
          127,
          128,
          129,
          130,
          131,
          132,
          133,
          134,
          135,
          136,
          137,
          138,
          139,
          140,
          141,
          142,
          143,
          144,
          145,
          146,
          147,
          148,
          149,
          150,
          151,
          152,
          153,
          154,
          155,
          156,
          157,
          158,
          159,
          160,
          161,
          162,
          163,
          164,
          165,
          166,
          167,
          168,
          169,
          170,
          171,
          172,
          173,
          174,
          175,
          176,
          177,
          178,
          179,
          180,
          181,
          182,
          183,
          184,
          185,
          186,
          187,
          188,
          189,
          190,
          191,
          192,
          193,
          194,
          195,
          196,
          197,
          198,
          199
         ],
         "y": [
          776875.4375,
          844625.6875,
          773325.4375,
          785563.8125,
          796391.9375,
          787376.6875,
          798026.0625,
          810271.8125,
          781535.3125,
          777060.625,
          820154.625,
          732998.5625,
          735490.625,
          763476.6875,
          715189.875,
          719083.8125,
          734324.1875,
          767205.4375,
          801547.3125,
          800028.9375,
          748704.875,
          745493.125,
          713026.625,
          730496,
          735760.5625,
          777240.875,
          755552.375,
          778586.5625,
          778325.875,
          775915,
          774179.5625,
          714976.6875,
          715741.5625,
          744203.4375,
          783284.4375,
          737154.75,
          786340.125,
          733238.125,
          766706.3125,
          773613.0625,
          785769.0625,
          704208.375,
          710309.25,
          717910.3125,
          772612.1875,
          732195.875,
          744234.625,
          777461.125,
          769765.3125,
          715447.9375,
          753136.125,
          713166.75,
          732213.1875,
          712576.8125,
          741188.75,
          723000.25,
          731841.125,
          779401.1875,
          774974,
          678570.25,
          807272.4375,
          713309,
          679295.75,
          720869.375,
          785615.4375,
          804105.1875,
          714303.75,
          808211.9375,
          792937.4375,
          732822.5625,
          797720,
          716602.125,
          716418.8125,
          739961.125,
          720423.375,
          795178.8125,
          744937.75,
          743625.5625,
          745476.1875,
          791636.375,
          734094.625,
          718371.125,
          737507.4375,
          758320.375,
          713249.8125,
          765528.8125,
          727520.4375,
          727750,
          709223.4375,
          773903.5625,
          741462,
          743826.6875,
          708545.3125,
          724395.75,
          722434.875,
          731261.6875,
          766678.875,
          733292.875,
          731302.75,
          719787.0625,
          774489.3125,
          722712.8125,
          726803.3125,
          744304.8125,
          718717.375,
          714264.1875,
          813494.25,
          719568.75,
          718751.5,
          791311.3125,
          736695.625,
          720050,
          716142.4375,
          744638.3125,
          741186.1875,
          727165.9375,
          715822.0625,
          738921.375,
          796029.75,
          791744.625,
          738424.1875,
          704121.375,
          704425.375,
          715739.9375,
          706727.6875,
          749440.6875,
          715185.3125,
          714058.5,
          784342.125,
          694163,
          690110.4375,
          696294.875,
          710648.375,
          701130.3125,
          701187,
          704436.125,
          701623.5,
          702841.8125,
          706798.6875,
          721043.125,
          711905.375,
          708252.5625,
          725492.375,
          694203.1875,
          748585.4375,
          732739.9375,
          703270.9375,
          709959.1875,
          789514.5625,
          707464.6875,
          728715,
          720079.3125,
          773201.5625,
          724453.375,
          717980.6875,
          688521.625,
          703810.5625,
          691127.4375,
          694357.375,
          689487.0625,
          763159.8125,
          707122.125,
          765332.5,
          733864.5,
          797988.875,
          729467.125,
          765753.875,
          716960.5,
          678098.0625,
          754475.625,
          787714.625,
          700893.25,
          694553,
          740888,
          691420.8125,
          718640.625,
          716080.4375,
          738980,
          733658.0625,
          760755.5625,
          751247.75,
          698063.25,
          719336.25,
          696678.25,
          731686.875,
          763378.6875,
          778830.75,
          713074,
          711980.6875,
          810286.3125,
          734842.8125,
          699691.8125,
          695440,
          717835.6875,
          684136.5625,
          736578.3125,
          721532.625,
          724891.5625,
          688763.3125,
          712150.5
         ]
        },
        {
         "mode": "lines",
         "name": "Best Value",
         "type": "scatter",
         "x": [
          0,
          1,
          2,
          3,
          4,
          5,
          6,
          7,
          8,
          9,
          10,
          11,
          12,
          13,
          14,
          15,
          16,
          17,
          18,
          19,
          20,
          21,
          22,
          23,
          24,
          25,
          26,
          27,
          28,
          29,
          30,
          31,
          32,
          33,
          34,
          35,
          36,
          37,
          38,
          39,
          40,
          41,
          42,
          43,
          44,
          45,
          46,
          47,
          48,
          49,
          50,
          51,
          52,
          53,
          54,
          55,
          56,
          57,
          58,
          59,
          60,
          61,
          62,
          63,
          64,
          65,
          66,
          67,
          68,
          69,
          70,
          71,
          72,
          73,
          74,
          75,
          76,
          77,
          78,
          79,
          80,
          81,
          82,
          83,
          84,
          85,
          86,
          87,
          88,
          89,
          90,
          91,
          92,
          93,
          94,
          95,
          96,
          97,
          98,
          99,
          100,
          101,
          102,
          103,
          104,
          105,
          106,
          107,
          108,
          109,
          110,
          111,
          112,
          113,
          114,
          115,
          116,
          117,
          118,
          119,
          120,
          121,
          122,
          123,
          124,
          125,
          126,
          127,
          128,
          129,
          130,
          131,
          132,
          133,
          134,
          135,
          136,
          137,
          138,
          139,
          140,
          141,
          142,
          143,
          144,
          145,
          146,
          147,
          148,
          149,
          150,
          151,
          152,
          153,
          154,
          155,
          156,
          157,
          158,
          159,
          160,
          161,
          162,
          163,
          164,
          165,
          166,
          167,
          168,
          169,
          170,
          171,
          172,
          173,
          174,
          175,
          176,
          177,
          178,
          179,
          180,
          181,
          182,
          183,
          184,
          185,
          186,
          187,
          188,
          189,
          190,
          191,
          192,
          193,
          194,
          195,
          196,
          197,
          198,
          199
         ],
         "y": [
          776875.4375,
          776875.4375,
          773325.4375,
          773325.4375,
          773325.4375,
          773325.4375,
          773325.4375,
          773325.4375,
          773325.4375,
          773325.4375,
          773325.4375,
          732998.5625,
          732998.5625,
          732998.5625,
          715189.875,
          715189.875,
          715189.875,
          715189.875,
          715189.875,
          715189.875,
          715189.875,
          715189.875,
          713026.625,
          713026.625,
          713026.625,
          713026.625,
          713026.625,
          713026.625,
          713026.625,
          713026.625,
          713026.625,
          713026.625,
          713026.625,
          713026.625,
          713026.625,
          713026.625,
          713026.625,
          713026.625,
          713026.625,
          713026.625,
          713026.625,
          704208.375,
          704208.375,
          704208.375,
          704208.375,
          704208.375,
          704208.375,
          704208.375,
          704208.375,
          704208.375,
          704208.375,
          704208.375,
          704208.375,
          704208.375,
          704208.375,
          704208.375,
          704208.375,
          704208.375,
          704208.375,
          678570.25,
          678570.25,
          678570.25,
          678570.25,
          678570.25,
          678570.25,
          678570.25,
          678570.25,
          678570.25,
          678570.25,
          678570.25,
          678570.25,
          678570.25,
          678570.25,
          678570.25,
          678570.25,
          678570.25,
          678570.25,
          678570.25,
          678570.25,
          678570.25,
          678570.25,
          678570.25,
          678570.25,
          678570.25,
          678570.25,
          678570.25,
          678570.25,
          678570.25,
          678570.25,
          678570.25,
          678570.25,
          678570.25,
          678570.25,
          678570.25,
          678570.25,
          678570.25,
          678570.25,
          678570.25,
          678570.25,
          678570.25,
          678570.25,
          678570.25,
          678570.25,
          678570.25,
          678570.25,
          678570.25,
          678570.25,
          678570.25,
          678570.25,
          678570.25,
          678570.25,
          678570.25,
          678570.25,
          678570.25,
          678570.25,
          678570.25,
          678570.25,
          678570.25,
          678570.25,
          678570.25,
          678570.25,
          678570.25,
          678570.25,
          678570.25,
          678570.25,
          678570.25,
          678570.25,
          678570.25,
          678570.25,
          678570.25,
          678570.25,
          678570.25,
          678570.25,
          678570.25,
          678570.25,
          678570.25,
          678570.25,
          678570.25,
          678570.25,
          678570.25,
          678570.25,
          678570.25,
          678570.25,
          678570.25,
          678570.25,
          678570.25,
          678570.25,
          678570.25,
          678570.25,
          678570.25,
          678570.25,
          678570.25,
          678570.25,
          678570.25,
          678570.25,
          678570.25,
          678570.25,
          678570.25,
          678570.25,
          678570.25,
          678570.25,
          678570.25,
          678570.25,
          678570.25,
          678570.25,
          678570.25,
          678570.25,
          678570.25,
          678098.0625,
          678098.0625,
          678098.0625,
          678098.0625,
          678098.0625,
          678098.0625,
          678098.0625,
          678098.0625,
          678098.0625,
          678098.0625,
          678098.0625,
          678098.0625,
          678098.0625,
          678098.0625,
          678098.0625,
          678098.0625,
          678098.0625,
          678098.0625,
          678098.0625,
          678098.0625,
          678098.0625,
          678098.0625,
          678098.0625,
          678098.0625,
          678098.0625,
          678098.0625,
          678098.0625,
          678098.0625,
          678098.0625,
          678098.0625,
          678098.0625,
          678098.0625
         ]
        },
        {
         "marker": {
          "color": "#cccccc"
         },
         "mode": "markers",
         "name": "Infeasible Trial",
         "showlegend": false,
         "type": "scatter",
         "x": [],
         "y": []
        }
       ],
       "layout": {
        "template": {
         "data": {
          "bar": [
           {
            "error_x": {
             "color": "#2a3f5f"
            },
            "error_y": {
             "color": "#2a3f5f"
            },
            "marker": {
             "line": {
              "color": "#E5ECF6",
              "width": 0.5
             },
             "pattern": {
              "fillmode": "overlay",
              "size": 10,
              "solidity": 0.2
             }
            },
            "type": "bar"
           }
          ],
          "barpolar": [
           {
            "marker": {
             "line": {
              "color": "#E5ECF6",
              "width": 0.5
             },
             "pattern": {
              "fillmode": "overlay",
              "size": 10,
              "solidity": 0.2
             }
            },
            "type": "barpolar"
           }
          ],
          "carpet": [
           {
            "aaxis": {
             "endlinecolor": "#2a3f5f",
             "gridcolor": "white",
             "linecolor": "white",
             "minorgridcolor": "white",
             "startlinecolor": "#2a3f5f"
            },
            "baxis": {
             "endlinecolor": "#2a3f5f",
             "gridcolor": "white",
             "linecolor": "white",
             "minorgridcolor": "white",
             "startlinecolor": "#2a3f5f"
            },
            "type": "carpet"
           }
          ],
          "choropleth": [
           {
            "colorbar": {
             "outlinewidth": 0,
             "ticks": ""
            },
            "type": "choropleth"
           }
          ],
          "contour": [
           {
            "colorbar": {
             "outlinewidth": 0,
             "ticks": ""
            },
            "colorscale": [
             [
              0,
              "#0d0887"
             ],
             [
              0.1111111111111111,
              "#46039f"
             ],
             [
              0.2222222222222222,
              "#7201a8"
             ],
             [
              0.3333333333333333,
              "#9c179e"
             ],
             [
              0.4444444444444444,
              "#bd3786"
             ],
             [
              0.5555555555555556,
              "#d8576b"
             ],
             [
              0.6666666666666666,
              "#ed7953"
             ],
             [
              0.7777777777777778,
              "#fb9f3a"
             ],
             [
              0.8888888888888888,
              "#fdca26"
             ],
             [
              1,
              "#f0f921"
             ]
            ],
            "type": "contour"
           }
          ],
          "contourcarpet": [
           {
            "colorbar": {
             "outlinewidth": 0,
             "ticks": ""
            },
            "type": "contourcarpet"
           }
          ],
          "heatmap": [
           {
            "colorbar": {
             "outlinewidth": 0,
             "ticks": ""
            },
            "colorscale": [
             [
              0,
              "#0d0887"
             ],
             [
              0.1111111111111111,
              "#46039f"
             ],
             [
              0.2222222222222222,
              "#7201a8"
             ],
             [
              0.3333333333333333,
              "#9c179e"
             ],
             [
              0.4444444444444444,
              "#bd3786"
             ],
             [
              0.5555555555555556,
              "#d8576b"
             ],
             [
              0.6666666666666666,
              "#ed7953"
             ],
             [
              0.7777777777777778,
              "#fb9f3a"
             ],
             [
              0.8888888888888888,
              "#fdca26"
             ],
             [
              1,
              "#f0f921"
             ]
            ],
            "type": "heatmap"
           }
          ],
          "heatmapgl": [
           {
            "colorbar": {
             "outlinewidth": 0,
             "ticks": ""
            },
            "colorscale": [
             [
              0,
              "#0d0887"
             ],
             [
              0.1111111111111111,
              "#46039f"
             ],
             [
              0.2222222222222222,
              "#7201a8"
             ],
             [
              0.3333333333333333,
              "#9c179e"
             ],
             [
              0.4444444444444444,
              "#bd3786"
             ],
             [
              0.5555555555555556,
              "#d8576b"
             ],
             [
              0.6666666666666666,
              "#ed7953"
             ],
             [
              0.7777777777777778,
              "#fb9f3a"
             ],
             [
              0.8888888888888888,
              "#fdca26"
             ],
             [
              1,
              "#f0f921"
             ]
            ],
            "type": "heatmapgl"
           }
          ],
          "histogram": [
           {
            "marker": {
             "pattern": {
              "fillmode": "overlay",
              "size": 10,
              "solidity": 0.2
             }
            },
            "type": "histogram"
           }
          ],
          "histogram2d": [
           {
            "colorbar": {
             "outlinewidth": 0,
             "ticks": ""
            },
            "colorscale": [
             [
              0,
              "#0d0887"
             ],
             [
              0.1111111111111111,
              "#46039f"
             ],
             [
              0.2222222222222222,
              "#7201a8"
             ],
             [
              0.3333333333333333,
              "#9c179e"
             ],
             [
              0.4444444444444444,
              "#bd3786"
             ],
             [
              0.5555555555555556,
              "#d8576b"
             ],
             [
              0.6666666666666666,
              "#ed7953"
             ],
             [
              0.7777777777777778,
              "#fb9f3a"
             ],
             [
              0.8888888888888888,
              "#fdca26"
             ],
             [
              1,
              "#f0f921"
             ]
            ],
            "type": "histogram2d"
           }
          ],
          "histogram2dcontour": [
           {
            "colorbar": {
             "outlinewidth": 0,
             "ticks": ""
            },
            "colorscale": [
             [
              0,
              "#0d0887"
             ],
             [
              0.1111111111111111,
              "#46039f"
             ],
             [
              0.2222222222222222,
              "#7201a8"
             ],
             [
              0.3333333333333333,
              "#9c179e"
             ],
             [
              0.4444444444444444,
              "#bd3786"
             ],
             [
              0.5555555555555556,
              "#d8576b"
             ],
             [
              0.6666666666666666,
              "#ed7953"
             ],
             [
              0.7777777777777778,
              "#fb9f3a"
             ],
             [
              0.8888888888888888,
              "#fdca26"
             ],
             [
              1,
              "#f0f921"
             ]
            ],
            "type": "histogram2dcontour"
           }
          ],
          "mesh3d": [
           {
            "colorbar": {
             "outlinewidth": 0,
             "ticks": ""
            },
            "type": "mesh3d"
           }
          ],
          "parcoords": [
           {
            "line": {
             "colorbar": {
              "outlinewidth": 0,
              "ticks": ""
             }
            },
            "type": "parcoords"
           }
          ],
          "pie": [
           {
            "automargin": true,
            "type": "pie"
           }
          ],
          "scatter": [
           {
            "fillpattern": {
             "fillmode": "overlay",
             "size": 10,
             "solidity": 0.2
            },
            "type": "scatter"
           }
          ],
          "scatter3d": [
           {
            "line": {
             "colorbar": {
              "outlinewidth": 0,
              "ticks": ""
             }
            },
            "marker": {
             "colorbar": {
              "outlinewidth": 0,
              "ticks": ""
             }
            },
            "type": "scatter3d"
           }
          ],
          "scattercarpet": [
           {
            "marker": {
             "colorbar": {
              "outlinewidth": 0,
              "ticks": ""
             }
            },
            "type": "scattercarpet"
           }
          ],
          "scattergeo": [
           {
            "marker": {
             "colorbar": {
              "outlinewidth": 0,
              "ticks": ""
             }
            },
            "type": "scattergeo"
           }
          ],
          "scattergl": [
           {
            "marker": {
             "colorbar": {
              "outlinewidth": 0,
              "ticks": ""
             }
            },
            "type": "scattergl"
           }
          ],
          "scattermapbox": [
           {
            "marker": {
             "colorbar": {
              "outlinewidth": 0,
              "ticks": ""
             }
            },
            "type": "scattermapbox"
           }
          ],
          "scatterpolar": [
           {
            "marker": {
             "colorbar": {
              "outlinewidth": 0,
              "ticks": ""
             }
            },
            "type": "scatterpolar"
           }
          ],
          "scatterpolargl": [
           {
            "marker": {
             "colorbar": {
              "outlinewidth": 0,
              "ticks": ""
             }
            },
            "type": "scatterpolargl"
           }
          ],
          "scatterternary": [
           {
            "marker": {
             "colorbar": {
              "outlinewidth": 0,
              "ticks": ""
             }
            },
            "type": "scatterternary"
           }
          ],
          "surface": [
           {
            "colorbar": {
             "outlinewidth": 0,
             "ticks": ""
            },
            "colorscale": [
             [
              0,
              "#0d0887"
             ],
             [
              0.1111111111111111,
              "#46039f"
             ],
             [
              0.2222222222222222,
              "#7201a8"
             ],
             [
              0.3333333333333333,
              "#9c179e"
             ],
             [
              0.4444444444444444,
              "#bd3786"
             ],
             [
              0.5555555555555556,
              "#d8576b"
             ],
             [
              0.6666666666666666,
              "#ed7953"
             ],
             [
              0.7777777777777778,
              "#fb9f3a"
             ],
             [
              0.8888888888888888,
              "#fdca26"
             ],
             [
              1,
              "#f0f921"
             ]
            ],
            "type": "surface"
           }
          ],
          "table": [
           {
            "cells": {
             "fill": {
              "color": "#EBF0F8"
             },
             "line": {
              "color": "white"
             }
            },
            "header": {
             "fill": {
              "color": "#C8D4E3"
             },
             "line": {
              "color": "white"
             }
            },
            "type": "table"
           }
          ]
         },
         "layout": {
          "annotationdefaults": {
           "arrowcolor": "#2a3f5f",
           "arrowhead": 0,
           "arrowwidth": 1
          },
          "autotypenumbers": "strict",
          "coloraxis": {
           "colorbar": {
            "outlinewidth": 0,
            "ticks": ""
           }
          },
          "colorscale": {
           "diverging": [
            [
             0,
             "#8e0152"
            ],
            [
             0.1,
             "#c51b7d"
            ],
            [
             0.2,
             "#de77ae"
            ],
            [
             0.3,
             "#f1b6da"
            ],
            [
             0.4,
             "#fde0ef"
            ],
            [
             0.5,
             "#f7f7f7"
            ],
            [
             0.6,
             "#e6f5d0"
            ],
            [
             0.7,
             "#b8e186"
            ],
            [
             0.8,
             "#7fbc41"
            ],
            [
             0.9,
             "#4d9221"
            ],
            [
             1,
             "#276419"
            ]
           ],
           "sequential": [
            [
             0,
             "#0d0887"
            ],
            [
             0.1111111111111111,
             "#46039f"
            ],
            [
             0.2222222222222222,
             "#7201a8"
            ],
            [
             0.3333333333333333,
             "#9c179e"
            ],
            [
             0.4444444444444444,
             "#bd3786"
            ],
            [
             0.5555555555555556,
             "#d8576b"
            ],
            [
             0.6666666666666666,
             "#ed7953"
            ],
            [
             0.7777777777777778,
             "#fb9f3a"
            ],
            [
             0.8888888888888888,
             "#fdca26"
            ],
            [
             1,
             "#f0f921"
            ]
           ],
           "sequentialminus": [
            [
             0,
             "#0d0887"
            ],
            [
             0.1111111111111111,
             "#46039f"
            ],
            [
             0.2222222222222222,
             "#7201a8"
            ],
            [
             0.3333333333333333,
             "#9c179e"
            ],
            [
             0.4444444444444444,
             "#bd3786"
            ],
            [
             0.5555555555555556,
             "#d8576b"
            ],
            [
             0.6666666666666666,
             "#ed7953"
            ],
            [
             0.7777777777777778,
             "#fb9f3a"
            ],
            [
             0.8888888888888888,
             "#fdca26"
            ],
            [
             1,
             "#f0f921"
            ]
           ]
          },
          "colorway": [
           "#636efa",
           "#EF553B",
           "#00cc96",
           "#ab63fa",
           "#FFA15A",
           "#19d3f3",
           "#FF6692",
           "#B6E880",
           "#FF97FF",
           "#FECB52"
          ],
          "font": {
           "color": "#2a3f5f"
          },
          "geo": {
           "bgcolor": "white",
           "lakecolor": "white",
           "landcolor": "#E5ECF6",
           "showlakes": true,
           "showland": true,
           "subunitcolor": "white"
          },
          "hoverlabel": {
           "align": "left"
          },
          "hovermode": "closest",
          "mapbox": {
           "style": "light"
          },
          "paper_bgcolor": "white",
          "plot_bgcolor": "#E5ECF6",
          "polar": {
           "angularaxis": {
            "gridcolor": "white",
            "linecolor": "white",
            "ticks": ""
           },
           "bgcolor": "#E5ECF6",
           "radialaxis": {
            "gridcolor": "white",
            "linecolor": "white",
            "ticks": ""
           }
          },
          "scene": {
           "xaxis": {
            "backgroundcolor": "#E5ECF6",
            "gridcolor": "white",
            "gridwidth": 2,
            "linecolor": "white",
            "showbackground": true,
            "ticks": "",
            "zerolinecolor": "white"
           },
           "yaxis": {
            "backgroundcolor": "#E5ECF6",
            "gridcolor": "white",
            "gridwidth": 2,
            "linecolor": "white",
            "showbackground": true,
            "ticks": "",
            "zerolinecolor": "white"
           },
           "zaxis": {
            "backgroundcolor": "#E5ECF6",
            "gridcolor": "white",
            "gridwidth": 2,
            "linecolor": "white",
            "showbackground": true,
            "ticks": "",
            "zerolinecolor": "white"
           }
          },
          "shapedefaults": {
           "line": {
            "color": "#2a3f5f"
           }
          },
          "ternary": {
           "aaxis": {
            "gridcolor": "white",
            "linecolor": "white",
            "ticks": ""
           },
           "baxis": {
            "gridcolor": "white",
            "linecolor": "white",
            "ticks": ""
           },
           "bgcolor": "#E5ECF6",
           "caxis": {
            "gridcolor": "white",
            "linecolor": "white",
            "ticks": ""
           }
          },
          "title": {
           "x": 0.05
          },
          "xaxis": {
           "automargin": true,
           "gridcolor": "white",
           "linecolor": "white",
           "ticks": "",
           "title": {
            "standoff": 15
           },
           "zerolinecolor": "white",
           "zerolinewidth": 2
          },
          "yaxis": {
           "automargin": true,
           "gridcolor": "white",
           "linecolor": "white",
           "ticks": "",
           "title": {
            "standoff": 15
           },
           "zerolinecolor": "white",
           "zerolinewidth": 2
          }
         }
        },
        "title": {
         "text": "Optimization History Plot"
        },
        "xaxis": {
         "title": {
          "text": "Trial"
         }
        },
        "yaxis": {
         "title": {
          "text": "Objective Value"
         }
        }
       }
      }
     },
     "metadata": {},
     "output_type": "display_data"
    },
    {
     "data": {
      "application/vnd.plotly.v1+json": {
       "config": {
        "plotlyServerURL": "https://plot.ly"
       },
       "data": [
        {
         "cliponaxis": false,
         "hovertemplate": [
          "fc1_output (IntDistribution): 0.02545307600129167<extra></extra>",
          "kernel_size (IntDistribution): 0.031983301300293546<extra></extra>",
          "padding (IntDistribution): 0.06508628329105562<extra></extra>",
          "stride (IntDistribution): 0.10398677432496678<extra></extra>",
          "dropout_prob (FloatDistribution): 0.16347695703312182<extra></extra>",
          "learning_rate (FloatDistribution): 0.17787920442993158<extra></extra>",
          "batch_size (IntDistribution): 0.4321344036193391<extra></extra>"
         ],
         "name": "Objective Value",
         "orientation": "h",
         "text": [
          "0.03",
          "0.03",
          "0.07",
          "0.10",
          "0.16",
          "0.18",
          "0.43"
         ],
         "textposition": "outside",
         "type": "bar",
         "x": [
          0.02545307600129167,
          0.031983301300293546,
          0.06508628329105562,
          0.10398677432496678,
          0.16347695703312182,
          0.17787920442993158,
          0.4321344036193391
         ],
         "y": [
          "fc1_output",
          "kernel_size",
          "padding",
          "stride",
          "dropout_prob",
          "learning_rate",
          "batch_size"
         ]
        }
       ],
       "layout": {
        "template": {
         "data": {
          "bar": [
           {
            "error_x": {
             "color": "#2a3f5f"
            },
            "error_y": {
             "color": "#2a3f5f"
            },
            "marker": {
             "line": {
              "color": "#E5ECF6",
              "width": 0.5
             },
             "pattern": {
              "fillmode": "overlay",
              "size": 10,
              "solidity": 0.2
             }
            },
            "type": "bar"
           }
          ],
          "barpolar": [
           {
            "marker": {
             "line": {
              "color": "#E5ECF6",
              "width": 0.5
             },
             "pattern": {
              "fillmode": "overlay",
              "size": 10,
              "solidity": 0.2
             }
            },
            "type": "barpolar"
           }
          ],
          "carpet": [
           {
            "aaxis": {
             "endlinecolor": "#2a3f5f",
             "gridcolor": "white",
             "linecolor": "white",
             "minorgridcolor": "white",
             "startlinecolor": "#2a3f5f"
            },
            "baxis": {
             "endlinecolor": "#2a3f5f",
             "gridcolor": "white",
             "linecolor": "white",
             "minorgridcolor": "white",
             "startlinecolor": "#2a3f5f"
            },
            "type": "carpet"
           }
          ],
          "choropleth": [
           {
            "colorbar": {
             "outlinewidth": 0,
             "ticks": ""
            },
            "type": "choropleth"
           }
          ],
          "contour": [
           {
            "colorbar": {
             "outlinewidth": 0,
             "ticks": ""
            },
            "colorscale": [
             [
              0,
              "#0d0887"
             ],
             [
              0.1111111111111111,
              "#46039f"
             ],
             [
              0.2222222222222222,
              "#7201a8"
             ],
             [
              0.3333333333333333,
              "#9c179e"
             ],
             [
              0.4444444444444444,
              "#bd3786"
             ],
             [
              0.5555555555555556,
              "#d8576b"
             ],
             [
              0.6666666666666666,
              "#ed7953"
             ],
             [
              0.7777777777777778,
              "#fb9f3a"
             ],
             [
              0.8888888888888888,
              "#fdca26"
             ],
             [
              1,
              "#f0f921"
             ]
            ],
            "type": "contour"
           }
          ],
          "contourcarpet": [
           {
            "colorbar": {
             "outlinewidth": 0,
             "ticks": ""
            },
            "type": "contourcarpet"
           }
          ],
          "heatmap": [
           {
            "colorbar": {
             "outlinewidth": 0,
             "ticks": ""
            },
            "colorscale": [
             [
              0,
              "#0d0887"
             ],
             [
              0.1111111111111111,
              "#46039f"
             ],
             [
              0.2222222222222222,
              "#7201a8"
             ],
             [
              0.3333333333333333,
              "#9c179e"
             ],
             [
              0.4444444444444444,
              "#bd3786"
             ],
             [
              0.5555555555555556,
              "#d8576b"
             ],
             [
              0.6666666666666666,
              "#ed7953"
             ],
             [
              0.7777777777777778,
              "#fb9f3a"
             ],
             [
              0.8888888888888888,
              "#fdca26"
             ],
             [
              1,
              "#f0f921"
             ]
            ],
            "type": "heatmap"
           }
          ],
          "heatmapgl": [
           {
            "colorbar": {
             "outlinewidth": 0,
             "ticks": ""
            },
            "colorscale": [
             [
              0,
              "#0d0887"
             ],
             [
              0.1111111111111111,
              "#46039f"
             ],
             [
              0.2222222222222222,
              "#7201a8"
             ],
             [
              0.3333333333333333,
              "#9c179e"
             ],
             [
              0.4444444444444444,
              "#bd3786"
             ],
             [
              0.5555555555555556,
              "#d8576b"
             ],
             [
              0.6666666666666666,
              "#ed7953"
             ],
             [
              0.7777777777777778,
              "#fb9f3a"
             ],
             [
              0.8888888888888888,
              "#fdca26"
             ],
             [
              1,
              "#f0f921"
             ]
            ],
            "type": "heatmapgl"
           }
          ],
          "histogram": [
           {
            "marker": {
             "pattern": {
              "fillmode": "overlay",
              "size": 10,
              "solidity": 0.2
             }
            },
            "type": "histogram"
           }
          ],
          "histogram2d": [
           {
            "colorbar": {
             "outlinewidth": 0,
             "ticks": ""
            },
            "colorscale": [
             [
              0,
              "#0d0887"
             ],
             [
              0.1111111111111111,
              "#46039f"
             ],
             [
              0.2222222222222222,
              "#7201a8"
             ],
             [
              0.3333333333333333,
              "#9c179e"
             ],
             [
              0.4444444444444444,
              "#bd3786"
             ],
             [
              0.5555555555555556,
              "#d8576b"
             ],
             [
              0.6666666666666666,
              "#ed7953"
             ],
             [
              0.7777777777777778,
              "#fb9f3a"
             ],
             [
              0.8888888888888888,
              "#fdca26"
             ],
             [
              1,
              "#f0f921"
             ]
            ],
            "type": "histogram2d"
           }
          ],
          "histogram2dcontour": [
           {
            "colorbar": {
             "outlinewidth": 0,
             "ticks": ""
            },
            "colorscale": [
             [
              0,
              "#0d0887"
             ],
             [
              0.1111111111111111,
              "#46039f"
             ],
             [
              0.2222222222222222,
              "#7201a8"
             ],
             [
              0.3333333333333333,
              "#9c179e"
             ],
             [
              0.4444444444444444,
              "#bd3786"
             ],
             [
              0.5555555555555556,
              "#d8576b"
             ],
             [
              0.6666666666666666,
              "#ed7953"
             ],
             [
              0.7777777777777778,
              "#fb9f3a"
             ],
             [
              0.8888888888888888,
              "#fdca26"
             ],
             [
              1,
              "#f0f921"
             ]
            ],
            "type": "histogram2dcontour"
           }
          ],
          "mesh3d": [
           {
            "colorbar": {
             "outlinewidth": 0,
             "ticks": ""
            },
            "type": "mesh3d"
           }
          ],
          "parcoords": [
           {
            "line": {
             "colorbar": {
              "outlinewidth": 0,
              "ticks": ""
             }
            },
            "type": "parcoords"
           }
          ],
          "pie": [
           {
            "automargin": true,
            "type": "pie"
           }
          ],
          "scatter": [
           {
            "fillpattern": {
             "fillmode": "overlay",
             "size": 10,
             "solidity": 0.2
            },
            "type": "scatter"
           }
          ],
          "scatter3d": [
           {
            "line": {
             "colorbar": {
              "outlinewidth": 0,
              "ticks": ""
             }
            },
            "marker": {
             "colorbar": {
              "outlinewidth": 0,
              "ticks": ""
             }
            },
            "type": "scatter3d"
           }
          ],
          "scattercarpet": [
           {
            "marker": {
             "colorbar": {
              "outlinewidth": 0,
              "ticks": ""
             }
            },
            "type": "scattercarpet"
           }
          ],
          "scattergeo": [
           {
            "marker": {
             "colorbar": {
              "outlinewidth": 0,
              "ticks": ""
             }
            },
            "type": "scattergeo"
           }
          ],
          "scattergl": [
           {
            "marker": {
             "colorbar": {
              "outlinewidth": 0,
              "ticks": ""
             }
            },
            "type": "scattergl"
           }
          ],
          "scattermapbox": [
           {
            "marker": {
             "colorbar": {
              "outlinewidth": 0,
              "ticks": ""
             }
            },
            "type": "scattermapbox"
           }
          ],
          "scatterpolar": [
           {
            "marker": {
             "colorbar": {
              "outlinewidth": 0,
              "ticks": ""
             }
            },
            "type": "scatterpolar"
           }
          ],
          "scatterpolargl": [
           {
            "marker": {
             "colorbar": {
              "outlinewidth": 0,
              "ticks": ""
             }
            },
            "type": "scatterpolargl"
           }
          ],
          "scatterternary": [
           {
            "marker": {
             "colorbar": {
              "outlinewidth": 0,
              "ticks": ""
             }
            },
            "type": "scatterternary"
           }
          ],
          "surface": [
           {
            "colorbar": {
             "outlinewidth": 0,
             "ticks": ""
            },
            "colorscale": [
             [
              0,
              "#0d0887"
             ],
             [
              0.1111111111111111,
              "#46039f"
             ],
             [
              0.2222222222222222,
              "#7201a8"
             ],
             [
              0.3333333333333333,
              "#9c179e"
             ],
             [
              0.4444444444444444,
              "#bd3786"
             ],
             [
              0.5555555555555556,
              "#d8576b"
             ],
             [
              0.6666666666666666,
              "#ed7953"
             ],
             [
              0.7777777777777778,
              "#fb9f3a"
             ],
             [
              0.8888888888888888,
              "#fdca26"
             ],
             [
              1,
              "#f0f921"
             ]
            ],
            "type": "surface"
           }
          ],
          "table": [
           {
            "cells": {
             "fill": {
              "color": "#EBF0F8"
             },
             "line": {
              "color": "white"
             }
            },
            "header": {
             "fill": {
              "color": "#C8D4E3"
             },
             "line": {
              "color": "white"
             }
            },
            "type": "table"
           }
          ]
         },
         "layout": {
          "annotationdefaults": {
           "arrowcolor": "#2a3f5f",
           "arrowhead": 0,
           "arrowwidth": 1
          },
          "autotypenumbers": "strict",
          "coloraxis": {
           "colorbar": {
            "outlinewidth": 0,
            "ticks": ""
           }
          },
          "colorscale": {
           "diverging": [
            [
             0,
             "#8e0152"
            ],
            [
             0.1,
             "#c51b7d"
            ],
            [
             0.2,
             "#de77ae"
            ],
            [
             0.3,
             "#f1b6da"
            ],
            [
             0.4,
             "#fde0ef"
            ],
            [
             0.5,
             "#f7f7f7"
            ],
            [
             0.6,
             "#e6f5d0"
            ],
            [
             0.7,
             "#b8e186"
            ],
            [
             0.8,
             "#7fbc41"
            ],
            [
             0.9,
             "#4d9221"
            ],
            [
             1,
             "#276419"
            ]
           ],
           "sequential": [
            [
             0,
             "#0d0887"
            ],
            [
             0.1111111111111111,
             "#46039f"
            ],
            [
             0.2222222222222222,
             "#7201a8"
            ],
            [
             0.3333333333333333,
             "#9c179e"
            ],
            [
             0.4444444444444444,
             "#bd3786"
            ],
            [
             0.5555555555555556,
             "#d8576b"
            ],
            [
             0.6666666666666666,
             "#ed7953"
            ],
            [
             0.7777777777777778,
             "#fb9f3a"
            ],
            [
             0.8888888888888888,
             "#fdca26"
            ],
            [
             1,
             "#f0f921"
            ]
           ],
           "sequentialminus": [
            [
             0,
             "#0d0887"
            ],
            [
             0.1111111111111111,
             "#46039f"
            ],
            [
             0.2222222222222222,
             "#7201a8"
            ],
            [
             0.3333333333333333,
             "#9c179e"
            ],
            [
             0.4444444444444444,
             "#bd3786"
            ],
            [
             0.5555555555555556,
             "#d8576b"
            ],
            [
             0.6666666666666666,
             "#ed7953"
            ],
            [
             0.7777777777777778,
             "#fb9f3a"
            ],
            [
             0.8888888888888888,
             "#fdca26"
            ],
            [
             1,
             "#f0f921"
            ]
           ]
          },
          "colorway": [
           "#636efa",
           "#EF553B",
           "#00cc96",
           "#ab63fa",
           "#FFA15A",
           "#19d3f3",
           "#FF6692",
           "#B6E880",
           "#FF97FF",
           "#FECB52"
          ],
          "font": {
           "color": "#2a3f5f"
          },
          "geo": {
           "bgcolor": "white",
           "lakecolor": "white",
           "landcolor": "#E5ECF6",
           "showlakes": true,
           "showland": true,
           "subunitcolor": "white"
          },
          "hoverlabel": {
           "align": "left"
          },
          "hovermode": "closest",
          "mapbox": {
           "style": "light"
          },
          "paper_bgcolor": "white",
          "plot_bgcolor": "#E5ECF6",
          "polar": {
           "angularaxis": {
            "gridcolor": "white",
            "linecolor": "white",
            "ticks": ""
           },
           "bgcolor": "#E5ECF6",
           "radialaxis": {
            "gridcolor": "white",
            "linecolor": "white",
            "ticks": ""
           }
          },
          "scene": {
           "xaxis": {
            "backgroundcolor": "#E5ECF6",
            "gridcolor": "white",
            "gridwidth": 2,
            "linecolor": "white",
            "showbackground": true,
            "ticks": "",
            "zerolinecolor": "white"
           },
           "yaxis": {
            "backgroundcolor": "#E5ECF6",
            "gridcolor": "white",
            "gridwidth": 2,
            "linecolor": "white",
            "showbackground": true,
            "ticks": "",
            "zerolinecolor": "white"
           },
           "zaxis": {
            "backgroundcolor": "#E5ECF6",
            "gridcolor": "white",
            "gridwidth": 2,
            "linecolor": "white",
            "showbackground": true,
            "ticks": "",
            "zerolinecolor": "white"
           }
          },
          "shapedefaults": {
           "line": {
            "color": "#2a3f5f"
           }
          },
          "ternary": {
           "aaxis": {
            "gridcolor": "white",
            "linecolor": "white",
            "ticks": ""
           },
           "baxis": {
            "gridcolor": "white",
            "linecolor": "white",
            "ticks": ""
           },
           "bgcolor": "#E5ECF6",
           "caxis": {
            "gridcolor": "white",
            "linecolor": "white",
            "ticks": ""
           }
          },
          "title": {
           "x": 0.05
          },
          "xaxis": {
           "automargin": true,
           "gridcolor": "white",
           "linecolor": "white",
           "ticks": "",
           "title": {
            "standoff": 15
           },
           "zerolinecolor": "white",
           "zerolinewidth": 2
          },
          "yaxis": {
           "automargin": true,
           "gridcolor": "white",
           "linecolor": "white",
           "ticks": "",
           "title": {
            "standoff": 15
           },
           "zerolinecolor": "white",
           "zerolinewidth": 2
          }
         }
        },
        "title": {
         "text": "Hyperparameter Importances"
        },
        "xaxis": {
         "title": {
          "text": "Hyperparameter Importance"
         }
        },
        "yaxis": {
         "title": {
          "text": "Hyperparameter"
         }
        }
       }
      }
     },
     "metadata": {},
     "output_type": "display_data"
    },
    {
     "data": {
      "application/vnd.plotly.v1+json": {
       "config": {
        "plotlyServerURL": "https://plot.ly"
       },
       "data": [
        {
         "dimensions": [
          {
           "label": "Objective Value",
           "range": [
            678098.0625,
            844625.6875
           ],
           "values": [
            776875.4375,
            844625.6875,
            773325.4375,
            785563.8125,
            796391.9375,
            787376.6875,
            798026.0625,
            810271.8125,
            781535.3125,
            777060.625,
            820154.625,
            732998.5625,
            735490.625,
            763476.6875,
            715189.875,
            719083.8125,
            734324.1875,
            767205.4375,
            801547.3125,
            800028.9375,
            748704.875,
            745493.125,
            713026.625,
            730496,
            735760.5625,
            777240.875,
            755552.375,
            778586.5625,
            778325.875,
            775915,
            774179.5625,
            714976.6875,
            715741.5625,
            744203.4375,
            783284.4375,
            737154.75,
            786340.125,
            733238.125,
            766706.3125,
            773613.0625,
            785769.0625,
            704208.375,
            710309.25,
            717910.3125,
            772612.1875,
            732195.875,
            744234.625,
            777461.125,
            769765.3125,
            715447.9375,
            753136.125,
            713166.75,
            732213.1875,
            712576.8125,
            741188.75,
            723000.25,
            731841.125,
            779401.1875,
            774974,
            678570.25,
            807272.4375,
            713309,
            679295.75,
            720869.375,
            785615.4375,
            804105.1875,
            714303.75,
            808211.9375,
            792937.4375,
            732822.5625,
            797720,
            716602.125,
            716418.8125,
            739961.125,
            720423.375,
            795178.8125,
            744937.75,
            743625.5625,
            745476.1875,
            791636.375,
            734094.625,
            718371.125,
            737507.4375,
            758320.375,
            713249.8125,
            765528.8125,
            727520.4375,
            727750,
            709223.4375,
            773903.5625,
            741462,
            743826.6875,
            708545.3125,
            724395.75,
            722434.875,
            731261.6875,
            766678.875,
            733292.875,
            731302.75,
            719787.0625,
            774489.3125,
            722712.8125,
            726803.3125,
            744304.8125,
            718717.375,
            714264.1875,
            813494.25,
            719568.75,
            718751.5,
            791311.3125,
            736695.625,
            720050,
            716142.4375,
            744638.3125,
            741186.1875,
            727165.9375,
            715822.0625,
            738921.375,
            796029.75,
            791744.625,
            738424.1875,
            704121.375,
            704425.375,
            715739.9375,
            706727.6875,
            749440.6875,
            715185.3125,
            714058.5,
            784342.125,
            694163,
            690110.4375,
            696294.875,
            710648.375,
            701130.3125,
            701187,
            704436.125,
            701623.5,
            702841.8125,
            706798.6875,
            721043.125,
            711905.375,
            708252.5625,
            725492.375,
            694203.1875,
            748585.4375,
            732739.9375,
            703270.9375,
            709959.1875,
            789514.5625,
            707464.6875,
            728715,
            720079.3125,
            773201.5625,
            724453.375,
            717980.6875,
            688521.625,
            703810.5625,
            691127.4375,
            694357.375,
            689487.0625,
            763159.8125,
            707122.125,
            765332.5,
            733864.5,
            797988.875,
            729467.125,
            765753.875,
            716960.5,
            678098.0625,
            754475.625,
            787714.625,
            700893.25,
            694553,
            740888,
            691420.8125,
            718640.625,
            716080.4375,
            738980,
            733658.0625,
            760755.5625,
            751247.75,
            698063.25,
            719336.25,
            696678.25,
            731686.875,
            763378.6875,
            778830.75,
            713074,
            711980.6875,
            810286.3125,
            734842.8125,
            699691.8125,
            695440,
            717835.6875,
            684136.5625,
            736578.3125,
            721532.625,
            724891.5625,
            688763.3125,
            712150.5
           ]
          },
          {
           "label": "batch_size",
           "range": [
            4,
            128
           ],
           "values": [
            48,
            92,
            124,
            44,
            84,
            68,
            56,
            8,
            76,
            76,
            128,
            128,
            128,
            108,
            104,
            104,
            104,
            104,
            20,
            96,
            112,
            116,
            92,
            92,
            96,
            80,
            116,
            64,
            88,
            100,
            44,
            88,
            88,
            68,
            88,
            80,
            60,
            52,
            116,
            36,
            72,
            92,
            84,
            84,
            96,
            76,
            92,
            108,
            84,
            80,
            100,
            80,
            72,
            100,
            92,
            100,
            72,
            84,
            108,
            4,
            8,
            28,
            4,
            16,
            8,
            4,
            20,
            12,
            24,
            64,
            4,
            28,
            32,
            44,
            36,
            16,
            96,
            80,
            12,
            60,
            88,
            24,
            16,
            4,
            20,
            12,
            76,
            92,
            104,
            112,
            124,
            104,
            100,
            96,
            100,
            100,
            112,
            84,
            92,
            104,
            88,
            96,
            104,
            108,
            8,
            48,
            4,
            96,
            40,
            20,
            84,
            48,
            56,
            28,
            100,
            36,
            88,
            8,
            24,
            32,
            92,
            20,
            20,
            20,
            12,
            12,
            16,
            8,
            12,
            4,
            4,
            4,
            4,
            4,
            4,
            4,
            4,
            4,
            4,
            8,
            4,
            4,
            8,
            4,
            8,
            12,
            4,
            4,
            8,
            4,
            8,
            12,
            4,
            16,
            8,
            4,
            4,
            4,
            4,
            4,
            4,
            4,
            8,
            4,
            8,
            12,
            4,
            8,
            4,
            4,
            8,
            4,
            4,
            8,
            4,
            12,
            8,
            4,
            12,
            4,
            4,
            4,
            8,
            4,
            8,
            4,
            8,
            12,
            4,
            8,
            4,
            4,
            4,
            8,
            4,
            8,
            12,
            4,
            4,
            8
           ]
          },
          {
           "label": "dropout_prob",
           "range": [
            0.1,
            0.99
           ],
           "values": [
            0.43000000000000005,
            0.7,
            0.72,
            0.2,
            0.85,
            0.25,
            0.91,
            0.54,
            0.75,
            0.53,
            0.99,
            0.36,
            0.37,
            0.36,
            0.1,
            0.1,
            0.13,
            0.1,
            0.23,
            0.18,
            0.28,
            0.33,
            0.1,
            0.1,
            0.16,
            0.45000000000000007,
            0.28,
            0.17,
            0.63,
            0.41000000000000003,
            0.29000000000000004,
            0.1,
            0.15000000000000002,
            0.21000000000000002,
            0.15000000000000002,
            0.21000000000000002,
            0.15000000000000002,
            0.25,
            0.45000000000000007,
            0.19,
            0.61,
            0.1,
            0.1,
            0.1,
            0.79,
            0.25,
            0.13,
            0.2,
            0.31,
            0.13,
            0.25,
            0.1,
            0.1,
            0.13,
            0.17,
            0.13,
            0.23,
            0.19,
            0.14,
            0.1,
            0.22,
            0.12000000000000001,
            0.18,
            0.19,
            0.17,
            0.94,
            0.12000000000000001,
            0.17,
            0.49,
            0.15000000000000002,
            0.1,
            0.12000000000000001,
            0.13,
            0.16,
            0.23,
            0.12000000000000001,
            0.19,
            0.1,
            0.16,
            0.27,
            0.21000000000000002,
            0.13,
            0.12000000000000001,
            0.15000000000000002,
            0.12000000000000001,
            0.67,
            0.1,
            0.18,
            0.14,
            0.58,
            0.33999999999999997,
            0.14,
            0.12000000000000001,
            0.16,
            0.1,
            0.18,
            0.15000000000000002,
            0.2,
            0.12000000000000001,
            0.14,
            0.23,
            0.12000000000000001,
            0.11,
            0.14,
            0.17,
            0.12000000000000001,
            0.79,
            0.14,
            0.21000000000000002,
            0.18,
            0.11,
            0.12000000000000001,
            0.1,
            0.16,
            0.4,
            0.14,
            0.12000000000000001,
            0.16,
            0.1,
            0.19,
            0.13,
            0.12000000000000001,
            0.12000000000000001,
            0.15000000000000002,
            0.1,
            0.1,
            0.14,
            0.16,
            0.1,
            0.18,
            0.18,
            0.2,
            0.2,
            0.23,
            0.23,
            0.26,
            0.26,
            0.31,
            0.30000000000000004,
            0.27,
            0.25,
            0.32,
            0.30000000000000004,
            0.25,
            0.25,
            0.27,
            0.24000000000000002,
            0.23,
            0.24000000000000002,
            0.28,
            0.33999999999999997,
            0.22,
            0.25,
            0.26,
            0.22,
            0.21000000000000002,
            0.21000000000000002,
            0.2,
            0.21000000000000002,
            0.21000000000000002,
            0.21000000000000002,
            0.23,
            0.2,
            0.29000000000000004,
            0.21000000000000002,
            0.24000000000000002,
            0.18,
            0.19,
            0.22,
            0.23,
            0.22,
            0.2,
            0.2,
            0.19,
            0.24000000000000002,
            0.27,
            0.2,
            0.18,
            0.22,
            0.25,
            0.52,
            0.24000000000000002,
            0.28,
            0.2,
            0.2,
            0.23,
            0.21000000000000002,
            0.17,
            0.24000000000000002,
            0.18,
            0.2,
            0.26,
            0.26,
            0.22,
            0.24000000000000002,
            0.26,
            0.19,
            0.24000000000000002,
            0.17,
            0.17
           ]
          },
          {
           "label": "fc1_output",
           "range": [
            69,
            3000
           ],
           "values": [
            1443,
            2660,
            172,
            2896,
            507,
            1630,
            1266,
            1420,
            657,
            1418,
            69,
            1972,
            2132,
            2192,
            2123,
            2080,
            2582,
            1818,
            2370,
            1066,
            1801,
            2019,
            2449,
            2470,
            2957,
            2295,
            2678,
            1756,
            1991,
            2743,
            2419,
            2487,
            2218,
            2515,
            2802,
            2265,
            2619,
            2867,
            1589,
            2306,
            1095,
            2097,
            1909,
            1896,
            2113,
            1649,
            2463,
            1437,
            1947,
            2554,
            2153,
            2571,
            2341,
            2689,
            2739,
            2976,
            2641,
            2429,
            437,
            2860,
            2859,
            2734,
            2705,
            2854,
            2974,
            2580,
            2749,
            2664,
            2043,
            2381,
            2549,
            2760,
            2906,
            2681,
            2818,
            2217,
            2697,
            1865,
            1344,
            2493,
            2611,
            2775,
            2928,
            2730,
            2404,
            2284,
            2366,
            1712,
            2509,
            2427,
            2174,
            2545,
            2623,
            2488,
            2613,
            2277,
            2395,
            2068,
            2808,
            2522,
            2655,
            2883,
            2586,
            2435,
            1535,
            2335,
            2993,
            2710,
            2821,
            2623,
            806,
            2335,
            1949,
            2236,
            2482,
            2143,
            2557,
            2691,
            2319,
            2389,
            2765,
            2926,
            2933,
            2916,
            2889,
            2857,
            2931,
            2788,
            3000,
            2862,
            2846,
            2878,
            2845,
            2872,
            2882,
            2925,
            2930,
            2933,
            2925,
            2879,
            2955,
            2946,
            2895,
            2833,
            2792,
            2843,
            2985,
            2967,
            2987,
            2816,
            2752,
            2893,
            2999,
            2876,
            2913,
            2826,
            2779,
            2800,
            2812,
            2812,
            2807,
            2732,
            2835,
            2768,
            2688,
            2830,
            2773,
            2861,
            2713,
            2713,
            171,
            2836,
            2800,
            2661,
            2832,
            2830,
            2726,
            2799,
            2858,
            2690,
            2745,
            2994,
            2890,
            2832,
            2811,
            2858,
            2652,
            2801,
            2746,
            2897,
            2943,
            2941,
            2996,
            2990,
            2859,
            2835,
            2764,
            2855,
            2996,
            2997
           ]
          },
          {
           "label": "kernel_size",
           "range": [
            20,
            150
           ],
           "values": [
            100,
            125,
            58,
            130,
            37,
            66,
            40,
            28,
            85,
            62,
            99,
            103,
            150,
            149,
            149,
            118,
            124,
            136,
            113,
            139,
            116,
            94,
            79,
            78,
            72,
            111,
            86,
            139,
            52,
            95,
            107,
            75,
            78,
            76,
            84,
            56,
            48,
            69,
            90,
            77,
            65,
            120,
            82,
            127,
            99,
            59,
            143,
            84,
            121,
            130,
            23,
            131,
            145,
            137,
            134,
            131,
            71,
            90,
            123,
            105,
            105,
            113,
            112,
            119,
            110,
            101,
            127,
            115,
            137,
            108,
            132,
            113,
            118,
            124,
            96,
            141,
            104,
            91,
            80,
            128,
            114,
            126,
            121,
            110,
            134,
            144,
            135,
            81,
            147,
            140,
            147,
            137,
            150,
            147,
            149,
            141,
            134,
            144,
            150,
            87,
            129,
            139,
            132,
            74,
            121,
            147,
            116,
            107,
            102,
            143,
            124,
            147,
            68,
            97,
            146,
            138,
            118,
            133,
            143,
            82,
            112,
            126,
            129,
            130,
            121,
            126,
            123,
            121,
            131,
            135,
            33,
            40,
            23,
            32,
            31,
            35,
            34,
            37,
            37,
            30,
            44,
            35,
            36,
            40,
            30,
            40,
            26,
            32,
            26,
            46,
            42,
            34,
            39,
            26,
            33,
            26,
            21,
            23,
            20,
            20,
            20,
            20,
            24,
            28,
            27,
            30,
            22,
            31,
            24,
            25,
            21,
            28,
            28,
            24,
            28,
            28,
            50,
            38,
            29,
            33,
            23,
            28,
            32,
            42,
            28,
            41,
            24,
            31,
            26,
            44,
            28,
            36,
            34,
            37,
            32,
            34,
            20,
            24,
            54,
            29
           ]
          },
          {
           "label": "learning_rate",
           "range": [
            -3.9986222474207285,
            -1.0294058212150698
           ],
           "ticktext": [
            "0.0001",
            "0.001",
            "0.01",
            "0.0935"
           ],
           "tickvals": [
            -3.9986222474207285,
            -3,
            -2,
            -1.0294058212150698
           ],
           "values": [
            -2.9034718665651558,
            -1.1299903868933063,
            -2.8783033413581185,
            -2.122856427797182,
            -2.9105905725860386,
            -2.7338739518706454,
            -2.044621930126156,
            -1.7399026602531138,
            -2.0316529196368407,
            -2.1016203664722983,
            -3.9665036567923853,
            -3.412720724935499,
            -3.5313396766994916,
            -3.7083414001419577,
            -3.404661933403236,
            -3.291050567273447,
            -3.295351808337949,
            -3.1292186905680346,
            -2.5249870850120173,
            -3.9216804166070354,
            -3.173888979182921,
            -3.521181743652612,
            -3.438544871492257,
            -3.6566908320370275,
            -3.210870813461271,
            -2.460696238671237,
            -3.7912531414850736,
            -3.4019339554733663,
            -3.0626345556686303,
            -2.657242857689313,
            -2.975563881014251,
            -3.645929098760849,
            -3.6523595424672894,
            -3.7676461894040427,
            -1.0294058212150698,
            -3.5917435025995132,
            -1.4206647721905958,
            -3.973902751729109,
            -2.8508050341868243,
            -3.383395404483874,
            -3.773743071725657,
            -3.3037065707435724,
            -3.510986583403111,
            -3.474222679826784,
            -2.9729410649490817,
            -3.290420050213557,
            -3.8290982375473557,
            -2.3000672819019123,
            -2.8287871156064344,
            -3.5408123630378827,
            -3.046794809853343,
            -3.5249434389901904,
            -3.353182535789832,
            -3.6035389394153956,
            -3.878082751460491,
            -3.622050470628563,
            -3.4931216414657165,
            -3.2296881126194337,
            -1.9134397224178845,
            -3.7134641312818633,
            -3.4661605715996866,
            -3.723990601443808,
            -3.7421357847368526,
            -3.8896060937001264,
            -3.577703481779838,
            -3.9756369603504833,
            -3.713360721922026,
            -3.144238247119367,
            -3.3109950384064204,
            -3.830635584131415,
            -3.464569389808067,
            -3.6609542432871853,
            -3.733925326689074,
            -3.597571385533413,
            -3.721431497158463,
            -3.4060930786340267,
            -3.2519230203466183,
            -3.885111721601814,
            -3.5260729306302347,
            -1.4432464510993377,
            -3.684199583251286,
            -3.771924965757415,
            -3.5893406521507205,
            -3.8220209961355067,
            -3.689991682112893,
            -3.9986222474207285,
            -3.3632903341716927,
            -3.4617167781540816,
            -3.6692091826963504,
            -3.547444331241809,
            -3.665867602245406,
            -3.805215660083088,
            -3.58918790027107,
            -3.4180870939877233,
            -3.325771195039991,
            -3.6172989797434223,
            -3.926740515016836,
            -3.5416668375520723,
            -3.209755272230177,
            -3.4573660713248393,
            -2.677159196597739,
            -3.7248910493258673,
            -3.6607353971209076,
            -3.8579859114942754,
            -3.7783491956306956,
            -3.588137720400322,
            -3.5097992934498077,
            -3.742939766674179,
            -3.9425438323788344,
            -3.105737455621793,
            -3.404747591659177,
            -3.6021933319425337,
            -3.561090220644916,
            -3.6553039693209586,
            -3.7009165568245184,
            -3.50984422845951,
            -3.6123861859855317,
            -3.8379749707524873,
            -2.2760252400223373,
            -3.298135327943561,
            -3.4229276823212724,
            -3.7268678786645086,
            -3.7685672515814526,
            -3.764573770392195,
            -3.891760747031426,
            -3.8434091594695428,
            -3.685194126635355,
            -3.9378240161871845,
            -3.78346373598863,
            -3.871783040363802,
            -3.8848554777981006,
            -3.8867617599806836,
            -3.887663671365274,
            -3.9063806472914435,
            -3.9967296321289765,
            -3.916492053850634,
            -3.9841022833001003,
            -3.885910339105801,
            -3.9848762352436746,
            -3.920607219422251,
            -3.9895341290452784,
            -3.995122704893077,
            -3.8993930553899063,
            -3.8723681222559034,
            -3.8784740196092344,
            -3.8203705035527378,
            -3.933125393671829,
            -3.9322988025289543,
            -3.821514968215683,
            -3.9513704470361093,
            -3.8594881133848555,
            -3.9130585552568746,
            -3.782434261889728,
            -3.8752504525635585,
            -3.9461300677236224,
            -3.805437340256769,
            -3.996894034459014,
            -3.8043911652805713,
            -3.8252411689256967,
            -3.826553886764288,
            -3.8411130404114995,
            -3.9926238247108485,
            -3.808640187289918,
            -3.7295156791448543,
            -3.8226387659985868,
            -3.945202632186617,
            -3.863481498584349,
            -3.9961100733923787,
            -3.7491566892775854,
            -3.780608008027264,
            -3.905166865887433,
            -3.7488253603700037,
            -3.8477508738737676,
            -3.748904598063896,
            -3.841006035430325,
            -3.817418838594388,
            -3.8662689427309407,
            -3.726202592888806,
            -3.7907390359250677,
            -3.859364984439842,
            -3.681712740418178,
            -3.9175001389785535,
            -3.7970601786471287,
            -3.8852309039402884,
            -3.8574296499385836,
            -3.7486489269771393,
            -3.9322543780081105,
            -3.8154387624693906,
            -3.9224522871462857,
            -1.831837626781912,
            -3.7393413831297133,
            -3.877819049262405,
            -3.8735005428472,
            -3.84679717971151,
            -3.7894538643049303,
            -3.67671429799095,
            -3.7814169035968135,
            -3.7122492179122015,
            -3.8727977921118764,
            -3.7734726610758926
           ]
          },
          {
           "label": "padding",
           "range": [
            1,
            10
           ],
           "values": [
            1,
            10,
            2,
            1,
            7,
            8,
            1,
            9,
            10,
            10,
            3,
            4,
            4,
            5,
            4,
            6,
            6,
            6,
            5,
            7,
            3,
            4,
            4,
            3,
            5,
            7,
            6,
            4,
            2,
            8,
            5,
            3,
            2,
            2,
            3,
            2,
            1,
            3,
            1,
            2,
            4,
            3,
            3,
            3,
            4,
            3,
            4,
            5,
            3,
            4,
            2,
            4,
            4,
            3,
            3,
            3,
            2,
            4,
            5,
            3,
            1,
            3,
            3,
            4,
            2,
            3,
            4,
            3,
            5,
            2,
            3,
            3,
            3,
            4,
            2,
            3,
            4,
            9,
            3,
            2,
            4,
            4,
            3,
            4,
            5,
            5,
            6,
            5,
            3,
            6,
            3,
            3,
            3,
            2,
            3,
            4,
            3,
            2,
            4,
            3,
            5,
            3,
            3,
            4,
            2,
            3,
            3,
            4,
            3,
            2,
            3,
            3,
            3,
            3,
            4,
            2,
            3,
            4,
            3,
            3,
            2,
            4,
            4,
            5,
            4,
            4,
            4,
            5,
            4,
            7,
            8,
            8,
            8,
            8,
            8,
            8,
            8,
            8,
            8,
            9,
            8,
            8,
            7,
            7,
            9,
            7,
            8,
            8,
            8,
            8,
            8,
            7,
            8,
            8,
            9,
            7,
            7,
            7,
            7,
            7,
            7,
            7,
            7,
            7,
            7,
            7,
            6,
            7,
            8,
            8,
            6,
            8,
            8,
            8,
            8,
            9,
            8,
            8,
            9,
            7,
            8,
            8,
            8,
            8,
            7,
            8,
            8,
            8,
            7,
            8,
            9,
            8,
            8,
            8,
            8,
            7,
            8,
            8,
            7,
            7
           ]
          },
          {
           "label": "stride",
           "range": [
            1,
            10
           ],
           "values": [
            10,
            2,
            5,
            2,
            9,
            3,
            6,
            5,
            9,
            8,
            5,
            7,
            7,
            7,
            7,
            7,
            4,
            8,
            6,
            10,
            8,
            7,
            7,
            6,
            9,
            4,
            8,
            1,
            7,
            6,
            9,
            6,
            6,
            4,
            5,
            6,
            5,
            3,
            6,
            8,
            5,
            7,
            7,
            7,
            8,
            7,
            8,
            9,
            7,
            7,
            10,
            7,
            7,
            6,
            6,
            6,
            5,
            8,
            7,
            6,
            6,
            6,
            7,
            8,
            7,
            7,
            8,
            6,
            7,
            7,
            9,
            6,
            6,
            5,
            6,
            7,
            5,
            7,
            6,
            8,
            6,
            8,
            8,
            7,
            7,
            7,
            7,
            6,
            6,
            1,
            4,
            6,
            7,
            7,
            7,
            7,
            7,
            8,
            7,
            6,
            5,
            6,
            7,
            6,
            7,
            6,
            5,
            6,
            7,
            8,
            6,
            6,
            6,
            7,
            6,
            7,
            5,
            7,
            6,
            7,
            6,
            8,
            9,
            9,
            10,
            10,
            10,
            9,
            9,
            10,
            10,
            10,
            10,
            10,
            10,
            10,
            10,
            10,
            10,
            10,
            10,
            10,
            10,
            10,
            10,
            10,
            10,
            9,
            10,
            10,
            10,
            10,
            10,
            9,
            10,
            9,
            9,
            9,
            9,
            9,
            9,
            9,
            9,
            9,
            10,
            9,
            10,
            10,
            9,
            9,
            9,
            9,
            9,
            9,
            9,
            9,
            9,
            9,
            9,
            10,
            9,
            10,
            10,
            10,
            10,
            3,
            10,
            9,
            9,
            10,
            10,
            10,
            10,
            10,
            9,
            9,
            9,
            9,
            9,
            9
           ]
          }
         ],
         "labelangle": 30,
         "labelside": "bottom",
         "line": {
          "color": [
           776875.4375,
           844625.6875,
           773325.4375,
           785563.8125,
           796391.9375,
           787376.6875,
           798026.0625,
           810271.8125,
           781535.3125,
           777060.625,
           820154.625,
           732998.5625,
           735490.625,
           763476.6875,
           715189.875,
           719083.8125,
           734324.1875,
           767205.4375,
           801547.3125,
           800028.9375,
           748704.875,
           745493.125,
           713026.625,
           730496,
           735760.5625,
           777240.875,
           755552.375,
           778586.5625,
           778325.875,
           775915,
           774179.5625,
           714976.6875,
           715741.5625,
           744203.4375,
           783284.4375,
           737154.75,
           786340.125,
           733238.125,
           766706.3125,
           773613.0625,
           785769.0625,
           704208.375,
           710309.25,
           717910.3125,
           772612.1875,
           732195.875,
           744234.625,
           777461.125,
           769765.3125,
           715447.9375,
           753136.125,
           713166.75,
           732213.1875,
           712576.8125,
           741188.75,
           723000.25,
           731841.125,
           779401.1875,
           774974,
           678570.25,
           807272.4375,
           713309,
           679295.75,
           720869.375,
           785615.4375,
           804105.1875,
           714303.75,
           808211.9375,
           792937.4375,
           732822.5625,
           797720,
           716602.125,
           716418.8125,
           739961.125,
           720423.375,
           795178.8125,
           744937.75,
           743625.5625,
           745476.1875,
           791636.375,
           734094.625,
           718371.125,
           737507.4375,
           758320.375,
           713249.8125,
           765528.8125,
           727520.4375,
           727750,
           709223.4375,
           773903.5625,
           741462,
           743826.6875,
           708545.3125,
           724395.75,
           722434.875,
           731261.6875,
           766678.875,
           733292.875,
           731302.75,
           719787.0625,
           774489.3125,
           722712.8125,
           726803.3125,
           744304.8125,
           718717.375,
           714264.1875,
           813494.25,
           719568.75,
           718751.5,
           791311.3125,
           736695.625,
           720050,
           716142.4375,
           744638.3125,
           741186.1875,
           727165.9375,
           715822.0625,
           738921.375,
           796029.75,
           791744.625,
           738424.1875,
           704121.375,
           704425.375,
           715739.9375,
           706727.6875,
           749440.6875,
           715185.3125,
           714058.5,
           784342.125,
           694163,
           690110.4375,
           696294.875,
           710648.375,
           701130.3125,
           701187,
           704436.125,
           701623.5,
           702841.8125,
           706798.6875,
           721043.125,
           711905.375,
           708252.5625,
           725492.375,
           694203.1875,
           748585.4375,
           732739.9375,
           703270.9375,
           709959.1875,
           789514.5625,
           707464.6875,
           728715,
           720079.3125,
           773201.5625,
           724453.375,
           717980.6875,
           688521.625,
           703810.5625,
           691127.4375,
           694357.375,
           689487.0625,
           763159.8125,
           707122.125,
           765332.5,
           733864.5,
           797988.875,
           729467.125,
           765753.875,
           716960.5,
           678098.0625,
           754475.625,
           787714.625,
           700893.25,
           694553,
           740888,
           691420.8125,
           718640.625,
           716080.4375,
           738980,
           733658.0625,
           760755.5625,
           751247.75,
           698063.25,
           719336.25,
           696678.25,
           731686.875,
           763378.6875,
           778830.75,
           713074,
           711980.6875,
           810286.3125,
           734842.8125,
           699691.8125,
           695440,
           717835.6875,
           684136.5625,
           736578.3125,
           721532.625,
           724891.5625,
           688763.3125,
           712150.5
          ],
          "colorbar": {
           "title": {
            "text": "Objective Value"
           }
          },
          "colorscale": [
           [
            0,
            "rgb(247,251,255)"
           ],
           [
            0.125,
            "rgb(222,235,247)"
           ],
           [
            0.25,
            "rgb(198,219,239)"
           ],
           [
            0.375,
            "rgb(158,202,225)"
           ],
           [
            0.5,
            "rgb(107,174,214)"
           ],
           [
            0.625,
            "rgb(66,146,198)"
           ],
           [
            0.75,
            "rgb(33,113,181)"
           ],
           [
            0.875,
            "rgb(8,81,156)"
           ],
           [
            1,
            "rgb(8,48,107)"
           ]
          ],
          "reversescale": true,
          "showscale": true
         },
         "type": "parcoords"
        }
       ],
       "layout": {
        "template": {
         "data": {
          "bar": [
           {
            "error_x": {
             "color": "#2a3f5f"
            },
            "error_y": {
             "color": "#2a3f5f"
            },
            "marker": {
             "line": {
              "color": "#E5ECF6",
              "width": 0.5
             },
             "pattern": {
              "fillmode": "overlay",
              "size": 10,
              "solidity": 0.2
             }
            },
            "type": "bar"
           }
          ],
          "barpolar": [
           {
            "marker": {
             "line": {
              "color": "#E5ECF6",
              "width": 0.5
             },
             "pattern": {
              "fillmode": "overlay",
              "size": 10,
              "solidity": 0.2
             }
            },
            "type": "barpolar"
           }
          ],
          "carpet": [
           {
            "aaxis": {
             "endlinecolor": "#2a3f5f",
             "gridcolor": "white",
             "linecolor": "white",
             "minorgridcolor": "white",
             "startlinecolor": "#2a3f5f"
            },
            "baxis": {
             "endlinecolor": "#2a3f5f",
             "gridcolor": "white",
             "linecolor": "white",
             "minorgridcolor": "white",
             "startlinecolor": "#2a3f5f"
            },
            "type": "carpet"
           }
          ],
          "choropleth": [
           {
            "colorbar": {
             "outlinewidth": 0,
             "ticks": ""
            },
            "type": "choropleth"
           }
          ],
          "contour": [
           {
            "colorbar": {
             "outlinewidth": 0,
             "ticks": ""
            },
            "colorscale": [
             [
              0,
              "#0d0887"
             ],
             [
              0.1111111111111111,
              "#46039f"
             ],
             [
              0.2222222222222222,
              "#7201a8"
             ],
             [
              0.3333333333333333,
              "#9c179e"
             ],
             [
              0.4444444444444444,
              "#bd3786"
             ],
             [
              0.5555555555555556,
              "#d8576b"
             ],
             [
              0.6666666666666666,
              "#ed7953"
             ],
             [
              0.7777777777777778,
              "#fb9f3a"
             ],
             [
              0.8888888888888888,
              "#fdca26"
             ],
             [
              1,
              "#f0f921"
             ]
            ],
            "type": "contour"
           }
          ],
          "contourcarpet": [
           {
            "colorbar": {
             "outlinewidth": 0,
             "ticks": ""
            },
            "type": "contourcarpet"
           }
          ],
          "heatmap": [
           {
            "colorbar": {
             "outlinewidth": 0,
             "ticks": ""
            },
            "colorscale": [
             [
              0,
              "#0d0887"
             ],
             [
              0.1111111111111111,
              "#46039f"
             ],
             [
              0.2222222222222222,
              "#7201a8"
             ],
             [
              0.3333333333333333,
              "#9c179e"
             ],
             [
              0.4444444444444444,
              "#bd3786"
             ],
             [
              0.5555555555555556,
              "#d8576b"
             ],
             [
              0.6666666666666666,
              "#ed7953"
             ],
             [
              0.7777777777777778,
              "#fb9f3a"
             ],
             [
              0.8888888888888888,
              "#fdca26"
             ],
             [
              1,
              "#f0f921"
             ]
            ],
            "type": "heatmap"
           }
          ],
          "heatmapgl": [
           {
            "colorbar": {
             "outlinewidth": 0,
             "ticks": ""
            },
            "colorscale": [
             [
              0,
              "#0d0887"
             ],
             [
              0.1111111111111111,
              "#46039f"
             ],
             [
              0.2222222222222222,
              "#7201a8"
             ],
             [
              0.3333333333333333,
              "#9c179e"
             ],
             [
              0.4444444444444444,
              "#bd3786"
             ],
             [
              0.5555555555555556,
              "#d8576b"
             ],
             [
              0.6666666666666666,
              "#ed7953"
             ],
             [
              0.7777777777777778,
              "#fb9f3a"
             ],
             [
              0.8888888888888888,
              "#fdca26"
             ],
             [
              1,
              "#f0f921"
             ]
            ],
            "type": "heatmapgl"
           }
          ],
          "histogram": [
           {
            "marker": {
             "pattern": {
              "fillmode": "overlay",
              "size": 10,
              "solidity": 0.2
             }
            },
            "type": "histogram"
           }
          ],
          "histogram2d": [
           {
            "colorbar": {
             "outlinewidth": 0,
             "ticks": ""
            },
            "colorscale": [
             [
              0,
              "#0d0887"
             ],
             [
              0.1111111111111111,
              "#46039f"
             ],
             [
              0.2222222222222222,
              "#7201a8"
             ],
             [
              0.3333333333333333,
              "#9c179e"
             ],
             [
              0.4444444444444444,
              "#bd3786"
             ],
             [
              0.5555555555555556,
              "#d8576b"
             ],
             [
              0.6666666666666666,
              "#ed7953"
             ],
             [
              0.7777777777777778,
              "#fb9f3a"
             ],
             [
              0.8888888888888888,
              "#fdca26"
             ],
             [
              1,
              "#f0f921"
             ]
            ],
            "type": "histogram2d"
           }
          ],
          "histogram2dcontour": [
           {
            "colorbar": {
             "outlinewidth": 0,
             "ticks": ""
            },
            "colorscale": [
             [
              0,
              "#0d0887"
             ],
             [
              0.1111111111111111,
              "#46039f"
             ],
             [
              0.2222222222222222,
              "#7201a8"
             ],
             [
              0.3333333333333333,
              "#9c179e"
             ],
             [
              0.4444444444444444,
              "#bd3786"
             ],
             [
              0.5555555555555556,
              "#d8576b"
             ],
             [
              0.6666666666666666,
              "#ed7953"
             ],
             [
              0.7777777777777778,
              "#fb9f3a"
             ],
             [
              0.8888888888888888,
              "#fdca26"
             ],
             [
              1,
              "#f0f921"
             ]
            ],
            "type": "histogram2dcontour"
           }
          ],
          "mesh3d": [
           {
            "colorbar": {
             "outlinewidth": 0,
             "ticks": ""
            },
            "type": "mesh3d"
           }
          ],
          "parcoords": [
           {
            "line": {
             "colorbar": {
              "outlinewidth": 0,
              "ticks": ""
             }
            },
            "type": "parcoords"
           }
          ],
          "pie": [
           {
            "automargin": true,
            "type": "pie"
           }
          ],
          "scatter": [
           {
            "fillpattern": {
             "fillmode": "overlay",
             "size": 10,
             "solidity": 0.2
            },
            "type": "scatter"
           }
          ],
          "scatter3d": [
           {
            "line": {
             "colorbar": {
              "outlinewidth": 0,
              "ticks": ""
             }
            },
            "marker": {
             "colorbar": {
              "outlinewidth": 0,
              "ticks": ""
             }
            },
            "type": "scatter3d"
           }
          ],
          "scattercarpet": [
           {
            "marker": {
             "colorbar": {
              "outlinewidth": 0,
              "ticks": ""
             }
            },
            "type": "scattercarpet"
           }
          ],
          "scattergeo": [
           {
            "marker": {
             "colorbar": {
              "outlinewidth": 0,
              "ticks": ""
             }
            },
            "type": "scattergeo"
           }
          ],
          "scattergl": [
           {
            "marker": {
             "colorbar": {
              "outlinewidth": 0,
              "ticks": ""
             }
            },
            "type": "scattergl"
           }
          ],
          "scattermapbox": [
           {
            "marker": {
             "colorbar": {
              "outlinewidth": 0,
              "ticks": ""
             }
            },
            "type": "scattermapbox"
           }
          ],
          "scatterpolar": [
           {
            "marker": {
             "colorbar": {
              "outlinewidth": 0,
              "ticks": ""
             }
            },
            "type": "scatterpolar"
           }
          ],
          "scatterpolargl": [
           {
            "marker": {
             "colorbar": {
              "outlinewidth": 0,
              "ticks": ""
             }
            },
            "type": "scatterpolargl"
           }
          ],
          "scatterternary": [
           {
            "marker": {
             "colorbar": {
              "outlinewidth": 0,
              "ticks": ""
             }
            },
            "type": "scatterternary"
           }
          ],
          "surface": [
           {
            "colorbar": {
             "outlinewidth": 0,
             "ticks": ""
            },
            "colorscale": [
             [
              0,
              "#0d0887"
             ],
             [
              0.1111111111111111,
              "#46039f"
             ],
             [
              0.2222222222222222,
              "#7201a8"
             ],
             [
              0.3333333333333333,
              "#9c179e"
             ],
             [
              0.4444444444444444,
              "#bd3786"
             ],
             [
              0.5555555555555556,
              "#d8576b"
             ],
             [
              0.6666666666666666,
              "#ed7953"
             ],
             [
              0.7777777777777778,
              "#fb9f3a"
             ],
             [
              0.8888888888888888,
              "#fdca26"
             ],
             [
              1,
              "#f0f921"
             ]
            ],
            "type": "surface"
           }
          ],
          "table": [
           {
            "cells": {
             "fill": {
              "color": "#EBF0F8"
             },
             "line": {
              "color": "white"
             }
            },
            "header": {
             "fill": {
              "color": "#C8D4E3"
             },
             "line": {
              "color": "white"
             }
            },
            "type": "table"
           }
          ]
         },
         "layout": {
          "annotationdefaults": {
           "arrowcolor": "#2a3f5f",
           "arrowhead": 0,
           "arrowwidth": 1
          },
          "autotypenumbers": "strict",
          "coloraxis": {
           "colorbar": {
            "outlinewidth": 0,
            "ticks": ""
           }
          },
          "colorscale": {
           "diverging": [
            [
             0,
             "#8e0152"
            ],
            [
             0.1,
             "#c51b7d"
            ],
            [
             0.2,
             "#de77ae"
            ],
            [
             0.3,
             "#f1b6da"
            ],
            [
             0.4,
             "#fde0ef"
            ],
            [
             0.5,
             "#f7f7f7"
            ],
            [
             0.6,
             "#e6f5d0"
            ],
            [
             0.7,
             "#b8e186"
            ],
            [
             0.8,
             "#7fbc41"
            ],
            [
             0.9,
             "#4d9221"
            ],
            [
             1,
             "#276419"
            ]
           ],
           "sequential": [
            [
             0,
             "#0d0887"
            ],
            [
             0.1111111111111111,
             "#46039f"
            ],
            [
             0.2222222222222222,
             "#7201a8"
            ],
            [
             0.3333333333333333,
             "#9c179e"
            ],
            [
             0.4444444444444444,
             "#bd3786"
            ],
            [
             0.5555555555555556,
             "#d8576b"
            ],
            [
             0.6666666666666666,
             "#ed7953"
            ],
            [
             0.7777777777777778,
             "#fb9f3a"
            ],
            [
             0.8888888888888888,
             "#fdca26"
            ],
            [
             1,
             "#f0f921"
            ]
           ],
           "sequentialminus": [
            [
             0,
             "#0d0887"
            ],
            [
             0.1111111111111111,
             "#46039f"
            ],
            [
             0.2222222222222222,
             "#7201a8"
            ],
            [
             0.3333333333333333,
             "#9c179e"
            ],
            [
             0.4444444444444444,
             "#bd3786"
            ],
            [
             0.5555555555555556,
             "#d8576b"
            ],
            [
             0.6666666666666666,
             "#ed7953"
            ],
            [
             0.7777777777777778,
             "#fb9f3a"
            ],
            [
             0.8888888888888888,
             "#fdca26"
            ],
            [
             1,
             "#f0f921"
            ]
           ]
          },
          "colorway": [
           "#636efa",
           "#EF553B",
           "#00cc96",
           "#ab63fa",
           "#FFA15A",
           "#19d3f3",
           "#FF6692",
           "#B6E880",
           "#FF97FF",
           "#FECB52"
          ],
          "font": {
           "color": "#2a3f5f"
          },
          "geo": {
           "bgcolor": "white",
           "lakecolor": "white",
           "landcolor": "#E5ECF6",
           "showlakes": true,
           "showland": true,
           "subunitcolor": "white"
          },
          "hoverlabel": {
           "align": "left"
          },
          "hovermode": "closest",
          "mapbox": {
           "style": "light"
          },
          "paper_bgcolor": "white",
          "plot_bgcolor": "#E5ECF6",
          "polar": {
           "angularaxis": {
            "gridcolor": "white",
            "linecolor": "white",
            "ticks": ""
           },
           "bgcolor": "#E5ECF6",
           "radialaxis": {
            "gridcolor": "white",
            "linecolor": "white",
            "ticks": ""
           }
          },
          "scene": {
           "xaxis": {
            "backgroundcolor": "#E5ECF6",
            "gridcolor": "white",
            "gridwidth": 2,
            "linecolor": "white",
            "showbackground": true,
            "ticks": "",
            "zerolinecolor": "white"
           },
           "yaxis": {
            "backgroundcolor": "#E5ECF6",
            "gridcolor": "white",
            "gridwidth": 2,
            "linecolor": "white",
            "showbackground": true,
            "ticks": "",
            "zerolinecolor": "white"
           },
           "zaxis": {
            "backgroundcolor": "#E5ECF6",
            "gridcolor": "white",
            "gridwidth": 2,
            "linecolor": "white",
            "showbackground": true,
            "ticks": "",
            "zerolinecolor": "white"
           }
          },
          "shapedefaults": {
           "line": {
            "color": "#2a3f5f"
           }
          },
          "ternary": {
           "aaxis": {
            "gridcolor": "white",
            "linecolor": "white",
            "ticks": ""
           },
           "baxis": {
            "gridcolor": "white",
            "linecolor": "white",
            "ticks": ""
           },
           "bgcolor": "#E5ECF6",
           "caxis": {
            "gridcolor": "white",
            "linecolor": "white",
            "ticks": ""
           }
          },
          "title": {
           "x": 0.05
          },
          "xaxis": {
           "automargin": true,
           "gridcolor": "white",
           "linecolor": "white",
           "ticks": "",
           "title": {
            "standoff": 15
           },
           "zerolinecolor": "white",
           "zerolinewidth": 2
          },
          "yaxis": {
           "automargin": true,
           "gridcolor": "white",
           "linecolor": "white",
           "ticks": "",
           "title": {
            "standoff": 15
           },
           "zerolinecolor": "white",
           "zerolinewidth": 2
          }
         }
        },
        "title": {
         "text": "Parallel Coordinate Plot"
        }
       }
      }
     },
     "metadata": {},
     "output_type": "display_data"
    }
   ],
   "source": [
    "optuna.visualization.plot_optimization_history(study).show()\n",
    "optuna.visualization.plot_param_importances(study).show()\n",
    "optuna.visualization.plot_parallel_coordinate(study).show()\n"
   ]
  },
  {
   "cell_type": "code",
   "execution_count": 27,
   "metadata": {},
   "outputs": [
    {
     "name": "stdout",
     "output_type": "stream",
     "text": [
      "| Epoch 1 | Train Loss: 874287.5625, Validation Loss: 1299.1226 | Train MSE: 1301.2816, Val MSE: 1299.1222 |\n",
      "| Epoch 20 | Train Loss: 757157.2500, Validation Loss: 14335.0078 | Train MSE: 14359.9053, Val MSE: 14335.0146 |\n",
      "| Epoch 39 | Train Loss: 817180.8125, Validation Loss: 15552.0029 | Train MSE: 15579.0625, Val MSE: 15552.0029 |\n",
      "Early stopping at epoch 53\n",
      "Best validation MSE: 1299.1222\n",
      "MSE Real Data: 11910849185271.871\n"
     ]
    }
   ],
   "source": [
    "# Train the model with the best parameters\n",
    "best_params = study.best_params\n",
    "dropout_prob = best_params['dropout_prob']\n",
    "learning_rate = best_params['learning_rate']\n",
    "fc1_output = best_params['fc1_output']\n",
    "\n",
    "\n",
    "\n",
    "\n",
    "# Define the model with the suggested dropout_prob\n",
    "model = NeuralNetwork(\n",
    "        input_size=3000, \n",
    "        fc1_output=fc1_output, \n",
    "        output_size=len(substrates_list) * 3, \n",
    "        dropout_prob=dropout_prob\n",
    "        ).to(device)\n",
    "\n",
    "optimizer = torch.optim.Adam(model.parameters(), lr=learning_rate)\n",
    "criterion = torch.nn.MSELoss()\n",
    "epochs = 1000  # Number of epochs to train\n",
    "\n",
    "model, _ = training(\n",
    "    model=model,\n",
    "    X_train=data_train_tensor,\n",
    "    y_train=target_train_tensor,\n",
    "    X_val=data_val_tensor,\n",
    "    y_val=target_val_tensor,\n",
    "    criterion=criterion,\n",
    "    optimizer=optimizer,\n",
    "    epochs=epochs,\n",
    "    writer=SummaryWriter(),\n",
    "    dropout_prob=dropout_prob,\n",
    "    log_tensorboard=True,\n",
    "    verbose=True,\n",
    "    check_real_data=True\n",
    ")"
   ]
  },
  {
   "cell_type": "code",
   "execution_count": 28,
   "metadata": {},
   "outputs": [
    {
     "data": {
      "text/plain": [
       "torch.Size([3000, 3000])"
      ]
     },
     "execution_count": 28,
     "metadata": {},
     "output_type": "execute_result"
    }
   ],
   "source": [
    "# # Bring all tensors back to the CPU\n",
    "data_train_tensor = data_train_tensor.to(\"cpu\")\n",
    "data_val_tensor = data_val_tensor.to(\"cpu\")\n",
    "\n",
    "data_train_tensor.shape"
   ]
  },
  {
   "cell_type": "code",
   "execution_count": 29,
   "metadata": {},
   "outputs": [
    {
     "name": "stdout",
     "output_type": "stream",
     "text": [
      "target_train_pred: torch.Size([3000, 12])\n",
      "target_val_pred: torch.Size([1000, 12])\n",
      "target_train_pred_rescaled: (3000, 12)\n",
      "target_val_pred_rescaled: (1000, 12)\n"
     ]
    }
   ],
   "source": [
    "# Vorhersagen und Rückskalierung\n",
    "model.to(\"cpu\")\n",
    "target_train_pred = model.predict(data_train_tensor)\n",
    "target_val_pred = model.predict(data_val_tensor)\n",
    "\n",
    "# Bring all tensors back to the CPU and to numpy\n",
    "target_train_pred = target_train_pred.cpu().detach()\n",
    "target_val_pred = target_val_pred.cpu().detach()\n",
    "data_train_tensor = data_train_tensor.cpu().detach()\n",
    "data_val_tensor = data_val_tensor.cpu().detach()\n",
    "\n",
    "\n",
    "print(f'target_train_pred: {target_train_pred.shape}')\n",
    "print(f'target_val_pred: {target_val_pred.shape}')\n",
    "\n",
    "\n",
    "# FOR Linear Model\n",
    "# Rescale the data\n",
    "#target_train_pred_rescaled = target_scaler.inverse_transform(target_train_pred.squeeze(1))\n",
    "#target_val_pred_rescaled = target_scaler.inverse_transform(target_val_pred.squeeze(1))\n",
    "\n",
    "\n",
    "#for LSTM\n",
    "# # Rescale the data\n",
    "target_train_pred_rescaled = target_scaler.inverse_transform(target_train_pred)\n",
    "target_val_pred_rescaled = target_scaler.inverse_transform(target_val_pred)\n",
    "\n",
    "# Reshape the data\n",
    "target_train_pred = target_train_pred_rescaled.reshape(target_train_pred_rescaled.shape[0], -1)\n",
    "target_val_pred = target_val_pred_rescaled.reshape(target_val_pred_rescaled.shape[0], -1)\n",
    "\n",
    "\n",
    "\n",
    "\n",
    "print(f'target_train_pred_rescaled: {target_train_pred.shape}')\n",
    "print(f'target_val_pred_rescaled: {target_val_pred.shape}')"
   ]
  },
  {
   "cell_type": "code",
   "execution_count": 30,
   "metadata": {},
   "outputs": [
    {
     "name": "stdout",
     "output_type": "stream",
     "text": [
      "4\n"
     ]
    }
   ],
   "source": [
    "print(len(substrates_list))"
   ]
  },
  {
   "cell_type": "code",
   "execution_count": 31,
   "metadata": {},
   "outputs": [
    {
     "name": "stdout",
     "output_type": "stream",
     "text": [
      "data_train: (3000, 3000)\n",
      "data_val: (1000, 3000)\n",
      "target_train: (3000, 12)\n",
      "len substrates_list: 4\n"
     ]
    },
    {
     "data": {
      "image/png": "[encoded data removed]",
      "text/plain": [
       "<Figure size 1000x800 with 1 Axes>"
      ]
     },
     "metadata": {},
     "output_type": "display_data"
    }
   ],
   "source": [
    "# bring the data back to the cpu\n",
    "data_train_tensor = data_train_tensor.to(\"cpu\")\n",
    "data_val_tensor = data_val_tensor.to(\"cpu\")\n",
    "data_test_tensor = data_test_tensor.to(\"cpu\")\n",
    "\n",
    "target_train_tensor = target_train_tensor.to(\"cpu\")\n",
    "target_val_tensor = target_val_tensor.to(\"cpu\")\n",
    "target_test_tensor = target_test_tensor.to(\"cpu\")\n",
    "\n",
    "data_train_tensor = data_train_tensor.squeeze(1)\n",
    "data_val_tensor = data_val_tensor.squeeze(1)\n",
    "# scale the data back\n",
    "data_train = data_scaler.inverse_transform(data_train_tensor)\n",
    "data_val = data_scaler.inverse_transform(data_val_tensor)\n",
    "target_train = target_scaler.inverse_transform(target_train_tensor)\n",
    "\n",
    "\n",
    "print(f'data_train: {data_train.shape}')\n",
    "print(f'data_val: {data_val.shape}')\n",
    "print(f'target_train: {target_train.shape}')\n",
    "\n",
    "print(f'len substrates_list: {len(substrates_list)}')\n",
    "\n",
    "\n",
    "x0_parms_train, gamma_parms_train, height_parms_train = np.split(target_train, 3, axis=1)\n",
    "x0_parms_val, gamma_parms_val, height_parms_val = np.split(target_val, 3, axis=1)\n",
    "x0_parms_test, gamma_parms_test, height_parms_test = np.split(target_test, 3, axis=1)\n",
    "\n",
    "\n",
    "\n",
    "\n",
    "n = 10\n",
    "x = x_data[n]\n",
    "# plot the data\n",
    "#plt.plot(x, data_train[n, :], '-', label='Original Data')\n",
    "# for x0, gamma, height in zip(x0_parms_train[n], gamma_parms_train[n], height_parms_train[n]):\n",
    "#     lorentz = lorentzian(x, x0, gamma, height)\n",
    "#     plt.plot(x, lorentz, '--', label='Original Peaks', alpha=0.5)\n",
    "\n",
    "# plt.plot(x, data_val[n, :], '-', label='Original Data', color='grey')\n",
    "# for x0, gamma, height in zip(x0_parms_val[n], gamma_parms_val[n], height_parms_val[n]):\n",
    "#     lorentz = lorentzian(x, x0, gamma, height)\n",
    "#     plt.plot(x, lorentz, '--', label='Original Peaks', alpha=0.5)   \n",
    "    \n",
    "fig = plt.figure(figsize=(10, 8))\n",
    "\n",
    "plt.plot(x, data_test[n, :], '-', label='Original Data', color='grey')\n",
    "for x0, gamma, height in zip(x0_parms_test[n], gamma_parms_test[n], height_parms_test[n]):\n",
    "    lorentz = lorentzian(x, x0, gamma, height)\n",
    "    plt.plot(x, lorentz, '--', alpha=0.5)\n",
    "\n",
    "plt.xticks(np.arange(-2, 16, 1))\n",
    "plt.legend()\n",
    "plt.show()"
   ]
  },
  {
   "cell_type": "markdown",
   "metadata": {},
   "source": [
    "# Validate on real Data"
   ]
  },
  {
   "cell_type": "code",
   "execution_count": 32,
   "metadata": {},
   "outputs": [],
   "source": [
    "# # Use a dataframe to collect general evaluation results\n",
    "# results = pd.DataFrame()\n",
    "\n",
    "# # We will reuse this function. Hence we copy it to mads_dl.py\n",
    "# def add_regression_eval(results, algorithm, y_train, y_train_pred, y_test, y_test_pred, num_params):\n",
    "#     '''\n",
    "#     Create a table with evaluation results\n",
    "#     of a regression experiment\n",
    "#     '''\n",
    "#     for dataset, actual, predicted in zip((\"train\", \"test\"), (y_train, y_test), (y_train_pred, y_test_pred)):\n",
    "#         mse=mean_squared_error(actual, predicted)\n",
    "#         results= pd.concat([results, pd.DataFrame([{\n",
    "#             \"algorithm\": algorithm, \n",
    "#             \"dataset\": dataset,\n",
    "#             \"MSE\": mse,\n",
    "#             \"RMSE\": math.sqrt(mse),\n",
    "#             \"MAE\": mean_absolute_error(actual, predicted),\n",
    "#             \"MAPE\": mean_absolute_percentage_error(actual, predicted)*100, # implemented is relative to 1 not to 100\n",
    "#             \"params\": num_params\n",
    "#         }])], ignore_index=True)   \n",
    "#     return results\n"
   ]
  },
  {
   "cell_type": "markdown",
   "metadata": {},
   "source": [
    "# Test on Data"
   ]
  },
  {
   "cell_type": "code",
   "execution_count": null,
   "metadata": {},
   "outputs": [],
   "source": []
  },
  {
   "cell_type": "code",
   "execution_count": 33,
   "metadata": {},
   "outputs": [
    {
     "name": "stdout",
     "output_type": "stream",
     "text": [
      "(1, 3000)\n"
     ]
    },
    {
     "data": {
      "image/png": "[encoded data removed]",
      "text/plain": [
       "<Figure size 640x480 with 1 Axes>"
      ]
     },
     "metadata": {},
     "output_type": "display_data"
    },
    {
     "name": "stdout",
     "output_type": "stream",
     "text": [
      "(1, 3000)\n"
     ]
    },
    {
     "data": {
      "image/png": "[encoded data removed]",
      "text/plain": [
       "<Figure size 640x480 with 1 Axes>"
      ]
     },
     "metadata": {},
     "output_type": "display_data"
    },
    {
     "name": "stdout",
     "output_type": "stream",
     "text": [
      "(1, 3000)\n"
     ]
    },
    {
     "data": {
      "image/png": "[encoded data removed]",
      "text/plain": [
       "<Figure size 640x480 with 1 Axes>"
      ]
     },
     "metadata": {},
     "output_type": "display_data"
    },
    {
     "name": "stdout",
     "output_type": "stream",
     "text": [
      "(1, 3000)\n"
     ]
    },
    {
     "data": {
      "image/png": "[encoded data removed]",
      "text/plain": [
       "<Figure size 640x480 with 1 Axes>"
      ]
     },
     "metadata": {},
     "output_type": "display_data"
    },
    {
     "name": "stdout",
     "output_type": "stream",
     "text": [
      "(1, 3000)\n"
     ]
    },
    {
     "data": {
      "image/png": "[encoded data removed]",
      "text/plain": [
       "<Figure size 640x480 with 1 Axes>"
      ]
     },
     "metadata": {},
     "output_type": "display_data"
    },
    {
     "name": "stdout",
     "output_type": "stream",
     "text": [
      "(1, 3000)\n"
     ]
    },
    {
     "data": {
      "image/png": "[encoded data removed]",
      "text/plain": [
       "<Figure size 640x480 with 1 Axes>"
      ]
     },
     "metadata": {},
     "output_type": "display_data"
    },
    {
     "name": "stdout",
     "output_type": "stream",
     "text": [
      "(1, 3000)\n"
     ]
    },
    {
     "data": {
      "image/png": "[encoded data removed]",
      "text/plain": [
       "<Figure size 640x480 with 1 Axes>"
      ]
     },
     "metadata": {},
     "output_type": "display_data"
    },
    {
     "name": "stdout",
     "output_type": "stream",
     "text": [
      "(1, 3000)\n"
     ]
    },
    {
     "data": {
      "image/png": "[encoded data removed]",
      "text/plain": [
       "<Figure size 640x480 with 1 Axes>"
      ]
     },
     "metadata": {},
     "output_type": "display_data"
    },
    {
     "name": "stdout",
     "output_type": "stream",
     "text": [
      "(1, 3000)\n"
     ]
    },
    {
     "data": {
      "image/png": "[encoded data removed]",
      "text/plain": [
       "<Figure size 640x480 with 1 Axes>"
      ]
     },
     "metadata": {},
     "output_type": "display_data"
    }
   ],
   "source": [
    "df = pd.read_csv(path_list[0]) \n",
    "\n",
    "for i in range(1, 10):\n",
    "    # fill the data\n",
    "    df_fill = fill_df(df.iloc[:, [0, i]])\n",
    "\n",
    "    # interpolate the data\n",
    "    df_interpolated = interpolate_to_shape(df_fill.iloc[:, 0], df_fill.iloc[:, 1], spectrum_lenth=3000)\n",
    "    #display(df_interpolated)\n",
    "    x_real = df_interpolated.loc[:, 'x']\n",
    "    y_real = df_interpolated.loc[:, 'y']\n",
    "\n",
    "    # scale the data\n",
    "    y_real_sc = data_scaler.transform(y_real.values.reshape(1, -1))\n",
    "    print(y_real_sc.shape)\n",
    "\n",
    "    # convert to tensor\n",
    "    y_real_tensor = torch.tensor(y_real_sc, dtype=torch.float32)\n",
    "\n",
    "    # predict the data\n",
    "    target_real_pred = model.predict(y_real_tensor)\n",
    "\n",
    "    # bring the data back to the cpu\n",
    "    target_real_pred = target_real_pred.cpu().detach().numpy()\n",
    "\n",
    "    # rescale the data\n",
    "    target_real_pred_rescaled = target_scaler.inverse_transform(target_real_pred)\n",
    "\n",
    "    # reshape the data\n",
    "    target_real_pred = target_real_pred_rescaled.reshape(target_real_pred_rescaled.shape[0], -1)\n",
    "\n",
    "    x0_parms_real, gamma_parms_real, height_parms_real = np.split(target_real_pred, 3, axis=1)\n",
    "\n",
    "    # calcualte the mse\n",
    "    #mse = calculate_mse_of_real_data(df, model, random=False, i=i)\n",
    "    #print(mse)\n",
    "    \n",
    "    # Put the Lorenz functions in a Dataframe\n",
    "    lorentz_list = []\n",
    "    lorentz_df = pd.DataFrame({'x': x_real})  # Initialize DataFrame with x_real\n",
    "\n",
    "    for i, (x0, gamma, height) in enumerate(zip(x0_parms_real[0], gamma_parms_real[0], height_parms_real[0])):\n",
    "        lorentz = lorentzian(x_real, x0, gamma, height)\n",
    "        column_name = f'lorentz_{i}'  # Dynamically generate a unique column name\n",
    "        lorentz_df = pd.concat([lorentz_df, pd.DataFrame({column_name: lorentz})], axis=1)\n",
    "\n",
    "    # add another column which takes the np.maximum of the columns\n",
    "    lorentz_df['max'] = lorentz_df.iloc[:, 1:].max(axis=1)\n",
    "    #display(lorentz_df)\n",
    "    \n",
    "\n",
    "\n",
    "    for subs in substrates:\n",
    "        plt.axvline(x=subs, color='orange', linestyle='--', label='Substrate')\n",
    "\n",
    "    for metab in metabolites:\n",
    "        plt.axvline(x=metab, color='green', linestyle='--', label='Metabolite')\n",
    "\n",
    "    plt.plot(x_real, y_real, label='Real Data', color='blue')\n",
    "    plt.plot(x_real, lorentz_df['max'], label='Predicted Data', color='red')\n",
    "\n",
    "\n",
    "    plt.legend()\n",
    "    plt.show()"
   ]
  },
  {
   "cell_type": "code",
   "execution_count": 34,
   "metadata": {},
   "outputs": [
    {
     "data": {
      "text/plain": [
       "([6.653, 4.7], [4.368, 2.474])"
      ]
     },
     "execution_count": 34,
     "metadata": {},
     "output_type": "execute_result"
    }
   ],
   "source": [
    "substrates, metabolites"
   ]
  },
  {
   "cell_type": "code",
   "execution_count": null,
   "metadata": {},
   "outputs": [],
   "source": []
  },
  {
   "cell_type": "markdown",
   "metadata": {},
   "source": []
  },
  {
   "cell_type": "code",
   "execution_count": null,
   "metadata": {},
   "outputs": [],
   "source": []
  },
  {
   "cell_type": "code",
   "execution_count": null,
   "metadata": {},
   "outputs": [],
   "source": []
  }
 ],
 "metadata": {
  "kernelspec": {
   "display_name": ".main",
   "language": "python",
   "name": ".main"
  },
  "language_info": {
   "codemirror_mode": {
    "name": "ipython",
    "version": 3
   },
   "file_extension": ".py",
   "mimetype": "text/x-python",
   "name": "python",
   "nbconvert_exporter": "python",
   "pygments_lexer": "ipython3",
   "version": "3.12.3"
  }
 },
 "nbformat": 4,
 "nbformat_minor": 2
}
