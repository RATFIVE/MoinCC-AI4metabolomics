{
 "cells": [
  {
   "cell_type": "code",
   "execution_count": 1,
   "metadata": {},
   "outputs": [
    {
     "name": "stderr",
     "output_type": "stream",
     "text": [
      "2024-11-12 18:31:53.830169: E external/local_xla/xla/stream_executor/cuda/cuda_fft.cc:477] Unable to register cuFFT factory: Attempting to register factory for plugin cuFFT when one has already been registered\n",
      "WARNING: All log messages before absl::InitializeLog() is called are written to STDERR\n",
      "E0000 00:00:1731432713.844827  236786 cuda_dnn.cc:8310] Unable to register cuDNN factory: Attempting to register factory for plugin cuDNN when one has already been registered\n",
      "E0000 00:00:1731432713.848986  236786 cuda_blas.cc:1418] Unable to register cuBLAS factory: Attempting to register factory for plugin cuBLAS when one has already been registered\n",
      "2024-11-12 18:31:53.862658: I tensorflow/core/platform/cpu_feature_guard.cc:210] This TensorFlow binary is optimized to use available CPU instructions in performance-critical operations.\n",
      "To enable the following instructions: AVX2 FMA, in other operations, rebuild TensorFlow with the appropriate compiler flags.\n"
     ]
    }
   ],
   "source": [
    "import pandas as pd\n",
    "import numpy as np\n",
    "from pathlib import Path\n",
    "import os\n",
    "import matplotlib.pyplot as plt \n",
    "from scipy import interpolate\n",
    "import random\n",
    "import math\n",
    "import torch\n",
    "import copy\n",
    "import time\n",
    "\n",
    "from sklearn.metrics import mean_absolute_error, mean_squared_error, mean_absolute_percentage_error, accuracy_score, f1_score, roc_auc_score\n",
    "from sklearn.model_selection import train_test_split\n",
    "from sklearn.preprocessing import MinMaxScaler\n",
    "from sklearn.linear_model import LinearRegression\n",
    "from sklearn.dummy import DummyClassifier\n",
    "from sklearn import metrics\n",
    "from sklearn.svm import SVC\n",
    "\n",
    "import torch.nn as nn\n",
    "from torch.utils.tensorboard import SummaryWriter\n",
    "from torch.optim.lr_scheduler import ReduceLROnPlateau\n",
    "from torch.utils.data import DataLoader, TensorDataset\n",
    "\n",
    "import mads_dl\n",
    "\n",
    "from PIL import Image\n",
    "from IPython.display import Image\n",
    "import matplotlib.cm as cm\n",
    "import seaborn as sns\n",
    "\n",
    "from classes import *\n",
    "# set all columns to be displayed\n",
    "pd.set_option('display.max_columns', None)\n",
    "\n",
    "loaddata = LoadData()\n"
   ]
  },
  {
   "cell_type": "markdown",
   "metadata": {},
   "source": [
    "# Classes"
   ]
  },
  {
   "cell_type": "markdown",
   "metadata": {},
   "source": [
    "## Loading Data Classes"
   ]
  },
  {
   "cell_type": "code",
   "execution_count": 2,
   "metadata": {},
   "outputs": [],
   "source": [
    "# 'FA_20231206_2H_yeast_Pyruvate-d3_1.ser.csv'\n",
    "# 'FA_20240517_2H_yeast_Nicotinamide-d4 _9.csv'\n",
    "# 'FA_20240213_2H_yeast_Fumarate-d2_9.csv\n",
    "file = str(Path('FA_20231123_2H Yeast_Fumarate-d2_12 .csv'))\n",
    "substrates = loaddata.get_substrate_list(file)\n",
    "metabolites = loaddata.get_metabolite_list(file)\n",
    "substrates = [float(i) for i in substrates]\n",
    "metabolites = [float(i) for i in metabolites]\n",
    "path_list = loaddata.load_data(file)"
   ]
  },
  {
   "cell_type": "code",
   "execution_count": 3,
   "metadata": {},
   "outputs": [
    {
     "name": "stdout",
     "output_type": "stream",
     "text": [
      "[6.653, 4.7] [4.368, 2.474]\n"
     ]
    }
   ],
   "source": [
    "print(substrates, metabolites)"
   ]
  },
  {
   "cell_type": "markdown",
   "metadata": {},
   "source": [
    "# Step 1: Loading the data"
   ]
  },
  {
   "cell_type": "markdown",
   "metadata": {},
   "source": []
  },
  {
   "cell_type": "code",
   "execution_count": 4,
   "metadata": {},
   "outputs": [
    {
     "name": "stdout",
     "output_type": "stream",
     "text": [
      "(632, 51)\n",
      "(622, 236)\n",
      "(806, 151)\n",
      "(1063, 51)\n",
      "(837, 238)\n",
      "(654, 51)\n",
      "(585, 236)\n",
      "(960, 131)\n",
      "(855, 131)\n",
      "(577, 236)\n",
      "(679, 151)\n",
      "(1429, 131)\n",
      "(1583, 131)\n",
      "(1170, 236)\n",
      "(966, 51)\n",
      "(1527, 131)\n",
      "(841, 41)\n",
      "(2003, 131)\n",
      "(843, 238)\n",
      "(859, 236)\n",
      "(706, 131)\n",
      "(1226, 131)\n",
      "(880, 131)\n",
      "(779, 131)\n",
      "(695, 131)\n",
      "(778, 51)\n",
      "(636, 237)\n",
      "(653, 131)\n",
      "(1045, 131)\n",
      "(925, 71)\n",
      "(793, 236)\n",
      "(718, 238)\n",
      "(782, 236)\n",
      "(2122, 131)\n",
      "(1279, 131)\n",
      "(1632, 131)\n",
      "(941, 238)\n",
      "(537, 236)\n",
      "(1796, 101)\n",
      "(890, 237)\n",
      "(823, 131)\n",
      "(1503, 131)\n",
      "(1675, 131)\n",
      "(861, 151)\n",
      "(681, 236)\n",
      "(1147, 51)\n",
      "(755, 131)\n",
      "(608, 238)\n",
      "(1480, 237)\n",
      "(2268, 131)\n",
      "(1045, 181)\n",
      "(1023, 51)\n",
      "(1418, 238)\n",
      "(691, 236)\n",
      "(735, 131)\n",
      "(655, 236)\n",
      "(1139, 181)\n",
      "(921, 131)\n",
      "(673, 236)\n",
      "(645, 238)\n",
      "(1074, 131)\n",
      "(908, 51)\n",
      "(957, 131)\n",
      "(877, 40)\n",
      "(1297, 131)\n",
      "(951, 131)\n",
      "(1594, 131)\n",
      "(799, 131)\n",
      "(776, 236)\n",
      "(971, 237)\n",
      "(1675, 131)\n",
      "(1178, 237)\n",
      "(2072, 131)\n",
      "(898, 51)\n"
     ]
    }
   ],
   "source": [
    "# shapes of all the csv files\n",
    "path_list2 = loaddata.load_data('.csv')\n",
    "\n",
    "for path in path_list2:\n",
    "    df = pd.read_csv(path)\n",
    "    print(df.shape)"
   ]
  },
  {
   "cell_type": "code",
   "execution_count": 5,
   "metadata": {},
   "outputs": [
    {
     "name": "stdout",
     "output_type": "stream",
     "text": [
      "(2268, 131)\n"
     ]
    }
   ],
   "source": [
    "for file in path_list:\n",
    "    df = pd.read_csv(file)\n",
    "    print(df.shape)"
   ]
  },
  {
   "cell_type": "code",
   "execution_count": 6,
   "metadata": {},
   "outputs": [
    {
     "data": {
      "image/png": "[encoded data removed]",
      "text/plain": [
       "<Figure size 640x480 with 1 Axes>"
      ]
     },
     "metadata": {},
     "output_type": "display_data"
    }
   ],
   "source": [
    "for i in range(len(path_list)):\n",
    "    df = pd.read_csv(path_list[i])\n",
    "    \n",
    "\n",
    "    x = df.iloc[:,0]\n",
    "    y = df.iloc[:, 1]\n",
    "\n",
    "    #print(df.shape)\n",
    "\n",
    "    plt.plot(x,y)\n",
    "\n",
    "# show x  lines\n",
    "plt.axhline(y=0, color='k')\n",
    "plt.show()"
   ]
  },
  {
   "cell_type": "code",
   "execution_count": 7,
   "metadata": {},
   "outputs": [
    {
     "data": {
      "image/png": "[encoded data removed]",
      "text/plain": [
       "<Figure size 1000x500 with 1 Axes>"
      ]
     },
     "metadata": {},
     "output_type": "display_data"
    },
    {
     "data": {
      "image/png": "[encoded data removed]",
      "text/plain": [
       "<Figure size 1000x500 with 1 Axes>"
      ]
     },
     "metadata": {},
     "output_type": "display_data"
    }
   ],
   "source": [
    "import numpy as np\n",
    "import matplotlib.pyplot as plt\n",
    "from scipy.signal import find_peaks\n",
    "from scipy.fft import fft, fftfreq\n",
    "\n",
    "# Assume x_data and y_data are your data arrays\n",
    "x_data = df.iloc[:,0]\n",
    "y_data = df.iloc[:,1]\n",
    "\n",
    "# Step 1: Identify Peaks and Subtract them to Isolate Noise\n",
    "# Use `find_peaks` to locate main peaks, then subtract smoothed signal\n",
    "peaks, _ = find_peaks(y_data, height=500)  # Adjust height to capture main peaks\n",
    "smooth_signal = np.copy(y_data)\n",
    "smooth_signal[peaks] = 0  # Set peaks to 0 to isolate noise around peaks\n",
    "\n",
    "# Isolate noise by subtracting the smoothed version of the signal\n",
    "noise = y_data - smooth_signal\n",
    "\n",
    "# Step 2: Plot Histogram of Noise to Inspect Distribution\n",
    "plt.figure(figsize=(10, 5))\n",
    "plt.hist(noise, bins=50, density=True, alpha=0.7, color='blue')\n",
    "plt.title(\"Histogram of Noise\")\n",
    "plt.xlabel(\"Noise Amplitude\")\n",
    "plt.ylabel(\"Density\")\n",
    "plt.show()\n",
    "\n",
    "# Step 3: Perform Fourier Transform to Analyze Frequency Content of Noise\n",
    "# Compute FFT\n",
    "N = len(noise)\n",
    "yf = fft(noise)\n",
    "xf = fftfreq(N, x_data[1] - x_data[0])  # Frequency axis based on x-axis spacing\n",
    "\n",
    "# Plot the frequency spectrum\n",
    "plt.figure(figsize=(10, 5))\n",
    "plt.plot(xf[:N // 2], np.abs(yf[:N // 2]))\n",
    "plt.title(\"Frequency Spectrum of Noise\")\n",
    "plt.xlabel(\"Frequency\")\n",
    "plt.ylabel(\"Amplitude\")\n",
    "plt.show()\n"
   ]
  },
  {
   "cell_type": "code",
   "execution_count": null,
   "metadata": {},
   "outputs": [],
   "source": []
  },
  {
   "cell_type": "markdown",
   "metadata": {},
   "source": [
    "# Step 2: Generating synthetic Data for - FA_20231113_2H_yeast_Pyruvate-d3_1.csv"
   ]
  },
  {
   "cell_type": "code",
   "execution_count": 8,
   "metadata": {},
   "outputs": [
    {
     "data": {
      "image/png": "[encoded data removed]",
      "text/plain": [
       "<Figure size 640x480 with 1 Axes>"
      ]
     },
     "metadata": {},
     "output_type": "display_data"
    }
   ],
   "source": [
    "import numpy as np\n",
    "import matplotlib.pyplot as plt\n",
    "from scipy.ndimage import gaussian_filter1d\n",
    "\n",
    "# Lorentzian function\n",
    "def lorentzian(x, x0, gamma, height):\n",
    "    return height * (gamma**2 / ((x - x0)**2 + gamma**2))\n",
    "\n",
    "\n",
    "def generate_random_spectrum(peak_list, spectrum_length=3000):\n",
    "\n",
    "    # Generate random spectrum with Lorentzian peaks\n",
    "    x = np.linspace(-2, 15, spectrum_length)  # x range\n",
    "    y = np.zeros_like(x)          # initialize y as zeros\n",
    "    mask = np.zeros_like(x)       # mask to identify peak regions\n",
    "\n",
    "    # Add random Lorentzian peaks\n",
    "    x0_parms = []\n",
    "    gamma_parms = []\n",
    "    height_parms = []\n",
    "\n",
    "    x0_substrate_parms = []\n",
    "    gamma_substrate_parms = []\n",
    "    height_substrate_parms = []\n",
    "\n",
    "    for peak_pos in peak_list:\n",
    "        metabolism_x0 = peak_pos + np.random.uniform(-0.1, 0.1)\n",
    "        \n",
    "        metabolism_gamma = np.random.uniform(0.01, 0.3)  # Random width (gamma)\n",
    "        metabolism_height = np.random.uniform(100, df.max().max())  # Random height\n",
    "        peak_lorenz = lorentzian(x, metabolism_x0, metabolism_gamma, metabolism_height)\n",
    "        y = np.maximum(y, peak_lorenz)  # Use maximum to avoid summing peaks\n",
    "\n",
    "        # Create a mask to identify regions near the peaks (exclude noise here)\n",
    "        mask += peak_lorenz > (0.1 * metabolism_height)  # Masking regions where peak height is significant\n",
    "\n",
    "        # Append the parameters for the peak\n",
    "        x0_parms.append(metabolism_x0)\n",
    "        gamma_parms.append(metabolism_gamma)\n",
    "        height_parms.append(metabolism_height)\n",
    "\n",
    "\n",
    "\n",
    "    # Add noise only outside the peak regions\n",
    "    random_noise_level = np.random.uniform(0, df.max().max())\n",
    "    gaussian_noise = np.random.normal(0, 500, 3000)\n",
    "    laplace_noise = np.random.laplace(0, 500, 3000)\n",
    "\n",
    "    # choose random between noise1 and noise2\n",
    "    noise = gaussian_noise if np.random.rand() > 0.5 else laplace_noise\n",
    "\n",
    "    #noise = np.random.normal(10, random_noise_level, spectrum_length)\n",
    "\n",
    "    # smooth the noise with gaussian filter\n",
    "    sigma = random_noise_level /1\n",
    "    #noise = gaussian_filter1d(noise, sigma=sigma)\n",
    "    # rollwing window mean\n",
    "    noise = np.convolve(noise, np.ones(50)/50, mode='same')\n",
    "    \n",
    "    \n",
    "        \n",
    "    y_noisy = y + noise * (mask == 0)  # Add noise only where mask is 0 (outside peaks)\n",
    "\n",
    "    return x, y_noisy, np.array(x0_parms), np.array(gamma_parms), np.array(height_parms)\n",
    "\n",
    "\n",
    "# ----\n",
    "\n",
    "#peak_list = [2.323, 4.7, 1.201]\n",
    "substrates_list = substrates + metabolites\n",
    "x, y_noisy, x0_parms, gamma_parms, height_parms = generate_random_spectrum(substrates_list)\n",
    "\n",
    "# Plot the result\n",
    "plt.plot(x, y_noisy, '-', label=\"With Noise\")\n",
    "\n",
    "for x0, gamma, height in zip(x0_parms, gamma_parms, height_parms):\n",
    "    lorentz = lorentzian(x, x0, gamma, height)\n",
    "    plt.plot(x, lorentz, '--', label=\"Original Peaks\", alpha=0.5)  \n",
    "plt.xlabel('x')\n",
    "plt.ylabel('Intensity')\n",
    "plt.legend()\n",
    "plt.show()\n"
   ]
  },
  {
   "cell_type": "markdown",
   "metadata": {},
   "source": [
    "# Step 3: Fill Up Original Data "
   ]
  },
  {
   "cell_type": "code",
   "execution_count": 9,
   "metadata": {},
   "outputs": [
    {
     "data": {
      "image/png": "[encoded data removed]",
      "text/plain": [
       "<Figure size 640x480 with 1 Axes>"
      ]
     },
     "metadata": {},
     "output_type": "display_data"
    },
    {
     "name": "stdout",
     "output_type": "stream",
     "text": [
      "(3686, 2)\n"
     ]
    },
    {
     "data": {
      "text/html": [
       "<div>\n",
       "<style scoped>\n",
       "    .dataframe tbody tr th:only-of-type {\n",
       "        vertical-align: middle;\n",
       "    }\n",
       "\n",
       "    .dataframe tbody tr th {\n",
       "        vertical-align: top;\n",
       "    }\n",
       "\n",
       "    .dataframe thead th {\n",
       "        text-align: right;\n",
       "    }\n",
       "</style>\n",
       "<table border=\"1\" class=\"dataframe\">\n",
       "  <thead>\n",
       "    <tr style=\"text-align: right;\">\n",
       "      <th></th>\n",
       "      <th>x</th>\n",
       "      <th>y</th>\n",
       "    </tr>\n",
       "  </thead>\n",
       "  <tbody>\n",
       "    <tr>\n",
       "      <th>0</th>\n",
       "      <td>-2.000000</td>\n",
       "      <td>-11.097519</td>\n",
       "    </tr>\n",
       "    <tr>\n",
       "      <th>1</th>\n",
       "      <td>-1.995927</td>\n",
       "      <td>-10.766380</td>\n",
       "    </tr>\n",
       "    <tr>\n",
       "      <th>2</th>\n",
       "      <td>-1.991855</td>\n",
       "      <td>-10.093319</td>\n",
       "    </tr>\n",
       "    <tr>\n",
       "      <th>3</th>\n",
       "      <td>-1.987782</td>\n",
       "      <td>-9.086903</td>\n",
       "    </tr>\n",
       "    <tr>\n",
       "      <th>4</th>\n",
       "      <td>-1.983710</td>\n",
       "      <td>-7.748831</td>\n",
       "    </tr>\n",
       "    <tr>\n",
       "      <th>...</th>\n",
       "      <td>...</td>\n",
       "      <td>...</td>\n",
       "    </tr>\n",
       "    <tr>\n",
       "      <th>3681</th>\n",
       "      <td>12.983526</td>\n",
       "      <td>4.416881</td>\n",
       "    </tr>\n",
       "    <tr>\n",
       "      <th>3682</th>\n",
       "      <td>12.987599</td>\n",
       "      <td>4.306414</td>\n",
       "    </tr>\n",
       "    <tr>\n",
       "      <th>3683</th>\n",
       "      <td>12.991671</td>\n",
       "      <td>4.214487</td>\n",
       "    </tr>\n",
       "    <tr>\n",
       "      <th>3684</th>\n",
       "      <td>12.995744</td>\n",
       "      <td>4.151805</td>\n",
       "    </tr>\n",
       "    <tr>\n",
       "      <th>3685</th>\n",
       "      <td>12.999816</td>\n",
       "      <td>4.120450</td>\n",
       "    </tr>\n",
       "  </tbody>\n",
       "</table>\n",
       "<p>3686 rows × 2 columns</p>\n",
       "</div>"
      ],
      "text/plain": [
       "              x          y\n",
       "0     -2.000000 -11.097519\n",
       "1     -1.995927 -10.766380\n",
       "2     -1.991855 -10.093319\n",
       "3     -1.987782  -9.086903\n",
       "4     -1.983710  -7.748831\n",
       "...         ...        ...\n",
       "3681  12.983526   4.416881\n",
       "3682  12.987599   4.306414\n",
       "3683  12.991671   4.214487\n",
       "3684  12.995744   4.151805\n",
       "3685  12.999816   4.120450\n",
       "\n",
       "[3686 rows x 2 columns]"
      ]
     },
     "metadata": {},
     "output_type": "display_data"
    }
   ],
   "source": [
    "\n",
    "\n",
    "\n",
    "def interpolate_to_shape(x_original, y_original, spectrum_lenth=3000):\n",
    "    \"\"\"_summary_\n",
    "\n",
    "    # Originaldaten\n",
    "    y_original = df.iloc[:, 1]\n",
    "    x_original = df.iloc[:, 0]\n",
    "\n",
    "    Args:\n",
    "        df (_type_): _description_\n",
    "    \"\"\"\n",
    "\n",
    "\n",
    "    # Neue x-Werte (stellen Sie sicher, dass diese innerhalb des Bereichs von x_original liegen)\n",
    "    x_new = np.linspace(x_original.min(), x_original.max(), spectrum_lenth)\n",
    "\n",
    "    # Interpolierte Daten\n",
    "    interpolated_data = interpolate.interp1d(x_original, y_original, kind='linear')(x_new)\n",
    "    \n",
    "    df = pd.DataFrame({'x': x_new, 'y': interpolated_data})\n",
    "    return df\n",
    "\n",
    "def fill_df(df):\n",
    "    \"\"\"If Data is not ranging from -2 to 10, fill the data with noise\n",
    "    \n",
    "    \"\"\"\n",
    "    # renmame the columns\n",
    "    df.columns = ['x', 'y']\n",
    "    x = df.loc[:, 'x']\n",
    "    y = df.loc[:, 'y']\n",
    "\n",
    "\n",
    "\n",
    "    # Calculate the step size of the x values\n",
    "    x_diff = np.diff(x)\n",
    "    step = np.mean(x_diff)\n",
    "    \n",
    "    # Take sample range for the noise\n",
    "    x_range_lower = 0\n",
    "    x_range_upper = 100\n",
    "\n",
    "    # get sample data of the noise\n",
    "    x_sample = x[x_range_lower:x_range_upper]\n",
    "    y_sample = y[x_range_lower:x_range_upper]\n",
    "\n",
    "    # get the max and min values of the sample data\n",
    "    y_min, y_max = (y_sample.min()), abs(y_sample.max())\n",
    "    #print(y_min, y_max)\n",
    "\n",
    "    # get the min max of the x values\n",
    "    x_min, x_max = x.min(), x.min()\n",
    "\n",
    "    if x_min > -2:\n",
    "\n",
    "\n",
    "        # create values in n steps\n",
    "        x_new = np.arange(-2, x.iloc[0], step)\n",
    "        y_new = np.zeros_like(x_new)\n",
    "\n",
    "        # set the noise level\n",
    "        noise = np.random.normal(0, y_max, len(x_new))\n",
    "\n",
    "\n",
    "        \n",
    "        # smooth the noise with gaussian filter\n",
    "        # Berechne die Standardabweichung der y-Daten\n",
    "        sigma = len(y_new) / 100\n",
    "        noise = gaussian_filter1d(input=noise, sigma=sigma)\n",
    "\n",
    "        # replace y_new with noise\n",
    "        y_new = noise\n",
    "\n",
    "        data = pd.DataFrame({'x': x_new, 'y': y_new})\n",
    "        df = pd.concat([data, df], axis=0)\n",
    "        df.reset_index(drop=True, inplace=True)\n",
    "\n",
    "    if x_max < 15:\n",
    "    \n",
    "        # create values in n steps\n",
    "        x_new = np.arange(x.iloc[-1], 13, step)\n",
    "        #print(x_new)\n",
    "        y_new = np.zeros_like(x_new)\n",
    "\n",
    "        # set the noise level\n",
    "        noise = np.random.normal(0, y_max, len(x_new))\n",
    "\n",
    "        # smooth the noise with gaussian filter\n",
    "        # Berechne die Standardabweichung der y-Daten\n",
    "        sigma = len(y_new) / 100\n",
    "        noise = gaussian_filter1d(input=noise, sigma=sigma)\n",
    "\n",
    "        # replace y_new with noise\n",
    "        y_new = noise\n",
    "\n",
    "        data = pd.DataFrame({'x': x_new, 'y': y_new})\n",
    "        df = pd.concat([df, data], axis=0)\n",
    "        df.reset_index(drop=True, inplace=True)\n",
    "                \n",
    "    return df\n",
    "\n",
    "\n",
    "df_fill = df.iloc[:, [0, 2]]\n",
    "#print(df_fill.head())\n",
    "df_filled = fill_df(df_fill)\n",
    "#print(df_filled.head())\n",
    "\n",
    "# plot \n",
    "plt.plot(df_filled.iloc[:, 0], df_filled.iloc[:, 1], color='green')\n",
    "plt.plot(df_fill.iloc[:, 0], df_fill.iloc[:, 1], color='blue', alpha=0.2)\n",
    "plt.show()\n",
    "print(df_filled.shape)\n",
    "display(df_filled)"
   ]
  },
  {
   "cell_type": "markdown",
   "metadata": {},
   "source": [
    "# Step 3: Bring data to same shape"
   ]
  },
  {
   "cell_type": "code",
   "execution_count": 10,
   "metadata": {},
   "outputs": [
    {
     "name": "stdout",
     "output_type": "stream",
     "text": [
      "(3000, 2)\n"
     ]
    },
    {
     "data": {
      "image/png": "[encoded data removed]",
      "text/plain": [
       "<Figure size 640x480 with 1 Axes>"
      ]
     },
     "metadata": {},
     "output_type": "display_data"
    }
   ],
   "source": [
    "\n",
    "# Interpoliere die Werte, um die Größe des DataFrames zu erweitern\n",
    "df_interpolated = interpolate_to_shape(df_filled.iloc[:, 0], df_filled.iloc[:, 1], spectrum_lenth=3000)\n",
    "\n",
    "# Form des interpolierten DataFrames\n",
    "print(df_interpolated.shape)\n",
    "\n",
    "# Plot the interpolated data\n",
    "#plt.plot(df_filled.iloc[:, 0], df_filled.iloc[:, 1])\n",
    "plt.plot(df_interpolated.iloc[:, 0], df_interpolated.iloc[:, 1], color='red',)\n",
    "plt.plot(df.iloc[:, 0], df.iloc[:, 1], color='green', alpha=0.5)\n",
    "plt.legend(['Original Data', 'Interpolated Data', 'Sum'])\n",
    "plt.show()"
   ]
  },
  {
   "cell_type": "markdown",
   "metadata": {},
   "source": [
    "# Step 4: Bring Data to shape for Transformer"
   ]
  },
  {
   "cell_type": "code",
   "execution_count": 11,
   "metadata": {},
   "outputs": [
    {
     "data": {
      "text/plain": [
       "(3000, 2)"
      ]
     },
     "execution_count": 11,
     "metadata": {},
     "output_type": "execute_result"
    }
   ],
   "source": [
    "df_interpolated.shape"
   ]
  },
  {
   "cell_type": "code",
   "execution_count": 12,
   "metadata": {},
   "outputs": [
    {
     "data": {
      "image/png": "[encoded data removed]",
      "text/plain": [
       "<Figure size 640x480 with 1 Axes>"
      ]
     },
     "metadata": {},
     "output_type": "display_data"
    }
   ],
   "source": [
    "for i in range(df.shape[1]-1):\n",
    "\n",
    "    df_filled = fill_df(df.iloc[:, [0, i]])\n",
    "    df_interpolated = interpolate_to_shape(df_filled.loc[:,'x'], df_filled.loc[:,'y'], spectrum_lenth=3000)\n",
    "    #plt.plot(df_filled.loc[:,'x'], df_filled.loc[:,'y'], '-', label='Original Data')\n",
    "    plt.plot(df_interpolated.iloc[:, 0], df_interpolated.iloc[:, 1], '-', label='Interpolated Data')\n",
    "\n",
    "# data_train_tensor & y_train\n",
    "substrates_list = substrates + metabolites\n",
    "x_synth, y_synth, x0_parms, gamma_parms, height_parms = generate_random_spectrum(substrates_list)\n",
    "\n",
    "\n",
    "#plt.plot(x_synth, y_synth, label=\"With Noise\")\n",
    "plt.xlabel('x')\n",
    "plt.ylabel('Intensity (a.u.)')\n",
    "\n",
    "plt.show()"
   ]
  },
  {
   "cell_type": "markdown",
   "metadata": {},
   "source": [
    "# Generate training Dataset "
   ]
  },
  {
   "cell_type": "code",
   "execution_count": 13,
   "metadata": {},
   "outputs": [
    {
     "name": "stdout",
     "output_type": "stream",
     "text": [
      "x_data shape: torch.Size([10000, 3000])\n",
      "data shape: torch.Size([10000, 3000])\n",
      "x_params_tensor shape: torch.Size([10000, 4])\n",
      "gamma_params_tensor shape: torch.Size([10000, 4])\n",
      "height_params_tensor shape: torch.Size([10000, 4])\n",
      "target shape: torch.Size([10000, 12])\n",
      "\n",
      "\n"
     ]
    },
    {
     "name": "stderr",
     "output_type": "stream",
     "text": [
      "/tmp/ipykernel_236786/3574864625.py:22: UserWarning: Creating a tensor from a list of numpy.ndarrays is extremely slow. Please consider converting the list to a single numpy.ndarray with numpy.array() before converting to a tensor. (Triggered internally at ../torch/csrc/utils/tensor_new.cpp:278.)\n",
      "  x_data = torch.tensor(x_data)\n"
     ]
    }
   ],
   "source": [
    "\n",
    "num_samples = 10000\n",
    "\n",
    "x_data = []\n",
    "y_data = []\n",
    "x0_parms_list = []\n",
    "gamma_parms_list = []\n",
    "height_parms_list = []\n",
    "for i in range(num_samples):\n",
    "    # data_train_tensor & y_train\n",
    "    substrates_list = substrates + metabolites\n",
    "    x, y_noisy, x0_parms, gamma_parms, height_parms = generate_random_spectrum(substrates_list)\n",
    "    x_data.append(x)\n",
    "    y_data.append(y_noisy)\n",
    "    x0_parms_list.append(x0_parms)\n",
    "    gamma_parms_list.append(gamma_parms)\n",
    "    height_parms_list.append(height_parms)\n",
    "\n",
    "\n",
    "\n",
    "\n",
    "# Umwandeln der lists in Tensoren\n",
    "x_data = torch.tensor(x_data)\n",
    "data = torch.tensor(y_data) # Data: Noisy Spectra which is input to the model\n",
    "x_params_tensor = torch.tensor(x0_parms_list) # Target: \n",
    "gamma_params_tensor = torch.tensor(gamma_parms_list)\n",
    "height_params_tensor = torch.tensor(height_parms_list)\n",
    "\n",
    "target = torch.cat((x_params_tensor, gamma_params_tensor, height_params_tensor), dim=1)\n",
    "\n",
    "\n",
    "\n",
    "# Überprüfen der Formen\n",
    "print(f\"x_data shape: {x_data.shape}\")\n",
    "print(f\"data shape: {data.shape}\")\n",
    "print(f\"x_params_tensor shape: {x_params_tensor.shape}\")\n",
    "print(f\"gamma_params_tensor shape: {gamma_params_tensor.shape}\")\n",
    "print(f\"height_params_tensor shape: {height_params_tensor.shape}\")\n",
    "print(f\"target shape: {target.shape}\")\n",
    "print('\\n')"
   ]
  },
  {
   "cell_type": "code",
   "execution_count": 14,
   "metadata": {},
   "outputs": [
    {
     "name": "stdout",
     "output_type": "stream",
     "text": [
      "Before Scaling: torch.Size([10000, 3000])\n",
      "Before Scaling: torch.Size([10000, 12])\n",
      "After Reshaping: torch.Size([10000, 3000])\n",
      "After Reshaping: torch.Size([10000, 12])\n",
      "After Scaling: (10000, 3000)\n",
      "After Scaling: (10000, 12)\n"
     ]
    }
   ],
   "source": [
    "\n",
    "def scale_data(data, target):\n",
    "    \"\"\"Scale the data\n",
    "    \n",
    "    Args:\n",
    "        x_data (_type_): _description_\n",
    "        y_data (_type_): _description_\n",
    "    \"\"\"\n",
    "    # Skalieren Sie die Daten\n",
    "    data_scaler = MinMaxScaler()\n",
    "    target_scaler = MinMaxScaler()\n",
    "\n",
    "    print(f'Before Scaling: {data.shape}')\n",
    "    print(f'Before Scaling: {target.shape}')\n",
    "\n",
    "    # Reshape the data before scaling\n",
    "    data = data.reshape(data.shape[0], -1)\n",
    "    target = target.reshape(target.shape[0], -1)\n",
    "\n",
    "    print(f'After Reshaping: {data.shape}')\n",
    "    print(f'After Reshaping: {target.shape}')\n",
    "\n",
    "    # Skalieren Sie die x-Daten\n",
    "    data_scaled = data_scaler.fit_transform(data)\n",
    "    target_scaled = target_scaler.fit_transform(target)\n",
    "    \n",
    "    print(f'After Scaling: {data_scaled.shape}')\n",
    "    print(f'After Scaling: {target_scaled.shape}')\n",
    "\n",
    "\n",
    "    return data_scaled, target_scaled, data_scaler, target_scaler\n",
    "    \n",
    "\n",
    "# Skalieren Sie die Daten\n",
    "data_scaled, target_scaled, data_scaler, target_scaler = scale_data(data, target)"
   ]
  },
  {
   "cell_type": "code",
   "execution_count": 15,
   "metadata": {},
   "outputs": [
    {
     "name": "stdout",
     "output_type": "stream",
     "text": [
      "Data Train Shape: torch.Size([6000, 3000])\n",
      "Data Val Shape: torch.Size([2000, 3000])\n",
      "Data Test Shape: torch.Size([2000, 3000])\n",
      "Target Train Shape: torch.Size([6000, 12])\n",
      "Target Val Shape: torch.Size([2000, 12])\n",
      "Target Test Shape: torch.Size([2000, 12])\n"
     ]
    }
   ],
   "source": [
    "from sklearn.model_selection import train_test_split\n",
    "import torch\n",
    "from sklearn.preprocessing import MinMaxScaler\n",
    "device = torch.device(\"cuda\" if torch.cuda.is_available() else \"cpu\")\n",
    "\n",
    "\n",
    "\n",
    "# Aufteilen der Daten in Trainings- und Testsets\n",
    "data_train, data_tmp, target_train, target_tmp = train_test_split(data, target, \n",
    "                                                    test_size=0.4,\n",
    "                                                    shuffle=True,\n",
    "                                                    random_state=1)\n",
    "data_val, data_test, target_val, target_test = train_test_split(data_tmp, target_tmp,\n",
    "                                                    test_size=0.5,\n",
    "                                                    shuffle=True,\n",
    "                                                    random_state=1)\n",
    "\n",
    "# import StandardScaler\n",
    "from sklearn.preprocessing import StandardScaler\n",
    "\n",
    "# Skalieren der Daten\n",
    "data_scaler = MinMaxScaler()\n",
    "target_scaler = MinMaxScaler()\n",
    "\n",
    "# Skalieren von data train und test\n",
    "data_train_sc = data_scaler.fit_transform(data_train)\n",
    "data_val_sc = data_scaler.transform(data_val)\n",
    "data_test_sc = data_scaler.transform(data_test)\n",
    "\n",
    "# Skalieren von target train und test\n",
    "target_train_sc = target_scaler.fit_transform(target_train)\n",
    "target_val_sc = target_scaler.transform(target_val)\n",
    "target_test_sc = target_scaler.transform(target_test)\n",
    "\n",
    "\n",
    "# Konvertieren in Tensoren\n",
    "data_train_tensor = torch.tensor(data_train_sc, dtype=torch.float32)\n",
    "data_val_tensor = torch.tensor(data_val_sc, dtype=torch.float32)\n",
    "data_test_tensor = torch.tensor(data_test_sc, dtype=torch.float32)\n",
    "target_train_tensor = torch.tensor(target_train_sc, dtype=torch.float32)\n",
    "target_val_tensor = torch.tensor(target_val_sc, dtype=torch.float32)\n",
    "target_test_tensor = torch.tensor(target_test_sc, dtype=torch.float32)\n",
    "\n",
    "\n",
    "\n",
    "\n",
    "\n",
    "# # Reshape the tensors for the model\n",
    "# target_train_tensor = target_train_tensor.reshape(target_train_tensor.shape[0], -1)\n",
    "# target_val_tensor = target_val_tensor.reshape(target_val_tensor.shape[0], -1)\n",
    "\n",
    "# Überprüfen der Tensoren\n",
    "print(f\"Data Train Shape: {data_train_tensor.shape}\")\n",
    "print(f\"Data Val Shape: {data_val_tensor.shape}\")\n",
    "print(f\"Data Test Shape: {data_test_tensor.shape}\")\n",
    "print(f\"Target Train Shape: {target_train_tensor.shape}\")\n",
    "print(f\"Target Val Shape: {target_val_tensor.shape}\")\n",
    "print(f\"Target Test Shape: {target_test_tensor.shape}\")"
   ]
  },
  {
   "cell_type": "markdown",
   "metadata": {},
   "source": [
    "# LSTM "
   ]
  },
  {
   "cell_type": "code",
   "execution_count": 16,
   "metadata": {},
   "outputs": [],
   "source": [
    "# class NeuralNetwork(nn.Module):\n",
    "#     def __init__(self, input_size, hidden_size, output_size, dropout_prob):\n",
    "#         super(NeuralNetwork, self).__init__()\n",
    "\n",
    "#         self.reduce = nn.Linear(3000, hidden_size)\n",
    "\n",
    "#         # Define LSTM with correct hidden size\n",
    "#         self.lstm = nn.GRU(input_size=input_size, hidden_size=hidden_size, num_layers=2, batch_first=True)\n",
    "\n",
    "#         # Fully connected layers with corrected input sizes\n",
    "#         self.fc1 = nn.Sequential(\n",
    "#             nn.Linear(hidden_size, 128),  # Match hidden_size with the output of LSTM\n",
    "#             nn.LeakyReLU(),\n",
    "#             nn.Dropout(p=dropout_prob)\n",
    "#         )\n",
    "\n",
    "#         self.fc2 = nn.Sequential(\n",
    "#             nn.Linear(128, 32),\n",
    "#             nn.LeakyReLU(),\n",
    "#             nn.Dropout(p=dropout_prob)\n",
    "#         )\n",
    "\n",
    "#         self.fc3 = nn.Sequential(\n",
    "#             nn.Linear(32, 16),\n",
    "#             nn.LeakyReLU(),\n",
    "#             nn.Dropout(p=dropout_prob)\n",
    "#         )\n",
    "\n",
    "#         # Output layer\n",
    "#         self.output = nn.Linear(16, output_size)\n",
    "\n",
    "#     def forward(self, x):\n",
    "#         # Check shape before reducing\n",
    "#         #print(f\"Input shape before reduction: {x.shape}\")  # For debugging\n",
    "#         x = self.reduce(x)  # This should expect (batch_size, 3000)\n",
    "        \n",
    "\n",
    "#         # Reshape for LSTM input\n",
    "#         x = x.reshape(x.shape[0], 1, -1)  # Reshape to (batch_size, seq_len, input_size)\n",
    "#         #print(f\"Shape after reduction: {x.shape}\")\n",
    "\n",
    "#         batch_size = x.shape[0]\n",
    "        \n",
    "#         # Initialize hidden and cell states with hidden_size instead of input_size\n",
    "#         h_0 = torch.zeros(2, batch_size, hidden_size).to(x.device)\n",
    "#         #c_0 = torch.zeros(2, batch_size, hidden_size).to(x.device)\n",
    "\n",
    "#         # Pass data through LSTM\n",
    "#         x, _ = self.lstm(x, (h_0))\n",
    "#         x = x[:, -1, :]  # Take the output from the last time step\n",
    "\n",
    "#         # Pass data through fully connected layers\n",
    "#         x = self.fc1(x)\n",
    "#         x = self.fc2(x)\n",
    "#         x = self.fc3(x)\n",
    "\n",
    "#         # Final output\n",
    "#         output = self.output(x)\n",
    "#         return output\n",
    "    \n",
    "#     def predict(self, X):\n",
    "#         '''\n",
    "#         Use the model to predict for the values in the test set.\n",
    "#         Return the prediction\n",
    "#         '''\n",
    "#         model.eval()\n",
    "#         with torch.no_grad():\n",
    "#             return model(X)\n"
   ]
  },
  {
   "cell_type": "code",
   "execution_count": 17,
   "metadata": {},
   "outputs": [
    {
     "name": "stdout",
     "output_type": "stream",
     "text": [
      "torch.Size([6000, 3000]) torch.Size([6000, 12])\n"
     ]
    }
   ],
   "source": [
    "print(data_train_tensor.shape, target_train_tensor.shape)"
   ]
  },
  {
   "cell_type": "markdown",
   "metadata": {},
   "source": [
    "# Conv1D"
   ]
  },
  {
   "cell_type": "code",
   "execution_count": 18,
   "metadata": {},
   "outputs": [],
   "source": [
    "# import torch\n",
    "# import torch.nn as nn\n",
    "\n",
    "# class NeuralNetwork(nn.Module):\n",
    "#     def __init__(self, input_size, hidden_size, output_size, dropout_prob):\n",
    "#         super(NeuralNetwork, self).__init__()\n",
    "        \n",
    "#         self.firstpooling = nn.Sequential(\n",
    "#             nn.AvgPool1d(kernel_size=2, stride=2, padding=0),\n",
    "#             nn.Dropout(p=dropout_prob),\n",
    "#             nn.LeakyReLU()\n",
    "#         )\n",
    "#         # Convolutional and pooling layers  \n",
    "#         self.conv1 = nn.Sequential(\n",
    "#             nn.Conv1d(in_channels=1, out_channels=8, kernel_size=3, stride=1, padding=1),\n",
    "#             nn.LeakyReLU(),\n",
    "#             nn.Dropout(p=dropout_prob),\n",
    "#             nn.MaxPool1d(kernel_size=2, stride=2, padding=0)\n",
    "#         )\n",
    "        \n",
    "        \n",
    "#         self.conv2 = nn.Sequential(\n",
    "#             nn.Conv1d(in_channels=8, out_channels=8, kernel_size=3, stride=1, padding=1),\n",
    "#             nn.LeakyReLU(),\n",
    "#             nn.Dropout(p=dropout_prob),\n",
    "#             nn.MaxPool1d(kernel_size=2, stride=2, padding=0)\n",
    "#         )\n",
    "        \n",
    "\n",
    "#         # Fully connected layers\n",
    "#         self.fc1 = nn.Sequential(\n",
    "#             nn.Linear(3000, 1000),  # Adjust for pooling effects\n",
    "#             nn.LeakyReLU(),\n",
    "#             nn.Dropout(p=dropout_prob)\n",
    "#         )\n",
    "\n",
    "#         self.fc2 = nn.Sequential(\n",
    "#             nn.Linear(1000, 128),\n",
    "#             nn.LeakyReLU(),\n",
    "#             nn.Dropout(p=dropout_prob)\n",
    "#         )\n",
    "\n",
    "#         self.fc3 = nn.Sequential(\n",
    "#             nn.Linear(3000, 32),\n",
    "#             nn.LeakyReLU(),\n",
    "#             nn.Dropout(p=dropout_prob)\n",
    "#         )\n",
    "\n",
    "#         # Output layer\n",
    "#         self.output = nn.Linear(32, output_size)\n",
    "\n",
    "#     def forward(self, x):\n",
    "#         # Apply convolutional layers with pooling\n",
    "        \n",
    "#         x = x.unsqueeze(1)\n",
    "#         x = self.firstpooling(x)\n",
    "#         x = self.conv1(x)      \n",
    "#         x = self.conv2(x)  \n",
    "\n",
    "#         #print(x.shape)\n",
    "#         # Flatten the output for fully connected layers\n",
    "#         x = x.reshape(x.shape[0], -1)        \n",
    "#         # Pass through fully connected layers\n",
    "#         # x = self.fc1(x)\n",
    "#         # x = self.fc2(x)\n",
    "#         x = self.fc3(x)\n",
    "\n",
    "#         # Output layer\n",
    "#         output = self.output(x)\n",
    "#         return output\n",
    "\n",
    "#     def predict(self, X):\n",
    "#         self.eval()\n",
    "#         with torch.no_grad():\n",
    "#             return self(X)\n"
   ]
  },
  {
   "cell_type": "code",
   "execution_count": 19,
   "metadata": {},
   "outputs": [],
   "source": [
    "# Model for hyperparameter tuning\n",
    "\n",
    "import torch\n",
    "import torch.nn as nn\n",
    "\n",
    "class NeuralNetwork(nn.Module):\n",
    "    def __init__(self, \n",
    "                    input_size=3000, \n",
    "                    hidden_size=128, \n",
    "                    output_size=len(substrates_list) * 3, \n",
    "                    dropout_prob=0.2,\n",
    "                    avgpool_kernel_size=2,\n",
    "                    avgpool_stride=2,\n",
    "                    avgpool_padding=0,\n",
    "\n",
    "                    conv1_in_channels=1,\n",
    "                    conv1_out_channels=8,\n",
    "                    conv1_kernel_size=3,\n",
    "                    conv1_stride=1,\n",
    "                    conv1_padding=1,\n",
    "\n",
    "                    conv2_in_channels=8,\n",
    "                    conv2_out_channels=8,\n",
    "                    conv2_kernel_size=3,\n",
    "                    conv2_stride=1,\n",
    "                    conv2_padding=1,\n",
    "\n",
    "                    fc1_in_features=3000,\n",
    "                    fc1_out_features=1000,\n",
    "\n",
    "                    fc2_in_features=1000,\n",
    "                    fc2_out_features=128,\n",
    "\n",
    "                    fc3_in_features=128,\n",
    "                    fc3_out_features=32\n",
    "\n",
    "\n",
    "                 ):\n",
    "        super(NeuralNetwork, self).__init__()\n",
    "        \n",
    "        self.firstpooling = nn.Sequential(\n",
    "            nn.AvgPool1d(kernel_size=avgpool_kernel_size, stride=avgpool_stride, padding=avgpool_padding),\n",
    "            nn.Dropout(p=dropout_prob),\n",
    "            nn.LeakyReLU()\n",
    "        )\n",
    "        # Convolutional and pooling layers  \n",
    "        self.conv1 = nn.Sequential(\n",
    "            nn.Conv1d(in_channels=conv1_in_channels, out_channels=conv1_out_channels, kernel_size=conv1_kernel_size, stride=conv1_stride, padding=conv1_padding),\n",
    "            nn.LeakyReLU(),\n",
    "            nn.Dropout(p=dropout_prob),\n",
    "            nn.MaxPool1d(kernel_size=2, stride=2, padding=0)\n",
    "        )\n",
    "        \n",
    "        \n",
    "        self.conv2 = nn.Sequential(\n",
    "            nn.Conv1d(in_channels=conv1_out_channels, out_channels=conv2_out_channels, kernel_size=conv2_kernel_size, stride=conv1_stride, padding=conv1_padding),\n",
    "            nn.LeakyReLU(),\n",
    "            nn.Dropout(p=dropout_prob),\n",
    "            nn.MaxPool1d(kernel_size=2, stride=2, padding=0)\n",
    "        )\n",
    "        \n",
    "\n",
    "        # Fully connected layers\n",
    "        self.fc1 = nn.Sequential(\n",
    "            nn.Linear(fc1_in_features, fc1_out_features),  # Adjust for pooling effects\n",
    "            nn.LeakyReLU(),\n",
    "            nn.Dropout(p=dropout_prob)\n",
    "        )\n",
    "\n",
    "        # self.fc2 = nn.Sequential(\n",
    "        #     nn.Linear(fc1_out_features, 128),\n",
    "        #     nn.LeakyReLU(),\n",
    "        #     nn.Dropout(p=dropout_prob)\n",
    "        # )\n",
    "\n",
    "        self.fc3 = nn.Sequential(\n",
    "            nn.Linear(fc1_out_features, fc3_out_features),\n",
    "            nn.LeakyReLU(),\n",
    "            nn.Dropout(p=dropout_prob)\n",
    "        )\n",
    "\n",
    "        # Output layer\n",
    "        self.output = nn.Linear(fc3_out_features, output_size)\n",
    "\n",
    "    def forward(self, x):\n",
    "        # Apply convolutional layers with pooling\n",
    "        \n",
    "        x = x.unsqueeze(1)\n",
    "        x = self.firstpooling(x)\n",
    "        x = self.conv1(x)      \n",
    "        x = self.conv2(x)  \n",
    "\n",
    "        #print(x.shape)\n",
    "        # Flatten the output for fully connected layers\n",
    "        x = x.reshape(x.shape[0], -1)        \n",
    "        # Pass through fully connected layers\n",
    "        # x = self.fc1(x)\n",
    "        # x = self.fc2(x)\n",
    "        x = self.fc3(x)\n",
    "\n",
    "        # Output layer\n",
    "        output = self.output(x)\n",
    "        return output\n",
    "\n",
    "    def predict(self, X):\n",
    "        self.eval()\n",
    "        with torch.no_grad():\n",
    "            return self(X)\n"
   ]
  },
  {
   "cell_type": "markdown",
   "metadata": {},
   "source": [
    "# Linear Layer"
   ]
  },
  {
   "cell_type": "code",
   "execution_count": 20,
   "metadata": {},
   "outputs": [],
   "source": [
    "# class NeuralNetwork(nn.Module):\n",
    "#     def __init__(self, input_size, hidden_size, output_size, dropout_prob):\n",
    "#         super(NeuralNetwork, self).__init__()\n",
    "\n",
    "#         self.reduce = nn.Sequential(\n",
    "#             nn.Linear(3000, 1000),\n",
    "#             nn.LeakyReLU(),\n",
    "#             nn.Dropout(p=dropout_prob)\n",
    "#         )\n",
    "#         self.reduce2 = nn.Sequential(\n",
    "#             nn.Linear(1000, hidden_size),\n",
    "#             nn.LeakyReLU(),\n",
    "#             nn.Dropout(p=dropout_prob)\n",
    "#         )\n",
    "\n",
    "\n",
    "#         self.fc1 = nn.Sequential(\n",
    "#             nn.Linear(hidden_size, 128),\n",
    "#             nn.LeakyReLU(),\n",
    "#             nn.Dropout(p=dropout_prob)\n",
    "#         )\n",
    "\n",
    "#         self.fc2 = nn.Sequential(\n",
    "#             nn.Linear(128, 32),\n",
    "#             nn.LeakyReLU(),\n",
    "#             nn.Dropout(p=dropout_prob)\n",
    "#         )\n",
    "\n",
    "#         self.fc3 = nn.Sequential(\n",
    "#             nn.Linear(32, 16),\n",
    "#             nn.LeakyReLU(),\n",
    "#             nn.Dropout(p=dropout_prob)\n",
    "#         )\n",
    "\n",
    "#         # Output layer\n",
    "#         self.output = nn.Linear(16, output_size)\n",
    "\n",
    "#     def forward(self, x):\n",
    "#         x = self.reduce(x)\n",
    "#         x = self.reduce2(x)\n",
    "#         x = self.fc1(x)\n",
    "#         x = self.fc2(x)\n",
    "#         x = self.fc3(x)\n",
    "#         output = self.output(x)\n",
    "#         return output\n",
    "\n",
    "#     def predict(self, X):\n",
    "#         self.eval()\n",
    "#         with torch.no_grad():\n",
    "#             return self(X)"
   ]
  },
  {
   "cell_type": "markdown",
   "metadata": {},
   "source": [
    "# Training"
   ]
  },
  {
   "cell_type": "code",
   "execution_count": 21,
   "metadata": {},
   "outputs": [],
   "source": [
    "\n",
    "def calculate_mse_of_real_data(df, model, random=True, i = 3):\n",
    "\n",
    "    \"\"\"\n",
    "    e.g. df: df.iloc[:, [0, 1]]\n",
    "    \"\"\"\n",
    "\n",
    "    if random:\n",
    "        i = np.random.randint(1, df.shape[1])\n",
    "\n",
    "    # fill the data\n",
    "    df_fill = fill_df(df.iloc[:, [0, i]])\n",
    "\n",
    "    # interpolate the data\n",
    "    df_interpolated = interpolate_to_shape(df_fill.iloc[:, 0], df_fill.iloc[:, 1], spectrum_lenth=3000)\n",
    "    #display(df_interpolated)\n",
    "    x_real = df_interpolated.loc[:, 'x']\n",
    "    y_real = df_interpolated.loc[:, 'y']\n",
    "\n",
    "    # scale the data\n",
    "    y_real_sc = data_scaler.transform(y_real.values.reshape(1, -1))\n",
    "\n",
    "\n",
    "    # convert to tensor\n",
    "    y_real_tensor = torch.tensor(y_real_sc, dtype=torch.float32).to(device)\n",
    "\n",
    "    # predict the data\n",
    "    target_real_pred = model.predict(y_real_tensor)\n",
    "\n",
    "    # bring the data back to the cpu\n",
    "    target_real_pred_cpu = target_real_pred.cpu().detach().numpy()\n",
    "\n",
    "    # rescale the data\n",
    "    target_real_pred_rescaled = target_scaler.inverse_transform(target_real_pred_cpu)\n",
    "\n",
    "    # reshape the data\n",
    "    target_real_pred = target_real_pred_rescaled.reshape(target_real_pred_rescaled.shape[0], -1)\n",
    "\n",
    "    x0_parms_real, gamma_parms_real, height_parms_real = np.split(target_real_pred, 3, axis=1)\n",
    "\n",
    "        \n",
    "\n",
    "    # Put the Lorenz functions in a Dataframe\n",
    "    lorentz_list = []\n",
    "    lorentz_df = pd.DataFrame({'x': x_real})  # Initialize DataFrame with x_real\n",
    "\n",
    "    for i, (x0, gamma, height) in enumerate(zip(x0_parms_real[0], gamma_parms_real[0], height_parms_real[0])):\n",
    "        lorentz = lorentzian(x_real, x0, gamma, height)\n",
    "        column_name = f'lorentz_{i}'  # Dynamically generate a unique column name\n",
    "        lorentz_df = pd.concat([lorentz_df, pd.DataFrame({column_name: lorentz})], axis=1)\n",
    "\n",
    "    # add another column which takes the np.maximum of the columns\n",
    "    lorentz_df['max'] = lorentz_df.iloc[:, 1:].max(axis=1)\n",
    "    #display(lorentz_df)\n",
    "\n",
    "    # calculate the mse between the real data and lorentz_df\n",
    "    mse = mean_squared_error(y_real, lorentz_df['max'])\n",
    "    return mse"
   ]
  },
  {
   "cell_type": "code",
   "execution_count": 26,
   "metadata": {},
   "outputs": [
    {
     "name": "stdout",
     "output_type": "stream",
     "text": [
      "Train shape: torch.Size([6000, 3000])\n",
      "Validation shape: torch.Size([2000, 3000])\n"
     ]
    }
   ],
   "source": [
    "\n",
    "\n",
    "# ------------------------------------\n",
    "import torch\n",
    "\n",
    "def get_model_size(model):\n",
    "    total_params = sum(p.numel() for p in model.parameters())\n",
    "    size_in_bytes = total_params * 4  # Assuming 32-bit (4 bytes) floats\n",
    "    size_in_megabytes = size_in_bytes / (1024 ** 2)  # Convert to MB\n",
    "    return total_params, size_in_megabytes\n",
    "\n",
    "\n",
    "df = pd.read_csv(path_list[0]) \n",
    "\n",
    "dropout_results = [] # storing the results of the dropout experiment\n",
    "optuna_results = [] # storing the results of the optuna experiment\n",
    "\n",
    "def training(model, X_train, y_train, X_val, y_val, criterion, optimizer, epochs, writer, batch_size=64, patience=50, dropout_prob=0.5, log_tensorboard=True, log_dropout=True, verbose=True, check_real_data=False):\n",
    "\n",
    "    # Set device to GPU if available\n",
    "    if torch.cuda.is_available():\n",
    "        device = torch.device('cuda')\n",
    "    else:\n",
    "        device = torch.device('cpu')\n",
    "\n",
    "   # device = torch.device('cpu')\n",
    "\n",
    "    # Move data and model to device\n",
    "    X_train, y_train, X_val, y_val = X_train.to(device), y_train.to(device), X_val.to(device), y_val.to(device)\n",
    "    model.to(device)\n",
    "\n",
    "    # Initialize best metrics and model\n",
    "    best_eval_metric_val = float('inf') # Initialize the best_eval_metric\n",
    "    best_val_loss = float('inf') # Initialize the best_val_loss\n",
    "    best_model = copy.deepcopy(model.state_dict()) # Initialize the best_model\n",
    "    patience_counter_loss = 0  # Early stopping counter\n",
    "    patience_counter_metric = 0  # Early stopping counter\n",
    "\n",
    "    # DataLoader for batching\n",
    "    train_dataset = TensorDataset(X_train, y_train)\n",
    "    train_loader = DataLoader(train_dataset, batch_size=batch_size, shuffle=True, drop_last=True)\n",
    "\n",
    "\n",
    "    # Scheduler for learning rate adjustment (if val_loss does not improve for 'patience' epochs)\n",
    "    scheduler = ReduceLROnPlateau(optimizer, mode='min', patience=3, factor=0.5)\n",
    "    train_losses, val_losses = [], [] # to visualize the drop_out_prob\n",
    "    train_accuracies, val_accuracies = [], []\n",
    "    # Training Loop\n",
    "    for epoch in range(epochs):\n",
    "        model.train()\n",
    "        epoch_loss = 0\n",
    "\n",
    "        # Training loop\n",
    "        for data, target in train_loader:\n",
    "            data, target = data.to(device), target.to(device)\n",
    "\n",
    "            \n",
    "            \n",
    "            #print(data.shape, target.shape)\n",
    "            optimizer.zero_grad()  # Clear gradients\n",
    "            outputs = model(data)  # Forward pass\n",
    "            #loss = criterion(outputs.squeeze(1), target)  # Calculate loss\n",
    "            # FOR LSTM\n",
    "            loss = criterion(outputs, target)  # Calculate loss # For LSTM\n",
    "            \n",
    "            loss.backward()  # Backpropagation\n",
    "            optimizer.step()  # Update weights\n",
    "\n",
    "            epoch_loss += loss # Accumulate batch loss\n",
    "\n",
    "        # Validation\n",
    "        model.eval()\n",
    "        with torch.no_grad():\n",
    "            \n",
    "            val_outputs = model(X_val)  # Forward pass\n",
    "            #loss_val = criterion(val_outputs.squeeze(1), y_val)\n",
    "            # FOR LSTM\n",
    "            loss_val = criterion(val_outputs, y_val)\n",
    "            scheduler.step(loss_val)  # Adjust learning rate based on loss\n",
    "            \n",
    "            # calculate the training accuracy\n",
    "            predictions_train = model.predict(X_train)\n",
    "            \n",
    "            mse_train = mean_squared_error(y_train.cpu(), predictions_train.cpu().squeeze(1))\n",
    "\n",
    "            # Calculate validation accuracy\n",
    "            predictions_val = model.predict(X_val)\n",
    "            mse_val = mean_squared_error(y_val.cpu(), predictions_val.cpu().squeeze(1))\n",
    "\n",
    "            # Log to dropout_results\n",
    "            if log_dropout:\n",
    "              train_losses.append(epoch_loss / len(train_loader))\n",
    "              val_losses.append(loss_val)\n",
    "              train_accuracies.append(mse_train)\n",
    "              val_accuracies.append(mse_val)\n",
    "\n",
    "            # Log to TensorBoard\n",
    "            if log_tensorboard:\n",
    "              writer.add_scalars(\"Loss\", {\"train\": epoch_loss / len(train_loader), 'val': loss_val}, epoch)\n",
    "              writer.add_scalars(\"MSE\", {\"train\": mse_train, \"val\": mse_val}, epoch)\n",
    "              #writer.add_scalar(\"Accuracy/val\", rmse_val, epoch)\n",
    "              writer.flush()\n",
    "\n",
    "            # Early stopping if loss_val is increasing\n",
    "            if loss_val < best_val_loss:\n",
    "                best_val_loss = loss_val  # Update best val_loss\n",
    "                patience_counter_loss = 0  # Reset patience counter\n",
    "            else:\n",
    "                patience_counter_loss += 1  # Increment if no improvement\n",
    "\n",
    "            # Early Stopping based on if val_mse is not increasing\n",
    "            if mse_val < best_eval_metric_val:\n",
    "                best_eval_metric_val = mse_val\n",
    "                best_model = copy.deepcopy(model.state_dict()) # saves the best model where the rmse_val is highest\n",
    "                patience_counter_metric = 0  # Reset patience counter if improved\n",
    "            else:\n",
    "                patience_counter_metric += 1\n",
    "\n",
    "            # Early stopping check\n",
    "            if (patience_counter_loss >= patience) or (patience_counter_metric >= patience):\n",
    "                print(f\"Early stopping at epoch {epoch+1}\")\n",
    "                break\n",
    "\n",
    "\n",
    "        # Print status\n",
    "        if verbose:\n",
    "          if epoch % 1 == 0:\n",
    "            print(f\"| Epoch {epoch+1} | Train Loss: {epoch_loss / len(train_loader):.4f}, Validation Loss: {loss_val:.4f} | Train MSE: {mse_train:.4f}, Val MSE: {mse_val:.4f} |\")\n",
    "\n",
    "        if check_real_data:\n",
    "            \n",
    "            \n",
    "\n",
    "            mse = calculate_mse_of_real_data(df, model, random=True)\n",
    "            optuna_results.append({'dropout_prob': dropout_prob,\n",
    "                                    'train_loss': train_losses,\n",
    "                                    'val_loss': val_losses,\n",
    "                                    'training_MSE': train_accuracies,\n",
    "                                    'validation_MSE': val_accuracies,\n",
    "                                    'real_data_MSE': mse\n",
    "                                    })\n",
    "\n",
    "            writer.add_scalars(\"MSE/Real Data\", {\"MSE\": mse}, epoch)\n",
    "\n",
    "\n",
    "    dropout_results.append({'dropout_prob': dropout_prob,\n",
    "                                    'train_loss': train_losses,\n",
    "                                    'val_loss': val_losses,\n",
    "                                    'training_MSE': train_accuracies,\n",
    "                                    'validation_MSE': val_accuracies\n",
    "                                    })\n",
    "    # Load the best model\n",
    "    model.load_state_dict(best_model)\n",
    "    print(f\"Best validation MSE: {best_eval_metric_val:.4f}\")\n",
    "\n",
    "    writer.close()\n",
    "    return model, optuna_results\n",
    "\n",
    "\n",
    "\n",
    "\n",
    "#%tensorboard --logdir=runs\n",
    "\n",
    "\n",
    "# Data preparation: ensure data shapes are correct\n",
    "data_train_tensor = data_train_tensor.reshape(-1, 3000)  # Assuming original shape is (num_samples, 3000)\n",
    "data_val_tensor = data_val_tensor.reshape(-1, 3000)\n",
    "\n",
    "# Check shapes before training\n",
    "print(\"Train shape:\", data_train_tensor.shape)\n",
    "print(\"Validation shape:\", data_val_tensor.shape)\n",
    "\n",
    "# Define model with correct input size\n",
    "input_size = 3000\n",
    "hidden_size = 512\n",
    "output_size = len(substrates_list) * 3\n",
    "dropout_prob = 0.1\n",
    "learning_rate = 0.000001\n",
    "epochs = 100\n",
    "\n",
    "# model = NeuralNetwork().to(device)\n",
    "# model_size, model_size_mb = get_model_size(model)\n",
    "# print(f'Total parameters: {model_size}')\n",
    "# print(f'Model size: {model_size_mb:.2f} MB')\n",
    "\n",
    "# optimizer = torch.optim.Adam(model.parameters(), lr=learning_rate)\n",
    "# criterion = torch.nn.MSELoss()\n",
    "\n",
    "# writer = SummaryWriter()\n",
    "\n",
    "# trained_model, _ = training(model=model,\n",
    "#                          X_train=data_train_tensor,\n",
    "#                          y_train=target_train_tensor,\n",
    "#                          X_val=data_val_tensor,\n",
    "#                          y_val=target_val_tensor,\n",
    "#                          criterion=criterion,\n",
    "#                          optimizer=optimizer,\n",
    "#                          epochs=epochs,\n",
    "#                          writer=writer,\n",
    "#                          dropout_prob=dropout_prob,\n",
    "#                          log_tensorboard=True,\n",
    "#                          log_dropout=False,\n",
    "#                          verbose=True,\n",
    "#                          check_real_data=True)\n"
   ]
  },
  {
   "cell_type": "markdown",
   "metadata": {},
   "source": [
    "# Optuna\n"
   ]
  },
  {
   "cell_type": "code",
   "execution_count": null,
   "metadata": {},
   "outputs": [],
   "source": []
  },
  {
   "cell_type": "code",
   "execution_count": 27,
   "metadata": {},
   "outputs": [
    {
     "name": "stderr",
     "output_type": "stream",
     "text": [
      "/home/generalpegasus/Documents/VirtualEnvirnoments/.main/lib/python3.12/site-packages/tqdm/auto.py:21: TqdmWarning: IProgress not found. Please update jupyter and ipywidgets. See https://ipywidgets.readthedocs.io/en/stable/user_install.html\n",
      "  from .autonotebook import tqdm as notebook_tqdm\n",
      "[I 2024-11-12 18:34:29,101] A new study created in memory with name: no-name-1f9c5912-5c3e-4dc5-bd2a-c72acdd6bf19\n"
     ]
    },
    {
     "name": "stderr",
     "output_type": "stream",
     "text": [
      "[W 2024-11-12 18:34:29,132] Trial 0 failed with parameters: {'dropout_prob': 0.2, 'learning_rate': 0.0003575581999943838, 'epochs': 50, 'avgpool_kernel_size': 2, 'avgpool_stride': 1, 'avgpool_padding': 1, 'conv1_out_channels': 16, 'conv1_kernel_size': 5, 'conv1_stride': 3, 'conv1_padding': 0, 'conv2_out_channels': 4, 'conv2_kernel_size': 3, 'fc1_out_features': 1200, 'fc3_in_features': 1400} because of the following error: RuntimeError('CUDA error: CUDA-capable device(s) is/are busy or unavailable\\nCUDA kernel errors might be asynchronously reported at some other API call, so the stacktrace below might be incorrect.\\nFor debugging consider passing CUDA_LAUNCH_BLOCKING=1\\nCompile with `TORCH_USE_CUDA_DSA` to enable device-side assertions.\\n').\n",
      "Traceback (most recent call last):\n",
      "  File \"/home/generalpegasus/Documents/VirtualEnvirnoments/.main/lib/python3.12/site-packages/optuna/study/_optimize.py\", line 197, in _run_trial\n",
      "    value_or_values = func(trial)\n",
      "                      ^^^^^^^^^^^\n",
      "  File \"/tmp/ipykernel_236786/3077605205.py\", line 56, in objective\n",
      "    ).to(device)\n",
      "      ^^^^^^^^^^\n",
      "  File \"/home/generalpegasus/Documents/VirtualEnvirnoments/.main/lib/python3.12/site-packages/torch/nn/modules/module.py\", line 1340, in to\n",
      "    return self._apply(convert)\n",
      "           ^^^^^^^^^^^^^^^^^^^^\n",
      "  File \"/home/generalpegasus/Documents/VirtualEnvirnoments/.main/lib/python3.12/site-packages/torch/nn/modules/module.py\", line 900, in _apply\n",
      "    module._apply(fn)\n",
      "  File \"/home/generalpegasus/Documents/VirtualEnvirnoments/.main/lib/python3.12/site-packages/torch/nn/modules/module.py\", line 900, in _apply\n",
      "    module._apply(fn)\n",
      "  File \"/home/generalpegasus/Documents/VirtualEnvirnoments/.main/lib/python3.12/site-packages/torch/nn/modules/module.py\", line 927, in _apply\n",
      "    param_applied = fn(param)\n",
      "                    ^^^^^^^^^\n",
      "  File \"/home/generalpegasus/Documents/VirtualEnvirnoments/.main/lib/python3.12/site-packages/torch/nn/modules/module.py\", line 1326, in convert\n",
      "    return t.to(\n",
      "           ^^^^^\n",
      "RuntimeError: CUDA error: CUDA-capable device(s) is/are busy or unavailable\n",
      "CUDA kernel errors might be asynchronously reported at some other API call, so the stacktrace below might be incorrect.\n",
      "For debugging consider passing CUDA_LAUNCH_BLOCKING=1\n",
      "Compile with `TORCH_USE_CUDA_DSA` to enable device-side assertions.\n",
      "\n",
      "[W 2024-11-12 18:34:29,133] Trial 0 failed with value None.\n"
     ]
    },
    {
     "ename": "RuntimeError",
     "evalue": "CUDA error: CUDA-capable device(s) is/are busy or unavailable\nCUDA kernel errors might be asynchronously reported at some other API call, so the stacktrace below might be incorrect.\nFor debugging consider passing CUDA_LAUNCH_BLOCKING=1\nCompile with `TORCH_USE_CUDA_DSA` to enable device-side assertions.\n",
     "output_type": "error",
     "traceback": [
      "\u001b[0;31m---------------------------------------------------------------------------\u001b[0m",
      "\u001b[0;31mRuntimeError\u001b[0m                              Traceback (most recent call last)",
      "Cell \u001b[0;32mIn[27], line 90\u001b[0m\n\u001b[1;32m     86\u001b[0m     \u001b[38;5;28;01mreturn\u001b[39;00m mse_val\n\u001b[1;32m     89\u001b[0m study \u001b[38;5;241m=\u001b[39m optuna\u001b[38;5;241m.\u001b[39mcreate_study(direction\u001b[38;5;241m=\u001b[39m\u001b[38;5;124m'\u001b[39m\u001b[38;5;124mminimize\u001b[39m\u001b[38;5;124m'\u001b[39m)\n\u001b[0;32m---> 90\u001b[0m \u001b[43mstudy\u001b[49m\u001b[38;5;241;43m.\u001b[39;49m\u001b[43moptimize\u001b[49m\u001b[43m(\u001b[49m\u001b[43mobjective\u001b[49m\u001b[43m,\u001b[49m\u001b[43m \u001b[49m\u001b[43mn_trials\u001b[49m\u001b[38;5;241;43m=\u001b[39;49m\u001b[38;5;241;43m3\u001b[39;49m\u001b[43m)\u001b[49m  \u001b[38;5;66;03m# Run for 20 trials (adjust as needed)\u001b[39;00m\n",
      "File \u001b[0;32m~/Documents/VirtualEnvirnoments/.main/lib/python3.12/site-packages/optuna/study/study.py:475\u001b[0m, in \u001b[0;36mStudy.optimize\u001b[0;34m(self, func, n_trials, timeout, n_jobs, catch, callbacks, gc_after_trial, show_progress_bar)\u001b[0m\n\u001b[1;32m    373\u001b[0m \u001b[38;5;28;01mdef\u001b[39;00m \u001b[38;5;21moptimize\u001b[39m(\n\u001b[1;32m    374\u001b[0m     \u001b[38;5;28mself\u001b[39m,\n\u001b[1;32m    375\u001b[0m     func: ObjectiveFuncType,\n\u001b[0;32m   (...)\u001b[0m\n\u001b[1;32m    382\u001b[0m     show_progress_bar: \u001b[38;5;28mbool\u001b[39m \u001b[38;5;241m=\u001b[39m \u001b[38;5;28;01mFalse\u001b[39;00m,\n\u001b[1;32m    383\u001b[0m ) \u001b[38;5;241m-\u001b[39m\u001b[38;5;241m>\u001b[39m \u001b[38;5;28;01mNone\u001b[39;00m:\n\u001b[1;32m    384\u001b[0m \u001b[38;5;250m    \u001b[39m\u001b[38;5;124;03m\"\"\"Optimize an objective function.\u001b[39;00m\n\u001b[1;32m    385\u001b[0m \n\u001b[1;32m    386\u001b[0m \u001b[38;5;124;03m    Optimization is done by choosing a suitable set of hyperparameter values from a given\u001b[39;00m\n\u001b[0;32m   (...)\u001b[0m\n\u001b[1;32m    473\u001b[0m \u001b[38;5;124;03m            If nested invocation of this method occurs.\u001b[39;00m\n\u001b[1;32m    474\u001b[0m \u001b[38;5;124;03m    \"\"\"\u001b[39;00m\n\u001b[0;32m--> 475\u001b[0m     \u001b[43m_optimize\u001b[49m\u001b[43m(\u001b[49m\n\u001b[1;32m    476\u001b[0m \u001b[43m        \u001b[49m\u001b[43mstudy\u001b[49m\u001b[38;5;241;43m=\u001b[39;49m\u001b[38;5;28;43mself\u001b[39;49m\u001b[43m,\u001b[49m\n\u001b[1;32m    477\u001b[0m \u001b[43m        \u001b[49m\u001b[43mfunc\u001b[49m\u001b[38;5;241;43m=\u001b[39;49m\u001b[43mfunc\u001b[49m\u001b[43m,\u001b[49m\n\u001b[1;32m    478\u001b[0m \u001b[43m        \u001b[49m\u001b[43mn_trials\u001b[49m\u001b[38;5;241;43m=\u001b[39;49m\u001b[43mn_trials\u001b[49m\u001b[43m,\u001b[49m\n\u001b[1;32m    479\u001b[0m \u001b[43m        \u001b[49m\u001b[43mtimeout\u001b[49m\u001b[38;5;241;43m=\u001b[39;49m\u001b[43mtimeout\u001b[49m\u001b[43m,\u001b[49m\n\u001b[1;32m    480\u001b[0m \u001b[43m        \u001b[49m\u001b[43mn_jobs\u001b[49m\u001b[38;5;241;43m=\u001b[39;49m\u001b[43mn_jobs\u001b[49m\u001b[43m,\u001b[49m\n\u001b[1;32m    481\u001b[0m \u001b[43m        \u001b[49m\u001b[43mcatch\u001b[49m\u001b[38;5;241;43m=\u001b[39;49m\u001b[38;5;28;43mtuple\u001b[39;49m\u001b[43m(\u001b[49m\u001b[43mcatch\u001b[49m\u001b[43m)\u001b[49m\u001b[43m \u001b[49m\u001b[38;5;28;43;01mif\u001b[39;49;00m\u001b[43m \u001b[49m\u001b[38;5;28;43misinstance\u001b[39;49m\u001b[43m(\u001b[49m\u001b[43mcatch\u001b[49m\u001b[43m,\u001b[49m\u001b[43m \u001b[49m\u001b[43mIterable\u001b[49m\u001b[43m)\u001b[49m\u001b[43m \u001b[49m\u001b[38;5;28;43;01melse\u001b[39;49;00m\u001b[43m \u001b[49m\u001b[43m(\u001b[49m\u001b[43mcatch\u001b[49m\u001b[43m,\u001b[49m\u001b[43m)\u001b[49m\u001b[43m,\u001b[49m\n\u001b[1;32m    482\u001b[0m \u001b[43m        \u001b[49m\u001b[43mcallbacks\u001b[49m\u001b[38;5;241;43m=\u001b[39;49m\u001b[43mcallbacks\u001b[49m\u001b[43m,\u001b[49m\n\u001b[1;32m    483\u001b[0m \u001b[43m        \u001b[49m\u001b[43mgc_after_trial\u001b[49m\u001b[38;5;241;43m=\u001b[39;49m\u001b[43mgc_after_trial\u001b[49m\u001b[43m,\u001b[49m\n\u001b[1;32m    484\u001b[0m \u001b[43m        \u001b[49m\u001b[43mshow_progress_bar\u001b[49m\u001b[38;5;241;43m=\u001b[39;49m\u001b[43mshow_progress_bar\u001b[49m\u001b[43m,\u001b[49m\n\u001b[1;32m    485\u001b[0m \u001b[43m    \u001b[49m\u001b[43m)\u001b[49m\n",
      "File \u001b[0;32m~/Documents/VirtualEnvirnoments/.main/lib/python3.12/site-packages/optuna/study/_optimize.py:63\u001b[0m, in \u001b[0;36m_optimize\u001b[0;34m(study, func, n_trials, timeout, n_jobs, catch, callbacks, gc_after_trial, show_progress_bar)\u001b[0m\n\u001b[1;32m     61\u001b[0m \u001b[38;5;28;01mtry\u001b[39;00m:\n\u001b[1;32m     62\u001b[0m     \u001b[38;5;28;01mif\u001b[39;00m n_jobs \u001b[38;5;241m==\u001b[39m \u001b[38;5;241m1\u001b[39m:\n\u001b[0;32m---> 63\u001b[0m         \u001b[43m_optimize_sequential\u001b[49m\u001b[43m(\u001b[49m\n\u001b[1;32m     64\u001b[0m \u001b[43m            \u001b[49m\u001b[43mstudy\u001b[49m\u001b[43m,\u001b[49m\n\u001b[1;32m     65\u001b[0m \u001b[43m            \u001b[49m\u001b[43mfunc\u001b[49m\u001b[43m,\u001b[49m\n\u001b[1;32m     66\u001b[0m \u001b[43m            \u001b[49m\u001b[43mn_trials\u001b[49m\u001b[43m,\u001b[49m\n\u001b[1;32m     67\u001b[0m \u001b[43m            \u001b[49m\u001b[43mtimeout\u001b[49m\u001b[43m,\u001b[49m\n\u001b[1;32m     68\u001b[0m \u001b[43m            \u001b[49m\u001b[43mcatch\u001b[49m\u001b[43m,\u001b[49m\n\u001b[1;32m     69\u001b[0m \u001b[43m            \u001b[49m\u001b[43mcallbacks\u001b[49m\u001b[43m,\u001b[49m\n\u001b[1;32m     70\u001b[0m \u001b[43m            \u001b[49m\u001b[43mgc_after_trial\u001b[49m\u001b[43m,\u001b[49m\n\u001b[1;32m     71\u001b[0m \u001b[43m            \u001b[49m\u001b[43mreseed_sampler_rng\u001b[49m\u001b[38;5;241;43m=\u001b[39;49m\u001b[38;5;28;43;01mFalse\u001b[39;49;00m\u001b[43m,\u001b[49m\n\u001b[1;32m     72\u001b[0m \u001b[43m            \u001b[49m\u001b[43mtime_start\u001b[49m\u001b[38;5;241;43m=\u001b[39;49m\u001b[38;5;28;43;01mNone\u001b[39;49;00m\u001b[43m,\u001b[49m\n\u001b[1;32m     73\u001b[0m \u001b[43m            \u001b[49m\u001b[43mprogress_bar\u001b[49m\u001b[38;5;241;43m=\u001b[39;49m\u001b[43mprogress_bar\u001b[49m\u001b[43m,\u001b[49m\n\u001b[1;32m     74\u001b[0m \u001b[43m        \u001b[49m\u001b[43m)\u001b[49m\n\u001b[1;32m     75\u001b[0m     \u001b[38;5;28;01melse\u001b[39;00m:\n\u001b[1;32m     76\u001b[0m         \u001b[38;5;28;01mif\u001b[39;00m n_jobs \u001b[38;5;241m==\u001b[39m \u001b[38;5;241m-\u001b[39m\u001b[38;5;241m1\u001b[39m:\n",
      "File \u001b[0;32m~/Documents/VirtualEnvirnoments/.main/lib/python3.12/site-packages/optuna/study/_optimize.py:160\u001b[0m, in \u001b[0;36m_optimize_sequential\u001b[0;34m(study, func, n_trials, timeout, catch, callbacks, gc_after_trial, reseed_sampler_rng, time_start, progress_bar)\u001b[0m\n\u001b[1;32m    157\u001b[0m         \u001b[38;5;28;01mbreak\u001b[39;00m\n\u001b[1;32m    159\u001b[0m \u001b[38;5;28;01mtry\u001b[39;00m:\n\u001b[0;32m--> 160\u001b[0m     frozen_trial \u001b[38;5;241m=\u001b[39m \u001b[43m_run_trial\u001b[49m\u001b[43m(\u001b[49m\u001b[43mstudy\u001b[49m\u001b[43m,\u001b[49m\u001b[43m \u001b[49m\u001b[43mfunc\u001b[49m\u001b[43m,\u001b[49m\u001b[43m \u001b[49m\u001b[43mcatch\u001b[49m\u001b[43m)\u001b[49m\n\u001b[1;32m    161\u001b[0m \u001b[38;5;28;01mfinally\u001b[39;00m:\n\u001b[1;32m    162\u001b[0m     \u001b[38;5;66;03m# The following line mitigates memory problems that can be occurred in some\u001b[39;00m\n\u001b[1;32m    163\u001b[0m     \u001b[38;5;66;03m# environments (e.g., services that use computing containers such as GitHub Actions).\u001b[39;00m\n\u001b[1;32m    164\u001b[0m     \u001b[38;5;66;03m# Please refer to the following PR for further details:\u001b[39;00m\n\u001b[1;32m    165\u001b[0m     \u001b[38;5;66;03m# https://github.com/optuna/optuna/pull/325.\u001b[39;00m\n\u001b[1;32m    166\u001b[0m     \u001b[38;5;28;01mif\u001b[39;00m gc_after_trial:\n",
      "File \u001b[0;32m~/Documents/VirtualEnvirnoments/.main/lib/python3.12/site-packages/optuna/study/_optimize.py:248\u001b[0m, in \u001b[0;36m_run_trial\u001b[0;34m(study, func, catch)\u001b[0m\n\u001b[1;32m    241\u001b[0m         \u001b[38;5;28;01massert\u001b[39;00m \u001b[38;5;28;01mFalse\u001b[39;00m, \u001b[38;5;124m\"\u001b[39m\u001b[38;5;124mShould not reach.\u001b[39m\u001b[38;5;124m\"\u001b[39m\n\u001b[1;32m    243\u001b[0m \u001b[38;5;28;01mif\u001b[39;00m (\n\u001b[1;32m    244\u001b[0m     frozen_trial\u001b[38;5;241m.\u001b[39mstate \u001b[38;5;241m==\u001b[39m TrialState\u001b[38;5;241m.\u001b[39mFAIL\n\u001b[1;32m    245\u001b[0m     \u001b[38;5;129;01mand\u001b[39;00m func_err \u001b[38;5;129;01mis\u001b[39;00m \u001b[38;5;129;01mnot\u001b[39;00m \u001b[38;5;28;01mNone\u001b[39;00m\n\u001b[1;32m    246\u001b[0m     \u001b[38;5;129;01mand\u001b[39;00m \u001b[38;5;129;01mnot\u001b[39;00m \u001b[38;5;28misinstance\u001b[39m(func_err, catch)\n\u001b[1;32m    247\u001b[0m ):\n\u001b[0;32m--> 248\u001b[0m     \u001b[38;5;28;01mraise\u001b[39;00m func_err\n\u001b[1;32m    249\u001b[0m \u001b[38;5;28;01mreturn\u001b[39;00m frozen_trial\n",
      "File \u001b[0;32m~/Documents/VirtualEnvirnoments/.main/lib/python3.12/site-packages/optuna/study/_optimize.py:197\u001b[0m, in \u001b[0;36m_run_trial\u001b[0;34m(study, func, catch)\u001b[0m\n\u001b[1;32m    195\u001b[0m \u001b[38;5;28;01mwith\u001b[39;00m get_heartbeat_thread(trial\u001b[38;5;241m.\u001b[39m_trial_id, study\u001b[38;5;241m.\u001b[39m_storage):\n\u001b[1;32m    196\u001b[0m     \u001b[38;5;28;01mtry\u001b[39;00m:\n\u001b[0;32m--> 197\u001b[0m         value_or_values \u001b[38;5;241m=\u001b[39m \u001b[43mfunc\u001b[49m\u001b[43m(\u001b[49m\u001b[43mtrial\u001b[49m\u001b[43m)\u001b[49m\n\u001b[1;32m    198\u001b[0m     \u001b[38;5;28;01mexcept\u001b[39;00m exceptions\u001b[38;5;241m.\u001b[39mTrialPruned \u001b[38;5;28;01mas\u001b[39;00m e:\n\u001b[1;32m    199\u001b[0m         \u001b[38;5;66;03m# TODO(mamu): Handle multi-objective cases.\u001b[39;00m\n\u001b[1;32m    200\u001b[0m         state \u001b[38;5;241m=\u001b[39m TrialState\u001b[38;5;241m.\u001b[39mPRUNED\n",
      "Cell \u001b[0;32mIn[27], line 56\u001b[0m, in \u001b[0;36mobjective\u001b[0;34m(trial)\u001b[0m\n\u001b[1;32m     24\u001b[0m fc3_in_features \u001b[38;5;241m=\u001b[39m trial\u001b[38;5;241m.\u001b[39msuggest_int(\u001b[38;5;124m'\u001b[39m\u001b[38;5;124mfc3_in_features\u001b[39m\u001b[38;5;124m'\u001b[39m, \u001b[38;5;241m100\u001b[39m, \u001b[38;5;241m1500\u001b[39m, step\u001b[38;5;241m=\u001b[39m\u001b[38;5;241m100\u001b[39m)\n\u001b[1;32m     32\u001b[0m \u001b[38;5;66;03m# Define the model with the suggested dropout_prob\u001b[39;00m\n\u001b[1;32m     33\u001b[0m model \u001b[38;5;241m=\u001b[39m \u001b[43mNeuralNetwork\u001b[49m\u001b[43m(\u001b[49m\n\u001b[1;32m     34\u001b[0m \u001b[43m    \u001b[49m\u001b[43minput_size\u001b[49m\u001b[38;5;241;43m=\u001b[39;49m\u001b[38;5;241;43m3000\u001b[39;49m\u001b[43m,\u001b[49m\n\u001b[1;32m     35\u001b[0m \u001b[43m    \u001b[49m\u001b[43mhidden_size\u001b[49m\u001b[38;5;241;43m=\u001b[39;49m\u001b[38;5;241;43m128\u001b[39;49m\u001b[43m,\u001b[49m\n\u001b[1;32m     36\u001b[0m \u001b[43m    \u001b[49m\u001b[43moutput_size\u001b[49m\u001b[38;5;241;43m=\u001b[39;49m\u001b[38;5;28;43mlen\u001b[39;49m\u001b[43m(\u001b[49m\u001b[43msubstrates_list\u001b[49m\u001b[43m)\u001b[49m\u001b[43m \u001b[49m\u001b[38;5;241;43m*\u001b[39;49m\u001b[43m \u001b[49m\u001b[38;5;241;43m3\u001b[39;49m\u001b[43m,\u001b[49m\n\u001b[1;32m     37\u001b[0m \u001b[43m    \u001b[49m\u001b[43mdropout_prob\u001b[49m\u001b[38;5;241;43m=\u001b[39;49m\u001b[43mdropout_prob\u001b[49m\u001b[43m,\u001b[49m\n\u001b[1;32m     38\u001b[0m \n\u001b[1;32m     39\u001b[0m \u001b[43m    \u001b[49m\u001b[43mavgpool_kernel_size\u001b[49m\u001b[38;5;241;43m=\u001b[39;49m\u001b[43mavgpool_kernel_size\u001b[49m\u001b[43m,\u001b[49m\n\u001b[1;32m     40\u001b[0m \u001b[43m    \u001b[49m\u001b[43mavgpool_stride\u001b[49m\u001b[38;5;241;43m=\u001b[39;49m\u001b[43mavgpool_stride\u001b[49m\u001b[43m,\u001b[49m\n\u001b[1;32m     41\u001b[0m \u001b[43m    \u001b[49m\u001b[43mavgpool_padding\u001b[49m\u001b[38;5;241;43m=\u001b[39;49m\u001b[43mavgpool_padding\u001b[49m\u001b[43m,\u001b[49m\n\u001b[1;32m     42\u001b[0m \n\u001b[1;32m     43\u001b[0m \u001b[43m    \u001b[49m\u001b[38;5;66;43;03m#conv1_in_channels=conv1_in_channels,\u001b[39;49;00m\n\u001b[1;32m     44\u001b[0m \u001b[43m    \u001b[49m\u001b[43mconv1_out_channels\u001b[49m\u001b[38;5;241;43m=\u001b[39;49m\u001b[43mconv1_out_channels\u001b[49m\u001b[43m,\u001b[49m\n\u001b[1;32m     45\u001b[0m \u001b[43m    \u001b[49m\u001b[43mconv1_kernel_size\u001b[49m\u001b[38;5;241;43m=\u001b[39;49m\u001b[43mconv1_kernel_size\u001b[49m\u001b[43m,\u001b[49m\n\u001b[1;32m     46\u001b[0m \u001b[43m    \u001b[49m\u001b[43mconv1_stride\u001b[49m\u001b[38;5;241;43m=\u001b[39;49m\u001b[43mconv1_stride\u001b[49m\u001b[43m,\u001b[49m\n\u001b[1;32m     47\u001b[0m \u001b[43m    \u001b[49m\u001b[43mconv1_padding\u001b[49m\u001b[38;5;241;43m=\u001b[39;49m\u001b[43mconv1_padding\u001b[49m\u001b[43m,\u001b[49m\n\u001b[1;32m     48\u001b[0m \n\u001b[1;32m     49\u001b[0m \u001b[43m    \u001b[49m\u001b[43mconv2_out_channels\u001b[49m\u001b[38;5;241;43m=\u001b[39;49m\u001b[43mconv2_out_channels\u001b[49m\u001b[43m,\u001b[49m\n\u001b[1;32m     50\u001b[0m \u001b[43m    \u001b[49m\u001b[43mconv2_kernel_size\u001b[49m\u001b[38;5;241;43m=\u001b[39;49m\u001b[43mconv2_kernel_size\u001b[49m\u001b[43m,\u001b[49m\n\u001b[1;32m     51\u001b[0m \n\u001b[1;32m     52\u001b[0m \u001b[43m    \u001b[49m\u001b[43mfc1_out_features\u001b[49m\u001b[38;5;241;43m=\u001b[39;49m\u001b[43mfc1_out_features\u001b[49m\u001b[43m,\u001b[49m\n\u001b[1;32m     53\u001b[0m \u001b[43m    \u001b[49m\u001b[43mfc3_in_features\u001b[49m\u001b[38;5;241;43m=\u001b[39;49m\u001b[43mfc3_in_features\u001b[49m\n\u001b[1;32m     54\u001b[0m \u001b[43m    \u001b[49m\n\u001b[1;32m     55\u001b[0m \n\u001b[0;32m---> 56\u001b[0m \u001b[43m\u001b[49m\u001b[43m)\u001b[49m\u001b[38;5;241;43m.\u001b[39;49m\u001b[43mto\u001b[49m\u001b[43m(\u001b[49m\u001b[43mdevice\u001b[49m\u001b[43m)\u001b[49m\n\u001b[1;32m     58\u001b[0m \u001b[38;5;66;03m# Define the optimizer and criterion\u001b[39;00m\n\u001b[1;32m     59\u001b[0m optimizer \u001b[38;5;241m=\u001b[39m torch\u001b[38;5;241m.\u001b[39moptim\u001b[38;5;241m.\u001b[39mAdam(model\u001b[38;5;241m.\u001b[39mparameters(), lr\u001b[38;5;241m=\u001b[39mlearning_rate)\n",
      "File \u001b[0;32m~/Documents/VirtualEnvirnoments/.main/lib/python3.12/site-packages/torch/nn/modules/module.py:1340\u001b[0m, in \u001b[0;36mModule.to\u001b[0;34m(self, *args, **kwargs)\u001b[0m\n\u001b[1;32m   1337\u001b[0m         \u001b[38;5;28;01melse\u001b[39;00m:\n\u001b[1;32m   1338\u001b[0m             \u001b[38;5;28;01mraise\u001b[39;00m\n\u001b[0;32m-> 1340\u001b[0m \u001b[38;5;28;01mreturn\u001b[39;00m \u001b[38;5;28;43mself\u001b[39;49m\u001b[38;5;241;43m.\u001b[39;49m\u001b[43m_apply\u001b[49m\u001b[43m(\u001b[49m\u001b[43mconvert\u001b[49m\u001b[43m)\u001b[49m\n",
      "File \u001b[0;32m~/Documents/VirtualEnvirnoments/.main/lib/python3.12/site-packages/torch/nn/modules/module.py:900\u001b[0m, in \u001b[0;36mModule._apply\u001b[0;34m(self, fn, recurse)\u001b[0m\n\u001b[1;32m    898\u001b[0m \u001b[38;5;28;01mif\u001b[39;00m recurse:\n\u001b[1;32m    899\u001b[0m     \u001b[38;5;28;01mfor\u001b[39;00m module \u001b[38;5;129;01min\u001b[39;00m \u001b[38;5;28mself\u001b[39m\u001b[38;5;241m.\u001b[39mchildren():\n\u001b[0;32m--> 900\u001b[0m         \u001b[43mmodule\u001b[49m\u001b[38;5;241;43m.\u001b[39;49m\u001b[43m_apply\u001b[49m\u001b[43m(\u001b[49m\u001b[43mfn\u001b[49m\u001b[43m)\u001b[49m\n\u001b[1;32m    902\u001b[0m \u001b[38;5;28;01mdef\u001b[39;00m \u001b[38;5;21mcompute_should_use_set_data\u001b[39m(tensor, tensor_applied):\n\u001b[1;32m    903\u001b[0m     \u001b[38;5;28;01mif\u001b[39;00m torch\u001b[38;5;241m.\u001b[39m_has_compatible_shallow_copy_type(tensor, tensor_applied):\n\u001b[1;32m    904\u001b[0m         \u001b[38;5;66;03m# If the new tensor has compatible tensor type as the existing tensor,\u001b[39;00m\n\u001b[1;32m    905\u001b[0m         \u001b[38;5;66;03m# the current behavior is to change the tensor in-place using `.data =`,\u001b[39;00m\n\u001b[0;32m   (...)\u001b[0m\n\u001b[1;32m    910\u001b[0m         \u001b[38;5;66;03m# global flag to let the user control whether they want the future\u001b[39;00m\n\u001b[1;32m    911\u001b[0m         \u001b[38;5;66;03m# behavior of overwriting the existing tensor or not.\u001b[39;00m\n",
      "File \u001b[0;32m~/Documents/VirtualEnvirnoments/.main/lib/python3.12/site-packages/torch/nn/modules/module.py:900\u001b[0m, in \u001b[0;36mModule._apply\u001b[0;34m(self, fn, recurse)\u001b[0m\n\u001b[1;32m    898\u001b[0m \u001b[38;5;28;01mif\u001b[39;00m recurse:\n\u001b[1;32m    899\u001b[0m     \u001b[38;5;28;01mfor\u001b[39;00m module \u001b[38;5;129;01min\u001b[39;00m \u001b[38;5;28mself\u001b[39m\u001b[38;5;241m.\u001b[39mchildren():\n\u001b[0;32m--> 900\u001b[0m         \u001b[43mmodule\u001b[49m\u001b[38;5;241;43m.\u001b[39;49m\u001b[43m_apply\u001b[49m\u001b[43m(\u001b[49m\u001b[43mfn\u001b[49m\u001b[43m)\u001b[49m\n\u001b[1;32m    902\u001b[0m \u001b[38;5;28;01mdef\u001b[39;00m \u001b[38;5;21mcompute_should_use_set_data\u001b[39m(tensor, tensor_applied):\n\u001b[1;32m    903\u001b[0m     \u001b[38;5;28;01mif\u001b[39;00m torch\u001b[38;5;241m.\u001b[39m_has_compatible_shallow_copy_type(tensor, tensor_applied):\n\u001b[1;32m    904\u001b[0m         \u001b[38;5;66;03m# If the new tensor has compatible tensor type as the existing tensor,\u001b[39;00m\n\u001b[1;32m    905\u001b[0m         \u001b[38;5;66;03m# the current behavior is to change the tensor in-place using `.data =`,\u001b[39;00m\n\u001b[0;32m   (...)\u001b[0m\n\u001b[1;32m    910\u001b[0m         \u001b[38;5;66;03m# global flag to let the user control whether they want the future\u001b[39;00m\n\u001b[1;32m    911\u001b[0m         \u001b[38;5;66;03m# behavior of overwriting the existing tensor or not.\u001b[39;00m\n",
      "File \u001b[0;32m~/Documents/VirtualEnvirnoments/.main/lib/python3.12/site-packages/torch/nn/modules/module.py:927\u001b[0m, in \u001b[0;36mModule._apply\u001b[0;34m(self, fn, recurse)\u001b[0m\n\u001b[1;32m    923\u001b[0m \u001b[38;5;66;03m# Tensors stored in modules are graph leaves, and we don't want to\u001b[39;00m\n\u001b[1;32m    924\u001b[0m \u001b[38;5;66;03m# track autograd history of `param_applied`, so we have to use\u001b[39;00m\n\u001b[1;32m    925\u001b[0m \u001b[38;5;66;03m# `with torch.no_grad():`\u001b[39;00m\n\u001b[1;32m    926\u001b[0m \u001b[38;5;28;01mwith\u001b[39;00m torch\u001b[38;5;241m.\u001b[39mno_grad():\n\u001b[0;32m--> 927\u001b[0m     param_applied \u001b[38;5;241m=\u001b[39m \u001b[43mfn\u001b[49m\u001b[43m(\u001b[49m\u001b[43mparam\u001b[49m\u001b[43m)\u001b[49m\n\u001b[1;32m    928\u001b[0m p_should_use_set_data \u001b[38;5;241m=\u001b[39m compute_should_use_set_data(param, param_applied)\n\u001b[1;32m    930\u001b[0m \u001b[38;5;66;03m# subclasses may have multiple child tensors so we need to use swap_tensors\u001b[39;00m\n",
      "File \u001b[0;32m~/Documents/VirtualEnvirnoments/.main/lib/python3.12/site-packages/torch/nn/modules/module.py:1326\u001b[0m, in \u001b[0;36mModule.to.<locals>.convert\u001b[0;34m(t)\u001b[0m\n\u001b[1;32m   1319\u001b[0m     \u001b[38;5;28;01mif\u001b[39;00m convert_to_format \u001b[38;5;129;01mis\u001b[39;00m \u001b[38;5;129;01mnot\u001b[39;00m \u001b[38;5;28;01mNone\u001b[39;00m \u001b[38;5;129;01mand\u001b[39;00m t\u001b[38;5;241m.\u001b[39mdim() \u001b[38;5;129;01min\u001b[39;00m (\u001b[38;5;241m4\u001b[39m, \u001b[38;5;241m5\u001b[39m):\n\u001b[1;32m   1320\u001b[0m         \u001b[38;5;28;01mreturn\u001b[39;00m t\u001b[38;5;241m.\u001b[39mto(\n\u001b[1;32m   1321\u001b[0m             device,\n\u001b[1;32m   1322\u001b[0m             dtype \u001b[38;5;28;01mif\u001b[39;00m t\u001b[38;5;241m.\u001b[39mis_floating_point() \u001b[38;5;129;01mor\u001b[39;00m t\u001b[38;5;241m.\u001b[39mis_complex() \u001b[38;5;28;01melse\u001b[39;00m \u001b[38;5;28;01mNone\u001b[39;00m,\n\u001b[1;32m   1323\u001b[0m             non_blocking,\n\u001b[1;32m   1324\u001b[0m             memory_format\u001b[38;5;241m=\u001b[39mconvert_to_format,\n\u001b[1;32m   1325\u001b[0m         )\n\u001b[0;32m-> 1326\u001b[0m     \u001b[38;5;28;01mreturn\u001b[39;00m \u001b[43mt\u001b[49m\u001b[38;5;241;43m.\u001b[39;49m\u001b[43mto\u001b[49m\u001b[43m(\u001b[49m\n\u001b[1;32m   1327\u001b[0m \u001b[43m        \u001b[49m\u001b[43mdevice\u001b[49m\u001b[43m,\u001b[49m\n\u001b[1;32m   1328\u001b[0m \u001b[43m        \u001b[49m\u001b[43mdtype\u001b[49m\u001b[43m \u001b[49m\u001b[38;5;28;43;01mif\u001b[39;49;00m\u001b[43m \u001b[49m\u001b[43mt\u001b[49m\u001b[38;5;241;43m.\u001b[39;49m\u001b[43mis_floating_point\u001b[49m\u001b[43m(\u001b[49m\u001b[43m)\u001b[49m\u001b[43m \u001b[49m\u001b[38;5;129;43;01mor\u001b[39;49;00m\u001b[43m \u001b[49m\u001b[43mt\u001b[49m\u001b[38;5;241;43m.\u001b[39;49m\u001b[43mis_complex\u001b[49m\u001b[43m(\u001b[49m\u001b[43m)\u001b[49m\u001b[43m \u001b[49m\u001b[38;5;28;43;01melse\u001b[39;49;00m\u001b[43m \u001b[49m\u001b[38;5;28;43;01mNone\u001b[39;49;00m\u001b[43m,\u001b[49m\n\u001b[1;32m   1329\u001b[0m \u001b[43m        \u001b[49m\u001b[43mnon_blocking\u001b[49m\u001b[43m,\u001b[49m\n\u001b[1;32m   1330\u001b[0m \u001b[43m    \u001b[49m\u001b[43m)\u001b[49m\n\u001b[1;32m   1331\u001b[0m \u001b[38;5;28;01mexcept\u001b[39;00m \u001b[38;5;167;01mNotImplementedError\u001b[39;00m \u001b[38;5;28;01mas\u001b[39;00m e:\n\u001b[1;32m   1332\u001b[0m     \u001b[38;5;28;01mif\u001b[39;00m \u001b[38;5;28mstr\u001b[39m(e) \u001b[38;5;241m==\u001b[39m \u001b[38;5;124m\"\u001b[39m\u001b[38;5;124mCannot copy out of meta tensor; no data!\u001b[39m\u001b[38;5;124m\"\u001b[39m:\n",
      "\u001b[0;31mRuntimeError\u001b[0m: CUDA error: CUDA-capable device(s) is/are busy or unavailable\nCUDA kernel errors might be asynchronously reported at some other API call, so the stacktrace below might be incorrect.\nFor debugging consider passing CUDA_LAUNCH_BLOCKING=1\nCompile with `TORCH_USE_CUDA_DSA` to enable device-side assertions.\n"
     ]
    }
   ],
   "source": [
    "import optuna\n",
    "\n",
    "def objective(trial):\n",
    "    # Suggest a value for dropout probability\n",
    "    dropout_prob = trial.suggest_float('dropout_prob', 0.1, 0.7, step=0.1)\n",
    "    learning_rate = trial.suggest_float('learning_rate', 1e-6, 1e-3, log=True)\n",
    "    epochs = trial.suggest_int('epochs', 50, 200, step=50)\n",
    "\n",
    "    avgpool_kernel_size = trial.suggest_int('avgpool_kernel_size', 2, 5, step=1)\n",
    "    avgpool_stride = trial.suggest_int('avgpool_stride', 1, 3, step=1)\n",
    "    avgpool_padding = trial.suggest_int('avgpool_padding', 0, 1, step=1)\n",
    "\n",
    "    #conv1_in_channels = trial.suggest_int('conv1_in_channels', 1, 3, step=1)\n",
    "    conv1_out_channels = trial.suggest_int('conv1_out_channels', 4, 16, step=4)\n",
    "    conv1_kernel_size = trial.suggest_int('conv1_kernel_size', 3, 5, step=1)\n",
    "    conv1_stride = trial.suggest_int('conv1_stride', 1, 3, step=1)\n",
    "    conv1_padding = trial.suggest_int('conv1_padding', 0, 1, step=1)\n",
    "\n",
    "\n",
    "    conv2_out_channels = trial.suggest_int('conv2_out_channels', 4, 16, step=4)\n",
    "    conv2_kernel_size = trial.suggest_int('conv2_kernel_size', 3, 5, step=1)\n",
    "\n",
    "    fc1_out_features = trial.suggest_int('fc1_out_features', 100, 1500, step=100)\n",
    "    fc3_in_features = trial.suggest_int('fc3_in_features', 100, 1500, step=100)\n",
    "\n",
    "\n",
    "    \n",
    "\n",
    "\n",
    "\n",
    "    \n",
    "    # Define the model with the suggested dropout_prob\n",
    "    model = NeuralNetwork(\n",
    "        input_size=3000,\n",
    "        hidden_size=128,\n",
    "        output_size=len(substrates_list) * 3,\n",
    "        dropout_prob=dropout_prob,\n",
    "\n",
    "        avgpool_kernel_size=avgpool_kernel_size,\n",
    "        avgpool_stride=avgpool_stride,\n",
    "        avgpool_padding=avgpool_padding,\n",
    "\n",
    "        #conv1_in_channels=conv1_in_channels,\n",
    "        conv1_out_channels=conv1_out_channels,\n",
    "        conv1_kernel_size=conv1_kernel_size,\n",
    "        conv1_stride=conv1_stride,\n",
    "        conv1_padding=conv1_padding,\n",
    "\n",
    "        conv2_out_channels=conv2_out_channels,\n",
    "        conv2_kernel_size=conv2_kernel_size,\n",
    "\n",
    "        fc1_out_features=fc1_out_features,\n",
    "        fc3_in_features=fc3_in_features\n",
    "        \n",
    "\n",
    "    ).to(device)\n",
    "    \n",
    "    # Define the optimizer and criterion\n",
    "    optimizer = torch.optim.Adam(model.parameters(), lr=learning_rate)\n",
    "    criterion = torch.nn.MSELoss()\n",
    "    epochs = 5 # Number of epochs to train\n",
    "    \n",
    "    # Train the model and validate\n",
    "    trained_model, optuna_results = training(\n",
    "        model=model,\n",
    "        X_train=data_train_tensor,\n",
    "        y_train=target_train_tensor,\n",
    "        X_val=data_val_tensor,\n",
    "        y_val=target_val_tensor,\n",
    "        criterion=criterion,\n",
    "        optimizer=optimizer,\n",
    "        epochs=epochs,\n",
    "        writer=SummaryWriter(log_dir=f\"runs/trial_{trial.number}\"),\n",
    "        dropout_prob=dropout_prob,\n",
    "        log_tensorboard=False,  # Disable logging for simplicity\n",
    "        log_dropout=False,\n",
    "        verbose=False,  # Suppress verbose output\n",
    "        check_real_data=True\n",
    "    )\n",
    "\n",
    "\n",
    "    \n",
    "    # Compute the best validation MSE (already tracked in training)\n",
    "    mse_val = optuna_results[-1]['real_data_MSE']\n",
    "    \n",
    "    return mse_val\n",
    "\n",
    "\n",
    "study = optuna.create_study(direction='minimize')\n",
    "study.optimize(objective, n_trials=3)  # Run for 20 trials (adjust as needed)\n"
   ]
  },
  {
   "cell_type": "code",
   "execution_count": null,
   "metadata": {},
   "outputs": [
    {
     "name": "stdout",
     "output_type": "stream",
     "text": [
      "{'dropout_prob': 0.2, 'learning_rate': 1.568882657833023e-05, 'epochs': 150}\n",
      "205776.68220312803\n"
     ]
    }
   ],
   "source": [
    "print(study.best_params)\n",
    "print(study.best_value)"
   ]
  },
  {
   "cell_type": "code",
   "execution_count": null,
   "metadata": {},
   "outputs": [
    {
     "data": {
      "application/vnd.plotly.v1+json": {
       "config": {
        "plotlyServerURL": "https://plot.ly"
       },
       "data": [
        {
         "mode": "markers",
         "name": "Objective Value",
         "type": "scatter",
         "x": [
          0,
          1,
          2
         ],
         "y": [
          205776.68220312803,
          404697.2816753473,
          452570.1140101555
         ]
        },
        {
         "mode": "lines",
         "name": "Best Value",
         "type": "scatter",
         "x": [
          0,
          1,
          2
         ],
         "y": [
          205776.68220312803,
          205776.68220312803,
          205776.68220312803
         ]
        },
        {
         "marker": {
          "color": "#cccccc"
         },
         "mode": "markers",
         "name": "Infeasible Trial",
         "showlegend": false,
         "type": "scatter",
         "x": [],
         "y": []
        }
       ],
       "layout": {
        "template": {
         "data": {
          "bar": [
           {
            "error_x": {
             "color": "#2a3f5f"
            },
            "error_y": {
             "color": "#2a3f5f"
            },
            "marker": {
             "line": {
              "color": "#E5ECF6",
              "width": 0.5
             },
             "pattern": {
              "fillmode": "overlay",
              "size": 10,
              "solidity": 0.2
             }
            },
            "type": "bar"
           }
          ],
          "barpolar": [
           {
            "marker": {
             "line": {
              "color": "#E5ECF6",
              "width": 0.5
             },
             "pattern": {
              "fillmode": "overlay",
              "size": 10,
              "solidity": 0.2
             }
            },
            "type": "barpolar"
           }
          ],
          "carpet": [
           {
            "aaxis": {
             "endlinecolor": "#2a3f5f",
             "gridcolor": "white",
             "linecolor": "white",
             "minorgridcolor": "white",
             "startlinecolor": "#2a3f5f"
            },
            "baxis": {
             "endlinecolor": "#2a3f5f",
             "gridcolor": "white",
             "linecolor": "white",
             "minorgridcolor": "white",
             "startlinecolor": "#2a3f5f"
            },
            "type": "carpet"
           }
          ],
          "choropleth": [
           {
            "colorbar": {
             "outlinewidth": 0,
             "ticks": ""
            },
            "type": "choropleth"
           }
          ],
          "contour": [
           {
            "colorbar": {
             "outlinewidth": 0,
             "ticks": ""
            },
            "colorscale": [
             [
              0,
              "#0d0887"
             ],
             [
              0.1111111111111111,
              "#46039f"
             ],
             [
              0.2222222222222222,
              "#7201a8"
             ],
             [
              0.3333333333333333,
              "#9c179e"
             ],
             [
              0.4444444444444444,
              "#bd3786"
             ],
             [
              0.5555555555555556,
              "#d8576b"
             ],
             [
              0.6666666666666666,
              "#ed7953"
             ],
             [
              0.7777777777777778,
              "#fb9f3a"
             ],
             [
              0.8888888888888888,
              "#fdca26"
             ],
             [
              1,
              "#f0f921"
             ]
            ],
            "type": "contour"
           }
          ],
          "contourcarpet": [
           {
            "colorbar": {
             "outlinewidth": 0,
             "ticks": ""
            },
            "type": "contourcarpet"
           }
          ],
          "heatmap": [
           {
            "colorbar": {
             "outlinewidth": 0,
             "ticks": ""
            },
            "colorscale": [
             [
              0,
              "#0d0887"
             ],
             [
              0.1111111111111111,
              "#46039f"
             ],
             [
              0.2222222222222222,
              "#7201a8"
             ],
             [
              0.3333333333333333,
              "#9c179e"
             ],
             [
              0.4444444444444444,
              "#bd3786"
             ],
             [
              0.5555555555555556,
              "#d8576b"
             ],
             [
              0.6666666666666666,
              "#ed7953"
             ],
             [
              0.7777777777777778,
              "#fb9f3a"
             ],
             [
              0.8888888888888888,
              "#fdca26"
             ],
             [
              1,
              "#f0f921"
             ]
            ],
            "type": "heatmap"
           }
          ],
          "heatmapgl": [
           {
            "colorbar": {
             "outlinewidth": 0,
             "ticks": ""
            },
            "colorscale": [
             [
              0,
              "#0d0887"
             ],
             [
              0.1111111111111111,
              "#46039f"
             ],
             [
              0.2222222222222222,
              "#7201a8"
             ],
             [
              0.3333333333333333,
              "#9c179e"
             ],
             [
              0.4444444444444444,
              "#bd3786"
             ],
             [
              0.5555555555555556,
              "#d8576b"
             ],
             [
              0.6666666666666666,
              "#ed7953"
             ],
             [
              0.7777777777777778,
              "#fb9f3a"
             ],
             [
              0.8888888888888888,
              "#fdca26"
             ],
             [
              1,
              "#f0f921"
             ]
            ],
            "type": "heatmapgl"
           }
          ],
          "histogram": [
           {
            "marker": {
             "pattern": {
              "fillmode": "overlay",
              "size": 10,
              "solidity": 0.2
             }
            },
            "type": "histogram"
           }
          ],
          "histogram2d": [
           {
            "colorbar": {
             "outlinewidth": 0,
             "ticks": ""
            },
            "colorscale": [
             [
              0,
              "#0d0887"
             ],
             [
              0.1111111111111111,
              "#46039f"
             ],
             [
              0.2222222222222222,
              "#7201a8"
             ],
             [
              0.3333333333333333,
              "#9c179e"
             ],
             [
              0.4444444444444444,
              "#bd3786"
             ],
             [
              0.5555555555555556,
              "#d8576b"
             ],
             [
              0.6666666666666666,
              "#ed7953"
             ],
             [
              0.7777777777777778,
              "#fb9f3a"
             ],
             [
              0.8888888888888888,
              "#fdca26"
             ],
             [
              1,
              "#f0f921"
             ]
            ],
            "type": "histogram2d"
           }
          ],
          "histogram2dcontour": [
           {
            "colorbar": {
             "outlinewidth": 0,
             "ticks": ""
            },
            "colorscale": [
             [
              0,
              "#0d0887"
             ],
             [
              0.1111111111111111,
              "#46039f"
             ],
             [
              0.2222222222222222,
              "#7201a8"
             ],
             [
              0.3333333333333333,
              "#9c179e"
             ],
             [
              0.4444444444444444,
              "#bd3786"
             ],
             [
              0.5555555555555556,
              "#d8576b"
             ],
             [
              0.6666666666666666,
              "#ed7953"
             ],
             [
              0.7777777777777778,
              "#fb9f3a"
             ],
             [
              0.8888888888888888,
              "#fdca26"
             ],
             [
              1,
              "#f0f921"
             ]
            ],
            "type": "histogram2dcontour"
           }
          ],
          "mesh3d": [
           {
            "colorbar": {
             "outlinewidth": 0,
             "ticks": ""
            },
            "type": "mesh3d"
           }
          ],
          "parcoords": [
           {
            "line": {
             "colorbar": {
              "outlinewidth": 0,
              "ticks": ""
             }
            },
            "type": "parcoords"
           }
          ],
          "pie": [
           {
            "automargin": true,
            "type": "pie"
           }
          ],
          "scatter": [
           {
            "fillpattern": {
             "fillmode": "overlay",
             "size": 10,
             "solidity": 0.2
            },
            "type": "scatter"
           }
          ],
          "scatter3d": [
           {
            "line": {
             "colorbar": {
              "outlinewidth": 0,
              "ticks": ""
             }
            },
            "marker": {
             "colorbar": {
              "outlinewidth": 0,
              "ticks": ""
             }
            },
            "type": "scatter3d"
           }
          ],
          "scattercarpet": [
           {
            "marker": {
             "colorbar": {
              "outlinewidth": 0,
              "ticks": ""
             }
            },
            "type": "scattercarpet"
           }
          ],
          "scattergeo": [
           {
            "marker": {
             "colorbar": {
              "outlinewidth": 0,
              "ticks": ""
             }
            },
            "type": "scattergeo"
           }
          ],
          "scattergl": [
           {
            "marker": {
             "colorbar": {
              "outlinewidth": 0,
              "ticks": ""
             }
            },
            "type": "scattergl"
           }
          ],
          "scattermapbox": [
           {
            "marker": {
             "colorbar": {
              "outlinewidth": 0,
              "ticks": ""
             }
            },
            "type": "scattermapbox"
           }
          ],
          "scatterpolar": [
           {
            "marker": {
             "colorbar": {
              "outlinewidth": 0,
              "ticks": ""
             }
            },
            "type": "scatterpolar"
           }
          ],
          "scatterpolargl": [
           {
            "marker": {
             "colorbar": {
              "outlinewidth": 0,
              "ticks": ""
             }
            },
            "type": "scatterpolargl"
           }
          ],
          "scatterternary": [
           {
            "marker": {
             "colorbar": {
              "outlinewidth": 0,
              "ticks": ""
             }
            },
            "type": "scatterternary"
           }
          ],
          "surface": [
           {
            "colorbar": {
             "outlinewidth": 0,
             "ticks": ""
            },
            "colorscale": [
             [
              0,
              "#0d0887"
             ],
             [
              0.1111111111111111,
              "#46039f"
             ],
             [
              0.2222222222222222,
              "#7201a8"
             ],
             [
              0.3333333333333333,
              "#9c179e"
             ],
             [
              0.4444444444444444,
              "#bd3786"
             ],
             [
              0.5555555555555556,
              "#d8576b"
             ],
             [
              0.6666666666666666,
              "#ed7953"
             ],
             [
              0.7777777777777778,
              "#fb9f3a"
             ],
             [
              0.8888888888888888,
              "#fdca26"
             ],
             [
              1,
              "#f0f921"
             ]
            ],
            "type": "surface"
           }
          ],
          "table": [
           {
            "cells": {
             "fill": {
              "color": "#EBF0F8"
             },
             "line": {
              "color": "white"
             }
            },
            "header": {
             "fill": {
              "color": "#C8D4E3"
             },
             "line": {
              "color": "white"
             }
            },
            "type": "table"
           }
          ]
         },
         "layout": {
          "annotationdefaults": {
           "arrowcolor": "#2a3f5f",
           "arrowhead": 0,
           "arrowwidth": 1
          },
          "autotypenumbers": "strict",
          "coloraxis": {
           "colorbar": {
            "outlinewidth": 0,
            "ticks": ""
           }
          },
          "colorscale": {
           "diverging": [
            [
             0,
             "#8e0152"
            ],
            [
             0.1,
             "#c51b7d"
            ],
            [
             0.2,
             "#de77ae"
            ],
            [
             0.3,
             "#f1b6da"
            ],
            [
             0.4,
             "#fde0ef"
            ],
            [
             0.5,
             "#f7f7f7"
            ],
            [
             0.6,
             "#e6f5d0"
            ],
            [
             0.7,
             "#b8e186"
            ],
            [
             0.8,
             "#7fbc41"
            ],
            [
             0.9,
             "#4d9221"
            ],
            [
             1,
             "#276419"
            ]
           ],
           "sequential": [
            [
             0,
             "#0d0887"
            ],
            [
             0.1111111111111111,
             "#46039f"
            ],
            [
             0.2222222222222222,
             "#7201a8"
            ],
            [
             0.3333333333333333,
             "#9c179e"
            ],
            [
             0.4444444444444444,
             "#bd3786"
            ],
            [
             0.5555555555555556,
             "#d8576b"
            ],
            [
             0.6666666666666666,
             "#ed7953"
            ],
            [
             0.7777777777777778,
             "#fb9f3a"
            ],
            [
             0.8888888888888888,
             "#fdca26"
            ],
            [
             1,
             "#f0f921"
            ]
           ],
           "sequentialminus": [
            [
             0,
             "#0d0887"
            ],
            [
             0.1111111111111111,
             "#46039f"
            ],
            [
             0.2222222222222222,
             "#7201a8"
            ],
            [
             0.3333333333333333,
             "#9c179e"
            ],
            [
             0.4444444444444444,
             "#bd3786"
            ],
            [
             0.5555555555555556,
             "#d8576b"
            ],
            [
             0.6666666666666666,
             "#ed7953"
            ],
            [
             0.7777777777777778,
             "#fb9f3a"
            ],
            [
             0.8888888888888888,
             "#fdca26"
            ],
            [
             1,
             "#f0f921"
            ]
           ]
          },
          "colorway": [
           "#636efa",
           "#EF553B",
           "#00cc96",
           "#ab63fa",
           "#FFA15A",
           "#19d3f3",
           "#FF6692",
           "#B6E880",
           "#FF97FF",
           "#FECB52"
          ],
          "font": {
           "color": "#2a3f5f"
          },
          "geo": {
           "bgcolor": "white",
           "lakecolor": "white",
           "landcolor": "#E5ECF6",
           "showlakes": true,
           "showland": true,
           "subunitcolor": "white"
          },
          "hoverlabel": {
           "align": "left"
          },
          "hovermode": "closest",
          "mapbox": {
           "style": "light"
          },
          "paper_bgcolor": "white",
          "plot_bgcolor": "#E5ECF6",
          "polar": {
           "angularaxis": {
            "gridcolor": "white",
            "linecolor": "white",
            "ticks": ""
           },
           "bgcolor": "#E5ECF6",
           "radialaxis": {
            "gridcolor": "white",
            "linecolor": "white",
            "ticks": ""
           }
          },
          "scene": {
           "xaxis": {
            "backgroundcolor": "#E5ECF6",
            "gridcolor": "white",
            "gridwidth": 2,
            "linecolor": "white",
            "showbackground": true,
            "ticks": "",
            "zerolinecolor": "white"
           },
           "yaxis": {
            "backgroundcolor": "#E5ECF6",
            "gridcolor": "white",
            "gridwidth": 2,
            "linecolor": "white",
            "showbackground": true,
            "ticks": "",
            "zerolinecolor": "white"
           },
           "zaxis": {
            "backgroundcolor": "#E5ECF6",
            "gridcolor": "white",
            "gridwidth": 2,
            "linecolor": "white",
            "showbackground": true,
            "ticks": "",
            "zerolinecolor": "white"
           }
          },
          "shapedefaults": {
           "line": {
            "color": "#2a3f5f"
           }
          },
          "ternary": {
           "aaxis": {
            "gridcolor": "white",
            "linecolor": "white",
            "ticks": ""
           },
           "baxis": {
            "gridcolor": "white",
            "linecolor": "white",
            "ticks": ""
           },
           "bgcolor": "#E5ECF6",
           "caxis": {
            "gridcolor": "white",
            "linecolor": "white",
            "ticks": ""
           }
          },
          "title": {
           "x": 0.05
          },
          "xaxis": {
           "automargin": true,
           "gridcolor": "white",
           "linecolor": "white",
           "ticks": "",
           "title": {
            "standoff": 15
           },
           "zerolinecolor": "white",
           "zerolinewidth": 2
          },
          "yaxis": {
           "automargin": true,
           "gridcolor": "white",
           "linecolor": "white",
           "ticks": "",
           "title": {
            "standoff": 15
           },
           "zerolinecolor": "white",
           "zerolinewidth": 2
          }
         }
        },
        "title": {
         "text": "Optimization History Plot"
        },
        "xaxis": {
         "title": {
          "text": "Trial"
         }
        },
        "yaxis": {
         "title": {
          "text": "Objective Value"
         }
        }
       }
      }
     },
     "metadata": {},
     "output_type": "display_data"
    },
    {
     "data": {
      "application/vnd.plotly.v1+json": {
       "config": {
        "plotlyServerURL": "https://plot.ly"
       },
       "data": [
        {
         "cliponaxis": false,
         "hovertemplate": [
          "epochs (IntDistribution): 0.31811966710211265<extra></extra>",
          "dropout_prob (FloatDistribution): 0.3266037746980275<extra></extra>",
          "learning_rate (FloatDistribution): 0.3552765581998598<extra></extra>"
         ],
         "name": "Objective Value",
         "orientation": "h",
         "text": [
          "0.32",
          "0.33",
          "0.36"
         ],
         "textposition": "outside",
         "type": "bar",
         "x": [
          0.31811966710211265,
          0.3266037746980275,
          0.3552765581998598
         ],
         "y": [
          "epochs",
          "dropout_prob",
          "learning_rate"
         ]
        }
       ],
       "layout": {
        "template": {
         "data": {
          "bar": [
           {
            "error_x": {
             "color": "#2a3f5f"
            },
            "error_y": {
             "color": "#2a3f5f"
            },
            "marker": {
             "line": {
              "color": "#E5ECF6",
              "width": 0.5
             },
             "pattern": {
              "fillmode": "overlay",
              "size": 10,
              "solidity": 0.2
             }
            },
            "type": "bar"
           }
          ],
          "barpolar": [
           {
            "marker": {
             "line": {
              "color": "#E5ECF6",
              "width": 0.5
             },
             "pattern": {
              "fillmode": "overlay",
              "size": 10,
              "solidity": 0.2
             }
            },
            "type": "barpolar"
           }
          ],
          "carpet": [
           {
            "aaxis": {
             "endlinecolor": "#2a3f5f",
             "gridcolor": "white",
             "linecolor": "white",
             "minorgridcolor": "white",
             "startlinecolor": "#2a3f5f"
            },
            "baxis": {
             "endlinecolor": "#2a3f5f",
             "gridcolor": "white",
             "linecolor": "white",
             "minorgridcolor": "white",
             "startlinecolor": "#2a3f5f"
            },
            "type": "carpet"
           }
          ],
          "choropleth": [
           {
            "colorbar": {
             "outlinewidth": 0,
             "ticks": ""
            },
            "type": "choropleth"
           }
          ],
          "contour": [
           {
            "colorbar": {
             "outlinewidth": 0,
             "ticks": ""
            },
            "colorscale": [
             [
              0,
              "#0d0887"
             ],
             [
              0.1111111111111111,
              "#46039f"
             ],
             [
              0.2222222222222222,
              "#7201a8"
             ],
             [
              0.3333333333333333,
              "#9c179e"
             ],
             [
              0.4444444444444444,
              "#bd3786"
             ],
             [
              0.5555555555555556,
              "#d8576b"
             ],
             [
              0.6666666666666666,
              "#ed7953"
             ],
             [
              0.7777777777777778,
              "#fb9f3a"
             ],
             [
              0.8888888888888888,
              "#fdca26"
             ],
             [
              1,
              "#f0f921"
             ]
            ],
            "type": "contour"
           }
          ],
          "contourcarpet": [
           {
            "colorbar": {
             "outlinewidth": 0,
             "ticks": ""
            },
            "type": "contourcarpet"
           }
          ],
          "heatmap": [
           {
            "colorbar": {
             "outlinewidth": 0,
             "ticks": ""
            },
            "colorscale": [
             [
              0,
              "#0d0887"
             ],
             [
              0.1111111111111111,
              "#46039f"
             ],
             [
              0.2222222222222222,
              "#7201a8"
             ],
             [
              0.3333333333333333,
              "#9c179e"
             ],
             [
              0.4444444444444444,
              "#bd3786"
             ],
             [
              0.5555555555555556,
              "#d8576b"
             ],
             [
              0.6666666666666666,
              "#ed7953"
             ],
             [
              0.7777777777777778,
              "#fb9f3a"
             ],
             [
              0.8888888888888888,
              "#fdca26"
             ],
             [
              1,
              "#f0f921"
             ]
            ],
            "type": "heatmap"
           }
          ],
          "heatmapgl": [
           {
            "colorbar": {
             "outlinewidth": 0,
             "ticks": ""
            },
            "colorscale": [
             [
              0,
              "#0d0887"
             ],
             [
              0.1111111111111111,
              "#46039f"
             ],
             [
              0.2222222222222222,
              "#7201a8"
             ],
             [
              0.3333333333333333,
              "#9c179e"
             ],
             [
              0.4444444444444444,
              "#bd3786"
             ],
             [
              0.5555555555555556,
              "#d8576b"
             ],
             [
              0.6666666666666666,
              "#ed7953"
             ],
             [
              0.7777777777777778,
              "#fb9f3a"
             ],
             [
              0.8888888888888888,
              "#fdca26"
             ],
             [
              1,
              "#f0f921"
             ]
            ],
            "type": "heatmapgl"
           }
          ],
          "histogram": [
           {
            "marker": {
             "pattern": {
              "fillmode": "overlay",
              "size": 10,
              "solidity": 0.2
             }
            },
            "type": "histogram"
           }
          ],
          "histogram2d": [
           {
            "colorbar": {
             "outlinewidth": 0,
             "ticks": ""
            },
            "colorscale": [
             [
              0,
              "#0d0887"
             ],
             [
              0.1111111111111111,
              "#46039f"
             ],
             [
              0.2222222222222222,
              "#7201a8"
             ],
             [
              0.3333333333333333,
              "#9c179e"
             ],
             [
              0.4444444444444444,
              "#bd3786"
             ],
             [
              0.5555555555555556,
              "#d8576b"
             ],
             [
              0.6666666666666666,
              "#ed7953"
             ],
             [
              0.7777777777777778,
              "#fb9f3a"
             ],
             [
              0.8888888888888888,
              "#fdca26"
             ],
             [
              1,
              "#f0f921"
             ]
            ],
            "type": "histogram2d"
           }
          ],
          "histogram2dcontour": [
           {
            "colorbar": {
             "outlinewidth": 0,
             "ticks": ""
            },
            "colorscale": [
             [
              0,
              "#0d0887"
             ],
             [
              0.1111111111111111,
              "#46039f"
             ],
             [
              0.2222222222222222,
              "#7201a8"
             ],
             [
              0.3333333333333333,
              "#9c179e"
             ],
             [
              0.4444444444444444,
              "#bd3786"
             ],
             [
              0.5555555555555556,
              "#d8576b"
             ],
             [
              0.6666666666666666,
              "#ed7953"
             ],
             [
              0.7777777777777778,
              "#fb9f3a"
             ],
             [
              0.8888888888888888,
              "#fdca26"
             ],
             [
              1,
              "#f0f921"
             ]
            ],
            "type": "histogram2dcontour"
           }
          ],
          "mesh3d": [
           {
            "colorbar": {
             "outlinewidth": 0,
             "ticks": ""
            },
            "type": "mesh3d"
           }
          ],
          "parcoords": [
           {
            "line": {
             "colorbar": {
              "outlinewidth": 0,
              "ticks": ""
             }
            },
            "type": "parcoords"
           }
          ],
          "pie": [
           {
            "automargin": true,
            "type": "pie"
           }
          ],
          "scatter": [
           {
            "fillpattern": {
             "fillmode": "overlay",
             "size": 10,
             "solidity": 0.2
            },
            "type": "scatter"
           }
          ],
          "scatter3d": [
           {
            "line": {
             "colorbar": {
              "outlinewidth": 0,
              "ticks": ""
             }
            },
            "marker": {
             "colorbar": {
              "outlinewidth": 0,
              "ticks": ""
             }
            },
            "type": "scatter3d"
           }
          ],
          "scattercarpet": [
           {
            "marker": {
             "colorbar": {
              "outlinewidth": 0,
              "ticks": ""
             }
            },
            "type": "scattercarpet"
           }
          ],
          "scattergeo": [
           {
            "marker": {
             "colorbar": {
              "outlinewidth": 0,
              "ticks": ""
             }
            },
            "type": "scattergeo"
           }
          ],
          "scattergl": [
           {
            "marker": {
             "colorbar": {
              "outlinewidth": 0,
              "ticks": ""
             }
            },
            "type": "scattergl"
           }
          ],
          "scattermapbox": [
           {
            "marker": {
             "colorbar": {
              "outlinewidth": 0,
              "ticks": ""
             }
            },
            "type": "scattermapbox"
           }
          ],
          "scatterpolar": [
           {
            "marker": {
             "colorbar": {
              "outlinewidth": 0,
              "ticks": ""
             }
            },
            "type": "scatterpolar"
           }
          ],
          "scatterpolargl": [
           {
            "marker": {
             "colorbar": {
              "outlinewidth": 0,
              "ticks": ""
             }
            },
            "type": "scatterpolargl"
           }
          ],
          "scatterternary": [
           {
            "marker": {
             "colorbar": {
              "outlinewidth": 0,
              "ticks": ""
             }
            },
            "type": "scatterternary"
           }
          ],
          "surface": [
           {
            "colorbar": {
             "outlinewidth": 0,
             "ticks": ""
            },
            "colorscale": [
             [
              0,
              "#0d0887"
             ],
             [
              0.1111111111111111,
              "#46039f"
             ],
             [
              0.2222222222222222,
              "#7201a8"
             ],
             [
              0.3333333333333333,
              "#9c179e"
             ],
             [
              0.4444444444444444,
              "#bd3786"
             ],
             [
              0.5555555555555556,
              "#d8576b"
             ],
             [
              0.6666666666666666,
              "#ed7953"
             ],
             [
              0.7777777777777778,
              "#fb9f3a"
             ],
             [
              0.8888888888888888,
              "#fdca26"
             ],
             [
              1,
              "#f0f921"
             ]
            ],
            "type": "surface"
           }
          ],
          "table": [
           {
            "cells": {
             "fill": {
              "color": "#EBF0F8"
             },
             "line": {
              "color": "white"
             }
            },
            "header": {
             "fill": {
              "color": "#C8D4E3"
             },
             "line": {
              "color": "white"
             }
            },
            "type": "table"
           }
          ]
         },
         "layout": {
          "annotationdefaults": {
           "arrowcolor": "#2a3f5f",
           "arrowhead": 0,
           "arrowwidth": 1
          },
          "autotypenumbers": "strict",
          "coloraxis": {
           "colorbar": {
            "outlinewidth": 0,
            "ticks": ""
           }
          },
          "colorscale": {
           "diverging": [
            [
             0,
             "#8e0152"
            ],
            [
             0.1,
             "#c51b7d"
            ],
            [
             0.2,
             "#de77ae"
            ],
            [
             0.3,
             "#f1b6da"
            ],
            [
             0.4,
             "#fde0ef"
            ],
            [
             0.5,
             "#f7f7f7"
            ],
            [
             0.6,
             "#e6f5d0"
            ],
            [
             0.7,
             "#b8e186"
            ],
            [
             0.8,
             "#7fbc41"
            ],
            [
             0.9,
             "#4d9221"
            ],
            [
             1,
             "#276419"
            ]
           ],
           "sequential": [
            [
             0,
             "#0d0887"
            ],
            [
             0.1111111111111111,
             "#46039f"
            ],
            [
             0.2222222222222222,
             "#7201a8"
            ],
            [
             0.3333333333333333,
             "#9c179e"
            ],
            [
             0.4444444444444444,
             "#bd3786"
            ],
            [
             0.5555555555555556,
             "#d8576b"
            ],
            [
             0.6666666666666666,
             "#ed7953"
            ],
            [
             0.7777777777777778,
             "#fb9f3a"
            ],
            [
             0.8888888888888888,
             "#fdca26"
            ],
            [
             1,
             "#f0f921"
            ]
           ],
           "sequentialminus": [
            [
             0,
             "#0d0887"
            ],
            [
             0.1111111111111111,
             "#46039f"
            ],
            [
             0.2222222222222222,
             "#7201a8"
            ],
            [
             0.3333333333333333,
             "#9c179e"
            ],
            [
             0.4444444444444444,
             "#bd3786"
            ],
            [
             0.5555555555555556,
             "#d8576b"
            ],
            [
             0.6666666666666666,
             "#ed7953"
            ],
            [
             0.7777777777777778,
             "#fb9f3a"
            ],
            [
             0.8888888888888888,
             "#fdca26"
            ],
            [
             1,
             "#f0f921"
            ]
           ]
          },
          "colorway": [
           "#636efa",
           "#EF553B",
           "#00cc96",
           "#ab63fa",
           "#FFA15A",
           "#19d3f3",
           "#FF6692",
           "#B6E880",
           "#FF97FF",
           "#FECB52"
          ],
          "font": {
           "color": "#2a3f5f"
          },
          "geo": {
           "bgcolor": "white",
           "lakecolor": "white",
           "landcolor": "#E5ECF6",
           "showlakes": true,
           "showland": true,
           "subunitcolor": "white"
          },
          "hoverlabel": {
           "align": "left"
          },
          "hovermode": "closest",
          "mapbox": {
           "style": "light"
          },
          "paper_bgcolor": "white",
          "plot_bgcolor": "#E5ECF6",
          "polar": {
           "angularaxis": {
            "gridcolor": "white",
            "linecolor": "white",
            "ticks": ""
           },
           "bgcolor": "#E5ECF6",
           "radialaxis": {
            "gridcolor": "white",
            "linecolor": "white",
            "ticks": ""
           }
          },
          "scene": {
           "xaxis": {
            "backgroundcolor": "#E5ECF6",
            "gridcolor": "white",
            "gridwidth": 2,
            "linecolor": "white",
            "showbackground": true,
            "ticks": "",
            "zerolinecolor": "white"
           },
           "yaxis": {
            "backgroundcolor": "#E5ECF6",
            "gridcolor": "white",
            "gridwidth": 2,
            "linecolor": "white",
            "showbackground": true,
            "ticks": "",
            "zerolinecolor": "white"
           },
           "zaxis": {
            "backgroundcolor": "#E5ECF6",
            "gridcolor": "white",
            "gridwidth": 2,
            "linecolor": "white",
            "showbackground": true,
            "ticks": "",
            "zerolinecolor": "white"
           }
          },
          "shapedefaults": {
           "line": {
            "color": "#2a3f5f"
           }
          },
          "ternary": {
           "aaxis": {
            "gridcolor": "white",
            "linecolor": "white",
            "ticks": ""
           },
           "baxis": {
            "gridcolor": "white",
            "linecolor": "white",
            "ticks": ""
           },
           "bgcolor": "#E5ECF6",
           "caxis": {
            "gridcolor": "white",
            "linecolor": "white",
            "ticks": ""
           }
          },
          "title": {
           "x": 0.05
          },
          "xaxis": {
           "automargin": true,
           "gridcolor": "white",
           "linecolor": "white",
           "ticks": "",
           "title": {
            "standoff": 15
           },
           "zerolinecolor": "white",
           "zerolinewidth": 2
          },
          "yaxis": {
           "automargin": true,
           "gridcolor": "white",
           "linecolor": "white",
           "ticks": "",
           "title": {
            "standoff": 15
           },
           "zerolinecolor": "white",
           "zerolinewidth": 2
          }
         }
        },
        "title": {
         "text": "Hyperparameter Importances"
        },
        "xaxis": {
         "title": {
          "text": "Hyperparameter Importance"
         }
        },
        "yaxis": {
         "title": {
          "text": "Hyperparameter"
         }
        }
       }
      }
     },
     "metadata": {},
     "output_type": "display_data"
    }
   ],
   "source": [
    "optuna.visualization.plot_optimization_history(study).show()\n",
    "optuna.visualization.plot_param_importances(study).show()\n"
   ]
  },
  {
   "cell_type": "code",
   "execution_count": null,
   "metadata": {},
   "outputs": [
    {
     "name": "stdout",
     "output_type": "stream",
     "text": [
      "| Epoch 1 | Train Loss: 0.3541, Validation Loss: 0.3500 | Train MSE: 0.3506, Val MSE: 0.3500 |\n",
      "| Epoch 2 | Train Loss: 0.3468, Validation Loss: 0.3448 | Train MSE: 0.3454, Val MSE: 0.3448 |\n",
      "| Epoch 3 | Train Loss: 0.3384, Validation Loss: 0.3384 | Train MSE: 0.3390, Val MSE: 0.3384 |\n",
      "| Epoch 4 | Train Loss: 0.3303, Validation Loss: 0.3326 | Train MSE: 0.3332, Val MSE: 0.3326 |\n",
      "| Epoch 5 | Train Loss: 0.3233, Validation Loss: 0.3277 | Train MSE: 0.3283, Val MSE: 0.3277 |\n",
      "| Epoch 6 | Train Loss: 0.3170, Validation Loss: 0.3234 | Train MSE: 0.3240, Val MSE: 0.3234 |\n",
      "| Epoch 7 | Train Loss: 0.3119, Validation Loss: 0.3193 | Train MSE: 0.3199, Val MSE: 0.3193 |\n",
      "| Epoch 8 | Train Loss: 0.3066, Validation Loss: 0.3153 | Train MSE: 0.3160, Val MSE: 0.3153 |\n",
      "| Epoch 9 | Train Loss: 0.3015, Validation Loss: 0.3115 | Train MSE: 0.3121, Val MSE: 0.3115 |\n",
      "| Epoch 10 | Train Loss: 0.2967, Validation Loss: 0.3077 | Train MSE: 0.3084, Val MSE: 0.3077 |\n",
      "| Epoch 11 | Train Loss: 0.2926, Validation Loss: 0.3041 | Train MSE: 0.3047, Val MSE: 0.3041 |\n",
      "| Epoch 12 | Train Loss: 0.2882, Validation Loss: 0.3005 | Train MSE: 0.3012, Val MSE: 0.3005 |\n",
      "| Epoch 13 | Train Loss: 0.2843, Validation Loss: 0.2970 | Train MSE: 0.2977, Val MSE: 0.2970 |\n",
      "| Epoch 14 | Train Loss: 0.2801, Validation Loss: 0.2937 | Train MSE: 0.2943, Val MSE: 0.2937 |\n",
      "| Epoch 15 | Train Loss: 0.2763, Validation Loss: 0.2903 | Train MSE: 0.2910, Val MSE: 0.2903 |\n",
      "| Epoch 16 | Train Loss: 0.2722, Validation Loss: 0.2871 | Train MSE: 0.2878, Val MSE: 0.2871 |\n",
      "| Epoch 17 | Train Loss: 0.2690, Validation Loss: 0.2839 | Train MSE: 0.2846, Val MSE: 0.2839 |\n",
      "| Epoch 18 | Train Loss: 0.2649, Validation Loss: 0.2808 | Train MSE: 0.2815, Val MSE: 0.2808 |\n",
      "| Epoch 19 | Train Loss: 0.2623, Validation Loss: 0.2778 | Train MSE: 0.2785, Val MSE: 0.2778 |\n",
      "| Epoch 20 | Train Loss: 0.2588, Validation Loss: 0.2748 | Train MSE: 0.2755, Val MSE: 0.2748 |\n",
      "| Epoch 21 | Train Loss: 0.2560, Validation Loss: 0.2719 | Train MSE: 0.2727, Val MSE: 0.2719 |\n",
      "| Epoch 22 | Train Loss: 0.2531, Validation Loss: 0.2691 | Train MSE: 0.2699, Val MSE: 0.2691 |\n",
      "| Epoch 23 | Train Loss: 0.2502, Validation Loss: 0.2664 | Train MSE: 0.2671, Val MSE: 0.2664 |\n",
      "| Epoch 24 | Train Loss: 0.2476, Validation Loss: 0.2637 | Train MSE: 0.2645, Val MSE: 0.2637 |\n",
      "| Epoch 25 | Train Loss: 0.2448, Validation Loss: 0.2611 | Train MSE: 0.2618, Val MSE: 0.2611 |\n",
      "| Epoch 26 | Train Loss: 0.2417, Validation Loss: 0.2585 | Train MSE: 0.2593, Val MSE: 0.2585 |\n",
      "| Epoch 27 | Train Loss: 0.2389, Validation Loss: 0.2560 | Train MSE: 0.2568, Val MSE: 0.2560 |\n",
      "| Epoch 28 | Train Loss: 0.2376, Validation Loss: 0.2536 | Train MSE: 0.2543, Val MSE: 0.2536 |\n",
      "| Epoch 29 | Train Loss: 0.2349, Validation Loss: 0.2512 | Train MSE: 0.2520, Val MSE: 0.2512 |\n",
      "| Epoch 30 | Train Loss: 0.2320, Validation Loss: 0.2488 | Train MSE: 0.2496, Val MSE: 0.2488 |\n",
      "| Epoch 31 | Train Loss: 0.2301, Validation Loss: 0.2465 | Train MSE: 0.2473, Val MSE: 0.2465 |\n",
      "| Epoch 32 | Train Loss: 0.2268, Validation Loss: 0.2443 | Train MSE: 0.2451, Val MSE: 0.2443 |\n",
      "| Epoch 33 | Train Loss: 0.2253, Validation Loss: 0.2421 | Train MSE: 0.2429, Val MSE: 0.2421 |\n",
      "| Epoch 34 | Train Loss: 0.2232, Validation Loss: 0.2399 | Train MSE: 0.2407, Val MSE: 0.2399 |\n",
      "| Epoch 35 | Train Loss: 0.2210, Validation Loss: 0.2378 | Train MSE: 0.2386, Val MSE: 0.2378 |\n",
      "| Epoch 36 | Train Loss: 0.2198, Validation Loss: 0.2357 | Train MSE: 0.2365, Val MSE: 0.2357 |\n",
      "| Epoch 37 | Train Loss: 0.2171, Validation Loss: 0.2336 | Train MSE: 0.2345, Val MSE: 0.2336 |\n",
      "| Epoch 38 | Train Loss: 0.2161, Validation Loss: 0.2316 | Train MSE: 0.2325, Val MSE: 0.2316 |\n",
      "| Epoch 39 | Train Loss: 0.2125, Validation Loss: 0.2297 | Train MSE: 0.2305, Val MSE: 0.2297 |\n",
      "| Epoch 40 | Train Loss: 0.2126, Validation Loss: 0.2278 | Train MSE: 0.2286, Val MSE: 0.2278 |\n",
      "| Epoch 41 | Train Loss: 0.2104, Validation Loss: 0.2259 | Train MSE: 0.2268, Val MSE: 0.2259 |\n",
      "| Epoch 42 | Train Loss: 0.2096, Validation Loss: 0.2240 | Train MSE: 0.2249, Val MSE: 0.2240 |\n",
      "| Epoch 43 | Train Loss: 0.2065, Validation Loss: 0.2222 | Train MSE: 0.2231, Val MSE: 0.2222 |\n",
      "| Epoch 44 | Train Loss: 0.2056, Validation Loss: 0.2204 | Train MSE: 0.2214, Val MSE: 0.2204 |\n",
      "| Epoch 45 | Train Loss: 0.2049, Validation Loss: 0.2187 | Train MSE: 0.2196, Val MSE: 0.2187 |\n",
      "| Epoch 46 | Train Loss: 0.2031, Validation Loss: 0.2170 | Train MSE: 0.2179, Val MSE: 0.2170 |\n",
      "| Epoch 47 | Train Loss: 0.2014, Validation Loss: 0.2153 | Train MSE: 0.2162, Val MSE: 0.2153 |\n",
      "| Epoch 48 | Train Loss: 0.1999, Validation Loss: 0.2137 | Train MSE: 0.2146, Val MSE: 0.2137 |\n",
      "| Epoch 49 | Train Loss: 0.1999, Validation Loss: 0.2121 | Train MSE: 0.2130, Val MSE: 0.2121 |\n",
      "| Epoch 50 | Train Loss: 0.1977, Validation Loss: 0.2105 | Train MSE: 0.2114, Val MSE: 0.2105 |\n",
      "| Epoch 51 | Train Loss: 0.1967, Validation Loss: 0.2089 | Train MSE: 0.2099, Val MSE: 0.2089 |\n",
      "| Epoch 52 | Train Loss: 0.1959, Validation Loss: 0.2074 | Train MSE: 0.2084, Val MSE: 0.2074 |\n",
      "| Epoch 53 | Train Loss: 0.1935, Validation Loss: 0.2060 | Train MSE: 0.2069, Val MSE: 0.2060 |\n",
      "| Epoch 54 | Train Loss: 0.1932, Validation Loss: 0.2045 | Train MSE: 0.2055, Val MSE: 0.2045 |\n",
      "| Epoch 55 | Train Loss: 0.1919, Validation Loss: 0.2031 | Train MSE: 0.2041, Val MSE: 0.2031 |\n",
      "| Epoch 56 | Train Loss: 0.1903, Validation Loss: 0.2017 | Train MSE: 0.2026, Val MSE: 0.2017 |\n",
      "| Epoch 57 | Train Loss: 0.1904, Validation Loss: 0.2003 | Train MSE: 0.2013, Val MSE: 0.2003 |\n",
      "| Epoch 58 | Train Loss: 0.1890, Validation Loss: 0.1991 | Train MSE: 0.2001, Val MSE: 0.1991 |\n",
      "| Epoch 59 | Train Loss: 0.1886, Validation Loss: 0.1979 | Train MSE: 0.1989, Val MSE: 0.1979 |\n",
      "| Epoch 60 | Train Loss: 0.1871, Validation Loss: 0.1968 | Train MSE: 0.1977, Val MSE: 0.1968 |\n",
      "| Epoch 61 | Train Loss: 0.1863, Validation Loss: 0.1956 | Train MSE: 0.1965, Val MSE: 0.1956 |\n",
      "| Epoch 62 | Train Loss: 0.1855, Validation Loss: 0.1945 | Train MSE: 0.1954, Val MSE: 0.1945 |\n",
      "| Epoch 63 | Train Loss: 0.1838, Validation Loss: 0.1933 | Train MSE: 0.1943, Val MSE: 0.1933 |\n",
      "| Epoch 64 | Train Loss: 0.1841, Validation Loss: 0.1922 | Train MSE: 0.1932, Val MSE: 0.1922 |\n",
      "| Epoch 65 | Train Loss: 0.1821, Validation Loss: 0.1912 | Train MSE: 0.1921, Val MSE: 0.1912 |\n",
      "| Epoch 66 | Train Loss: 0.1812, Validation Loss: 0.1901 | Train MSE: 0.1910, Val MSE: 0.1901 |\n",
      "| Epoch 67 | Train Loss: 0.1808, Validation Loss: 0.1890 | Train MSE: 0.1899, Val MSE: 0.1890 |\n",
      "| Epoch 68 | Train Loss: 0.1812, Validation Loss: 0.1881 | Train MSE: 0.1890, Val MSE: 0.1881 |\n",
      "| Epoch 69 | Train Loss: 0.1796, Validation Loss: 0.1871 | Train MSE: 0.1880, Val MSE: 0.1871 |\n",
      "| Epoch 70 | Train Loss: 0.1783, Validation Loss: 0.1861 | Train MSE: 0.1870, Val MSE: 0.1861 |\n",
      "| Epoch 71 | Train Loss: 0.1781, Validation Loss: 0.1851 | Train MSE: 0.1861, Val MSE: 0.1851 |\n",
      "| Epoch 72 | Train Loss: 0.1776, Validation Loss: 0.1843 | Train MSE: 0.1852, Val MSE: 0.1843 |\n",
      "| Epoch 73 | Train Loss: 0.1755, Validation Loss: 0.1835 | Train MSE: 0.1844, Val MSE: 0.1835 |\n",
      "| Epoch 74 | Train Loss: 0.1746, Validation Loss: 0.1826 | Train MSE: 0.1835, Val MSE: 0.1826 |\n",
      "| Epoch 75 | Train Loss: 0.1744, Validation Loss: 0.1818 | Train MSE: 0.1827, Val MSE: 0.1818 |\n",
      "| Epoch 76 | Train Loss: 0.1742, Validation Loss: 0.1809 | Train MSE: 0.1818, Val MSE: 0.1809 |\n",
      "| Epoch 77 | Train Loss: 0.1728, Validation Loss: 0.1802 | Train MSE: 0.1811, Val MSE: 0.1802 |\n",
      "| Epoch 78 | Train Loss: 0.1717, Validation Loss: 0.1794 | Train MSE: 0.1802, Val MSE: 0.1794 |\n",
      "| Epoch 79 | Train Loss: 0.1719, Validation Loss: 0.1786 | Train MSE: 0.1795, Val MSE: 0.1786 |\n",
      "| Epoch 80 | Train Loss: 0.1722, Validation Loss: 0.1779 | Train MSE: 0.1788, Val MSE: 0.1779 |\n",
      "| Epoch 81 | Train Loss: 0.1698, Validation Loss: 0.1771 | Train MSE: 0.1780, Val MSE: 0.1771 |\n",
      "| Epoch 82 | Train Loss: 0.1692, Validation Loss: 0.1764 | Train MSE: 0.1773, Val MSE: 0.1764 |\n",
      "| Epoch 83 | Train Loss: 0.1697, Validation Loss: 0.1757 | Train MSE: 0.1766, Val MSE: 0.1757 |\n",
      "| Epoch 84 | Train Loss: 0.1672, Validation Loss: 0.1750 | Train MSE: 0.1759, Val MSE: 0.1750 |\n",
      "| Epoch 85 | Train Loss: 0.1676, Validation Loss: 0.1743 | Train MSE: 0.1752, Val MSE: 0.1743 |\n",
      "| Epoch 86 | Train Loss: 0.1673, Validation Loss: 0.1738 | Train MSE: 0.1746, Val MSE: 0.1738 |\n",
      "| Epoch 87 | Train Loss: 0.1664, Validation Loss: 0.1732 | Train MSE: 0.1741, Val MSE: 0.1732 |\n",
      "| Epoch 88 | Train Loss: 0.1657, Validation Loss: 0.1725 | Train MSE: 0.1734, Val MSE: 0.1725 |\n",
      "| Epoch 89 | Train Loss: 0.1656, Validation Loss: 0.1719 | Train MSE: 0.1727, Val MSE: 0.1719 |\n",
      "| Epoch 90 | Train Loss: 0.1639, Validation Loss: 0.1713 | Train MSE: 0.1721, Val MSE: 0.1713 |\n",
      "| Epoch 91 | Train Loss: 0.1629, Validation Loss: 0.1707 | Train MSE: 0.1716, Val MSE: 0.1707 |\n",
      "| Epoch 92 | Train Loss: 0.1632, Validation Loss: 0.1701 | Train MSE: 0.1710, Val MSE: 0.1701 |\n",
      "| Epoch 93 | Train Loss: 0.1623, Validation Loss: 0.1694 | Train MSE: 0.1703, Val MSE: 0.1694 |\n",
      "| Epoch 94 | Train Loss: 0.1621, Validation Loss: 0.1689 | Train MSE: 0.1698, Val MSE: 0.1689 |\n",
      "| Epoch 95 | Train Loss: 0.1608, Validation Loss: 0.1683 | Train MSE: 0.1692, Val MSE: 0.1683 |\n",
      "| Epoch 96 | Train Loss: 0.1610, Validation Loss: 0.1679 | Train MSE: 0.1687, Val MSE: 0.1679 |\n",
      "| Epoch 97 | Train Loss: 0.1597, Validation Loss: 0.1674 | Train MSE: 0.1682, Val MSE: 0.1674 |\n",
      "| Epoch 98 | Train Loss: 0.1591, Validation Loss: 0.1669 | Train MSE: 0.1677, Val MSE: 0.1669 |\n",
      "| Epoch 99 | Train Loss: 0.1591, Validation Loss: 0.1663 | Train MSE: 0.1671, Val MSE: 0.1663 |\n",
      "| Epoch 100 | Train Loss: 0.1575, Validation Loss: 0.1658 | Train MSE: 0.1666, Val MSE: 0.1658 |\n",
      "Best validation MSE: 0.1658\n"
     ]
    }
   ],
   "source": [
    "# Train the model with the best parameters\n",
    "best_params = study.best_params\n",
    "dropout_prob = best_params['dropout_prob']\n",
    "learning_rate = best_params['learning_rate']\n",
    "\n",
    "model = NeuralNetwork(\n",
    "    input_size=3000,\n",
    "    hidden_size=512,\n",
    "    output_size=len(substrates_list) * 3,\n",
    "    dropout_prob=dropout_prob\n",
    ").to(device)\n",
    "\n",
    "optimizer = torch.optim.Adam(model.parameters(), lr=learning_rate)\n",
    "criterion = torch.nn.MSELoss()\n",
    "epochs = 100  # Number of epochs to train\n",
    "\n",
    "model, _ = training(\n",
    "    model=model,\n",
    "    X_train=data_train_tensor,\n",
    "    y_train=target_train_tensor,\n",
    "    X_val=data_val_tensor,\n",
    "    y_val=target_val_tensor,\n",
    "    criterion=criterion,\n",
    "    optimizer=optimizer,\n",
    "    epochs=epochs,\n",
    "    writer=SummaryWriter(),\n",
    "    dropout_prob=dropout_prob,\n",
    "    log_tensorboard=True,\n",
    "    log_dropout=False,\n",
    "    verbose=True,\n",
    "    check_real_data=True\n",
    ")"
   ]
  },
  {
   "cell_type": "code",
   "execution_count": null,
   "metadata": {},
   "outputs": [
    {
     "data": {
      "text/plain": [
       "torch.Size([6000, 3000])"
      ]
     },
     "execution_count": 56,
     "metadata": {},
     "output_type": "execute_result"
    }
   ],
   "source": [
    "# # Bring all tensors back to the CPU\n",
    "data_train_tensor = data_train_tensor.to(\"cpu\")\n",
    "data_val_tensor = data_val_tensor.to(\"cpu\")\n",
    "\n",
    "data_train_tensor.shape"
   ]
  },
  {
   "cell_type": "code",
   "execution_count": null,
   "metadata": {},
   "outputs": [
    {
     "name": "stdout",
     "output_type": "stream",
     "text": [
      "target_train_pred: torch.Size([6000, 12])\n",
      "target_val_pred: torch.Size([2000, 12])\n",
      "target_train_pred_rescaled: (6000, 12)\n",
      "target_val_pred_rescaled: (2000, 12)\n"
     ]
    }
   ],
   "source": [
    "# Vorhersagen und Rückskalierung\n",
    "model.to(\"cpu\")\n",
    "target_train_pred = model.predict(data_train_tensor)\n",
    "target_val_pred = model.predict(data_val_tensor)\n",
    "\n",
    "# Bring all tensors back to the CPU and to numpy\n",
    "target_train_pred = target_train_pred.cpu().detach()\n",
    "target_val_pred = target_val_pred.cpu().detach()\n",
    "data_train_tensor = data_train_tensor.cpu().detach()\n",
    "data_val_tensor = data_val_tensor.cpu().detach()\n",
    "\n",
    "\n",
    "print(f'target_train_pred: {target_train_pred.shape}')\n",
    "print(f'target_val_pred: {target_val_pred.shape}')\n",
    "\n",
    "\n",
    "# FOR Linear Model\n",
    "# Rescale the data\n",
    "#target_train_pred_rescaled = target_scaler.inverse_transform(target_train_pred.squeeze(1))\n",
    "#target_val_pred_rescaled = target_scaler.inverse_transform(target_val_pred.squeeze(1))\n",
    "\n",
    "\n",
    "#for LSTM\n",
    "# # Rescale the data\n",
    "target_train_pred_rescaled = target_scaler.inverse_transform(target_train_pred)\n",
    "target_val_pred_rescaled = target_scaler.inverse_transform(target_val_pred)\n",
    "\n",
    "# Reshape the data\n",
    "target_train_pred = target_train_pred_rescaled.reshape(target_train_pred_rescaled.shape[0], -1)\n",
    "target_val_pred = target_val_pred_rescaled.reshape(target_val_pred_rescaled.shape[0], -1)\n",
    "\n",
    "\n",
    "\n",
    "\n",
    "print(f'target_train_pred_rescaled: {target_train_pred.shape}')\n",
    "print(f'target_val_pred_rescaled: {target_val_pred.shape}')"
   ]
  },
  {
   "cell_type": "code",
   "execution_count": null,
   "metadata": {},
   "outputs": [
    {
     "name": "stdout",
     "output_type": "stream",
     "text": [
      "4\n"
     ]
    }
   ],
   "source": [
    "print(len(substrates_list))"
   ]
  },
  {
   "cell_type": "code",
   "execution_count": null,
   "metadata": {},
   "outputs": [
    {
     "name": "stdout",
     "output_type": "stream",
     "text": [
      "data_train: (6000, 3000)\n",
      "data_val: (2000, 3000)\n",
      "target_train: (6000, 12)\n",
      "len substrates_list: 4\n"
     ]
    },
    {
     "data": {
      "image/png": "[encoded data removed]",
      "text/plain": [
       "<Figure size 1000x800 with 1 Axes>"
      ]
     },
     "metadata": {},
     "output_type": "display_data"
    }
   ],
   "source": [
    "# bring the data back to the cpu\n",
    "data_train_tensor = data_train_tensor.to(\"cpu\")\n",
    "data_val_tensor = data_val_tensor.to(\"cpu\")\n",
    "data_test_tensor = data_test_tensor.to(\"cpu\")\n",
    "\n",
    "target_train_tensor = target_train_tensor.to(\"cpu\")\n",
    "target_val_tensor = target_val_tensor.to(\"cpu\")\n",
    "target_test_tensor = target_test_tensor.to(\"cpu\")\n",
    "\n",
    "data_train_tensor = data_train_tensor.squeeze(1)\n",
    "data_val_tensor = data_val_tensor.squeeze(1)\n",
    "# scale the data back\n",
    "data_train = data_scaler.inverse_transform(data_train_tensor)\n",
    "data_val = data_scaler.inverse_transform(data_val_tensor)\n",
    "target_train = target_scaler.inverse_transform(target_train_tensor)\n",
    "\n",
    "\n",
    "print(f'data_train: {data_train.shape}')\n",
    "print(f'data_val: {data_val.shape}')\n",
    "print(f'target_train: {target_train.shape}')\n",
    "\n",
    "print(f'len substrates_list: {len(substrates_list)}')\n",
    "\n",
    "\n",
    "x0_parms_train, gamma_parms_train, height_parms_train = np.split(target_train, 3, axis=1)\n",
    "x0_parms_val, gamma_parms_val, height_parms_val = np.split(target_val, 3, axis=1)\n",
    "x0_parms_test, gamma_parms_test, height_parms_test = np.split(target_test, 3, axis=1)\n",
    "\n",
    "\n",
    "\n",
    "\n",
    "n = 10\n",
    "x = x_data[n]\n",
    "# plot the data\n",
    "#plt.plot(x, data_train[n, :], '-', label='Original Data')\n",
    "# for x0, gamma, height in zip(x0_parms_train[n], gamma_parms_train[n], height_parms_train[n]):\n",
    "#     lorentz = lorentzian(x, x0, gamma, height)\n",
    "#     plt.plot(x, lorentz, '--', label='Original Peaks', alpha=0.5)\n",
    "\n",
    "# plt.plot(x, data_val[n, :], '-', label='Original Data', color='grey')\n",
    "# for x0, gamma, height in zip(x0_parms_val[n], gamma_parms_val[n], height_parms_val[n]):\n",
    "#     lorentz = lorentzian(x, x0, gamma, height)\n",
    "#     plt.plot(x, lorentz, '--', label='Original Peaks', alpha=0.5)   \n",
    "    \n",
    "fig = plt.figure(figsize=(10, 8))\n",
    "\n",
    "plt.plot(x, data_test[n, :], '-', label='Original Data', color='grey')\n",
    "for x0, gamma, height in zip(x0_parms_test[n], gamma_parms_test[n], height_parms_test[n]):\n",
    "    lorentz = lorentzian(x, x0, gamma, height)\n",
    "    plt.plot(x, lorentz, '--', alpha=0.5)\n",
    "\n",
    "plt.xticks(np.arange(-2, 16, 1))\n",
    "plt.legend()\n",
    "plt.show()"
   ]
  },
  {
   "cell_type": "markdown",
   "metadata": {},
   "source": [
    "# Validate on real Data"
   ]
  },
  {
   "cell_type": "code",
   "execution_count": null,
   "metadata": {},
   "outputs": [],
   "source": [
    "# # Use a dataframe to collect general evaluation results\n",
    "# results = pd.DataFrame()\n",
    "\n",
    "# # We will reuse this function. Hence we copy it to mads_dl.py\n",
    "# def add_regression_eval(results, algorithm, y_train, y_train_pred, y_test, y_test_pred, num_params):\n",
    "#     '''\n",
    "#     Create a table with evaluation results\n",
    "#     of a regression experiment\n",
    "#     '''\n",
    "#     for dataset, actual, predicted in zip((\"train\", \"test\"), (y_train, y_test), (y_train_pred, y_test_pred)):\n",
    "#         mse=mean_squared_error(actual, predicted)\n",
    "#         results= pd.concat([results, pd.DataFrame([{\n",
    "#             \"algorithm\": algorithm, \n",
    "#             \"dataset\": dataset,\n",
    "#             \"MSE\": mse,\n",
    "#             \"RMSE\": math.sqrt(mse),\n",
    "#             \"MAE\": mean_absolute_error(actual, predicted),\n",
    "#             \"MAPE\": mean_absolute_percentage_error(actual, predicted)*100, # implemented is relative to 1 not to 100\n",
    "#             \"params\": num_params\n",
    "#         }])], ignore_index=True)   \n",
    "#     return results\n"
   ]
  },
  {
   "cell_type": "markdown",
   "metadata": {},
   "source": [
    "# Test on Data"
   ]
  },
  {
   "cell_type": "code",
   "execution_count": null,
   "metadata": {},
   "outputs": [],
   "source": []
  },
  {
   "cell_type": "code",
   "execution_count": null,
   "metadata": {},
   "outputs": [
    {
     "name": "stdout",
     "output_type": "stream",
     "text": [
      "(1, 3000)\n"
     ]
    },
    {
     "data": {
      "image/png": "[encoded data removed]",
      "text/plain": [
       "<Figure size 640x480 with 1 Axes>"
      ]
     },
     "metadata": {},
     "output_type": "display_data"
    },
    {
     "name": "stdout",
     "output_type": "stream",
     "text": [
      "(1, 3000)\n"
     ]
    },
    {
     "data": {
      "image/png": "[encoded data removed]",
      "text/plain": [
       "<Figure size 640x480 with 1 Axes>"
      ]
     },
     "metadata": {},
     "output_type": "display_data"
    },
    {
     "name": "stdout",
     "output_type": "stream",
     "text": [
      "(1, 3000)\n"
     ]
    },
    {
     "data": {
      "image/png": "[encoded data removed]",
      "text/plain": [
       "<Figure size 640x480 with 1 Axes>"
      ]
     },
     "metadata": {},
     "output_type": "display_data"
    }
   ],
   "source": [
    "df = pd.read_csv(path_list[0]) \n",
    "\n",
    "for i in range(1, 4):\n",
    "    # fill the data\n",
    "    df_fill = fill_df(df.iloc[:, [0, i]])\n",
    "\n",
    "    # interpolate the data\n",
    "    df_interpolated = interpolate_to_shape(df_fill.iloc[:, 0], df_fill.iloc[:, 1], spectrum_lenth=3000)\n",
    "    #display(df_interpolated)\n",
    "    x_real = df_interpolated.loc[:, 'x']\n",
    "    y_real = df_interpolated.loc[:, 'y']\n",
    "\n",
    "    # scale the data\n",
    "    y_real_sc = data_scaler.transform(y_real.values.reshape(1, -1))\n",
    "    print(y_real_sc.shape)\n",
    "\n",
    "    # convert to tensor\n",
    "    y_real_tensor = torch.tensor(y_real_sc, dtype=torch.float32)\n",
    "\n",
    "    # predict the data\n",
    "    target_real_pred = model.predict(y_real_tensor)\n",
    "\n",
    "    # bring the data back to the cpu\n",
    "    target_real_pred = target_real_pred.cpu().detach().numpy()\n",
    "\n",
    "    # rescale the data\n",
    "    target_real_pred_rescaled = target_scaler.inverse_transform(target_real_pred)\n",
    "\n",
    "    # reshape the data\n",
    "    target_real_pred = target_real_pred_rescaled.reshape(target_real_pred_rescaled.shape[0], -1)\n",
    "\n",
    "    x0_parms_real, gamma_parms_real, height_parms_real = np.split(target_real_pred, 3, axis=1)\n",
    "\n",
    "    # calcualte the mse\n",
    "    #mse = calculate_mse_of_real_data(df, model, random=False, i=i)\n",
    "    #print(mse)\n",
    "    \n",
    "    # Put the Lorenz functions in a Dataframe\n",
    "    lorentz_list = []\n",
    "    lorentz_df = pd.DataFrame({'x': x_real})  # Initialize DataFrame with x_real\n",
    "\n",
    "    for i, (x0, gamma, height) in enumerate(zip(x0_parms_real[0], gamma_parms_real[0], height_parms_real[0])):\n",
    "        lorentz = lorentzian(x_real, x0, gamma, height)\n",
    "        column_name = f'lorentz_{i}'  # Dynamically generate a unique column name\n",
    "        lorentz_df = pd.concat([lorentz_df, pd.DataFrame({column_name: lorentz})], axis=1)\n",
    "\n",
    "    # add another column which takes the np.maximum of the columns\n",
    "    lorentz_df['max'] = lorentz_df.iloc[:, 1:].max(axis=1)\n",
    "    #display(lorentz_df)\n",
    "    \n",
    "\n",
    "\n",
    "    \n",
    "    plt.plot(x_real, y_real, label='Real Data', color='grey')\n",
    "    plt.plot(x_real, lorentz_df['max'], label='Predicted Data', color='red')\n",
    "    plt.show()"
   ]
  },
  {
   "cell_type": "code",
   "execution_count": null,
   "metadata": {},
   "outputs": [],
   "source": []
  },
  {
   "cell_type": "markdown",
   "metadata": {},
   "source": []
  },
  {
   "cell_type": "code",
   "execution_count": null,
   "metadata": {},
   "outputs": [],
   "source": []
  },
  {
   "cell_type": "code",
   "execution_count": null,
   "metadata": {},
   "outputs": [],
   "source": []
  }
 ],
 "metadata": {
  "kernelspec": {
   "display_name": ".main",
   "language": "python",
   "name": ".main"
  },
  "language_info": {
   "codemirror_mode": {
    "name": "ipython",
    "version": 3
   },
   "file_extension": ".py",
   "mimetype": "text/x-python",
   "name": "python",
   "nbconvert_exporter": "python",
   "pygments_lexer": "ipython3",
   "version": "3.12.3"
  }
 },
 "nbformat": 4,
 "nbformat_minor": 2
}
