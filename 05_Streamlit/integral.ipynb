{
 "cells": [
  {
   "cell_type": "code",
   "execution_count": 13,
   "metadata": {},
   "outputs": [
    {
     "data": {
      "image/png": "[encoded data removed]",
      "text/latex": [
       "$\\displaystyle \\frac{height \\left(- \\frac{i \\log{\\left(- i \\gamma + x - x_{0} \\right)}}{2} + \\frac{i \\log{\\left(i \\gamma + x - x_{0} \\right)}}{2}\\right)}{\\pi}$"
      ],
      "text/plain": [
       "       /  I*log(-I*gamma + x - x0)   I*log(I*gamma + x - x0)\\\n",
       "height*|- ------------------------ + -----------------------|\n",
       "       \\             2                          2           /\n",
       "-------------------------------------------------------------\n",
       "                             pi                              "
      ]
     },
     "execution_count": 13,
     "metadata": {},
     "output_type": "execute_result"
    }
   ],
   "source": [
    "from sympy import symbols, integrate, pi\n",
    "\n",
    "# Define symbols\n",
    "x, x0, gamma, height = symbols('x x0 gamma height')\n",
    "\n",
    "# Define the Lorentzian function with correct multiplication syntax\n",
    "lorentzian_f = height / pi * (gamma / ((x - x0)**2 + gamma**2))\n",
    "\n",
    "# Compute the indefinite integral\n",
    "integral = integrate(lorentzian_f, x)\n",
    "\n",
    "# Display the result\n",
    "integral\n",
    "\n"
   ]
  },
  {
   "cell_type": "code",
   "execution_count": 22,
   "metadata": {},
   "outputs": [
    {
     "name": "stdout",
     "output_type": "stream",
     "text": [
      "Integral Result: 9.999989495821028\n",
      "Error Estimate: 5.025159275674762e-09\n"
     ]
    }
   ],
   "source": [
    "import numpy as np\n",
    "from scipy.integrate import quad\n",
    "import math\n",
    "\n",
    "\n",
    "# Define the Lorentzian function\n",
    "def lorentzian(x, x0, gamma, height, ):\n",
    "    return height/math.pi * (gamma / ((x - x0)**2 + gamma**2))\n",
    "\n",
    "# Define parameters\n",
    "x0 = 5  # Peak position\n",
    "gamma = 3 # Width parameter\n",
    "height = 10  # Height of the Lorentzian curve\n",
    "a = -1000000  # Lower limit of integration\n",
    "b = 10000000  # Upper limit of integration\n",
    "\n",
    "# Perform numerical integration\n",
    "result, error = quad(lorentzian, a, b, args=(x0, gamma, height))\n",
    "\n",
    "# Output the result\n",
    "print(f\"Integral Result: {result}\")\n",
    "print(f\"Error Estimate: {error}\")\n"
   ]
  }
 ],
 "metadata": {
  "kernelspec": {
   "display_name": ".MoinCC",
   "language": "python",
   "name": ".moincc"
  },
  "language_info": {
   "codemirror_mode": {
    "name": "ipython",
    "version": 3
   },
   "file_extension": ".py",
   "mimetype": "text/x-python",
   "name": "python",
   "nbconvert_exporter": "python",
   "pygments_lexer": "ipython3",
   "version": "3.11.8"
  }
 },
 "nbformat": 4,
 "nbformat_minor": 2
}
